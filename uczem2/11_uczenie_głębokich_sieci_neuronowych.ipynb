{
  "nbformat": 4,
  "nbformat_minor": 0,
  "metadata": {
    "kernelspec": {
      "name": "python3",
      "display_name": "Python 3"
    },
    "language_info": {
      "codemirror_mode": {
        "name": "ipython",
        "version": 3
      },
      "file_extension": ".py",
      "mimetype": "text/x-python",
      "name": "python",
      "nbconvert_exporter": "python",
      "pygments_lexer": "ipython3",
      "version": "3.6.5"
    },
    "nav_menu": {
      "height": "360px",
      "width": "416px"
    },
    "toc": {
      "navigate_menu": true,
      "number_sections": true,
      "sideBar": true,
      "threshold": 6,
      "toc_cell": false,
      "toc_section_display": "block",
      "toc_window_display": false
    },
    "colab": {
      "name": "11_uczenie_głębokich_sieci_neuronowych.ipynb",
      "provenance": []
    },
    "accelerator": "GPU"
  },
  "cells": [
    {
      "cell_type": "markdown",
      "metadata": {
        "id": "AEc2yoQbZb1K",
        "colab_type": "text"
      },
      "source": [
        "**Rozdział 11. Uczenie głębokich sieci neuronowych**"
      ]
    },
    {
      "cell_type": "markdown",
      "metadata": {
        "id": "qg_fVRhBZb1M",
        "colab_type": "text"
      },
      "source": [
        "_Notatnik ten zawiera przykładowy kod i rozwiązania ćwiczeń opisane w rozdziale 11._"
      ]
    },
    {
      "cell_type": "markdown",
      "metadata": {
        "id": "KVEGw1MHZb1N",
        "colab_type": "text"
      },
      "source": [
        "<table align=\"left\">\n",
        "  <td>\n",
        "    <a target=\"_blank\" href=\"https://colab.research.google.com/github/ageron/handson-ml2/blob/master/11_training_deep_neural_networks.ipynb\"><img src=\"https://www.tensorflow.org/images/colab_logo_32px.png\" />Uruchom w Google Colab (wersja angielska)</a>\n",
        "  </td>\n",
        "</table>"
      ]
    },
    {
      "cell_type": "markdown",
      "metadata": {
        "id": "1_3-vbEhZb1O",
        "colab_type": "text"
      },
      "source": [
        "# Konfiguracja"
      ]
    },
    {
      "cell_type": "markdown",
      "metadata": {
        "id": "U6Vxt6FfZb1P",
        "colab_type": "text"
      },
      "source": [
        "Importujmy najpierw kilka popularnych modułów, upewnijmy się, że będą wstawiane wykresy MatplotLib, a także przygotujmy funkcję zapisującą rysunki. Sprawdzimy także, czy jest zainstalowane środowisko Python 3.5 lub nowsze (możliwe, że kod będzie działał w środowisku Python 2.x, zostało ono jednak porzucone, dlatego zalecamy korzystanie ze środowiska Python 3), a także biblioteka Scikit-Learn 0.20 lub nowsza i TensorFlow 2.0 lub nowszy."
      ]
    },
    {
      "cell_type": "code",
      "metadata": {
        "id": "57ro-KI6Zb1Q",
        "colab_type": "code",
        "colab": {
          "base_uri": "https://localhost:8080/",
          "height": 34
        },
        "outputId": "74569afa-0ef3-4083-9113-2e9e50188477"
      },
      "source": [
        "# Wymagane środowisko Python ≥3.5\n",
        "import sys\n",
        "assert sys.version_info >= (3, 5)\n",
        "\n",
        "# Wymagana biblioteka Scikit-Learn ≥0.20\n",
        "import sklearn\n",
        "assert sklearn.__version__ >= \"0.20\"\n",
        "\n",
        "try:\n",
        "    # %tensorflow_version istnieje jedynie w środowisku Colab.\n",
        "    %tensorflow_version 2.x\n",
        "except Exception:\n",
        "    pass\n",
        "\n",
        "# Wymagany moduł TensorFlow ≥2.0\n",
        "import tensorflow as tf\n",
        "from tensorflow import keras\n",
        "assert tf.__version__ >= \"2.0\"\n",
        "\n",
        "# Importuje standardowe biblioteki\n",
        "import numpy as np\n",
        "import os\n",
        "\n",
        "# Aby wyniki uzyskiwane w tym notatniku były odtwarzalne\n",
        "np.random.seed(42)\n",
        "\n",
        "# Do rysowania ładnych wykresów\n",
        "%matplotlib inline\n",
        "import matplotlib as mpl\n",
        "import matplotlib.pyplot as plt\n",
        "mpl.rc('axes', labelsize=14)\n",
        "mpl.rc('xtick', labelsize=12)\n",
        "mpl.rc('ytick', labelsize=12)\n",
        "\n",
        "# Ścieżka zapisywania rysunków\n",
        "PROJECT_ROOT_DIR = \".\"\n",
        "CHAPTER_ID = \"R11\"\n",
        "IMAGES_PATH = os.path.join(PROJECT_ROOT_DIR, \"rysunki\", CHAPTER_ID)\n",
        "os.makedirs(IMAGES_PATH, exist_ok=True)\n",
        "\n",
        "def save_fig(fig_id, tight_layout=True, fig_extension=\"png\", resolution=300):\n",
        "    path = os.path.join(IMAGES_PATH, fig_id + \".\" + fig_extension)\n",
        "    print(\"Zapisywanie rysunku\", fig_id)\n",
        "    if tight_layout:\n",
        "        plt.tight_layout()\n",
        "    plt.savefig(path, format=fig_extension, dpi=resolution)"
      ],
      "execution_count": 1,
      "outputs": [
        {
          "output_type": "stream",
          "text": [
            "TensorFlow 2.x selected.\n"
          ],
          "name": "stdout"
        }
      ]
    },
    {
      "cell_type": "markdown",
      "metadata": {
        "id": "7xahQmcLZb1T",
        "colab_type": "text"
      },
      "source": [
        "# Problem zanikających/eksplodujących gradientów"
      ]
    },
    {
      "cell_type": "code",
      "metadata": {
        "id": "7UwoA3rAZb1T",
        "colab_type": "code",
        "colab": {}
      },
      "source": [
        "def logit(z):\n",
        "    return 1 / (1 + np.exp(-z))"
      ],
      "execution_count": 0,
      "outputs": []
    },
    {
      "cell_type": "code",
      "metadata": {
        "id": "vvmZLk-kZb1W",
        "colab_type": "code",
        "colab": {
          "base_uri": "https://localhost:8080/",
          "height": 314
        },
        "outputId": "52dc89f1-d43f-4e87-a057-c43b4cd02984"
      },
      "source": [
        "z = np.linspace(-5, 5, 200)\n",
        "\n",
        "plt.plot([-5, 5], [0, 0], 'k-')\n",
        "plt.plot([-5, 5], [1, 1], 'k--')\n",
        "plt.plot([0, 0], [-0.2, 1.2], 'k-')\n",
        "plt.plot([-5, 5], [-3/4, 7/4], 'g--')\n",
        "plt.plot(z, logit(z), \"b-\", linewidth=2)\n",
        "props = dict(facecolor='black', shrink=0.1)\n",
        "plt.annotate('Nasycenie', xytext=(3.5, 0.7), xy=(5, 1), arrowprops=props, fontsize=14, ha=\"center\")\n",
        "plt.annotate('Nasycenie', xytext=(-3.5, 0.3), xy=(-5, 0), arrowprops=props, fontsize=14, ha=\"center\")\n",
        "plt.annotate('Liniowa', xytext=(2, 0.2), xy=(0, 0.5), arrowprops=props, fontsize=14, ha=\"center\")\n",
        "plt.grid(True)\n",
        "plt.title(\"Sigmoidalna funkcja aktywacji\", fontsize=14)\n",
        "plt.axis([-5, 5, -0.2, 1.2])\n",
        "\n",
        "save_fig(\"r_11_1\")\n",
        "plt.show()"
      ],
      "execution_count": 3,
      "outputs": [
        {
          "output_type": "stream",
          "text": [
            "Zapisywanie rysunku r_11_1\n"
          ],
          "name": "stdout"
        },
        {
          "output_type": "display_data",
          "data": {
            "image/png": "[encoded data removed]",
            "text/plain": [
              "<Figure size 432x288 with 1 Axes>"
            ]
          },
          "metadata": {
            "tags": []
          }
        }
      ]
    },
    {
      "cell_type": "markdown",
      "metadata": {
        "id": "dg4fBcXZZb1Z",
        "colab_type": "text"
      },
      "source": [
        "## Inicjalizacja Xaviera i He"
      ]
    },
    {
      "cell_type": "code",
      "metadata": {
        "id": "ZYTpaP3aZb1a",
        "colab_type": "code",
        "colab": {
          "base_uri": "https://localhost:8080/",
          "height": 459
        },
        "outputId": "d6e707c7-e4ef-4f15-ab38-d0ac45e64898"
      },
      "source": [
        "[name for name in dir(keras.initializers) if not name.startswith(\"_\")]"
      ],
      "execution_count": 4,
      "outputs": [
        {
          "output_type": "execute_result",
          "data": {
            "text/plain": [
              "['Constant',\n",
              " 'GlorotNormal',\n",
              " 'GlorotUniform',\n",
              " 'Identity',\n",
              " 'Initializer',\n",
              " 'Ones',\n",
              " 'Orthogonal',\n",
              " 'RandomNormal',\n",
              " 'RandomUniform',\n",
              " 'TruncatedNormal',\n",
              " 'VarianceScaling',\n",
              " 'Zeros',\n",
              " 'constant',\n",
              " 'deserialize',\n",
              " 'get',\n",
              " 'glorot_normal',\n",
              " 'glorot_uniform',\n",
              " 'he_normal',\n",
              " 'he_uniform',\n",
              " 'identity',\n",
              " 'lecun_normal',\n",
              " 'lecun_uniform',\n",
              " 'ones',\n",
              " 'orthogonal',\n",
              " 'serialize',\n",
              " 'zeros']"
            ]
          },
          "metadata": {
            "tags": []
          },
          "execution_count": 4
        }
      ]
    },
    {
      "cell_type": "code",
      "metadata": {
        "id": "6raoBZ9WZb1d",
        "colab_type": "code",
        "colab": {
          "base_uri": "https://localhost:8080/",
          "height": 34
        },
        "outputId": "34dad2db-8dea-4a04-d81a-b3aa3f0db533"
      },
      "source": [
        "keras.layers.Dense(10, activation=\"relu\", kernel_initializer=\"he_normal\")"
      ],
      "execution_count": 5,
      "outputs": [
        {
          "output_type": "execute_result",
          "data": {
            "text/plain": [
              "<tensorflow.python.keras.layers.core.Dense at 0x7f55a3b34048>"
            ]
          },
          "metadata": {
            "tags": []
          },
          "execution_count": 5
        }
      ]
    },
    {
      "cell_type": "code",
      "metadata": {
        "id": "KCdQcd2rZb1g",
        "colab_type": "code",
        "colab": {
          "base_uri": "https://localhost:8080/",
          "height": 34
        },
        "outputId": "ed35c922-ef88-444e-80ee-b50a1720c16c"
      },
      "source": [
        "init = keras.initializers.VarianceScaling(scale=2., mode='fan_avg',\n",
        "                                          distribution='uniform')\n",
        "keras.layers.Dense(10, activation=\"relu\", kernel_initializer=init)"
      ],
      "execution_count": 6,
      "outputs": [
        {
          "output_type": "execute_result",
          "data": {
            "text/plain": [
              "<tensorflow.python.keras.layers.core.Dense at 0x7f55a43aec18>"
            ]
          },
          "metadata": {
            "tags": []
          },
          "execution_count": 6
        }
      ]
    },
    {
      "cell_type": "markdown",
      "metadata": {
        "id": "_pdhh87MZb1i",
        "colab_type": "text"
      },
      "source": [
        "## Nienasycające funkcje aktywacji"
      ]
    },
    {
      "cell_type": "markdown",
      "metadata": {
        "id": "eFHdar1PZb1j",
        "colab_type": "text"
      },
      "source": [
        "### Przeciekająca funkcja ReLU"
      ]
    },
    {
      "cell_type": "code",
      "metadata": {
        "id": "oP74J2cPZb1k",
        "colab_type": "code",
        "colab": {}
      },
      "source": [
        "def leaky_relu(z, alpha=0.01):\n",
        "    return np.maximum(alpha*z, z)"
      ],
      "execution_count": 0,
      "outputs": []
    },
    {
      "cell_type": "code",
      "metadata": {
        "id": "fHvlD8gwZb1m",
        "colab_type": "code",
        "colab": {
          "base_uri": "https://localhost:8080/",
          "height": 314
        },
        "outputId": "b2d928f1-202d-4adb-de12-7b3493cae8e7"
      },
      "source": [
        "plt.plot(z, leaky_relu(z, 0.05), \"b-\", linewidth=2)\n",
        "plt.plot([-5, 5], [0, 0], 'k-')\n",
        "plt.plot([0, 0], [-0.5, 4.2], 'k-')\n",
        "plt.grid(True)\n",
        "props = dict(facecolor='black', shrink=0.1)\n",
        "plt.annotate('Wyciek', xytext=(-3.5, 0.5), xy=(-5, -0.2), arrowprops=props, fontsize=14, ha=\"center\")\n",
        "plt.title(\"'Przeciekająca' funkcja aktywacji ReLU\", fontsize=14)\n",
        "plt.axis([-5, 5, -0.5, 4.2])\n",
        "\n",
        "save_fig(\"r_11_2\")\n",
        "plt.show()"
      ],
      "execution_count": 8,
      "outputs": [
        {
          "output_type": "stream",
          "text": [
            "Zapisywanie rysunku r_11_2\n"
          ],
          "name": "stdout"
        },
        {
          "output_type": "display_data",
          "data": {
            "image/png": "[encoded data removed]",
            "text/plain": [
              "<Figure size 432x288 with 1 Axes>"
            ]
          },
          "metadata": {
            "tags": []
          }
        }
      ]
    },
    {
      "cell_type": "code",
      "metadata": {
        "id": "iGjBclyNZb1p",
        "colab_type": "code",
        "colab": {
          "base_uri": "https://localhost:8080/",
          "height": 255
        },
        "outputId": "a0b954d5-2baf-468c-b044-8db7a4bec137"
      },
      "source": [
        "[m for m in dir(keras.activations) if not m.startswith(\"_\")]"
      ],
      "execution_count": 9,
      "outputs": [
        {
          "output_type": "execute_result",
          "data": {
            "text/plain": [
              "['deserialize',\n",
              " 'elu',\n",
              " 'exponential',\n",
              " 'get',\n",
              " 'hard_sigmoid',\n",
              " 'linear',\n",
              " 'relu',\n",
              " 'selu',\n",
              " 'serialize',\n",
              " 'sigmoid',\n",
              " 'softmax',\n",
              " 'softplus',\n",
              " 'softsign',\n",
              " 'tanh']"
            ]
          },
          "metadata": {
            "tags": []
          },
          "execution_count": 9
        }
      ]
    },
    {
      "cell_type": "code",
      "metadata": {
        "id": "vypYtGXHZb1r",
        "colab_type": "code",
        "colab": {
          "base_uri": "https://localhost:8080/",
          "height": 34
        },
        "outputId": "a1ffe495-297f-4d4f-b418-f7881e1627e5"
      },
      "source": [
        "[m for m in dir(keras.layers) if \"relu\" in m.lower()]"
      ],
      "execution_count": 10,
      "outputs": [
        {
          "output_type": "execute_result",
          "data": {
            "text/plain": [
              "['LeakyReLU', 'PReLU', 'ReLU', 'ThresholdedReLU']"
            ]
          },
          "metadata": {
            "tags": []
          },
          "execution_count": 10
        }
      ]
    },
    {
      "cell_type": "markdown",
      "metadata": {
        "id": "TeJ6fZPAZb1v",
        "colab_type": "text"
      },
      "source": [
        "Wyuczmy sieć neuronową wobec zbioru danych MNIST wykorzystując przeciekającą funkcję ReLU:"
      ]
    },
    {
      "cell_type": "code",
      "metadata": {
        "id": "zN1_XvG_Zb1v",
        "colab_type": "code",
        "colab": {
          "base_uri": "https://localhost:8080/",
          "height": 153
        },
        "outputId": "58d2376e-29a3-4c81-ed0d-7103dccc6519"
      },
      "source": [
        "(X_train_full, y_train_full), (X_test, y_test) = keras.datasets.fashion_mnist.load_data()\n",
        "X_train_full = X_train_full / 255.0\n",
        "X_test = X_test / 255.0\n",
        "X_valid, X_train = X_train_full[:5000], X_train_full[5000:]\n",
        "y_valid, y_train = y_train_full[:5000], y_train_full[5000:]"
      ],
      "execution_count": 11,
      "outputs": [
        {
          "output_type": "stream",
          "text": [
            "Downloading data from https://storage.googleapis.com/tensorflow/tf-keras-datasets/train-labels-idx1-ubyte.gz\n",
            "32768/29515 [=================================] - 0s 0us/step\n",
            "Downloading data from https://storage.googleapis.com/tensorflow/tf-keras-datasets/train-images-idx3-ubyte.gz\n",
            "26427392/26421880 [==============================] - 0s 0us/step\n",
            "Downloading data from https://storage.googleapis.com/tensorflow/tf-keras-datasets/t10k-labels-idx1-ubyte.gz\n",
            "8192/5148 [===============================================] - 0s 0us/step\n",
            "Downloading data from https://storage.googleapis.com/tensorflow/tf-keras-datasets/t10k-images-idx3-ubyte.gz\n",
            "4423680/4422102 [==============================] - 0s 0us/step\n"
          ],
          "name": "stdout"
        }
      ]
    },
    {
      "cell_type": "code",
      "metadata": {
        "id": "gxSHTHn-Zb1y",
        "colab_type": "code",
        "colab": {}
      },
      "source": [
        "tf.random.set_seed(42)\n",
        "np.random.seed(42)\n",
        "\n",
        "model = keras.models.Sequential([\n",
        "    keras.layers.Flatten(input_shape=[28, 28]),\n",
        "    keras.layers.Dense(300, kernel_initializer=\"he_normal\"),\n",
        "    keras.layers.LeakyReLU(),\n",
        "    keras.layers.Dense(100, kernel_initializer=\"he_normal\"),\n",
        "    keras.layers.LeakyReLU(),\n",
        "    keras.layers.Dense(10, activation=\"softmax\")\n",
        "])"
      ],
      "execution_count": 0,
      "outputs": []
    },
    {
      "cell_type": "code",
      "metadata": {
        "id": "uuS6NXQxZb10",
        "colab_type": "code",
        "colab": {}
      },
      "source": [
        "model.compile(loss=\"sparse_categorical_crossentropy\",\n",
        "              optimizer=keras.optimizers.SGD(lr=1e-3),\n",
        "              metrics=[\"accuracy\"])"
      ],
      "execution_count": 0,
      "outputs": []
    },
    {
      "cell_type": "code",
      "metadata": {
        "scrolled": true,
        "id": "qcVLBPQEZb13",
        "colab_type": "code",
        "colab": {
          "base_uri": "https://localhost:8080/",
          "height": 374
        },
        "outputId": "a0f5742d-2536-46c9-9062-f37bc399eb5d"
      },
      "source": [
        "history = model.fit(X_train, y_train, epochs=10,\n",
        "                    validation_data=(X_valid, y_valid))"
      ],
      "execution_count": 14,
      "outputs": [
        {
          "output_type": "stream",
          "text": [
            "Train on 55000 samples, validate on 5000 samples\n",
            "Epoch 1/10\n",
            "55000/55000 [==============================] - 6s 112us/sample - loss: 1.2810 - accuracy: 0.6205 - val_loss: 0.8869 - val_accuracy: 0.7160\n",
            "Epoch 2/10\n",
            "55000/55000 [==============================] - 4s 76us/sample - loss: 0.7952 - accuracy: 0.7368 - val_loss: 0.7132 - val_accuracy: 0.7626\n",
            "Epoch 3/10\n",
            "55000/55000 [==============================] - 4s 79us/sample - loss: 0.6817 - accuracy: 0.7725 - val_loss: 0.6385 - val_accuracy: 0.7896\n",
            "Epoch 4/10\n",
            "55000/55000 [==============================] - 4s 76us/sample - loss: 0.6219 - accuracy: 0.7941 - val_loss: 0.5931 - val_accuracy: 0.8016\n",
            "Epoch 5/10\n",
            "55000/55000 [==============================] - 4s 76us/sample - loss: 0.5829 - accuracy: 0.8074 - val_loss: 0.5607 - val_accuracy: 0.8166\n",
            "Epoch 6/10\n",
            "55000/55000 [==============================] - 4s 75us/sample - loss: 0.5552 - accuracy: 0.8173 - val_loss: 0.5354 - val_accuracy: 0.8240\n",
            "Epoch 7/10\n",
            "55000/55000 [==============================] - 4s 77us/sample - loss: 0.5338 - accuracy: 0.8224 - val_loss: 0.5166 - val_accuracy: 0.8300\n",
            "Epoch 8/10\n",
            "55000/55000 [==============================] - 4s 76us/sample - loss: 0.5172 - accuracy: 0.8261 - val_loss: 0.5043 - val_accuracy: 0.8356\n",
            "Epoch 9/10\n",
            "55000/55000 [==============================] - 4s 75us/sample - loss: 0.5039 - accuracy: 0.8304 - val_loss: 0.4889 - val_accuracy: 0.8388\n",
            "Epoch 10/10\n",
            "55000/55000 [==============================] - 4s 79us/sample - loss: 0.4922 - accuracy: 0.8332 - val_loss: 0.4815 - val_accuracy: 0.8398\n"
          ],
          "name": "stdout"
        }
      ]
    },
    {
      "cell_type": "markdown",
      "metadata": {
        "id": "Sms_xiv4Zb15",
        "colab_type": "text"
      },
      "source": [
        "Sprawdźmy teraz funkcję PReLU:"
      ]
    },
    {
      "cell_type": "code",
      "metadata": {
        "id": "d0S0rUDbZb16",
        "colab_type": "code",
        "colab": {}
      },
      "source": [
        "tf.random.set_seed(42)\n",
        "np.random.seed(42)\n",
        "\n",
        "model = keras.models.Sequential([\n",
        "    keras.layers.Flatten(input_shape=[28, 28]),\n",
        "    keras.layers.Dense(300, kernel_initializer=\"he_normal\"),\n",
        "    keras.layers.PReLU(),\n",
        "    keras.layers.Dense(100, kernel_initializer=\"he_normal\"),\n",
        "    keras.layers.PReLU(),\n",
        "    keras.layers.Dense(10, activation=\"softmax\")\n",
        "])"
      ],
      "execution_count": 0,
      "outputs": []
    },
    {
      "cell_type": "code",
      "metadata": {
        "id": "yzk2snFwZb18",
        "colab_type": "code",
        "colab": {}
      },
      "source": [
        "model.compile(loss=\"sparse_categorical_crossentropy\",\n",
        "              optimizer=keras.optimizers.SGD(lr=1e-3),\n",
        "              metrics=[\"accuracy\"])"
      ],
      "execution_count": 0,
      "outputs": []
    },
    {
      "cell_type": "code",
      "metadata": {
        "id": "5xN1v7Y5Zb1-",
        "colab_type": "code",
        "colab": {
          "base_uri": "https://localhost:8080/",
          "height": 374
        },
        "outputId": "b2296b5a-4e38-45ab-c1fc-e3a30a4b6076"
      },
      "source": [
        "history = model.fit(X_train, y_train, epochs=10,\n",
        "                    validation_data=(X_valid, y_valid))"
      ],
      "execution_count": 17,
      "outputs": [
        {
          "output_type": "stream",
          "text": [
            "Train on 55000 samples, validate on 5000 samples\n",
            "Epoch 1/10\n",
            "55000/55000 [==============================] - 5s 89us/sample - loss: 1.3452 - accuracy: 0.6203 - val_loss: 0.9241 - val_accuracy: 0.7170\n",
            "Epoch 2/10\n",
            "55000/55000 [==============================] - 5s 83us/sample - loss: 0.8196 - accuracy: 0.7364 - val_loss: 0.7314 - val_accuracy: 0.7602\n",
            "Epoch 3/10\n",
            "55000/55000 [==============================] - 5s 83us/sample - loss: 0.6970 - accuracy: 0.7701 - val_loss: 0.6517 - val_accuracy: 0.7876\n",
            "Epoch 4/10\n",
            "55000/55000 [==============================] - 5s 88us/sample - loss: 0.6333 - accuracy: 0.7915 - val_loss: 0.6032 - val_accuracy: 0.8056\n",
            "Epoch 5/10\n",
            "55000/55000 [==============================] - 5s 88us/sample - loss: 0.5917 - accuracy: 0.8049 - val_loss: 0.5689 - val_accuracy: 0.8160\n",
            "Epoch 6/10\n",
            "55000/55000 [==============================] - 5s 91us/sample - loss: 0.5619 - accuracy: 0.8143 - val_loss: 0.5417 - val_accuracy: 0.8224\n",
            "Epoch 7/10\n",
            "55000/55000 [==============================] - 5s 91us/sample - loss: 0.5392 - accuracy: 0.8205 - val_loss: 0.5214 - val_accuracy: 0.8300\n",
            "Epoch 8/10\n",
            "55000/55000 [==============================] - 5s 89us/sample - loss: 0.5215 - accuracy: 0.8256 - val_loss: 0.5076 - val_accuracy: 0.8352\n",
            "Epoch 9/10\n",
            "55000/55000 [==============================] - 5s 84us/sample - loss: 0.5071 - accuracy: 0.8286 - val_loss: 0.4918 - val_accuracy: 0.8384\n",
            "Epoch 10/10\n",
            "55000/55000 [==============================] - 5s 86us/sample - loss: 0.4946 - accuracy: 0.8321 - val_loss: 0.4839 - val_accuracy: 0.8376\n"
          ],
          "name": "stdout"
        }
      ]
    },
    {
      "cell_type": "markdown",
      "metadata": {
        "id": "I1eELXZwZb2C",
        "colab_type": "text"
      },
      "source": [
        "### Funkcja aktywacji ELU"
      ]
    },
    {
      "cell_type": "code",
      "metadata": {
        "id": "RNpIWoKQZb2C",
        "colab_type": "code",
        "colab": {}
      },
      "source": [
        "def elu(z, alpha=1):\n",
        "    return np.where(z < 0, alpha * (np.exp(z) - 1), z)"
      ],
      "execution_count": 0,
      "outputs": []
    },
    {
      "cell_type": "code",
      "metadata": {
        "id": "azHE7q2ZZb2E",
        "colab_type": "code",
        "colab": {
          "base_uri": "https://localhost:8080/",
          "height": 314
        },
        "outputId": "832612ce-4c69-4c35-db32-1a9b6a6e0bfb"
      },
      "source": [
        "plt.plot(z, elu(z), \"b-\", linewidth=2)\n",
        "plt.plot([-5, 5], [0, 0], 'k-')\n",
        "plt.plot([-5, 5], [-1, -1], 'k--')\n",
        "plt.plot([0, 0], [-2.2, 3.2], 'k-')\n",
        "plt.grid(True)\n",
        "plt.title(r\"Funkcja aktywacji ELU ($\\alpha=1$)\", fontsize=14)\n",
        "plt.axis([-5, 5, -2.2, 3.2])\n",
        "\n",
        "save_fig(\"r_11_3\")\n",
        "plt.show()"
      ],
      "execution_count": 19,
      "outputs": [
        {
          "output_type": "stream",
          "text": [
            "Zapisywanie rysunku r_11_3\n"
          ],
          "name": "stdout"
        },
        {
          "output_type": "display_data",
          "data": {
            "image/png": "[encoded data removed]",
            "text/plain": [
              "<Figure size 432x288 with 1 Axes>"
            ]
          },
          "metadata": {
            "tags": []
          }
        }
      ]
    },
    {
      "cell_type": "markdown",
      "metadata": {
        "id": "ACYJY1QmZb2G",
        "colab_type": "text"
      },
      "source": [
        "Implementacja funkcji ELU w module TensorFlow jest banalna; wystarczy określić funkcję aktywacji podczas tworzenia każdej warstwy:"
      ]
    },
    {
      "cell_type": "code",
      "metadata": {
        "id": "Pi-5oY9HZb2H",
        "colab_type": "code",
        "colab": {
          "base_uri": "https://localhost:8080/",
          "height": 34
        },
        "outputId": "d60091b5-a315-4343-df6a-b9adab94588c"
      },
      "source": [
        "keras.layers.Dense(10, activation=\"elu\")"
      ],
      "execution_count": 20,
      "outputs": [
        {
          "output_type": "execute_result",
          "data": {
            "text/plain": [
              "<tensorflow.python.keras.layers.core.Dense at 0x7f54df7156d8>"
            ]
          },
          "metadata": {
            "tags": []
          },
          "execution_count": 20
        }
      ]
    },
    {
      "cell_type": "markdown",
      "metadata": {
        "id": "Rz5l5mQ2Zb2J",
        "colab_type": "text"
      },
      "source": [
        "### Funkcja SELU"
      ]
    },
    {
      "cell_type": "markdown",
      "metadata": {
        "id": "wFxbpPpjZb2J",
        "colab_type": "text"
      },
      "source": [
        "Ta funkcja aktywacji została opisana w tej [znakomitej publikacji](https://arxiv.org/pdf/1706.02515.pdf) autorstwa Güntera Klambauera, Thomasa Unterthinera i Andreasa Mayra, która ukazała się w czerwcu 2017 roku. W czasie uczenie sieć neuronowa składająca się wyłącznie ze stosu warstw gęstych wykorzystujących funkcję aktywacji SELU i inicjalizację LeCuna przeprowadza proces samonormalizacji: wyjście każdej warstwy będzie przechowywać taką samą średnią i wariancję w czasie uczenia, co rozwiązuje problem zanikających/eksplodujących gradientów. W konsekwencji ta funkcja aktywacji osiąga znacznie lepsze rezultaty od wcześniejszych funkcji aktywacji w tego typu sieciach neuronowych, dlatego naprawdę warto ją wypróbować. Niestety, własność samonormalizacji funkcji aktywacji SELU jest bardzo wrażliwa: nie można korzystać z regularyzacji ℓ<sub>1</sub> i ℓ<sub>2</sub>, standardowego porzucania, normalizacji typu max-norm, połączeń pomijających ani innych topologii niesekwencyjnych (zatem sieci rekurencyjne nie będą samornormalizowane). W praktyce jednak sprawdza się ona całkiem dobrze w sekwencyjnych sieciach splotowych. Bez samonormalizacji funkcja SELU nie osiąga lepszych wyników od pozostałych funkcji aktywacji."
      ]
    },
    {
      "cell_type": "code",
      "metadata": {
        "id": "KpUq6sf_Zb2K",
        "colab_type": "code",
        "colab": {}
      },
      "source": [
        "from scipy.special import erfc\n",
        "\n",
        "# zmienne alpha i scale służą do samonormalizacji ze średnią 0 i odchyleniem standardowym 1\n",
        "# (zob. równanie 14. we wspomnianej publikacji):\n",
        "alpha_0_1 = -np.sqrt(2 / np.pi) / (erfc(1/np.sqrt(2)) * np.exp(1/2) - 1)\n",
        "scale_0_1 = (1 - erfc(1 / np.sqrt(2)) * np.sqrt(np.e)) * np.sqrt(2 * np.pi) * (2 * erfc(np.sqrt(2))*np.e**2 + np.pi*erfc(1/np.sqrt(2))**2*np.e - 2*(2+np.pi)*erfc(1/np.sqrt(2))*np.sqrt(np.e)+np.pi+2)**(-1/2)"
      ],
      "execution_count": 0,
      "outputs": []
    },
    {
      "cell_type": "code",
      "metadata": {
        "id": "AM7uQymiZb2M",
        "colab_type": "code",
        "colab": {}
      },
      "source": [
        "def selu(z, scale=scale_0_1, alpha=alpha_0_1):\n",
        "    return scale * elu(z, alpha)"
      ],
      "execution_count": 0,
      "outputs": []
    },
    {
      "cell_type": "code",
      "metadata": {
        "id": "o8vtXsoWZb2O",
        "colab_type": "code",
        "colab": {
          "base_uri": "https://localhost:8080/",
          "height": 314
        },
        "outputId": "16d57f9a-65a1-491d-ec08-fce4bc25c64d"
      },
      "source": [
        "plt.plot(z, selu(z), \"b-\", linewidth=2)\n",
        "plt.plot([-5, 5], [0, 0], 'k-')\n",
        "plt.plot([-5, 5], [-1.758, -1.758], 'k--')\n",
        "plt.plot([0, 0], [-2.2, 3.2], 'k-')\n",
        "plt.grid(True)\n",
        "plt.title(\"Funkcja aktywacji SELU\", fontsize=14)\n",
        "plt.axis([-5, 5, -2.2, 3.2])\n",
        "\n",
        "save_fig(\"funkcja_SELU\")\n",
        "plt.show()"
      ],
      "execution_count": 23,
      "outputs": [
        {
          "output_type": "stream",
          "text": [
            "Zapisywanie rysunku funkcja_SELU\n"
          ],
          "name": "stdout"
        },
        {
          "output_type": "display_data",
          "data": {
            "image/png": "[encoded data removed]",
            "text/plain": [
              "<Figure size 432x288 with 1 Axes>"
            ]
          },
          "metadata": {
            "tags": []
          }
        }
      ]
    },
    {
      "cell_type": "markdown",
      "metadata": {
        "id": "QW7bygoyZb2Q",
        "colab_type": "text"
      },
      "source": [
        "Domyślnie hiperparametry funkcji SELU (`scale` i `alpha`) zostają dostrojone w taki sposób, aby średnia na wyjściu każdego neuronu była bliska 0, a odchylenie standardowe pozostawało zbliżone do 1 (przy założeniu, że również wejścia są standaryzowane do średniej 0 i odchylenia standardwoego 1). Dzięki tej funkcji aktywacji nawet tysiącwarstwowa sieć neuronowa zachowuje mniej więcej średnią 0 i odchylenie standardowe 1 we wszystkich warstwach, co pozwala uniknąć kwestii eksplodujących/zanikających gradientów:"
      ]
    },
    {
      "cell_type": "code",
      "metadata": {
        "id": "c_XWw7pYZb2R",
        "colab_type": "code",
        "colab": {
          "base_uri": "https://localhost:8080/",
          "height": 187
        },
        "outputId": "ffbf471b-7f56-463d-8b06-cc90f37c729a"
      },
      "source": [
        "np.random.seed(42)\n",
        "Z = np.random.normal(size=(500, 100)) # standaryzowane wejścia\n",
        "for layer in range(1000):\n",
        "    W = np.random.normal(size=(100, 100), scale=np.sqrt(1 / 100)) # inicjalizacja LeCuna\n",
        "    Z = selu(np.dot(Z, W))\n",
        "    means = np.mean(Z, axis=0).mean()\n",
        "    stds = np.std(Z, axis=0).mean()\n",
        "    if layer % 100 == 0:\n",
        "        print(\"warstwa numer {}: średnia {:.2f}, odchylenie standardowe {:.2f}\".format(layer, means, stds))"
      ],
      "execution_count": 24,
      "outputs": [
        {
          "output_type": "stream",
          "text": [
            "warstwa numer 0: średnia -0.00, odchylenie standardowe 1.00\n",
            "warstwa numer 100: średnia 0.02, odchylenie standardowe 0.96\n",
            "warstwa numer 200: średnia 0.01, odchylenie standardowe 0.90\n",
            "warstwa numer 300: średnia -0.02, odchylenie standardowe 0.92\n",
            "warstwa numer 400: średnia 0.05, odchylenie standardowe 0.89\n",
            "warstwa numer 500: średnia 0.01, odchylenie standardowe 0.93\n",
            "warstwa numer 600: średnia 0.02, odchylenie standardowe 0.92\n",
            "warstwa numer 700: średnia -0.02, odchylenie standardowe 0.90\n",
            "warstwa numer 800: średnia 0.05, odchylenie standardowe 0.83\n",
            "warstwa numer 900: średnia 0.02, odchylenie standardowe 1.00\n"
          ],
          "name": "stdout"
        }
      ]
    },
    {
      "cell_type": "markdown",
      "metadata": {
        "id": "7YnRaA4hZb2T",
        "colab_type": "text"
      },
      "source": [
        "Korzystanie z funkcji SELU jest łatwe:"
      ]
    },
    {
      "cell_type": "code",
      "metadata": {
        "id": "YxaHVtFYZb2T",
        "colab_type": "code",
        "colab": {
          "base_uri": "https://localhost:8080/",
          "height": 34
        },
        "outputId": "671d4cd1-1008-4650-b9c4-d29c3263f172"
      },
      "source": [
        "keras.layers.Dense(10, activation=\"selu\",\n",
        "                   kernel_initializer=\"lecun_normal\")"
      ],
      "execution_count": 25,
      "outputs": [
        {
          "output_type": "execute_result",
          "data": {
            "text/plain": [
              "<tensorflow.python.keras.layers.core.Dense at 0x7f54df6c7278>"
            ]
          },
          "metadata": {
            "tags": []
          },
          "execution_count": 25
        }
      ]
    },
    {
      "cell_type": "markdown",
      "metadata": {
        "id": "DcYd9eYQZb2V",
        "colab_type": "text"
      },
      "source": [
        "Stwórzmy sieć neuronową dla zestawu danych Fashion MNIST, zawierającą 100 warstw ukrytych i funkcję aktywacji SELU:"
      ]
    },
    {
      "cell_type": "code",
      "metadata": {
        "id": "eFHsrgUjZb2W",
        "colab_type": "code",
        "colab": {}
      },
      "source": [
        "np.random.seed(42)\n",
        "tf.random.set_seed(42)"
      ],
      "execution_count": 0,
      "outputs": []
    },
    {
      "cell_type": "code",
      "metadata": {
        "id": "9qpxRDMTZb2Z",
        "colab_type": "code",
        "colab": {}
      },
      "source": [
        "model = keras.models.Sequential()\n",
        "model.add(keras.layers.Flatten(input_shape=[28, 28]))\n",
        "model.add(keras.layers.Dense(300, activation=\"selu\",\n",
        "                             kernel_initializer=\"lecun_normal\"))\n",
        "for layer in range(99):\n",
        "    model.add(keras.layers.Dense(100, activation=\"selu\",\n",
        "                                 kernel_initializer=\"lecun_normal\"))\n",
        "model.add(keras.layers.Dense(10, activation=\"softmax\"))"
      ],
      "execution_count": 0,
      "outputs": []
    },
    {
      "cell_type": "code",
      "metadata": {
        "id": "nypJxmZ_Zb2b",
        "colab_type": "code",
        "colab": {}
      },
      "source": [
        "model.compile(loss=\"sparse_categorical_crossentropy\",\n",
        "              optimizer=keras.optimizers.SGD(lr=1e-3),\n",
        "              metrics=[\"accuracy\"])"
      ],
      "execution_count": 0,
      "outputs": []
    },
    {
      "cell_type": "markdown",
      "metadata": {
        "id": "yYYdoktVZb2d",
        "colab_type": "text"
      },
      "source": [
        "Wytrenujmy ją. Nie zapomnij przeskalować danych wejściowych do średniej 0 i odchylenia standardowego 1:"
      ]
    },
    {
      "cell_type": "code",
      "metadata": {
        "id": "mEaDusXIZb2d",
        "colab_type": "code",
        "colab": {}
      },
      "source": [
        "pixel_means = X_train.mean(axis=0, keepdims=True)\n",
        "pixel_stds = X_train.std(axis=0, keepdims=True)\n",
        "X_train_scaled = (X_train - pixel_means) / pixel_stds\n",
        "X_valid_scaled = (X_valid - pixel_means) / pixel_stds\n",
        "X_test_scaled = (X_test - pixel_means) / pixel_stds"
      ],
      "execution_count": 0,
      "outputs": []
    },
    {
      "cell_type": "code",
      "metadata": {
        "id": "ZJ9TR09gZb2f",
        "colab_type": "code",
        "colab": {
          "base_uri": "https://localhost:8080/",
          "height": 204
        },
        "outputId": "6424b9ea-5f58-4f97-fbd2-00cc11dee680"
      },
      "source": [
        "history = model.fit(X_train_scaled, y_train, epochs=5,\n",
        "                    validation_data=(X_valid_scaled, y_valid))"
      ],
      "execution_count": 30,
      "outputs": [
        {
          "output_type": "stream",
          "text": [
            "Train on 55000 samples, validate on 5000 samples\n",
            "Epoch 1/5\n",
            "55000/55000 [==============================] - 19s 340us/sample - loss: 1.1330 - accuracy: 0.5692 - val_loss: 0.8073 - val_accuracy: 0.6728\n",
            "Epoch 2/5\n",
            "55000/55000 [==============================] - 16s 295us/sample - loss: 0.7538 - accuracy: 0.7252 - val_loss: 0.6410 - val_accuracy: 0.7704\n",
            "Epoch 3/5\n",
            "55000/55000 [==============================] - 16s 292us/sample - loss: 0.6290 - accuracy: 0.7715 - val_loss: 0.6406 - val_accuracy: 0.7576\n",
            "Epoch 4/5\n",
            "55000/55000 [==============================] - 16s 295us/sample - loss: 0.5535 - accuracy: 0.8003 - val_loss: 0.5332 - val_accuracy: 0.8164\n",
            "Epoch 5/5\n",
            "55000/55000 [==============================] - 16s 296us/sample - loss: 0.5000 - accuracy: 0.8245 - val_loss: 0.4950 - val_accuracy: 0.8204\n"
          ],
          "name": "stdout"
        }
      ]
    },
    {
      "cell_type": "markdown",
      "metadata": {
        "id": "lipVz9AZZb2g",
        "colab_type": "text"
      },
      "source": [
        "Spójrzmy, co się stanie, jeśli spróbujemy skorzystać z funkcji aktywacji ReLU:"
      ]
    },
    {
      "cell_type": "code",
      "metadata": {
        "id": "L1-sJMZHZb2h",
        "colab_type": "code",
        "colab": {}
      },
      "source": [
        "np.random.seed(42)\n",
        "tf.random.set_seed(42)"
      ],
      "execution_count": 0,
      "outputs": []
    },
    {
      "cell_type": "code",
      "metadata": {
        "id": "JbPQHpcrZb2j",
        "colab_type": "code",
        "colab": {}
      },
      "source": [
        "model = keras.models.Sequential()\n",
        "model.add(keras.layers.Flatten(input_shape=[28, 28]))\n",
        "model.add(keras.layers.Dense(300, activation=\"relu\", kernel_initializer=\"he_normal\"))\n",
        "for layer in range(99):\n",
        "    model.add(keras.layers.Dense(100, activation=\"relu\", kernel_initializer=\"he_normal\"))\n",
        "model.add(keras.layers.Dense(10, activation=\"softmax\"))"
      ],
      "execution_count": 0,
      "outputs": []
    },
    {
      "cell_type": "code",
      "metadata": {
        "id": "AOHBTlXvZb2l",
        "colab_type": "code",
        "colab": {}
      },
      "source": [
        "model.compile(loss=\"sparse_categorical_crossentropy\",\n",
        "              optimizer=keras.optimizers.SGD(lr=1e-3),\n",
        "              metrics=[\"accuracy\"])"
      ],
      "execution_count": 0,
      "outputs": []
    },
    {
      "cell_type": "code",
      "metadata": {
        "id": "yF7R8bIuZb2n",
        "colab_type": "code",
        "colab": {
          "base_uri": "https://localhost:8080/",
          "height": 204
        },
        "outputId": "dcee54cb-6e21-424a-8374-4815cd8919fe"
      },
      "source": [
        "history = model.fit(X_train_scaled, y_train, epochs=5,\n",
        "                    validation_data=(X_valid_scaled, y_valid))"
      ],
      "execution_count": 34,
      "outputs": [
        {
          "output_type": "stream",
          "text": [
            "Train on 55000 samples, validate on 5000 samples\n",
            "Epoch 1/5\n",
            "55000/55000 [==============================] - 18s 333us/sample - loss: 1.7955 - accuracy: 0.2735 - val_loss: 1.2961 - val_accuracy: 0.4698\n",
            "Epoch 2/5\n",
            "55000/55000 [==============================] - 17s 306us/sample - loss: 1.1094 - accuracy: 0.5339 - val_loss: 1.1513 - val_accuracy: 0.4930\n",
            "Epoch 3/5\n",
            "55000/55000 [==============================] - 16s 295us/sample - loss: 0.9205 - accuracy: 0.6300 - val_loss: 0.8929 - val_accuracy: 0.6450\n",
            "Epoch 4/5\n",
            "55000/55000 [==============================] - 16s 298us/sample - loss: 0.8414 - accuracy: 0.6635 - val_loss: 0.9134 - val_accuracy: 0.6324\n",
            "Epoch 5/5\n",
            "55000/55000 [==============================] - 16s 296us/sample - loss: 0.8001 - accuracy: 0.6894 - val_loss: 0.6861 - val_accuracy: 0.7500\n"
          ],
          "name": "stdout"
        }
      ]
    },
    {
      "cell_type": "markdown",
      "metadata": {
        "id": "WqgSiX2sZb2o",
        "colab_type": "text"
      },
      "source": [
        "Całkiem kiepsko, dopadł nas problem zanikających/eksplodujących gradientów."
      ]
    },
    {
      "cell_type": "markdown",
      "metadata": {
        "id": "dlRb_BGRZb2p",
        "colab_type": "text"
      },
      "source": [
        "# Normalizacja wsadowa"
      ]
    },
    {
      "cell_type": "code",
      "metadata": {
        "id": "UjhMbNQdZb2q",
        "colab_type": "code",
        "colab": {}
      },
      "source": [
        "model = keras.models.Sequential([\n",
        "    keras.layers.Flatten(input_shape=[28, 28]),\n",
        "    keras.layers.BatchNormalization(),\n",
        "    keras.layers.Dense(300, activation=\"relu\"),\n",
        "    keras.layers.BatchNormalization(),\n",
        "    keras.layers.Dense(100, activation=\"relu\"),\n",
        "    keras.layers.BatchNormalization(),\n",
        "    keras.layers.Dense(10, activation=\"softmax\")\n",
        "])"
      ],
      "execution_count": 0,
      "outputs": []
    },
    {
      "cell_type": "code",
      "metadata": {
        "id": "Dav20sm5Zb2t",
        "colab_type": "code",
        "colab": {
          "base_uri": "https://localhost:8080/",
          "height": 391
        },
        "outputId": "a26e1630-2d01-41ad-f0ba-830692159d1a"
      },
      "source": [
        "model.summary()"
      ],
      "execution_count": 36,
      "outputs": [
        {
          "output_type": "stream",
          "text": [
            "Model: \"sequential_4\"\n",
            "_________________________________________________________________\n",
            "Layer (type)                 Output Shape              Param #   \n",
            "=================================================================\n",
            "flatten_4 (Flatten)          (None, 784)               0         \n",
            "_________________________________________________________________\n",
            "batch_normalization (BatchNo (None, 784)               3136      \n",
            "_________________________________________________________________\n",
            "dense_212 (Dense)            (None, 300)               235500    \n",
            "_________________________________________________________________\n",
            "batch_normalization_1 (Batch (None, 300)               1200      \n",
            "_________________________________________________________________\n",
            "dense_213 (Dense)            (None, 100)               30100     \n",
            "_________________________________________________________________\n",
            "batch_normalization_2 (Batch (None, 100)               400       \n",
            "_________________________________________________________________\n",
            "dense_214 (Dense)            (None, 10)                1010      \n",
            "=================================================================\n",
            "Total params: 271,346\n",
            "Trainable params: 268,978\n",
            "Non-trainable params: 2,368\n",
            "_________________________________________________________________\n"
          ],
          "name": "stdout"
        }
      ]
    },
    {
      "cell_type": "code",
      "metadata": {
        "id": "ToWDoxxuZb2u",
        "colab_type": "code",
        "colab": {
          "base_uri": "https://localhost:8080/",
          "height": 85
        },
        "outputId": "2df0ed02-38c9-47b2-ced6-7afb83beb2c3"
      },
      "source": [
        "bn1 = model.layers[1]\n",
        "[(var.name, var.trainable) for var in bn1.variables]"
      ],
      "execution_count": 37,
      "outputs": [
        {
          "output_type": "execute_result",
          "data": {
            "text/plain": [
              "[('batch_normalization/gamma:0', True),\n",
              " ('batch_normalization/beta:0', True),\n",
              " ('batch_normalization/moving_mean:0', False),\n",
              " ('batch_normalization/moving_variance:0', False)]"
            ]
          },
          "metadata": {
            "tags": []
          },
          "execution_count": 37
        }
      ]
    },
    {
      "cell_type": "code",
      "metadata": {
        "id": "jvXflQA6Zb2w",
        "colab_type": "code",
        "colab": {
          "base_uri": "https://localhost:8080/",
          "height": 51
        },
        "outputId": "a0dd1701-55d8-4b51-e5ef-6d9815629b3c"
      },
      "source": [
        "bn1.updates"
      ],
      "execution_count": 38,
      "outputs": [
        {
          "output_type": "execute_result",
          "data": {
            "text/plain": [
              "[<tf.Operation 'cond/Identity' type=Identity>,\n",
              " <tf.Operation 'cond_1/Identity' type=Identity>]"
            ]
          },
          "metadata": {
            "tags": []
          },
          "execution_count": 38
        }
      ]
    },
    {
      "cell_type": "code",
      "metadata": {
        "id": "qIT8pFsbZb20",
        "colab_type": "code",
        "colab": {}
      },
      "source": [
        "model.compile(loss=\"sparse_categorical_crossentropy\",\n",
        "              optimizer=keras.optimizers.SGD(lr=1e-3),\n",
        "              metrics=[\"accuracy\"])"
      ],
      "execution_count": 0,
      "outputs": []
    },
    {
      "cell_type": "code",
      "metadata": {
        "id": "48RSrkBVZb22",
        "colab_type": "code",
        "colab": {
          "base_uri": "https://localhost:8080/",
          "height": 374
        },
        "outputId": "9f4ee062-6f32-48bf-e69f-acea5070ac2d"
      },
      "source": [
        "history = model.fit(X_train, y_train, epochs=10,\n",
        "                    validation_data=(X_valid, y_valid))"
      ],
      "execution_count": 40,
      "outputs": [
        {
          "output_type": "stream",
          "text": [
            "Train on 55000 samples, validate on 5000 samples\n",
            "Epoch 1/10\n",
            "55000/55000 [==============================] - 7s 125us/sample - loss: 0.8761 - accuracy: 0.7124 - val_loss: 0.5508 - val_accuracy: 0.8222\n",
            "Epoch 2/10\n",
            "55000/55000 [==============================] - 6s 114us/sample - loss: 0.5737 - accuracy: 0.8038 - val_loss: 0.4723 - val_accuracy: 0.8460\n",
            "Epoch 3/10\n",
            "55000/55000 [==============================] - 6s 115us/sample - loss: 0.5142 - accuracy: 0.8230 - val_loss: 0.4376 - val_accuracy: 0.8570\n",
            "Epoch 4/10\n",
            "55000/55000 [==============================] - 7s 118us/sample - loss: 0.4825 - accuracy: 0.8331 - val_loss: 0.4135 - val_accuracy: 0.8634\n",
            "Epoch 5/10\n",
            "55000/55000 [==============================] - 6s 115us/sample - loss: 0.4571 - accuracy: 0.8414 - val_loss: 0.3991 - val_accuracy: 0.8652\n",
            "Epoch 6/10\n",
            "55000/55000 [==============================] - 6s 115us/sample - loss: 0.4431 - accuracy: 0.8457 - val_loss: 0.3871 - val_accuracy: 0.8702\n",
            "Epoch 7/10\n",
            "55000/55000 [==============================] - 6s 114us/sample - loss: 0.4254 - accuracy: 0.8512 - val_loss: 0.3785 - val_accuracy: 0.8700\n",
            "Epoch 8/10\n",
            "55000/55000 [==============================] - 6s 118us/sample - loss: 0.4149 - accuracy: 0.8534 - val_loss: 0.3710 - val_accuracy: 0.8758\n",
            "Epoch 9/10\n",
            "55000/55000 [==============================] - 6s 118us/sample - loss: 0.4016 - accuracy: 0.8599 - val_loss: 0.3637 - val_accuracy: 0.8756\n",
            "Epoch 10/10\n",
            "55000/55000 [==============================] - 6s 115us/sample - loss: 0.3915 - accuracy: 0.8629 - val_loss: 0.3603 - val_accuracy: 0.8758\n"
          ],
          "name": "stdout"
        }
      ]
    },
    {
      "cell_type": "markdown",
      "metadata": {
        "id": "EysDvyQDZb23",
        "colab_type": "text"
      },
      "source": [
        "Czasami wprowadzanie normalizacji wsadowej przed funkcją aktywacji sprawdza się lepiej (kwestia ta ciągle jest tematem dyskusji). Ponadto warstwa poprzedzająca warstwę `BatchNormalization` nie wymaga członów obciążenia, ponieważ zawiera je warstwa `BatchNormalization`, zatem aby uniknąć marnotrawienia parametrów, możesz wyznaczyć `use_bias=False` podczas tworzenia tych warstw:"
      ]
    },
    {
      "cell_type": "code",
      "metadata": {
        "id": "hQtHB5T7Zb25",
        "colab_type": "code",
        "colab": {}
      },
      "source": [
        "model = keras.models.Sequential([\n",
        "    keras.layers.Flatten(input_shape=[28, 28]),\n",
        "    keras.layers.BatchNormalization(),\n",
        "    keras.layers.Dense(300, use_bias=False),\n",
        "    keras.layers.BatchNormalization(),\n",
        "    keras.layers.Activation(\"relu\"),\n",
        "    keras.layers.Dense(100, use_bias=False),\n",
        "    keras.layers.BatchNormalization(),\n",
        "    keras.layers.Activation(\"relu\"),\n",
        "    keras.layers.Dense(10, activation=\"softmax\")\n",
        "])"
      ],
      "execution_count": 0,
      "outputs": []
    },
    {
      "cell_type": "code",
      "metadata": {
        "id": "8Joa-cP0Zb27",
        "colab_type": "code",
        "colab": {}
      },
      "source": [
        "model.compile(loss=\"sparse_categorical_crossentropy\",\n",
        "              optimizer=keras.optimizers.SGD(lr=1e-3),\n",
        "              metrics=[\"accuracy\"])"
      ],
      "execution_count": 0,
      "outputs": []
    },
    {
      "cell_type": "code",
      "metadata": {
        "id": "7kX-9fFNZb29",
        "colab_type": "code",
        "colab": {
          "base_uri": "https://localhost:8080/",
          "height": 374
        },
        "outputId": "9b5ac396-e3b1-4868-88d2-6fea12ed28bd"
      },
      "source": [
        "history = model.fit(X_train, y_train, epochs=10,\n",
        "                    validation_data=(X_valid, y_valid))"
      ],
      "execution_count": 43,
      "outputs": [
        {
          "output_type": "stream",
          "text": [
            "Train on 55000 samples, validate on 5000 samples\n",
            "Epoch 1/10\n",
            "55000/55000 [==============================] - 7s 123us/sample - loss: 1.0334 - accuracy: 0.6755 - val_loss: 0.6738 - val_accuracy: 0.7832\n",
            "Epoch 2/10\n",
            "55000/55000 [==============================] - 6s 117us/sample - loss: 0.6761 - accuracy: 0.7820 - val_loss: 0.5562 - val_accuracy: 0.8194\n",
            "Epoch 3/10\n",
            "55000/55000 [==============================] - 6s 115us/sample - loss: 0.5929 - accuracy: 0.8056 - val_loss: 0.5005 - val_accuracy: 0.8368\n",
            "Epoch 4/10\n",
            "55000/55000 [==============================] - 6s 115us/sample - loss: 0.5467 - accuracy: 0.8161 - val_loss: 0.4652 - val_accuracy: 0.8452\n",
            "Epoch 5/10\n",
            "55000/55000 [==============================] - 6s 115us/sample - loss: 0.5114 - accuracy: 0.8268 - val_loss: 0.4427 - val_accuracy: 0.8520\n",
            "Epoch 6/10\n",
            "55000/55000 [==============================] - 6s 115us/sample - loss: 0.4903 - accuracy: 0.8333 - val_loss: 0.4264 - val_accuracy: 0.8544\n",
            "Epoch 7/10\n",
            "55000/55000 [==============================] - 6s 118us/sample - loss: 0.4723 - accuracy: 0.8375 - val_loss: 0.4127 - val_accuracy: 0.8570\n",
            "Epoch 8/10\n",
            "55000/55000 [==============================] - 6s 114us/sample - loss: 0.4573 - accuracy: 0.8426 - val_loss: 0.4031 - val_accuracy: 0.8610\n",
            "Epoch 9/10\n",
            "55000/55000 [==============================] - 6s 114us/sample - loss: 0.4433 - accuracy: 0.8467 - val_loss: 0.3943 - val_accuracy: 0.8636\n",
            "Epoch 10/10\n",
            "55000/55000 [==============================] - 6s 113us/sample - loss: 0.4332 - accuracy: 0.8516 - val_loss: 0.3874 - val_accuracy: 0.8666\n"
          ],
          "name": "stdout"
        }
      ]
    },
    {
      "cell_type": "markdown",
      "metadata": {
        "id": "9ZHqjvjBZb2-",
        "colab_type": "text"
      },
      "source": [
        "## Obcinanie gradientu"
      ]
    },
    {
      "cell_type": "markdown",
      "metadata": {
        "id": "6WU55rGNZb2_",
        "colab_type": "text"
      },
      "source": [
        "Wszystkie optymalizatory Keras przyjmują argumenty `clipnorm` albo `clipvalue`:"
      ]
    },
    {
      "cell_type": "code",
      "metadata": {
        "id": "u3ddUqqzZb3A",
        "colab_type": "code",
        "colab": {}
      },
      "source": [
        "optimizer = keras.optimizers.SGD(clipvalue=1.0)"
      ],
      "execution_count": 0,
      "outputs": []
    },
    {
      "cell_type": "code",
      "metadata": {
        "id": "FkYs5f7yZb3B",
        "colab_type": "code",
        "colab": {}
      },
      "source": [
        "optimizer = keras.optimizers.SGD(clipnorm=1.0)"
      ],
      "execution_count": 0,
      "outputs": []
    },
    {
      "cell_type": "markdown",
      "metadata": {
        "id": "sAeXYKwDZb3D",
        "colab_type": "text"
      },
      "source": [
        "## Wielokrotne stosowanie gotowych warstw"
      ]
    },
    {
      "cell_type": "markdown",
      "metadata": {
        "id": "p4JqwzGPZb3E",
        "colab_type": "text"
      },
      "source": [
        "## Wielokrotne stosowanie modelu Keras"
      ]
    },
    {
      "cell_type": "markdown",
      "metadata": {
        "id": "8LIyYv9ZZb3E",
        "colab_type": "text"
      },
      "source": [
        "Podzielmy zestaw danych Fashion MNIST na dwa podzbiory:\n",
        "* `X_train_A`: wszystkie elementy ze wszystkich klas oprócz sandałów i koszulek (klas 5. i 6.).\n",
        "* `X_train_B`: znacznie mniejszy zbiór uczący zawierający jedynie 200 pierwszych obrazów sandałów i koszulek.\n",
        "\n",
        "W taki sam sposób rozdzielamy zbiór walidacyjny i testowy, ale nie ograniczamy w nich liczby obrazów.\n",
        "\n",
        "Wytrenujemy model na zestawie A (zadanie klasyfikacji na podstawie ośmiu klas) i spróbujemy go wykorzystać do przetworzenia zestawu B (klasyfikacja binarna). Mamy nadzieję, że przeniesiemy odrobinę wiedzy z zadania A do zadania B, ponieważ klasy ze zbioru A (tenisówki, trzewiki, płaszcze, bluzy itd.) są niejako podobne do klas z zestawu B (sandałów i koszulek). Korzystamy jednak z warstw `Dense`, więc zostaną ponownie wykorzystane jedynie wzorce pojawiające się w tych samym miejscu (z kolei warstwy splotowe przenoszą wiedzę znacznie lepiej, ponieważ poznane wzorce będą wykrywane w dowolnym miejscu obrazu, o czym przekonamy się podczas omawiania sieci splotowych)."
      ]
    },
    {
      "cell_type": "code",
      "metadata": {
        "id": "IRJv0iBMZb3F",
        "colab_type": "code",
        "colab": {}
      },
      "source": [
        "def split_dataset(X, y):\n",
        "    y_5_or_6 = (y == 5) | (y == 6) # sandały albo koszulki\n",
        "    y_A = y[~y_5_or_6]\n",
        "    y_A[y_A > 6] -= 2 # indeksy klas 7., 8., 9. powinny zostać przeniesione do 5., 6., 7.\n",
        "    y_B = (y[y_5_or_6] == 6).astype(np.float32) # zadanie klasyfikacji binarnej: czy jest to koszulka (klasa 6.)?\n",
        "    return ((X[~y_5_or_6], y_A),\n",
        "            (X[y_5_or_6], y_B))\n",
        "\n",
        "(X_train_A, y_train_A), (X_train_B, y_train_B) = split_dataset(X_train, y_train)\n",
        "(X_valid_A, y_valid_A), (X_valid_B, y_valid_B) = split_dataset(X_valid, y_valid)\n",
        "(X_test_A, y_test_A), (X_test_B, y_test_B) = split_dataset(X_test, y_test)\n",
        "X_train_B = X_train_B[:200]\n",
        "y_train_B = y_train_B[:200]"
      ],
      "execution_count": 0,
      "outputs": []
    },
    {
      "cell_type": "code",
      "metadata": {
        "id": "fBz_Y00LZb3G",
        "colab_type": "code",
        "colab": {
          "base_uri": "https://localhost:8080/",
          "height": 34
        },
        "outputId": "a1622a13-b589-4772-f557-cdc94efed54c"
      },
      "source": [
        "X_train_A.shape"
      ],
      "execution_count": 47,
      "outputs": [
        {
          "output_type": "execute_result",
          "data": {
            "text/plain": [
              "(43986, 28, 28)"
            ]
          },
          "metadata": {
            "tags": []
          },
          "execution_count": 47
        }
      ]
    },
    {
      "cell_type": "code",
      "metadata": {
        "id": "hwqlexDRZb3J",
        "colab_type": "code",
        "colab": {
          "base_uri": "https://localhost:8080/",
          "height": 34
        },
        "outputId": "4da6c9f2-2d38-4d9e-8a04-abd8ecd105f3"
      },
      "source": [
        "X_train_B.shape"
      ],
      "execution_count": 48,
      "outputs": [
        {
          "output_type": "execute_result",
          "data": {
            "text/plain": [
              "(200, 28, 28)"
            ]
          },
          "metadata": {
            "tags": []
          },
          "execution_count": 48
        }
      ]
    },
    {
      "cell_type": "code",
      "metadata": {
        "id": "ZMOctMnZZb3K",
        "colab_type": "code",
        "colab": {
          "base_uri": "https://localhost:8080/",
          "height": 51
        },
        "outputId": "577948c3-da24-4a91-ecb3-1dab661ab14d"
      },
      "source": [
        "y_train_A[:30]"
      ],
      "execution_count": 49,
      "outputs": [
        {
          "output_type": "execute_result",
          "data": {
            "text/plain": [
              "array([4, 0, 5, 7, 7, 7, 4, 4, 3, 4, 0, 1, 6, 3, 4, 3, 2, 6, 5, 3, 4, 5,\n",
              "       1, 3, 4, 2, 0, 6, 7, 1], dtype=uint8)"
            ]
          },
          "metadata": {
            "tags": []
          },
          "execution_count": 49
        }
      ]
    },
    {
      "cell_type": "code",
      "metadata": {
        "id": "eeOJi8qZZb3M",
        "colab_type": "code",
        "colab": {
          "base_uri": "https://localhost:8080/",
          "height": 51
        },
        "outputId": "99e49cc4-56b9-4fd3-9e70-b8ec14551cd8"
      },
      "source": [
        "y_train_B[:30]"
      ],
      "execution_count": 50,
      "outputs": [
        {
          "output_type": "execute_result",
          "data": {
            "text/plain": [
              "array([1., 1., 0., 0., 0., 0., 1., 1., 1., 0., 0., 1., 1., 0., 0., 0., 0.,\n",
              "       0., 0., 1., 1., 0., 0., 1., 1., 0., 1., 1., 1., 1.], dtype=float32)"
            ]
          },
          "metadata": {
            "tags": []
          },
          "execution_count": 50
        }
      ]
    },
    {
      "cell_type": "code",
      "metadata": {
        "id": "T3lpiSvJZb3N",
        "colab_type": "code",
        "colab": {}
      },
      "source": [
        "tf.random.set_seed(42)\n",
        "np.random.seed(42)"
      ],
      "execution_count": 0,
      "outputs": []
    },
    {
      "cell_type": "code",
      "metadata": {
        "id": "blcj-iNYZb3O",
        "colab_type": "code",
        "colab": {}
      },
      "source": [
        "model_A = keras.models.Sequential()\n",
        "model_A.add(keras.layers.Flatten(input_shape=[28, 28]))\n",
        "for n_hidden in (300, 100, 50, 50, 50):\n",
        "    model_A.add(keras.layers.Dense(n_hidden, activation=\"selu\"))\n",
        "model_A.add(keras.layers.Dense(8, activation=\"softmax\"))"
      ],
      "execution_count": 0,
      "outputs": []
    },
    {
      "cell_type": "code",
      "metadata": {
        "id": "F6mXNDgcZb3R",
        "colab_type": "code",
        "colab": {}
      },
      "source": [
        "model_A.compile(loss=\"sparse_categorical_crossentropy\",\n",
        "                optimizer=keras.optimizers.SGD(lr=1e-3),\n",
        "                metrics=[\"accuracy\"])"
      ],
      "execution_count": 0,
      "outputs": []
    },
    {
      "cell_type": "code",
      "metadata": {
        "id": "T1560XIiZb3S",
        "colab_type": "code",
        "colab": {
          "base_uri": "https://localhost:8080/",
          "height": 714
        },
        "outputId": "a68f64b5-4f44-42ac-e3ac-68456ba5911d"
      },
      "source": [
        "history = model_A.fit(X_train_A, y_train_A, epochs=20,\n",
        "                    validation_data=(X_valid_A, y_valid_A))"
      ],
      "execution_count": 54,
      "outputs": [
        {
          "output_type": "stream",
          "text": [
            "Train on 43986 samples, validate on 4014 samples\n",
            "Epoch 1/20\n",
            "43986/43986 [==============================] - 4s 90us/sample - loss: 0.5902 - accuracy: 0.8131 - val_loss: 0.3785 - val_accuracy: 0.8692\n",
            "Epoch 2/20\n",
            "43986/43986 [==============================] - 4s 83us/sample - loss: 0.3518 - accuracy: 0.8784 - val_loss: 0.3372 - val_accuracy: 0.8842\n",
            "Epoch 3/20\n",
            "43986/43986 [==============================] - 4s 83us/sample - loss: 0.3163 - accuracy: 0.8895 - val_loss: 0.3016 - val_accuracy: 0.8959\n",
            "Epoch 4/20\n",
            "43986/43986 [==============================] - 4s 82us/sample - loss: 0.2969 - accuracy: 0.8974 - val_loss: 0.2911 - val_accuracy: 0.9018\n",
            "Epoch 5/20\n",
            "43986/43986 [==============================] - 4s 84us/sample - loss: 0.2832 - accuracy: 0.9025 - val_loss: 0.2816 - val_accuracy: 0.9013\n",
            "Epoch 6/20\n",
            "43986/43986 [==============================] - 4s 87us/sample - loss: 0.2726 - accuracy: 0.9067 - val_loss: 0.2738 - val_accuracy: 0.9078\n",
            "Epoch 7/20\n",
            "43986/43986 [==============================] - 4s 85us/sample - loss: 0.2644 - accuracy: 0.9097 - val_loss: 0.2650 - val_accuracy: 0.9091\n",
            "Epoch 8/20\n",
            "43986/43986 [==============================] - 4s 83us/sample - loss: 0.2578 - accuracy: 0.9117 - val_loss: 0.2579 - val_accuracy: 0.9128\n",
            "Epoch 9/20\n",
            "43986/43986 [==============================] - 4s 83us/sample - loss: 0.2517 - accuracy: 0.9136 - val_loss: 0.2580 - val_accuracy: 0.9138\n",
            "Epoch 10/20\n",
            "43986/43986 [==============================] - 4s 82us/sample - loss: 0.2466 - accuracy: 0.9154 - val_loss: 0.2522 - val_accuracy: 0.9153\n",
            "Epoch 11/20\n",
            "43986/43986 [==============================] - 4s 84us/sample - loss: 0.2420 - accuracy: 0.9176 - val_loss: 0.2488 - val_accuracy: 0.9165\n",
            "Epoch 12/20\n",
            "43986/43986 [==============================] - 4s 82us/sample - loss: 0.2381 - accuracy: 0.9190 - val_loss: 0.2455 - val_accuracy: 0.9175\n",
            "Epoch 13/20\n",
            "43986/43986 [==============================] - 4s 83us/sample - loss: 0.2348 - accuracy: 0.9198 - val_loss: 0.2448 - val_accuracy: 0.9193\n",
            "Epoch 14/20\n",
            "43986/43986 [==============================] - 4s 86us/sample - loss: 0.2312 - accuracy: 0.9204 - val_loss: 0.2432 - val_accuracy: 0.9170\n",
            "Epoch 15/20\n",
            "43986/43986 [==============================] - 4s 86us/sample - loss: 0.2282 - accuracy: 0.9220 - val_loss: 0.2431 - val_accuracy: 0.9180\n",
            "Epoch 16/20\n",
            "43986/43986 [==============================] - 4s 84us/sample - loss: 0.2255 - accuracy: 0.9230 - val_loss: 0.2414 - val_accuracy: 0.9148\n",
            "Epoch 17/20\n",
            "43986/43986 [==============================] - 4s 83us/sample - loss: 0.2228 - accuracy: 0.9229 - val_loss: 0.2370 - val_accuracy: 0.9183\n",
            "Epoch 18/20\n",
            "43986/43986 [==============================] - 4s 83us/sample - loss: 0.2202 - accuracy: 0.9244 - val_loss: 0.2430 - val_accuracy: 0.9175\n",
            "Epoch 19/20\n",
            "43986/43986 [==============================] - 4s 84us/sample - loss: 0.2177 - accuracy: 0.9253 - val_loss: 0.2609 - val_accuracy: 0.9058\n",
            "Epoch 20/20\n",
            "43986/43986 [==============================] - 4s 81us/sample - loss: 0.2158 - accuracy: 0.9265 - val_loss: 0.2328 - val_accuracy: 0.9213\n"
          ],
          "name": "stdout"
        }
      ]
    },
    {
      "cell_type": "code",
      "metadata": {
        "id": "_cW5SrLvZb3U",
        "colab_type": "code",
        "colab": {}
      },
      "source": [
        "model_A.save(\"moj_model_A.h5\")"
      ],
      "execution_count": 0,
      "outputs": []
    },
    {
      "cell_type": "code",
      "metadata": {
        "id": "jpaAgZZMZb3V",
        "colab_type": "code",
        "colab": {}
      },
      "source": [
        "model_B = keras.models.Sequential()\n",
        "model_B.add(keras.layers.Flatten(input_shape=[28, 28]))\n",
        "for n_hidden in (300, 100, 50, 50, 50):\n",
        "    model_B.add(keras.layers.Dense(n_hidden, activation=\"selu\"))\n",
        "model_B.add(keras.layers.Dense(1, activation=\"sigmoid\"))"
      ],
      "execution_count": 0,
      "outputs": []
    },
    {
      "cell_type": "code",
      "metadata": {
        "id": "Km5OLXWkZb3X",
        "colab_type": "code",
        "colab": {}
      },
      "source": [
        "model_B.compile(loss=\"binary_crossentropy\",\n",
        "                optimizer=keras.optimizers.SGD(lr=1e-3),\n",
        "                metrics=[\"accuracy\"])"
      ],
      "execution_count": 0,
      "outputs": []
    },
    {
      "cell_type": "code",
      "metadata": {
        "id": "3TAQD6kIZb3Y",
        "colab_type": "code",
        "colab": {
          "base_uri": "https://localhost:8080/",
          "height": 714
        },
        "outputId": "6c621492-9cab-4ff5-e20d-feccc2c35341"
      },
      "source": [
        "history = model_B.fit(X_train_B, y_train_B, epochs=20,\n",
        "                      validation_data=(X_valid_B, y_valid_B))"
      ],
      "execution_count": 58,
      "outputs": [
        {
          "output_type": "stream",
          "text": [
            "Train on 200 samples, validate on 986 samples\n",
            "Epoch 1/20\n",
            "200/200 [==============================] - 1s 4ms/sample - loss: 0.9509 - accuracy: 0.4800 - val_loss: 0.6533 - val_accuracy: 0.5568\n",
            "Epoch 2/20\n",
            "200/200 [==============================] - 0s 474us/sample - loss: 0.5837 - accuracy: 0.7100 - val_loss: 0.4825 - val_accuracy: 0.8479\n",
            "Epoch 3/20\n",
            "200/200 [==============================] - 0s 508us/sample - loss: 0.4527 - accuracy: 0.8750 - val_loss: 0.4097 - val_accuracy: 0.8945\n",
            "Epoch 4/20\n",
            "200/200 [==============================] - 0s 476us/sample - loss: 0.3869 - accuracy: 0.9050 - val_loss: 0.3630 - val_accuracy: 0.9209\n",
            "Epoch 5/20\n",
            "200/200 [==============================] - 0s 461us/sample - loss: 0.3404 - accuracy: 0.9300 - val_loss: 0.3302 - val_accuracy: 0.9280\n",
            "Epoch 6/20\n",
            "200/200 [==============================] - 0s 442us/sample - loss: 0.3073 - accuracy: 0.9350 - val_loss: 0.3026 - val_accuracy: 0.9381\n",
            "Epoch 7/20\n",
            "200/200 [==============================] - 0s 488us/sample - loss: 0.2797 - accuracy: 0.9400 - val_loss: 0.2790 - val_accuracy: 0.9452\n",
            "Epoch 8/20\n",
            "200/200 [==============================] - 0s 449us/sample - loss: 0.2554 - accuracy: 0.9450 - val_loss: 0.2595 - val_accuracy: 0.9473\n",
            "Epoch 9/20\n",
            "200/200 [==============================] - 0s 430us/sample - loss: 0.2355 - accuracy: 0.9600 - val_loss: 0.2439 - val_accuracy: 0.9493\n",
            "Epoch 10/20\n",
            "200/200 [==============================] - 0s 428us/sample - loss: 0.2187 - accuracy: 0.9650 - val_loss: 0.2293 - val_accuracy: 0.9523\n",
            "Epoch 11/20\n",
            "200/200 [==============================] - 0s 428us/sample - loss: 0.2041 - accuracy: 0.9650 - val_loss: 0.2162 - val_accuracy: 0.9544\n",
            "Epoch 12/20\n",
            "200/200 [==============================] - 0s 466us/sample - loss: 0.1906 - accuracy: 0.9650 - val_loss: 0.2049 - val_accuracy: 0.9574\n",
            "Epoch 13/20\n",
            "200/200 [==============================] - 0s 417us/sample - loss: 0.1791 - accuracy: 0.9700 - val_loss: 0.1946 - val_accuracy: 0.9594\n",
            "Epoch 14/20\n",
            "200/200 [==============================] - 0s 476us/sample - loss: 0.1686 - accuracy: 0.9750 - val_loss: 0.1856 - val_accuracy: 0.9615\n",
            "Epoch 15/20\n",
            "200/200 [==============================] - 0s 444us/sample - loss: 0.1591 - accuracy: 0.9750 - val_loss: 0.1765 - val_accuracy: 0.9655\n",
            "Epoch 16/20\n",
            "200/200 [==============================] - 0s 432us/sample - loss: 0.1502 - accuracy: 0.9900 - val_loss: 0.1695 - val_accuracy: 0.9655\n",
            "Epoch 17/20\n",
            "200/200 [==============================] - 0s 481us/sample - loss: 0.1424 - accuracy: 0.9900 - val_loss: 0.1624 - val_accuracy: 0.9686\n",
            "Epoch 18/20\n",
            "200/200 [==============================] - 0s 430us/sample - loss: 0.1351 - accuracy: 0.9900 - val_loss: 0.1567 - val_accuracy: 0.9686\n",
            "Epoch 19/20\n",
            "200/200 [==============================] - 0s 455us/sample - loss: 0.1290 - accuracy: 0.9900 - val_loss: 0.1513 - val_accuracy: 0.9696\n",
            "Epoch 20/20\n",
            "200/200 [==============================] - 0s 459us/sample - loss: 0.1229 - accuracy: 0.9900 - val_loss: 0.1450 - val_accuracy: 0.9696\n"
          ],
          "name": "stdout"
        }
      ]
    },
    {
      "cell_type": "code",
      "metadata": {
        "id": "3P8KLPdxZb3Z",
        "colab_type": "code",
        "colab": {
          "base_uri": "https://localhost:8080/",
          "height": 459
        },
        "outputId": "6ebb857a-7f01-4702-de30-28c805097904"
      },
      "source": [
        "model.summary()"
      ],
      "execution_count": 59,
      "outputs": [
        {
          "output_type": "stream",
          "text": [
            "Model: \"sequential_5\"\n",
            "_________________________________________________________________\n",
            "Layer (type)                 Output Shape              Param #   \n",
            "=================================================================\n",
            "flatten_5 (Flatten)          (None, 784)               0         \n",
            "_________________________________________________________________\n",
            "batch_normalization_3 (Batch (None, 784)               3136      \n",
            "_________________________________________________________________\n",
            "dense_215 (Dense)            (None, 300)               235200    \n",
            "_________________________________________________________________\n",
            "batch_normalization_4 (Batch (None, 300)               1200      \n",
            "_________________________________________________________________\n",
            "activation (Activation)      (None, 300)               0         \n",
            "_________________________________________________________________\n",
            "dense_216 (Dense)            (None, 100)               30000     \n",
            "_________________________________________________________________\n",
            "batch_normalization_5 (Batch (None, 100)               400       \n",
            "_________________________________________________________________\n",
            "activation_1 (Activation)    (None, 100)               0         \n",
            "_________________________________________________________________\n",
            "dense_217 (Dense)            (None, 10)                1010      \n",
            "=================================================================\n",
            "Total params: 270,946\n",
            "Trainable params: 268,578\n",
            "Non-trainable params: 2,368\n",
            "_________________________________________________________________\n"
          ],
          "name": "stdout"
        }
      ]
    },
    {
      "cell_type": "code",
      "metadata": {
        "id": "kk8f0WhCZb3d",
        "colab_type": "code",
        "colab": {}
      },
      "source": [
        "model_A = keras.models.load_model(\"moj_model_A.h5\")\n",
        "model_B_on_A = keras.models.Sequential(model_A.layers[:-1])\n",
        "model_B_on_A.add(keras.layers.Dense(1, activation=\"sigmoid\"))"
      ],
      "execution_count": 0,
      "outputs": []
    },
    {
      "cell_type": "code",
      "metadata": {
        "id": "JdyJH5jHZb3e",
        "colab_type": "code",
        "colab": {}
      },
      "source": [
        "model_A_clone = keras.models.clone_model(model_A)\n",
        "model_A_clone.set_weights(model_A.get_weights())"
      ],
      "execution_count": 0,
      "outputs": []
    },
    {
      "cell_type": "code",
      "metadata": {
        "id": "SM2ETqDlZb3g",
        "colab_type": "code",
        "colab": {}
      },
      "source": [
        "for layer in model_B_on_A.layers[:-1]:\n",
        "    layer.trainable = False\n",
        "\n",
        "model_B_on_A.compile(loss=\"binary_crossentropy\",\n",
        "                     optimizer=keras.optimizers.SGD(lr=1e-3),\n",
        "                     metrics=[\"accuracy\"])"
      ],
      "execution_count": 0,
      "outputs": []
    },
    {
      "cell_type": "code",
      "metadata": {
        "id": "gAJlcRq9Zb3h",
        "colab_type": "code",
        "colab": {
          "base_uri": "https://localhost:8080/",
          "height": 731
        },
        "outputId": "0598dff9-11e3-455a-bc97-6af700d38042"
      },
      "source": [
        "history = model_B_on_A.fit(X_train_B, y_train_B, epochs=4,\n",
        "                           validation_data=(X_valid_B, y_valid_B))\n",
        "\n",
        "for layer in model_B_on_A.layers[:-1]:\n",
        "    layer.trainable = True\n",
        "\n",
        "model_B_on_A.compile(loss=\"binary_crossentropy\",\n",
        "                     optimizer=keras.optimizers.SGD(lr=1e-3),\n",
        "                     metrics=[\"accuracy\"])\n",
        "history = model_B_on_A.fit(X_train_B, y_train_B, epochs=16,\n",
        "                           validation_data=(X_valid_B, y_valid_B))"
      ],
      "execution_count": 63,
      "outputs": [
        {
          "output_type": "stream",
          "text": [
            "Train on 200 samples, validate on 986 samples\n",
            "Epoch 1/4\n",
            "200/200 [==============================] - 0s 2ms/sample - loss: 0.5632 - accuracy: 0.6650 - val_loss: 0.5685 - val_accuracy: 0.6531\n",
            "Epoch 2/4\n",
            "200/200 [==============================] - 0s 433us/sample - loss: 0.5262 - accuracy: 0.7150 - val_loss: 0.5352 - val_accuracy: 0.6947\n",
            "Epoch 3/4\n",
            "200/200 [==============================] - 0s 435us/sample - loss: 0.4936 - accuracy: 0.7400 - val_loss: 0.5054 - val_accuracy: 0.7211\n",
            "Epoch 4/4\n",
            "200/200 [==============================] - 0s 435us/sample - loss: 0.4643 - accuracy: 0.7550 - val_loss: 0.4788 - val_accuracy: 0.7383\n",
            "Train on 200 samples, validate on 986 samples\n",
            "Epoch 1/16\n",
            "200/200 [==============================] - 0s 2ms/sample - loss: 0.3875 - accuracy: 0.8150 - val_loss: 0.3366 - val_accuracy: 0.8671\n",
            "Epoch 2/16\n",
            "200/200 [==============================] - 0s 477us/sample - loss: 0.2708 - accuracy: 0.9300 - val_loss: 0.2614 - val_accuracy: 0.9270\n",
            "Epoch 3/16\n",
            "200/200 [==============================] - 0s 414us/sample - loss: 0.2086 - accuracy: 0.9650 - val_loss: 0.2153 - val_accuracy: 0.9493\n",
            "Epoch 4/16\n",
            "200/200 [==============================] - 0s 437us/sample - loss: 0.1698 - accuracy: 0.9800 - val_loss: 0.1842 - val_accuracy: 0.9635\n",
            "Epoch 5/16\n",
            "200/200 [==============================] - 0s 447us/sample - loss: 0.1431 - accuracy: 0.9800 - val_loss: 0.1603 - val_accuracy: 0.9716\n",
            "Epoch 6/16\n",
            "200/200 [==============================] - 0s 426us/sample - loss: 0.1222 - accuracy: 0.9850 - val_loss: 0.1425 - val_accuracy: 0.9797\n",
            "Epoch 7/16\n",
            "200/200 [==============================] - 0s 530us/sample - loss: 0.1068 - accuracy: 0.9950 - val_loss: 0.1294 - val_accuracy: 0.9828\n",
            "Epoch 8/16\n",
            "200/200 [==============================] - 0s 452us/sample - loss: 0.0954 - accuracy: 0.9950 - val_loss: 0.1187 - val_accuracy: 0.9848\n",
            "Epoch 9/16\n",
            "200/200 [==============================] - 0s 596us/sample - loss: 0.0859 - accuracy: 0.9950 - val_loss: 0.1099 - val_accuracy: 0.9848\n",
            "Epoch 10/16\n",
            "200/200 [==============================] - 0s 446us/sample - loss: 0.0783 - accuracy: 1.0000 - val_loss: 0.1026 - val_accuracy: 0.9878\n",
            "Epoch 11/16\n",
            "200/200 [==============================] - 0s 437us/sample - loss: 0.0721 - accuracy: 1.0000 - val_loss: 0.0964 - val_accuracy: 0.9888\n",
            "Epoch 12/16\n",
            "200/200 [==============================] - 0s 449us/sample - loss: 0.0666 - accuracy: 1.0000 - val_loss: 0.0906 - val_accuracy: 0.9888\n",
            "Epoch 13/16\n",
            "200/200 [==============================] - 0s 418us/sample - loss: 0.0616 - accuracy: 1.0000 - val_loss: 0.0862 - val_accuracy: 0.9899\n",
            "Epoch 14/16\n",
            "200/200 [==============================] - 0s 448us/sample - loss: 0.0576 - accuracy: 1.0000 - val_loss: 0.0818 - val_accuracy: 0.9899\n",
            "Epoch 15/16\n",
            "200/200 [==============================] - 0s 446us/sample - loss: 0.0538 - accuracy: 1.0000 - val_loss: 0.0782 - val_accuracy: 0.9899\n",
            "Epoch 16/16\n",
            "200/200 [==============================] - 0s 423us/sample - loss: 0.0505 - accuracy: 1.0000 - val_loss: 0.0751 - val_accuracy: 0.9899\n"
          ],
          "name": "stdout"
        }
      ]
    },
    {
      "cell_type": "markdown",
      "metadata": {
        "id": "I83ccBsnZb3j",
        "colab_type": "text"
      },
      "source": [
        "Jaki jest więc ostateczny werdykt?"
      ]
    },
    {
      "cell_type": "code",
      "metadata": {
        "id": "k3460qlFZb3j",
        "colab_type": "code",
        "colab": {
          "base_uri": "https://localhost:8080/",
          "height": 51
        },
        "outputId": "3c9006b4-91f2-46ec-db47-27e20ba7d5e8"
      },
      "source": [
        "model_B.evaluate(X_test_B, y_test_B)"
      ],
      "execution_count": 64,
      "outputs": [
        {
          "output_type": "stream",
          "text": [
            "2000/2000 [==============================] - 0s 77us/sample - loss: 0.1426 - accuracy: 0.9695\n"
          ],
          "name": "stdout"
        },
        {
          "output_type": "execute_result",
          "data": {
            "text/plain": [
              "[0.14263125455379486, 0.9695]"
            ]
          },
          "metadata": {
            "tags": []
          },
          "execution_count": 64
        }
      ]
    },
    {
      "cell_type": "code",
      "metadata": {
        "id": "TghiaVmTZb3l",
        "colab_type": "code",
        "colab": {
          "base_uri": "https://localhost:8080/",
          "height": 51
        },
        "outputId": "ae7475a7-c87a-4790-fa9a-91a923aa85eb"
      },
      "source": [
        "model_B_on_A.evaluate(X_test_B, y_test_B)"
      ],
      "execution_count": 65,
      "outputs": [
        {
          "output_type": "stream",
          "text": [
            "2000/2000 [==============================] - 0s 61us/sample - loss: 0.0697 - accuracy: 0.9925\n"
          ],
          "name": "stdout"
        },
        {
          "output_type": "execute_result",
          "data": {
            "text/plain": [
              "[0.06965963751077651, 0.9925]"
            ]
          },
          "metadata": {
            "tags": []
          },
          "execution_count": 65
        }
      ]
    },
    {
      "cell_type": "markdown",
      "metadata": {
        "id": "gbqVDehNZb3n",
        "colab_type": "text"
      },
      "source": [
        "Świetnie! Udało nam się przenieść wiedzę: współczynnik błędu zmalał niemal czterokrotnie!"
      ]
    },
    {
      "cell_type": "code",
      "metadata": {
        "id": "8kYv0a5eZb3n",
        "colab_type": "code",
        "colab": {
          "base_uri": "https://localhost:8080/",
          "height": 34
        },
        "outputId": "c272317f-16d4-4315-a82d-3c8aa95ab551"
      },
      "source": [
        "(100 - 97.05) / (100 - 99.25)"
      ],
      "execution_count": 66,
      "outputs": [
        {
          "output_type": "execute_result",
          "data": {
            "text/plain": [
              "3.933333333333337"
            ]
          },
          "metadata": {
            "tags": []
          },
          "execution_count": 66
        }
      ]
    },
    {
      "cell_type": "markdown",
      "metadata": {
        "id": "0o4Dza0ZZb3p",
        "colab_type": "text"
      },
      "source": [
        "# Szybsze optymalizatory"
      ]
    },
    {
      "cell_type": "markdown",
      "metadata": {
        "id": "2U1gCA1AZb3p",
        "colab_type": "text"
      },
      "source": [
        "## Optymalizacja momentum"
      ]
    },
    {
      "cell_type": "code",
      "metadata": {
        "id": "a4hWGgKwZb3p",
        "colab_type": "code",
        "colab": {}
      },
      "source": [
        "optimizer = keras.optimizers.SGD(lr=0.001, momentum=0.9)"
      ],
      "execution_count": 0,
      "outputs": []
    },
    {
      "cell_type": "markdown",
      "metadata": {
        "id": "PnUm0bRlZb3r",
        "colab_type": "text"
      },
      "source": [
        "## Algorytm Nesterova"
      ]
    },
    {
      "cell_type": "code",
      "metadata": {
        "id": "KITqPtxVZb3r",
        "colab_type": "code",
        "colab": {}
      },
      "source": [
        "optimizer = keras.optimizers.SGD(lr=0.001, momentum=0.9, nesterov=True)"
      ],
      "execution_count": 0,
      "outputs": []
    },
    {
      "cell_type": "markdown",
      "metadata": {
        "id": "K1v4zFK7Zb3t",
        "colab_type": "text"
      },
      "source": [
        "## AdaGrad"
      ]
    },
    {
      "cell_type": "code",
      "metadata": {
        "id": "lJvIG55vZb3v",
        "colab_type": "code",
        "colab": {}
      },
      "source": [
        "optimizer = keras.optimizers.Adagrad(lr=0.001)"
      ],
      "execution_count": 0,
      "outputs": []
    },
    {
      "cell_type": "markdown",
      "metadata": {
        "id": "otqBo3fvZb3w",
        "colab_type": "text"
      },
      "source": [
        "## RMSProp"
      ]
    },
    {
      "cell_type": "code",
      "metadata": {
        "id": "RxLyDvA3Zb3w",
        "colab_type": "code",
        "colab": {}
      },
      "source": [
        "optimizer = keras.optimizers.RMSprop(lr=0.001, rho=0.9)"
      ],
      "execution_count": 0,
      "outputs": []
    },
    {
      "cell_type": "markdown",
      "metadata": {
        "id": "Ovt1PcC1Zb3y",
        "colab_type": "text"
      },
      "source": [
        "## Optymalizacja Adam"
      ]
    },
    {
      "cell_type": "code",
      "metadata": {
        "id": "8PubnHAtZb3z",
        "colab_type": "code",
        "colab": {}
      },
      "source": [
        "optimizer = keras.optimizers.Adam(lr=0.001, beta_1=0.9, beta_2=0.999)"
      ],
      "execution_count": 0,
      "outputs": []
    },
    {
      "cell_type": "markdown",
      "metadata": {
        "id": "aJXkFEhoZb30",
        "colab_type": "text"
      },
      "source": [
        "## Optymalizacja Adamax"
      ]
    },
    {
      "cell_type": "code",
      "metadata": {
        "id": "bKc9Rc9KZb31",
        "colab_type": "code",
        "colab": {}
      },
      "source": [
        "optimizer = keras.optimizers.Adamax(lr=0.001, beta_1=0.9, beta_2=0.999)"
      ],
      "execution_count": 0,
      "outputs": []
    },
    {
      "cell_type": "markdown",
      "metadata": {
        "id": "PyuC0OUhZb32",
        "colab_type": "text"
      },
      "source": [
        "## Optymalizacja Nadam"
      ]
    },
    {
      "cell_type": "code",
      "metadata": {
        "id": "t1czLmzkZb32",
        "colab_type": "code",
        "colab": {}
      },
      "source": [
        "optimizer = keras.optimizers.Nadam(lr=0.001, beta_1=0.9, beta_2=0.999)"
      ],
      "execution_count": 0,
      "outputs": []
    },
    {
      "cell_type": "markdown",
      "metadata": {
        "id": "N92SfaBnZb33",
        "colab_type": "text"
      },
      "source": [
        "## Harmonogramowanie współczynnika uczenia"
      ]
    },
    {
      "cell_type": "markdown",
      "metadata": {
        "id": "DH6CQR3JZb34",
        "colab_type": "text"
      },
      "source": [
        "### Harmonogramowanie potęgowe"
      ]
    },
    {
      "cell_type": "markdown",
      "metadata": {
        "id": "U69pQ6yPZb34",
        "colab_type": "text"
      },
      "source": [
        "```lr = lr0 / (1 + kroki / s)**c```\n",
        "* Keras wykorzystuje `c=1` i `s = 1 / rozkład`"
      ]
    },
    {
      "cell_type": "code",
      "metadata": {
        "id": "yFslE68nZb34",
        "colab_type": "code",
        "colab": {}
      },
      "source": [
        "optimizer = keras.optimizers.SGD(lr=0.01, decay=1e-4)"
      ],
      "execution_count": 0,
      "outputs": []
    },
    {
      "cell_type": "code",
      "metadata": {
        "id": "E1o7dJlXZb35",
        "colab_type": "code",
        "colab": {}
      },
      "source": [
        "model = keras.models.Sequential([\n",
        "    keras.layers.Flatten(input_shape=[28, 28]),\n",
        "    keras.layers.Dense(300, activation=\"selu\", kernel_initializer=\"lecun_normal\"),\n",
        "    keras.layers.Dense(100, activation=\"selu\", kernel_initializer=\"lecun_normal\"),\n",
        "    keras.layers.Dense(10, activation=\"softmax\")\n",
        "])\n",
        "model.compile(loss=\"sparse_categorical_crossentropy\", optimizer=optimizer, metrics=[\"accuracy\"])"
      ],
      "execution_count": 0,
      "outputs": []
    },
    {
      "cell_type": "code",
      "metadata": {
        "id": "2vTvDpz0Zb36",
        "colab_type": "code",
        "colab": {
          "base_uri": "https://localhost:8080/",
          "height": 884
        },
        "outputId": "a7e9cc87-3400-4be3-f94f-9799a5da9be9"
      },
      "source": [
        "n_epochs = 25\n",
        "history = model.fit(X_train_scaled, y_train, epochs=n_epochs,\n",
        "                    validation_data=(X_valid_scaled, y_valid))"
      ],
      "execution_count": 76,
      "outputs": [
        {
          "output_type": "stream",
          "text": [
            "Train on 55000 samples, validate on 5000 samples\n",
            "Epoch 1/25\n",
            "55000/55000 [==============================] - 5s 83us/sample - loss: 0.4842 - accuracy: 0.8320 - val_loss: 0.4166 - val_accuracy: 0.8566\n",
            "Epoch 2/25\n",
            "55000/55000 [==============================] - 4s 76us/sample - loss: 0.3788 - accuracy: 0.8644 - val_loss: 0.3779 - val_accuracy: 0.8680\n",
            "Epoch 3/25\n",
            "55000/55000 [==============================] - 4s 77us/sample - loss: 0.3460 - accuracy: 0.8769 - val_loss: 0.3691 - val_accuracy: 0.8714\n",
            "Epoch 4/25\n",
            "55000/55000 [==============================] - 4s 81us/sample - loss: 0.3251 - accuracy: 0.8839 - val_loss: 0.3534 - val_accuracy: 0.8766\n",
            "Epoch 5/25\n",
            "55000/55000 [==============================] - 4s 77us/sample - loss: 0.3091 - accuracy: 0.8898 - val_loss: 0.3456 - val_accuracy: 0.8804\n",
            "Epoch 6/25\n",
            "55000/55000 [==============================] - 4s 80us/sample - loss: 0.2969 - accuracy: 0.8936 - val_loss: 0.3435 - val_accuracy: 0.8796\n",
            "Epoch 7/25\n",
            "55000/55000 [==============================] - 4s 77us/sample - loss: 0.2863 - accuracy: 0.8980 - val_loss: 0.3379 - val_accuracy: 0.8848\n",
            "Epoch 8/25\n",
            "55000/55000 [==============================] - 4s 78us/sample - loss: 0.2774 - accuracy: 0.9009 - val_loss: 0.3327 - val_accuracy: 0.8848\n",
            "Epoch 9/25\n",
            "55000/55000 [==============================] - 4s 82us/sample - loss: 0.2696 - accuracy: 0.9040 - val_loss: 0.3295 - val_accuracy: 0.8878\n",
            "Epoch 10/25\n",
            "55000/55000 [==============================] - 4s 81us/sample - loss: 0.2625 - accuracy: 0.9057 - val_loss: 0.3307 - val_accuracy: 0.8848\n",
            "Epoch 11/25\n",
            "55000/55000 [==============================] - 5s 83us/sample - loss: 0.2564 - accuracy: 0.9085 - val_loss: 0.3253 - val_accuracy: 0.8892\n",
            "Epoch 12/25\n",
            "55000/55000 [==============================] - 4s 81us/sample - loss: 0.2509 - accuracy: 0.9099 - val_loss: 0.3243 - val_accuracy: 0.8904\n",
            "Epoch 13/25\n",
            "55000/55000 [==============================] - 4s 77us/sample - loss: 0.2458 - accuracy: 0.9118 - val_loss: 0.3239 - val_accuracy: 0.8906\n",
            "Epoch 14/25\n",
            "55000/55000 [==============================] - 4s 78us/sample - loss: 0.2413 - accuracy: 0.9145 - val_loss: 0.3249 - val_accuracy: 0.8898\n",
            "Epoch 15/25\n",
            "55000/55000 [==============================] - 4s 78us/sample - loss: 0.2371 - accuracy: 0.9160 - val_loss: 0.3202 - val_accuracy: 0.8894\n",
            "Epoch 16/25\n",
            "55000/55000 [==============================] - 4s 78us/sample - loss: 0.2329 - accuracy: 0.9168 - val_loss: 0.3223 - val_accuracy: 0.8892\n",
            "Epoch 17/25\n",
            "55000/55000 [==============================] - 4s 80us/sample - loss: 0.2295 - accuracy: 0.9186 - val_loss: 0.3183 - val_accuracy: 0.8916\n",
            "Epoch 18/25\n",
            "55000/55000 [==============================] - 4s 81us/sample - loss: 0.2255 - accuracy: 0.9189 - val_loss: 0.3222 - val_accuracy: 0.8892\n",
            "Epoch 19/25\n",
            "55000/55000 [==============================] - 4s 77us/sample - loss: 0.2225 - accuracy: 0.9216 - val_loss: 0.3208 - val_accuracy: 0.8884\n",
            "Epoch 20/25\n",
            "55000/55000 [==============================] - 4s 77us/sample - loss: 0.2195 - accuracy: 0.9234 - val_loss: 0.3183 - val_accuracy: 0.8914\n",
            "Epoch 21/25\n",
            "55000/55000 [==============================] - 4s 77us/sample - loss: 0.2167 - accuracy: 0.9237 - val_loss: 0.3178 - val_accuracy: 0.8908\n",
            "Epoch 22/25\n",
            "55000/55000 [==============================] - 4s 79us/sample - loss: 0.2136 - accuracy: 0.9253 - val_loss: 0.3189 - val_accuracy: 0.8896\n",
            "Epoch 23/25\n",
            "55000/55000 [==============================] - 4s 76us/sample - loss: 0.2111 - accuracy: 0.9252 - val_loss: 0.3177 - val_accuracy: 0.8932\n",
            "Epoch 24/25\n",
            "55000/55000 [==============================] - 4s 76us/sample - loss: 0.2085 - accuracy: 0.9268 - val_loss: 0.3197 - val_accuracy: 0.8898\n",
            "Epoch 25/25\n",
            "55000/55000 [==============================] - 4s 80us/sample - loss: 0.2064 - accuracy: 0.9274 - val_loss: 0.3182 - val_accuracy: 0.8916\n"
          ],
          "name": "stdout"
        }
      ]
    },
    {
      "cell_type": "code",
      "metadata": {
        "id": "ryFFM85HZb38",
        "colab_type": "code",
        "colab": {
          "base_uri": "https://localhost:8080/",
          "height": 303
        },
        "outputId": "dc5f56fc-396a-452f-9fd2-2e48bf8ba403"
      },
      "source": [
        "learning_rate = 0.01\n",
        "decay = 1e-4\n",
        "batch_size = 32\n",
        "n_steps_per_epoch = len(X_train) // batch_size\n",
        "epochs = np.arange(n_epochs)\n",
        "lrs = learning_rate / (1 + decay * epochs * n_steps_per_epoch)\n",
        "\n",
        "plt.plot(epochs, lrs,  \"o-\")\n",
        "plt.axis([0, n_epochs - 1, 0, 0.01])\n",
        "plt.xlabel(\"Epoka\")\n",
        "plt.ylabel(\"Współczynnik uczenia\")\n",
        "plt.title(\"Harmonogramowanie potęgowe\", fontsize=14)\n",
        "plt.grid(True)\n",
        "plt.show()"
      ],
      "execution_count": 77,
      "outputs": [
        {
          "output_type": "display_data",
          "data": {
            "image/png": "[encoded data removed]",
            "text/plain": [
              "<Figure size 432x288 with 1 Axes>"
            ]
          },
          "metadata": {
            "tags": []
          }
        }
      ]
    },
    {
      "cell_type": "markdown",
      "metadata": {
        "id": "VYB5ui-iZb39",
        "colab_type": "text"
      },
      "source": [
        "### Harmonogramowanie wykładnicze"
      ]
    },
    {
      "cell_type": "markdown",
      "metadata": {
        "id": "BpntTRnhZb3-",
        "colab_type": "text"
      },
      "source": [
        "```lr = lr0 * 0.1**(epoka / s)```"
      ]
    },
    {
      "cell_type": "code",
      "metadata": {
        "id": "Ay0w9jKpZb3-",
        "colab_type": "code",
        "colab": {}
      },
      "source": [
        "def exponential_decay_fn(epoch):\n",
        "    return 0.01 * 0.1**(epoch / 20)"
      ],
      "execution_count": 0,
      "outputs": []
    },
    {
      "cell_type": "code",
      "metadata": {
        "id": "hEGCDJseZb4A",
        "colab_type": "code",
        "colab": {}
      },
      "source": [
        "def exponential_decay(lr0, s):\n",
        "    def exponential_decay_fn(epoch):\n",
        "        return lr0 * 0.1**(epoch / s)\n",
        "    return exponential_decay_fn\n",
        "\n",
        "exponential_decay_fn = exponential_decay(lr0=0.01, s=20)"
      ],
      "execution_count": 0,
      "outputs": []
    },
    {
      "cell_type": "code",
      "metadata": {
        "id": "DGZgOPQJZb4C",
        "colab_type": "code",
        "colab": {}
      },
      "source": [
        "model = keras.models.Sequential([\n",
        "    keras.layers.Flatten(input_shape=[28, 28]),\n",
        "    keras.layers.Dense(300, activation=\"selu\", kernel_initializer=\"lecun_normal\"),\n",
        "    keras.layers.Dense(100, activation=\"selu\", kernel_initializer=\"lecun_normal\"),\n",
        "    keras.layers.Dense(10, activation=\"softmax\")\n",
        "])\n",
        "model.compile(loss=\"sparse_categorical_crossentropy\", optimizer=\"nadam\", metrics=[\"accuracy\"])\n",
        "n_epochs = 25"
      ],
      "execution_count": 0,
      "outputs": []
    },
    {
      "cell_type": "code",
      "metadata": {
        "id": "qf9NSIk-Zb4E",
        "colab_type": "code",
        "colab": {
          "base_uri": "https://localhost:8080/",
          "height": 884
        },
        "outputId": "a5a5f4ff-07c1-4e58-b965-f38956fd1e72"
      },
      "source": [
        "lr_scheduler = keras.callbacks.LearningRateScheduler(exponential_decay_fn)\n",
        "history = model.fit(X_train_scaled, y_train, epochs=n_epochs,\n",
        "                    validation_data=(X_valid_scaled, y_valid),\n",
        "                    callbacks=[lr_scheduler])"
      ],
      "execution_count": 81,
      "outputs": [
        {
          "output_type": "stream",
          "text": [
            "Train on 55000 samples, validate on 5000 samples\n",
            "Epoch 1/25\n",
            "55000/55000 [==============================] - 6s 115us/sample - loss: 0.8422 - accuracy: 0.7567 - val_loss: 0.8395 - val_accuracy: 0.6842\n",
            "Epoch 2/25\n",
            "55000/55000 [==============================] - 6s 104us/sample - loss: 0.7013 - accuracy: 0.7907 - val_loss: 0.7395 - val_accuracy: 0.8174\n",
            "Epoch 3/25\n",
            "55000/55000 [==============================] - 6s 104us/sample - loss: 0.6379 - accuracy: 0.8095 - val_loss: 0.9067 - val_accuracy: 0.6936\n",
            "Epoch 4/25\n",
            "55000/55000 [==============================] - 6s 103us/sample - loss: 0.5595 - accuracy: 0.8283 - val_loss: 0.6171 - val_accuracy: 0.8290\n",
            "Epoch 5/25\n",
            "55000/55000 [==============================] - 6s 104us/sample - loss: 0.4892 - accuracy: 0.8473 - val_loss: 0.5682 - val_accuracy: 0.8452\n",
            "Epoch 6/25\n",
            "55000/55000 [==============================] - 6s 104us/sample - loss: 0.4572 - accuracy: 0.8564 - val_loss: 0.5754 - val_accuracy: 0.8554\n",
            "Epoch 7/25\n",
            "55000/55000 [==============================] - 6s 108us/sample - loss: 0.4155 - accuracy: 0.8659 - val_loss: 0.5154 - val_accuracy: 0.8394\n",
            "Epoch 8/25\n",
            "55000/55000 [==============================] - 6s 107us/sample - loss: 0.3839 - accuracy: 0.8755 - val_loss: 0.5126 - val_accuracy: 0.8610\n",
            "Epoch 9/25\n",
            "55000/55000 [==============================] - 6s 105us/sample - loss: 0.3491 - accuracy: 0.8831 - val_loss: 0.4574 - val_accuracy: 0.8652\n",
            "Epoch 10/25\n",
            "55000/55000 [==============================] - 6s 105us/sample - loss: 0.3296 - accuracy: 0.8897 - val_loss: 0.4636 - val_accuracy: 0.8696\n",
            "Epoch 11/25\n",
            "55000/55000 [==============================] - 6s 103us/sample - loss: 0.3020 - accuracy: 0.8975 - val_loss: 0.4503 - val_accuracy: 0.8784\n",
            "Epoch 12/25\n",
            "55000/55000 [==============================] - 6s 106us/sample - loss: 0.2857 - accuracy: 0.9032 - val_loss: 0.4334 - val_accuracy: 0.8752\n",
            "Epoch 13/25\n",
            "55000/55000 [==============================] - 6s 104us/sample - loss: 0.2651 - accuracy: 0.9083 - val_loss: 0.4673 - val_accuracy: 0.8740\n",
            "Epoch 14/25\n",
            "55000/55000 [==============================] - 6s 103us/sample - loss: 0.2423 - accuracy: 0.9156 - val_loss: 0.4560 - val_accuracy: 0.8896\n",
            "Epoch 15/25\n",
            "55000/55000 [==============================] - 6s 104us/sample - loss: 0.2274 - accuracy: 0.9229 - val_loss: 0.4889 - val_accuracy: 0.8752\n",
            "Epoch 16/25\n",
            "55000/55000 [==============================] - 6s 103us/sample - loss: 0.2078 - accuracy: 0.9279 - val_loss: 0.4860 - val_accuracy: 0.8792\n",
            "Epoch 17/25\n",
            "55000/55000 [==============================] - 6s 107us/sample - loss: 0.1947 - accuracy: 0.9337 - val_loss: 0.4976 - val_accuracy: 0.8814\n",
            "Epoch 18/25\n",
            "55000/55000 [==============================] - 6s 107us/sample - loss: 0.1780 - accuracy: 0.9391 - val_loss: 0.5150 - val_accuracy: 0.8850\n",
            "Epoch 19/25\n",
            "55000/55000 [==============================] - 6s 103us/sample - loss: 0.1692 - accuracy: 0.9433 - val_loss: 0.5352 - val_accuracy: 0.8814\n",
            "Epoch 20/25\n",
            "55000/55000 [==============================] - 6s 104us/sample - loss: 0.1537 - accuracy: 0.9484 - val_loss: 0.5210 - val_accuracy: 0.8896\n",
            "Epoch 21/25\n",
            "55000/55000 [==============================] - 6s 104us/sample - loss: 0.1437 - accuracy: 0.9524 - val_loss: 0.5716 - val_accuracy: 0.8856\n",
            "Epoch 22/25\n",
            "55000/55000 [==============================] - 6s 107us/sample - loss: 0.1345 - accuracy: 0.9555 - val_loss: 0.5679 - val_accuracy: 0.8874\n",
            "Epoch 23/25\n",
            "55000/55000 [==============================] - 6s 105us/sample - loss: 0.1244 - accuracy: 0.9590 - val_loss: 0.5744 - val_accuracy: 0.8862\n",
            "Epoch 24/25\n",
            "55000/55000 [==============================] - 6s 105us/sample - loss: 0.1173 - accuracy: 0.9619 - val_loss: 0.6243 - val_accuracy: 0.8904\n",
            "Epoch 25/25\n",
            "55000/55000 [==============================] - 6s 104us/sample - loss: 0.1105 - accuracy: 0.9650 - val_loss: 0.6134 - val_accuracy: 0.8918\n"
          ],
          "name": "stdout"
        }
      ]
    },
    {
      "cell_type": "code",
      "metadata": {
        "id": "pLffMhxlZb4F",
        "colab_type": "code",
        "colab": {
          "base_uri": "https://localhost:8080/",
          "height": 303
        },
        "outputId": "e79648ec-98ce-45e5-f586-e1c9e17bce9f"
      },
      "source": [
        "plt.plot(history.epoch, history.history[\"lr\"], \"o-\")\n",
        "plt.axis([0, n_epochs - 1, 0, 0.011])\n",
        "plt.xlabel(\"Epoka\")\n",
        "plt.ylabel(\"Współczynnik uczenia\")\n",
        "plt.title(\"Harmonogramowanie wykładnicze\", fontsize=14)\n",
        "plt.grid(True)\n",
        "plt.show()"
      ],
      "execution_count": 82,
      "outputs": [
        {
          "output_type": "display_data",
          "data": {
            "image/png": "[encoded data removed]",
            "text/plain": [
              "<Figure size 432x288 with 1 Axes>"
            ]
          },
          "metadata": {
            "tags": []
          }
        }
      ]
    },
    {
      "cell_type": "markdown",
      "metadata": {
        "id": "0wolXESeZb4G",
        "colab_type": "text"
      },
      "source": [
        "Funkcja harmonogramowania może przyjmować bieżący współczynnik uczenia jako drugi argument:"
      ]
    },
    {
      "cell_type": "code",
      "metadata": {
        "id": "42_JeOr5Zb4G",
        "colab_type": "code",
        "colab": {}
      },
      "source": [
        "def exponential_decay_fn(epoch, lr):\n",
        "    return lr * 0.1**(1 / 20)"
      ],
      "execution_count": 0,
      "outputs": []
    },
    {
      "cell_type": "markdown",
      "metadata": {
        "id": "1N-OLS9cZb4I",
        "colab_type": "text"
      },
      "source": [
        "Jeżeli chcesz aktualizować współczynnik uczenia w każdej iteracji, a nie epoce, musisz napisać własną klasę wywołania zwrotnego:"
      ]
    },
    {
      "cell_type": "code",
      "metadata": {
        "id": "8T2FNFeKZb4I",
        "colab_type": "code",
        "colab": {
          "base_uri": "https://localhost:8080/",
          "height": 884
        },
        "outputId": "f5f1783e-e721-4e5d-d2fd-a9ada409ec40"
      },
      "source": [
        "K = keras.backend\n",
        "\n",
        "class ExponentialDecay(keras.callbacks.Callback):\n",
        "    def __init__(self, s=40000):\n",
        "        super().__init__()\n",
        "        self.s = s\n",
        "\n",
        "    def on_batch_begin(self, batch, logs=None):\n",
        "        # Uwaga: argument `batch` jest zerowany w każdej epoce\n",
        "        lr = K.get_value(self.model.optimizer.lr)\n",
        "        K.set_value(self.model.optimizer.lr, lr * 0.1**(1 / s))\n",
        "\n",
        "    def on_epoch_end(self, epoch, logs=None):\n",
        "        logs = logs or {}\n",
        "        logs['lr'] = K.get_value(self.model.optimizer.lr)\n",
        "\n",
        "model = keras.models.Sequential([\n",
        "    keras.layers.Flatten(input_shape=[28, 28]),\n",
        "    keras.layers.Dense(300, activation=\"selu\", kernel_initializer=\"lecun_normal\"),\n",
        "    keras.layers.Dense(100, activation=\"selu\", kernel_initializer=\"lecun_normal\"),\n",
        "    keras.layers.Dense(10, activation=\"softmax\")\n",
        "])\n",
        "lr0 = 0.01\n",
        "optimizer = keras.optimizers.Nadam(lr=lr0)\n",
        "model.compile(loss=\"sparse_categorical_crossentropy\", optimizer=optimizer, metrics=[\"accuracy\"])\n",
        "n_epochs = 25\n",
        "\n",
        "s = 20 * len(X_train) // 32 # liczba kroków w 20 epokach (rozmiar grupy = 32)\n",
        "exp_decay = ExponentialDecay(s)\n",
        "history = model.fit(X_train_scaled, y_train, epochs=n_epochs,\n",
        "                    validation_data=(X_valid_scaled, y_valid),\n",
        "                    callbacks=[exp_decay])"
      ],
      "execution_count": 84,
      "outputs": [
        {
          "output_type": "stream",
          "text": [
            "Train on 55000 samples, validate on 5000 samples\n",
            "Epoch 1/25\n",
            "55000/55000 [==============================] - 8s 138us/sample - loss: 0.8038 - accuracy: 0.7674 - val_loss: 0.9529 - val_accuracy: 0.7184\n",
            "Epoch 2/25\n",
            "55000/55000 [==============================] - 7s 127us/sample - loss: 0.5981 - accuracy: 0.8141 - val_loss: 0.9602 - val_accuracy: 0.7868\n",
            "Epoch 3/25\n",
            "55000/55000 [==============================] - 7s 128us/sample - loss: 0.5674 - accuracy: 0.8259 - val_loss: 0.6480 - val_accuracy: 0.8218\n",
            "Epoch 4/25\n",
            "55000/55000 [==============================] - 7s 131us/sample - loss: 0.5171 - accuracy: 0.8398 - val_loss: 0.5477 - val_accuracy: 0.8590\n",
            "Epoch 5/25\n",
            "55000/55000 [==============================] - 7s 130us/sample - loss: 0.4594 - accuracy: 0.8557 - val_loss: 0.5134 - val_accuracy: 0.8552\n",
            "Epoch 6/25\n",
            "55000/55000 [==============================] - 7s 128us/sample - loss: 0.4317 - accuracy: 0.8627 - val_loss: 0.5684 - val_accuracy: 0.8558\n",
            "Epoch 7/25\n",
            "55000/55000 [==============================] - 7s 125us/sample - loss: 0.3847 - accuracy: 0.8751 - val_loss: 0.5027 - val_accuracy: 0.8570\n",
            "Epoch 8/25\n",
            "55000/55000 [==============================] - 7s 124us/sample - loss: 0.3609 - accuracy: 0.8818 - val_loss: 0.5026 - val_accuracy: 0.8594\n",
            "Epoch 9/25\n",
            "55000/55000 [==============================] - 7s 125us/sample - loss: 0.3277 - accuracy: 0.8901 - val_loss: 0.4885 - val_accuracy: 0.8646\n",
            "Epoch 10/25\n",
            "55000/55000 [==============================] - 7s 124us/sample - loss: 0.3050 - accuracy: 0.8967 - val_loss: 0.4394 - val_accuracy: 0.8740\n",
            "Epoch 11/25\n",
            "55000/55000 [==============================] - 7s 132us/sample - loss: 0.2900 - accuracy: 0.9012 - val_loss: 0.4395 - val_accuracy: 0.8808\n",
            "Epoch 12/25\n",
            "55000/55000 [==============================] - 7s 126us/sample - loss: 0.2658 - accuracy: 0.9104 - val_loss: 0.4209 - val_accuracy: 0.8802\n",
            "Epoch 13/25\n",
            "55000/55000 [==============================] - 7s 127us/sample - loss: 0.2397 - accuracy: 0.9173 - val_loss: 0.4408 - val_accuracy: 0.8832\n",
            "Epoch 14/25\n",
            "55000/55000 [==============================] - 7s 125us/sample - loss: 0.2294 - accuracy: 0.9214 - val_loss: 0.4329 - val_accuracy: 0.8860\n",
            "Epoch 15/25\n",
            "55000/55000 [==============================] - 7s 127us/sample - loss: 0.2123 - accuracy: 0.9288 - val_loss: 0.4907 - val_accuracy: 0.8794\n",
            "Epoch 16/25\n",
            "55000/55000 [==============================] - 7s 125us/sample - loss: 0.1980 - accuracy: 0.9328 - val_loss: 0.4471 - val_accuracy: 0.8816\n",
            "Epoch 17/25\n",
            "55000/55000 [==============================] - 7s 124us/sample - loss: 0.1820 - accuracy: 0.9379 - val_loss: 0.4569 - val_accuracy: 0.8826\n",
            "Epoch 18/25\n",
            "55000/55000 [==============================] - 7s 127us/sample - loss: 0.1664 - accuracy: 0.9435 - val_loss: 0.4539 - val_accuracy: 0.8820\n",
            "Epoch 19/25\n",
            "55000/55000 [==============================] - 7s 128us/sample - loss: 0.1585 - accuracy: 0.9471 - val_loss: 0.5117 - val_accuracy: 0.8788\n",
            "Epoch 20/25\n",
            "55000/55000 [==============================] - 7s 127us/sample - loss: 0.1450 - accuracy: 0.9519 - val_loss: 0.4937 - val_accuracy: 0.8880\n",
            "Epoch 21/25\n",
            "55000/55000 [==============================] - 7s 125us/sample - loss: 0.1354 - accuracy: 0.9553 - val_loss: 0.5115 - val_accuracy: 0.8808\n",
            "Epoch 22/25\n",
            "55000/55000 [==============================] - 7s 125us/sample - loss: 0.1279 - accuracy: 0.9571 - val_loss: 0.5494 - val_accuracy: 0.8884\n",
            "Epoch 23/25\n",
            "55000/55000 [==============================] - 7s 125us/sample - loss: 0.1190 - accuracy: 0.9612 - val_loss: 0.5333 - val_accuracy: 0.8832\n",
            "Epoch 24/25\n",
            "55000/55000 [==============================] - 7s 129us/sample - loss: 0.1115 - accuracy: 0.9643 - val_loss: 0.5988 - val_accuracy: 0.8826\n",
            "Epoch 25/25\n",
            "55000/55000 [==============================] - 7s 125us/sample - loss: 0.1049 - accuracy: 0.9662 - val_loss: 0.5875 - val_accuracy: 0.8836\n"
          ],
          "name": "stdout"
        }
      ]
    },
    {
      "cell_type": "code",
      "metadata": {
        "id": "Qox3_yikZb4K",
        "colab_type": "code",
        "colab": {}
      },
      "source": [
        "n_steps = n_epochs * len(X_train) // 32\n",
        "steps = np.arange(n_steps)\n",
        "lrs = lr0 * 0.1**(steps / s)"
      ],
      "execution_count": 0,
      "outputs": []
    },
    {
      "cell_type": "code",
      "metadata": {
        "scrolled": true,
        "id": "1hHv3PCkZb4L",
        "colab_type": "code",
        "colab": {
          "base_uri": "https://localhost:8080/",
          "height": 303
        },
        "outputId": "b1a63374-fa58-4e15-91c2-190966aff976"
      },
      "source": [
        "plt.plot(steps, lrs, \"-\", linewidth=2)\n",
        "plt.axis([0, n_steps - 1, 0, lr0 * 1.1])\n",
        "plt.xlabel(\"Grupa\")\n",
        "plt.ylabel(\"Współczynnik uczenia\")\n",
        "plt.title(\"Harmonogramowanie wykładnicze (na grupę)\", fontsize=14)\n",
        "plt.grid(True)\n",
        "plt.show()"
      ],
      "execution_count": 86,
      "outputs": [
        {
          "output_type": "display_data",
          "data": {
            "image/png": "[encoded data removed]",
            "text/plain": [
              "<Figure size 432x288 with 1 Axes>"
            ]
          },
          "metadata": {
            "tags": []
          }
        }
      ]
    },
    {
      "cell_type": "markdown",
      "metadata": {
        "id": "GmR2bNo1Zb4M",
        "colab_type": "text"
      },
      "source": [
        "### Harmonogramowanie stałoprzedziałowe"
      ]
    },
    {
      "cell_type": "code",
      "metadata": {
        "id": "3ZCuur4QZb4M",
        "colab_type": "code",
        "colab": {}
      },
      "source": [
        "def piecewise_constant_fn(epoch):\n",
        "    if epoch < 5:\n",
        "        return 0.01\n",
        "    elif epoch < 15:\n",
        "        return 0.005\n",
        "    else:\n",
        "        return 0.001"
      ],
      "execution_count": 0,
      "outputs": []
    },
    {
      "cell_type": "code",
      "metadata": {
        "id": "tX4NXUJkZb4N",
        "colab_type": "code",
        "colab": {}
      },
      "source": [
        "def piecewise_constant(boundaries, values):\n",
        "    boundaries = np.array([0] + boundaries)\n",
        "    values = np.array(values)\n",
        "    def piecewise_constant_fn(epoch):\n",
        "        return values[np.argmax(boundaries > epoch) - 1]\n",
        "    return piecewise_constant_fn\n",
        "\n",
        "piecewise_constant_fn = piecewise_constant([5, 15], [0.01, 0.005, 0.001])"
      ],
      "execution_count": 0,
      "outputs": []
    },
    {
      "cell_type": "code",
      "metadata": {
        "id": "uP_ENehbZb4O",
        "colab_type": "code",
        "colab": {
          "base_uri": "https://localhost:8080/",
          "height": 884
        },
        "outputId": "027f7082-9d14-4eb1-f4b6-4b5969fa73af"
      },
      "source": [
        "lr_scheduler = keras.callbacks.LearningRateScheduler(piecewise_constant_fn)\n",
        "\n",
        "model = keras.models.Sequential([\n",
        "    keras.layers.Flatten(input_shape=[28, 28]),\n",
        "    keras.layers.Dense(300, activation=\"selu\", kernel_initializer=\"lecun_normal\"),\n",
        "    keras.layers.Dense(100, activation=\"selu\", kernel_initializer=\"lecun_normal\"),\n",
        "    keras.layers.Dense(10, activation=\"softmax\")\n",
        "])\n",
        "model.compile(loss=\"sparse_categorical_crossentropy\", optimizer=\"nadam\", metrics=[\"accuracy\"])\n",
        "n_epochs = 25\n",
        "history = model.fit(X_train_scaled, y_train, epochs=n_epochs,\n",
        "                    validation_data=(X_valid_scaled, y_valid),\n",
        "                    callbacks=[lr_scheduler])"
      ],
      "execution_count": 89,
      "outputs": [
        {
          "output_type": "stream",
          "text": [
            "Train on 55000 samples, validate on 5000 samples\n",
            "Epoch 1/25\n",
            "55000/55000 [==============================] - 6s 113us/sample - loss: 0.8905 - accuracy: 0.7490 - val_loss: 0.8929 - val_accuracy: 0.6694\n",
            "Epoch 2/25\n",
            "55000/55000 [==============================] - 6s 103us/sample - loss: 0.9632 - accuracy: 0.7156 - val_loss: 1.0086 - val_accuracy: 0.7116\n",
            "Epoch 3/25\n",
            "55000/55000 [==============================] - 6s 103us/sample - loss: 0.9431 - accuracy: 0.6988 - val_loss: 1.2235 - val_accuracy: 0.5034\n",
            "Epoch 4/25\n",
            "55000/55000 [==============================] - 6s 104us/sample - loss: 1.0136 - accuracy: 0.6474 - val_loss: 1.0782 - val_accuracy: 0.7018\n",
            "Epoch 5/25\n",
            "55000/55000 [==============================] - 6s 110us/sample - loss: 1.0665 - accuracy: 0.6616 - val_loss: 0.9436 - val_accuracy: 0.6874\n",
            "Epoch 6/25\n",
            "55000/55000 [==============================] - 6s 104us/sample - loss: 0.7036 - accuracy: 0.7291 - val_loss: 0.8770 - val_accuracy: 0.7408\n",
            "Epoch 7/25\n",
            "55000/55000 [==============================] - 6s 103us/sample - loss: 0.6616 - accuracy: 0.7394 - val_loss: 0.7969 - val_accuracy: 0.7518\n",
            "Epoch 8/25\n",
            "55000/55000 [==============================] - 6s 104us/sample - loss: 0.6416 - accuracy: 0.7466 - val_loss: 0.8028 - val_accuracy: 0.7448\n",
            "Epoch 9/25\n",
            "55000/55000 [==============================] - 6s 104us/sample - loss: 0.6265 - accuracy: 0.7505 - val_loss: 0.6684 - val_accuracy: 0.7646\n",
            "Epoch 10/25\n",
            "55000/55000 [==============================] - 6s 108us/sample - loss: 0.6208 - accuracy: 0.7526 - val_loss: 0.7700 - val_accuracy: 0.7232\n",
            "Epoch 11/25\n",
            "55000/55000 [==============================] - 6s 107us/sample - loss: 0.6145 - accuracy: 0.7589 - val_loss: 0.6708 - val_accuracy: 0.7574\n",
            "Epoch 12/25\n",
            "55000/55000 [==============================] - 6s 102us/sample - loss: 0.6004 - accuracy: 0.7625 - val_loss: 0.7448 - val_accuracy: 0.7690\n",
            "Epoch 13/25\n",
            "55000/55000 [==============================] - 6s 104us/sample - loss: 0.5992 - accuracy: 0.7679 - val_loss: 0.9454 - val_accuracy: 0.7716\n",
            "Epoch 14/25\n",
            "55000/55000 [==============================] - 6s 103us/sample - loss: 0.5999 - accuracy: 0.7713 - val_loss: 0.6488 - val_accuracy: 0.7742\n",
            "Epoch 15/25\n",
            "55000/55000 [==============================] - 6s 106us/sample - loss: 0.5780 - accuracy: 0.7766 - val_loss: 0.7135 - val_accuracy: 0.7868\n",
            "Epoch 16/25\n",
            "55000/55000 [==============================] - 6s 107us/sample - loss: 0.4567 - accuracy: 0.8075 - val_loss: 0.6250 - val_accuracy: 0.8028\n",
            "Epoch 17/25\n",
            "55000/55000 [==============================] - 6s 104us/sample - loss: 0.4295 - accuracy: 0.8198 - val_loss: 0.5943 - val_accuracy: 0.7978\n",
            "Epoch 18/25\n",
            "55000/55000 [==============================] - 6s 105us/sample - loss: 0.4203 - accuracy: 0.8238 - val_loss: 0.6147 - val_accuracy: 0.8184\n",
            "Epoch 19/25\n",
            "55000/55000 [==============================] - 6s 103us/sample - loss: 0.4047 - accuracy: 0.8295 - val_loss: 0.6155 - val_accuracy: 0.8176\n",
            "Epoch 20/25\n",
            "55000/55000 [==============================] - 6s 108us/sample - loss: 0.3986 - accuracy: 0.8337 - val_loss: 0.5824 - val_accuracy: 0.8202\n",
            "Epoch 21/25\n",
            "55000/55000 [==============================] - 6s 103us/sample - loss: 0.3892 - accuracy: 0.8379 - val_loss: 0.6483 - val_accuracy: 0.8080\n",
            "Epoch 22/25\n",
            "55000/55000 [==============================] - 6s 105us/sample - loss: 0.3834 - accuracy: 0.8393 - val_loss: 0.6113 - val_accuracy: 0.8026\n",
            "Epoch 23/25\n",
            "55000/55000 [==============================] - 6s 104us/sample - loss: 0.3777 - accuracy: 0.8405 - val_loss: 0.6163 - val_accuracy: 0.8204\n",
            "Epoch 24/25\n",
            "55000/55000 [==============================] - 6s 105us/sample - loss: 0.3727 - accuracy: 0.8443 - val_loss: 0.6285 - val_accuracy: 0.8028\n",
            "Epoch 25/25\n",
            "55000/55000 [==============================] - 6s 108us/sample - loss: 0.3659 - accuracy: 0.8456 - val_loss: 0.6222 - val_accuracy: 0.8220\n"
          ],
          "name": "stdout"
        }
      ]
    },
    {
      "cell_type": "code",
      "metadata": {
        "id": "akWYS74mZb4P",
        "colab_type": "code",
        "colab": {
          "base_uri": "https://localhost:8080/",
          "height": 303
        },
        "outputId": "d135c159-8942-4f65-9a8d-59674f1ed94f"
      },
      "source": [
        "plt.plot(history.epoch, [piecewise_constant_fn(epoch) for epoch in history.epoch], \"o-\")\n",
        "plt.axis([0, n_epochs - 1, 0, 0.011])\n",
        "plt.xlabel(\"Epoka\")\n",
        "plt.ylabel(\"Współczynnik uczenia\")\n",
        "plt.title(\"Harmonogramowanie stałoprzedziałowe\", fontsize=14)\n",
        "plt.grid(True)\n",
        "plt.show()"
      ],
      "execution_count": 90,
      "outputs": [
        {
          "output_type": "display_data",
          "data": {
            "image/png": "[encoded data removed]",
            "text/plain": [
              "<Figure size 432x288 with 1 Axes>"
            ]
          },
          "metadata": {
            "tags": []
          }
        }
      ]
    },
    {
      "cell_type": "markdown",
      "metadata": {
        "id": "1QhDG6xiZb4Q",
        "colab_type": "text"
      },
      "source": [
        "### Harmonogramowanie wydajnościowe"
      ]
    },
    {
      "cell_type": "code",
      "metadata": {
        "id": "fk9HOYD7Zb4R",
        "colab_type": "code",
        "colab": {}
      },
      "source": [
        "tf.random.set_seed(42)\n",
        "np.random.seed(42)"
      ],
      "execution_count": 0,
      "outputs": []
    },
    {
      "cell_type": "code",
      "metadata": {
        "id": "m3SGR1omZb4U",
        "colab_type": "code",
        "colab": {
          "base_uri": "https://localhost:8080/",
          "height": 884
        },
        "outputId": "3c91beea-cc4e-45f5-fd24-a30f64af41d0"
      },
      "source": [
        "lr_scheduler = keras.callbacks.ReduceLROnPlateau(factor=0.5, patience=5)\n",
        "\n",
        "model = keras.models.Sequential([\n",
        "    keras.layers.Flatten(input_shape=[28, 28]),\n",
        "    keras.layers.Dense(300, activation=\"selu\", kernel_initializer=\"lecun_normal\"),\n",
        "    keras.layers.Dense(100, activation=\"selu\", kernel_initializer=\"lecun_normal\"),\n",
        "    keras.layers.Dense(10, activation=\"softmax\")\n",
        "])\n",
        "optimizer = keras.optimizers.SGD(lr=0.02, momentum=0.9)\n",
        "model.compile(loss=\"sparse_categorical_crossentropy\", optimizer=optimizer, metrics=[\"accuracy\"])\n",
        "n_epochs = 25\n",
        "history = model.fit(X_train_scaled, y_train, epochs=n_epochs,\n",
        "                    validation_data=(X_valid_scaled, y_valid),\n",
        "                    callbacks=[lr_scheduler])"
      ],
      "execution_count": 92,
      "outputs": [
        {
          "output_type": "stream",
          "text": [
            "Train on 55000 samples, validate on 5000 samples\n",
            "Epoch 1/25\n",
            "55000/55000 [==============================] - 5s 87us/sample - loss: 0.5931 - accuracy: 0.8070 - val_loss: 0.5156 - val_accuracy: 0.8306\n",
            "Epoch 2/25\n",
            "55000/55000 [==============================] - 4s 76us/sample - loss: 0.5110 - accuracy: 0.8352 - val_loss: 0.4789 - val_accuracy: 0.8530\n",
            "Epoch 3/25\n",
            "55000/55000 [==============================] - 4s 76us/sample - loss: 0.4956 - accuracy: 0.8458 - val_loss: 0.4735 - val_accuracy: 0.8422\n",
            "Epoch 4/25\n",
            "55000/55000 [==============================] - 4s 77us/sample - loss: 0.5197 - accuracy: 0.8463 - val_loss: 0.8011 - val_accuracy: 0.8250\n",
            "Epoch 5/25\n",
            "55000/55000 [==============================] - 4s 76us/sample - loss: 0.5178 - accuracy: 0.8513 - val_loss: 0.6040 - val_accuracy: 0.8492\n",
            "Epoch 6/25\n",
            "55000/55000 [==============================] - 4s 78us/sample - loss: 0.5007 - accuracy: 0.8550 - val_loss: 0.7717 - val_accuracy: 0.8562\n",
            "Epoch 7/25\n",
            "55000/55000 [==============================] - 4s 78us/sample - loss: 0.5268 - accuracy: 0.8532 - val_loss: 0.7087 - val_accuracy: 0.8390\n",
            "Epoch 8/25\n",
            "55000/55000 [==============================] - 4s 78us/sample - loss: 0.5073 - accuracy: 0.8574 - val_loss: 0.6311 - val_accuracy: 0.8452\n",
            "Epoch 9/25\n",
            "55000/55000 [==============================] - 4s 81us/sample - loss: 0.2831 - accuracy: 0.8997 - val_loss: 0.3889 - val_accuracy: 0.8812\n",
            "Epoch 10/25\n",
            "55000/55000 [==============================] - 4s 78us/sample - loss: 0.2382 - accuracy: 0.9125 - val_loss: 0.3805 - val_accuracy: 0.8904\n",
            "Epoch 11/25\n",
            "55000/55000 [==============================] - 4s 76us/sample - loss: 0.2264 - accuracy: 0.9167 - val_loss: 0.4019 - val_accuracy: 0.8878\n",
            "Epoch 12/25\n",
            "55000/55000 [==============================] - 4s 77us/sample - loss: 0.2094 - accuracy: 0.9234 - val_loss: 0.3958 - val_accuracy: 0.8884\n",
            "Epoch 13/25\n",
            "55000/55000 [==============================] - 4s 77us/sample - loss: 0.1986 - accuracy: 0.9270 - val_loss: 0.4673 - val_accuracy: 0.8834\n",
            "Epoch 14/25\n",
            "55000/55000 [==============================] - 4s 76us/sample - loss: 0.1855 - accuracy: 0.9314 - val_loss: 0.4345 - val_accuracy: 0.8904\n",
            "Epoch 15/25\n",
            "55000/55000 [==============================] - 4s 80us/sample - loss: 0.1809 - accuracy: 0.9333 - val_loss: 0.4883 - val_accuracy: 0.8772\n",
            "Epoch 16/25\n",
            "55000/55000 [==============================] - 4s 76us/sample - loss: 0.1248 - accuracy: 0.9520 - val_loss: 0.4587 - val_accuracy: 0.8880\n",
            "Epoch 17/25\n",
            "55000/55000 [==============================] - 4s 77us/sample - loss: 0.1089 - accuracy: 0.9578 - val_loss: 0.4399 - val_accuracy: 0.8954\n",
            "Epoch 18/25\n",
            "55000/55000 [==============================] - 4s 77us/sample - loss: 0.1003 - accuracy: 0.9611 - val_loss: 0.4626 - val_accuracy: 0.8962\n",
            "Epoch 19/25\n",
            "55000/55000 [==============================] - 4s 76us/sample - loss: 0.0966 - accuracy: 0.9626 - val_loss: 0.4714 - val_accuracy: 0.8882\n",
            "Epoch 20/25\n",
            "55000/55000 [==============================] - 4s 77us/sample - loss: 0.0887 - accuracy: 0.9649 - val_loss: 0.4780 - val_accuracy: 0.8928\n",
            "Epoch 21/25\n",
            "55000/55000 [==============================] - 4s 77us/sample - loss: 0.0694 - accuracy: 0.9737 - val_loss: 0.4792 - val_accuracy: 0.8956\n",
            "Epoch 22/25\n",
            "55000/55000 [==============================] - 4s 76us/sample - loss: 0.0639 - accuracy: 0.9764 - val_loss: 0.5003 - val_accuracy: 0.8978\n",
            "Epoch 23/25\n",
            "55000/55000 [==============================] - 4s 81us/sample - loss: 0.0603 - accuracy: 0.9782 - val_loss: 0.5181 - val_accuracy: 0.8948\n",
            "Epoch 24/25\n",
            "55000/55000 [==============================] - 4s 80us/sample - loss: 0.0569 - accuracy: 0.9789 - val_loss: 0.5227 - val_accuracy: 0.8970\n",
            "Epoch 25/25\n",
            "55000/55000 [==============================] - 4s 78us/sample - loss: 0.0543 - accuracy: 0.9802 - val_loss: 0.5308 - val_accuracy: 0.8934\n"
          ],
          "name": "stdout"
        }
      ]
    },
    {
      "cell_type": "code",
      "metadata": {
        "id": "jQ1QSg6vZb4V",
        "colab_type": "code",
        "colab": {
          "base_uri": "https://localhost:8080/",
          "height": 303
        },
        "outputId": "982f0681-8c52-460d-e11d-ba3df8522c63"
      },
      "source": [
        "plt.plot(history.epoch, history.history[\"lr\"], \"bo-\")\n",
        "plt.xlabel(\"Epoka\")\n",
        "plt.ylabel(\"Współczynnik uczenia\", color='b')\n",
        "plt.tick_params('y', colors='b')\n",
        "plt.gca().set_xlim(0, n_epochs - 1)\n",
        "plt.grid(True)\n",
        "\n",
        "ax2 = plt.gca().twinx()\n",
        "ax2.plot(history.epoch, history.history[\"val_loss\"], \"r^-\")\n",
        "ax2.set_ylabel('F. straty walidacji', color='r')\n",
        "ax2.tick_params('y', colors='r')\n",
        "\n",
        "plt.title(\"Zmniejszanie_wsp_ucz_na_wyplaszczeniu\", fontsize=14)\n",
        "plt.show()"
      ],
      "execution_count": 93,
      "outputs": [
        {
          "output_type": "display_data",
          "data": {
            "image/png": "[encoded data removed]",
            "text/plain": [
              "<Figure size 432x288 with 2 Axes>"
            ]
          },
          "metadata": {
            "tags": []
          }
        }
      ]
    },
    {
      "cell_type": "markdown",
      "metadata": {
        "id": "11RsBzNSZb4W",
        "colab_type": "text"
      },
      "source": [
        "### Klasa tf.keras schedulers"
      ]
    },
    {
      "cell_type": "code",
      "metadata": {
        "id": "U1NlP85oZb4X",
        "colab_type": "code",
        "colab": {
          "base_uri": "https://localhost:8080/",
          "height": 884
        },
        "outputId": "7ee59e03-1bf5-4584-9fe9-d06df1f26147"
      },
      "source": [
        "model = keras.models.Sequential([\n",
        "    keras.layers.Flatten(input_shape=[28, 28]),\n",
        "    keras.layers.Dense(300, activation=\"selu\", kernel_initializer=\"lecun_normal\"),\n",
        "    keras.layers.Dense(100, activation=\"selu\", kernel_initializer=\"lecun_normal\"),\n",
        "    keras.layers.Dense(10, activation=\"softmax\")\n",
        "])\n",
        "s = 20 * len(X_train) // 32 # liczba kroków w 20 epokach (rozmiar grupy = 32)\n",
        "learning_rate = keras.optimizers.schedules.ExponentialDecay(0.01, s, 0.1)\n",
        "optimizer = keras.optimizers.SGD(learning_rate)\n",
        "model.compile(loss=\"sparse_categorical_crossentropy\", optimizer=optimizer, metrics=[\"accuracy\"])\n",
        "n_epochs = 25\n",
        "history = model.fit(X_train_scaled, y_train, epochs=n_epochs,\n",
        "                    validation_data=(X_valid_scaled, y_valid))"
      ],
      "execution_count": 94,
      "outputs": [
        {
          "output_type": "stream",
          "text": [
            "Train on 55000 samples, validate on 5000 samples\n",
            "Epoch 1/25\n",
            "55000/55000 [==============================] - 4s 82us/sample - loss: 0.4872 - accuracy: 0.8296 - val_loss: 0.4141 - val_accuracy: 0.8548\n",
            "Epoch 2/25\n",
            "55000/55000 [==============================] - 4s 77us/sample - loss: 0.3829 - accuracy: 0.8643 - val_loss: 0.3773 - val_accuracy: 0.8704\n",
            "Epoch 3/25\n",
            "55000/55000 [==============================] - 4s 78us/sample - loss: 0.3495 - accuracy: 0.8763 - val_loss: 0.3698 - val_accuracy: 0.8730\n",
            "Epoch 4/25\n",
            "55000/55000 [==============================] - 4s 76us/sample - loss: 0.3274 - accuracy: 0.8831 - val_loss: 0.3543 - val_accuracy: 0.8756\n",
            "Epoch 5/25\n",
            "55000/55000 [==============================] - 4s 78us/sample - loss: 0.3101 - accuracy: 0.8900 - val_loss: 0.3459 - val_accuracy: 0.8788\n",
            "Epoch 6/25\n",
            "55000/55000 [==============================] - 4s 79us/sample - loss: 0.2971 - accuracy: 0.8944 - val_loss: 0.3414 - val_accuracy: 0.8798\n",
            "Epoch 7/25\n",
            "55000/55000 [==============================] - 4s 77us/sample - loss: 0.2858 - accuracy: 0.8987 - val_loss: 0.3352 - val_accuracy: 0.8830\n",
            "Epoch 8/25\n",
            "55000/55000 [==============================] - 4s 77us/sample - loss: 0.2767 - accuracy: 0.9021 - val_loss: 0.3321 - val_accuracy: 0.8850\n",
            "Epoch 9/25\n",
            "55000/55000 [==============================] - 4s 82us/sample - loss: 0.2685 - accuracy: 0.9045 - val_loss: 0.3281 - val_accuracy: 0.8858\n",
            "Epoch 10/25\n",
            "55000/55000 [==============================] - 5s 83us/sample - loss: 0.2612 - accuracy: 0.9074 - val_loss: 0.3303 - val_accuracy: 0.8840\n",
            "Epoch 11/25\n",
            "55000/55000 [==============================] - 4s 78us/sample - loss: 0.2555 - accuracy: 0.9097 - val_loss: 0.3260 - val_accuracy: 0.8868\n",
            "Epoch 12/25\n",
            "55000/55000 [==============================] - 4s 79us/sample - loss: 0.2503 - accuracy: 0.9115 - val_loss: 0.3244 - val_accuracy: 0.8876\n",
            "Epoch 13/25\n",
            "55000/55000 [==============================] - 4s 80us/sample - loss: 0.2456 - accuracy: 0.9135 - val_loss: 0.3241 - val_accuracy: 0.8870\n",
            "Epoch 14/25\n",
            "55000/55000 [==============================] - 4s 79us/sample - loss: 0.2416 - accuracy: 0.9145 - val_loss: 0.3236 - val_accuracy: 0.8862\n",
            "Epoch 15/25\n",
            "55000/55000 [==============================] - 4s 76us/sample - loss: 0.2380 - accuracy: 0.9169 - val_loss: 0.3195 - val_accuracy: 0.8878\n",
            "Epoch 16/25\n",
            "55000/55000 [==============================] - 4s 76us/sample - loss: 0.2346 - accuracy: 0.9169 - val_loss: 0.3206 - val_accuracy: 0.8870\n",
            "Epoch 17/25\n",
            "55000/55000 [==============================] - 4s 77us/sample - loss: 0.2321 - accuracy: 0.9188 - val_loss: 0.3181 - val_accuracy: 0.8880\n",
            "Epoch 18/25\n",
            "55000/55000 [==============================] - 4s 77us/sample - loss: 0.2292 - accuracy: 0.9191 - val_loss: 0.3205 - val_accuracy: 0.8892\n",
            "Epoch 19/25\n",
            "55000/55000 [==============================] - 4s 80us/sample - loss: 0.2271 - accuracy: 0.9203 - val_loss: 0.3193 - val_accuracy: 0.8886\n",
            "Epoch 20/25\n",
            "55000/55000 [==============================] - 4s 77us/sample - loss: 0.2252 - accuracy: 0.9215 - val_loss: 0.3177 - val_accuracy: 0.8882\n",
            "Epoch 21/25\n",
            "55000/55000 [==============================] - 4s 77us/sample - loss: 0.2235 - accuracy: 0.9216 - val_loss: 0.3170 - val_accuracy: 0.8906\n",
            "Epoch 22/25\n",
            "55000/55000 [==============================] - 4s 76us/sample - loss: 0.2218 - accuracy: 0.9228 - val_loss: 0.3169 - val_accuracy: 0.8882\n",
            "Epoch 23/25\n",
            "55000/55000 [==============================] - 4s 76us/sample - loss: 0.2204 - accuracy: 0.9226 - val_loss: 0.3166 - val_accuracy: 0.8882\n",
            "Epoch 24/25\n",
            "55000/55000 [==============================] - 4s 78us/sample - loss: 0.2191 - accuracy: 0.9240 - val_loss: 0.3172 - val_accuracy: 0.8890\n",
            "Epoch 25/25\n",
            "55000/55000 [==============================] - 4s 76us/sample - loss: 0.2182 - accuracy: 0.9238 - val_loss: 0.3165 - val_accuracy: 0.8890\n"
          ],
          "name": "stdout"
        }
      ]
    },
    {
      "cell_type": "markdown",
      "metadata": {
        "id": "NbGSCgtZZb4Y",
        "colab_type": "text"
      },
      "source": [
        "Wypróbuj w przypadku harmonogramowania stałoprzedziałowego:"
      ]
    },
    {
      "cell_type": "code",
      "metadata": {
        "id": "hAIPngh1Zb4Z",
        "colab_type": "code",
        "colab": {}
      },
      "source": [
        "learning_rate = keras.optimizers.schedules.PiecewiseConstantDecay(\n",
        "    boundaries=[5. * n_steps_per_epoch, 15. * n_steps_per_epoch],\n",
        "    values=[0.01, 0.005, 0.001])"
      ],
      "execution_count": 0,
      "outputs": []
    },
    {
      "cell_type": "markdown",
      "metadata": {
        "id": "H8bWVhy6Zb4Z",
        "colab_type": "text"
      },
      "source": [
        "### Harmonogramowanie 1Cycle"
      ]
    },
    {
      "cell_type": "code",
      "metadata": {
        "id": "PsK9YM4cZb4a",
        "colab_type": "code",
        "colab": {}
      },
      "source": [
        "K = keras.backend\n",
        "\n",
        "class ExponentialLearningRate(keras.callbacks.Callback):\n",
        "    def __init__(self, factor):\n",
        "        self.factor = factor\n",
        "        self.rates = []\n",
        "        self.losses = []\n",
        "    def on_batch_end(self, batch, logs):\n",
        "        self.rates.append(K.get_value(self.model.optimizer.lr))\n",
        "        self.losses.append(logs[\"loss\"])\n",
        "        K.set_value(self.model.optimizer.lr, self.model.optimizer.lr * self.factor)\n",
        "\n",
        "def find_learning_rate(model, X, y, epochs=1, batch_size=32, min_rate=10**-5, max_rate=10):\n",
        "    init_weights = model.get_weights()\n",
        "    iterations = len(X) // batch_size * epochs\n",
        "    factor = np.exp(np.log(max_rate / min_rate) / iterations)\n",
        "    init_lr = K.get_value(model.optimizer.lr)\n",
        "    K.set_value(model.optimizer.lr, min_rate)\n",
        "    exp_lr = ExponentialLearningRate(factor)\n",
        "    history = model.fit(X, y, epochs=epochs, batch_size=batch_size,\n",
        "                        callbacks=[exp_lr])\n",
        "    K.set_value(model.optimizer.lr, init_lr)\n",
        "    model.set_weights(init_weights)\n",
        "    return exp_lr.rates, exp_lr.losses\n",
        "\n",
        "def plot_lr_vs_loss(rates, losses):\n",
        "    plt.plot(rates, losses)\n",
        "    plt.gca().set_xscale('log')\n",
        "    plt.hlines(min(losses), min(rates), max(rates))\n",
        "    plt.axis([min(rates), max(rates), min(losses), (losses[0] + min(losses)) / 2])\n",
        "    plt.xlabel(\"Współczynnik uczenia\")\n",
        "    plt.ylabel(\"Funkcja straty\")"
      ],
      "execution_count": 0,
      "outputs": []
    },
    {
      "cell_type": "code",
      "metadata": {
        "id": "ZQd9OquSZb4b",
        "colab_type": "code",
        "colab": {}
      },
      "source": [
        "tf.random.set_seed(42)\n",
        "np.random.seed(42)\n",
        "\n",
        "model = keras.models.Sequential([\n",
        "    keras.layers.Flatten(input_shape=[28, 28]),\n",
        "    keras.layers.Dense(300, activation=\"selu\", kernel_initializer=\"lecun_normal\"),\n",
        "    keras.layers.Dense(100, activation=\"selu\", kernel_initializer=\"lecun_normal\"),\n",
        "    keras.layers.Dense(10, activation=\"softmax\")\n",
        "])\n",
        "model.compile(loss=\"sparse_categorical_crossentropy\",\n",
        "              optimizer=keras.optimizers.SGD(lr=1e-3),\n",
        "              metrics=[\"accuracy\"])"
      ],
      "execution_count": 0,
      "outputs": []
    },
    {
      "cell_type": "code",
      "metadata": {
        "id": "aTe9DHubZb4c",
        "colab_type": "code",
        "colab": {
          "base_uri": "https://localhost:8080/",
          "height": 324
        },
        "outputId": "ee227418-b2ba-4494-ec39-fbeda141d65e"
      },
      "source": [
        "batch_size = 128\n",
        "rates, losses = find_learning_rate(model, X_train_scaled, y_train, epochs=1, batch_size=batch_size)\n",
        "plot_lr_vs_loss(rates, losses)"
      ],
      "execution_count": 98,
      "outputs": [
        {
          "output_type": "stream",
          "text": [
            "Train on 55000 samples\n",
            "55000/55000 [==============================] - 2s 34us/sample - loss: nan - accuracy: 0.3936\n"
          ],
          "name": "stdout"
        },
        {
          "output_type": "display_data",
          "data": {
            "image/png": "[encoded data removed]",
            "text/plain": [
              "<Figure size 432x288 with 1 Axes>"
            ]
          },
          "metadata": {
            "tags": []
          }
        }
      ]
    },
    {
      "cell_type": "code",
      "metadata": {
        "id": "RX6sgpONZb4e",
        "colab_type": "code",
        "colab": {}
      },
      "source": [
        "class OneCycleScheduler(keras.callbacks.Callback):\n",
        "    def __init__(self, iterations, max_rate, start_rate=None,\n",
        "                 last_iterations=None, last_rate=None):\n",
        "        self.iterations = iterations\n",
        "        self.max_rate = max_rate\n",
        "        self.start_rate = start_rate or max_rate / 10\n",
        "        self.last_iterations = last_iterations or iterations // 10 + 1\n",
        "        self.half_iteration = (iterations - self.last_iterations) // 2\n",
        "        self.last_rate = last_rate or self.start_rate / 1000\n",
        "        self.iteration = 0\n",
        "    def _interpolate(self, iter1, iter2, rate1, rate2):\n",
        "        return ((rate2 - rate1) * (self.iteration - iter1)\n",
        "                / (iter2 - iter1) + rate1)\n",
        "    def on_batch_begin(self, batch, logs):\n",
        "        if self.iteration < self.half_iteration:\n",
        "            rate = self._interpolate(0, self.half_iteration, self.start_rate, self.max_rate)\n",
        "        elif self.iteration < 2 * self.half_iteration:\n",
        "            rate = self._interpolate(self.half_iteration, 2 * self.half_iteration,\n",
        "                                     self.max_rate, self.start_rate)\n",
        "        else:\n",
        "            rate = self._interpolate(2 * self.half_iteration, self.iterations,\n",
        "                                     self.start_rate, self.last_rate)\n",
        "            rate = max(rate, self.last_rate)\n",
        "        self.iteration += 1\n",
        "        K.set_value(self.model.optimizer.lr, rate)"
      ],
      "execution_count": 0,
      "outputs": []
    },
    {
      "cell_type": "code",
      "metadata": {
        "id": "bIjNgh75Zb4f",
        "colab_type": "code",
        "colab": {
          "base_uri": "https://localhost:8080/",
          "height": 884
        },
        "outputId": "813b87d7-c9a2-4bcf-8f32-14f16d8a2f2e"
      },
      "source": [
        "n_epochs = 25\n",
        "onecycle = OneCycleScheduler(len(X_train) // batch_size * n_epochs, max_rate=0.05)\n",
        "history = model.fit(X_train_scaled, y_train, epochs=n_epochs, batch_size=batch_size,\n",
        "                    validation_data=(X_valid_scaled, y_valid),\n",
        "                    callbacks=[onecycle])"
      ],
      "execution_count": 100,
      "outputs": [
        {
          "output_type": "stream",
          "text": [
            "Train on 55000 samples, validate on 5000 samples\n",
            "Epoch 1/25\n",
            "55000/55000 [==============================] - 1s 27us/sample - loss: 0.6576 - accuracy: 0.7743 - val_loss: 0.4901 - val_accuracy: 0.8300\n",
            "Epoch 2/25\n",
            "55000/55000 [==============================] - 1s 25us/sample - loss: 0.4587 - accuracy: 0.8387 - val_loss: 0.4317 - val_accuracy: 0.8490\n",
            "Epoch 3/25\n",
            "55000/55000 [==============================] - 2s 29us/sample - loss: 0.4119 - accuracy: 0.8561 - val_loss: 0.4118 - val_accuracy: 0.8574\n",
            "Epoch 4/25\n",
            "55000/55000 [==============================] - 1s 27us/sample - loss: 0.3842 - accuracy: 0.8658 - val_loss: 0.3922 - val_accuracy: 0.8634\n",
            "Epoch 5/25\n",
            "55000/55000 [==============================] - 1s 27us/sample - loss: 0.3636 - accuracy: 0.8711 - val_loss: 0.3740 - val_accuracy: 0.8710\n",
            "Epoch 6/25\n",
            "55000/55000 [==============================] - 2s 29us/sample - loss: 0.3460 - accuracy: 0.8768 - val_loss: 0.3740 - val_accuracy: 0.8692\n",
            "Epoch 7/25\n",
            "55000/55000 [==============================] - 1s 27us/sample - loss: 0.3311 - accuracy: 0.8816 - val_loss: 0.3755 - val_accuracy: 0.8652\n",
            "Epoch 8/25\n",
            "55000/55000 [==============================] - 1s 25us/sample - loss: 0.3193 - accuracy: 0.8844 - val_loss: 0.3577 - val_accuracy: 0.8752\n",
            "Epoch 9/25\n",
            "55000/55000 [==============================] - 1s 27us/sample - loss: 0.3055 - accuracy: 0.8902 - val_loss: 0.3474 - val_accuracy: 0.8822\n",
            "Epoch 10/25\n",
            "55000/55000 [==============================] - 1s 26us/sample - loss: 0.2943 - accuracy: 0.8934 - val_loss: 0.4007 - val_accuracy: 0.8548\n",
            "Epoch 11/25\n",
            "55000/55000 [==============================] - 1s 26us/sample - loss: 0.2845 - accuracy: 0.8956 - val_loss: 0.3445 - val_accuracy: 0.8826\n",
            "Epoch 12/25\n",
            "55000/55000 [==============================] - 1s 27us/sample - loss: 0.2720 - accuracy: 0.9021 - val_loss: 0.3353 - val_accuracy: 0.8814\n",
            "Epoch 13/25\n",
            "55000/55000 [==============================] - 1s 26us/sample - loss: 0.2535 - accuracy: 0.9093 - val_loss: 0.3391 - val_accuracy: 0.8826\n",
            "Epoch 14/25\n",
            "55000/55000 [==============================] - 1s 26us/sample - loss: 0.2419 - accuracy: 0.9131 - val_loss: 0.3332 - val_accuracy: 0.8844\n",
            "Epoch 15/25\n",
            "55000/55000 [==============================] - 1s 26us/sample - loss: 0.2289 - accuracy: 0.9173 - val_loss: 0.3238 - val_accuracy: 0.8850\n",
            "Epoch 16/25\n",
            "55000/55000 [==============================] - 1s 27us/sample - loss: 0.2169 - accuracy: 0.9221 - val_loss: 0.3336 - val_accuracy: 0.8850\n",
            "Epoch 17/25\n",
            "55000/55000 [==============================] - 1s 26us/sample - loss: 0.2068 - accuracy: 0.9267 - val_loss: 0.3210 - val_accuracy: 0.8884\n",
            "Epoch 18/25\n",
            "55000/55000 [==============================] - 1s 25us/sample - loss: 0.1977 - accuracy: 0.9301 - val_loss: 0.3190 - val_accuracy: 0.8892\n",
            "Epoch 19/25\n",
            "55000/55000 [==============================] - 1s 25us/sample - loss: 0.1894 - accuracy: 0.9328 - val_loss: 0.3270 - val_accuracy: 0.8856\n",
            "Epoch 20/25\n",
            "55000/55000 [==============================] - 1s 25us/sample - loss: 0.1820 - accuracy: 0.9376 - val_loss: 0.3195 - val_accuracy: 0.8920\n",
            "Epoch 21/25\n",
            "55000/55000 [==============================] - 1s 26us/sample - loss: 0.1757 - accuracy: 0.9394 - val_loss: 0.3164 - val_accuracy: 0.8942\n",
            "Epoch 22/25\n",
            "55000/55000 [==============================] - 1s 26us/sample - loss: 0.1702 - accuracy: 0.9416 - val_loss: 0.3177 - val_accuracy: 0.8928\n",
            "Epoch 23/25\n",
            "55000/55000 [==============================] - 1s 27us/sample - loss: 0.1658 - accuracy: 0.9442 - val_loss: 0.3168 - val_accuracy: 0.8942\n",
            "Epoch 24/25\n",
            "55000/55000 [==============================] - 2s 28us/sample - loss: 0.1630 - accuracy: 0.9454 - val_loss: 0.3166 - val_accuracy: 0.8946\n",
            "Epoch 25/25\n",
            "55000/55000 [==============================] - 1s 25us/sample - loss: 0.1612 - accuracy: 0.9461 - val_loss: 0.3170 - val_accuracy: 0.8946\n"
          ],
          "name": "stdout"
        }
      ]
    },
    {
      "cell_type": "markdown",
      "metadata": {
        "id": "7SVJzpz_Zb4g",
        "colab_type": "text"
      },
      "source": [
        "# Regularyzacja jako sposób na unikanie przetrenowania"
      ]
    },
    {
      "cell_type": "markdown",
      "metadata": {
        "id": "v1Recy6qZb4h",
        "colab_type": "text"
      },
      "source": [
        "## Regularyzacja $\\ell_1$ i $\\ell_2$"
      ]
    },
    {
      "cell_type": "code",
      "metadata": {
        "id": "alzOfWi3Zb4h",
        "colab_type": "code",
        "colab": {}
      },
      "source": [
        "layer = keras.layers.Dense(100, activation=\"elu\",\n",
        "                           kernel_initializer=\"he_normal\",\n",
        "                           kernel_regularizer=keras.regularizers.l2(0.01))\n",
        "# lub l1(0.1) dla regularyzacji ℓ1 o współczynniku 0,1\n",
        "# lub l1_l2(0.1, 0.01) dla regularyzacji ℓ1 i ℓ2 o współczynnikach, odpowiednio 0,1 i 0,01"
      ],
      "execution_count": 0,
      "outputs": []
    },
    {
      "cell_type": "code",
      "metadata": {
        "id": "q22UlHOgZb4i",
        "colab_type": "code",
        "colab": {
          "base_uri": "https://localhost:8080/",
          "height": 102
        },
        "outputId": "a5817de1-5b96-4910-b721-6dbf938d8098"
      },
      "source": [
        "model = keras.models.Sequential([\n",
        "    keras.layers.Flatten(input_shape=[28, 28]),\n",
        "    keras.layers.Dense(300, activation=\"elu\",\n",
        "                       kernel_initializer=\"he_normal\",\n",
        "                       kernel_regularizer=keras.regularizers.l2(0.01)),\n",
        "    keras.layers.Dense(100, activation=\"elu\",\n",
        "                       kernel_initializer=\"he_normal\",\n",
        "                       kernel_regularizer=keras.regularizers.l2(0.01)),\n",
        "    keras.layers.Dense(10, activation=\"softmax\",\n",
        "                       kernel_regularizer=keras.regularizers.l2(0.01))\n",
        "])\n",
        "model.compile(loss=\"sparse_categorical_crossentropy\", optimizer=\"nadam\", metrics=[\"accuracy\"])\n",
        "n_epochs = 2\n",
        "history = model.fit(X_train_scaled, y_train, epochs=n_epochs,\n",
        "                    validation_data=(X_valid_scaled, y_valid))"
      ],
      "execution_count": 102,
      "outputs": [
        {
          "output_type": "stream",
          "text": [
            "Train on 55000 samples, validate on 5000 samples\n",
            "Epoch 1/2\n",
            "55000/55000 [==============================] - 7s 121us/sample - loss: 1.5735 - accuracy: 0.8126 - val_loss: 0.7327 - val_accuracy: 0.8222\n",
            "Epoch 2/2\n",
            "55000/55000 [==============================] - 6s 114us/sample - loss: 0.7186 - accuracy: 0.8260 - val_loss: 0.6929 - val_accuracy: 0.8338\n"
          ],
          "name": "stdout"
        }
      ]
    },
    {
      "cell_type": "code",
      "metadata": {
        "id": "IZYc4lxmZb4j",
        "colab_type": "code",
        "colab": {
          "base_uri": "https://localhost:8080/",
          "height": 102
        },
        "outputId": "f0ec73a7-96ec-4fe7-8a04-4520cc1c7be7"
      },
      "source": [
        "from functools import partial\n",
        "\n",
        "RegularizedDense = partial(keras.layers.Dense,\n",
        "                           activation=\"elu\",\n",
        "                           kernel_initializer=\"he_normal\",\n",
        "                           kernel_regularizer=keras.regularizers.l2(0.01))\n",
        "\n",
        "model = keras.models.Sequential([\n",
        "    keras.layers.Flatten(input_shape=[28, 28]),\n",
        "    RegularizedDense(300),\n",
        "    RegularizedDense(100),\n",
        "    RegularizedDense(10, activation=\"softmax\")\n",
        "])\n",
        "model.compile(loss=\"sparse_categorical_crossentropy\", optimizer=\"nadam\", metrics=[\"accuracy\"])\n",
        "n_epochs = 2\n",
        "history = model.fit(X_train_scaled, y_train, epochs=n_epochs,\n",
        "                    validation_data=(X_valid_scaled, y_valid))"
      ],
      "execution_count": 103,
      "outputs": [
        {
          "output_type": "stream",
          "text": [
            "Train on 55000 samples, validate on 5000 samples\n",
            "Epoch 1/2\n",
            "55000/55000 [==============================] - 7s 131us/sample - loss: 1.6006 - accuracy: 0.8129 - val_loss: 0.7374 - val_accuracy: 0.8236\n",
            "Epoch 2/2\n",
            "55000/55000 [==============================] - 6s 109us/sample - loss: 0.7179 - accuracy: 0.8265 - val_loss: 0.6905 - val_accuracy: 0.8356\n"
          ],
          "name": "stdout"
        }
      ]
    },
    {
      "cell_type": "markdown",
      "metadata": {
        "id": "JrFRiD5wZb4k",
        "colab_type": "text"
      },
      "source": [
        "## Porzucanie"
      ]
    },
    {
      "cell_type": "code",
      "metadata": {
        "id": "fWJQePh3Zb4k",
        "colab_type": "code",
        "colab": {
          "base_uri": "https://localhost:8080/",
          "height": 102
        },
        "outputId": "426f267b-bf45-473e-c2ec-ad3c24eaa072"
      },
      "source": [
        "model = keras.models.Sequential([\n",
        "    keras.layers.Flatten(input_shape=[28, 28]),\n",
        "    keras.layers.Dropout(rate=0.2),\n",
        "    keras.layers.Dense(300, activation=\"elu\", kernel_initializer=\"he_normal\"),\n",
        "    keras.layers.Dropout(rate=0.2),\n",
        "    keras.layers.Dense(100, activation=\"elu\", kernel_initializer=\"he_normal\"),\n",
        "    keras.layers.Dropout(rate=0.2),\n",
        "    keras.layers.Dense(10, activation=\"softmax\")\n",
        "])\n",
        "model.compile(loss=\"sparse_categorical_crossentropy\", optimizer=\"nadam\", metrics=[\"accuracy\"])\n",
        "n_epochs = 2\n",
        "history = model.fit(X_train_scaled, y_train, epochs=n_epochs,\n",
        "                    validation_data=(X_valid_scaled, y_valid))"
      ],
      "execution_count": 104,
      "outputs": [
        {
          "output_type": "stream",
          "text": [
            "Train on 55000 samples, validate on 5000 samples\n",
            "Epoch 1/2\n",
            "55000/55000 [==============================] - 7s 120us/sample - loss: 0.5856 - accuracy: 0.7992 - val_loss: 0.3908 - val_accuracy: 0.8570\n",
            "Epoch 2/2\n",
            "55000/55000 [==============================] - 6s 110us/sample - loss: 0.4259 - accuracy: 0.8442 - val_loss: 0.3390 - val_accuracy: 0.8730\n"
          ],
          "name": "stdout"
        }
      ]
    },
    {
      "cell_type": "markdown",
      "metadata": {
        "id": "JyOqewc9Zb4l",
        "colab_type": "text"
      },
      "source": [
        "## Porzucanie alfa"
      ]
    },
    {
      "cell_type": "code",
      "metadata": {
        "id": "pYOVk3InZb4m",
        "colab_type": "code",
        "colab": {}
      },
      "source": [
        "tf.random.set_seed(42)\n",
        "np.random.seed(42)"
      ],
      "execution_count": 0,
      "outputs": []
    },
    {
      "cell_type": "code",
      "metadata": {
        "id": "U-qmCtKDZb4n",
        "colab_type": "code",
        "colab": {
          "base_uri": "https://localhost:8080/",
          "height": 714
        },
        "outputId": "2034a434-926e-496c-9044-5a5fcea10ae5"
      },
      "source": [
        "model = keras.models.Sequential([\n",
        "    keras.layers.Flatten(input_shape=[28, 28]),\n",
        "    keras.layers.AlphaDropout(rate=0.2),\n",
        "    keras.layers.Dense(300, activation=\"selu\", kernel_initializer=\"lecun_normal\"),\n",
        "    keras.layers.AlphaDropout(rate=0.2),\n",
        "    keras.layers.Dense(100, activation=\"selu\", kernel_initializer=\"lecun_normal\"),\n",
        "    keras.layers.AlphaDropout(rate=0.2),\n",
        "    keras.layers.Dense(10, activation=\"softmax\")\n",
        "])\n",
        "optimizer = keras.optimizers.SGD(lr=0.01, momentum=0.9, nesterov=True)\n",
        "model.compile(loss=\"sparse_categorical_crossentropy\", optimizer=optimizer, metrics=[\"accuracy\"])\n",
        "n_epochs = 20\n",
        "history = model.fit(X_train_scaled, y_train, epochs=n_epochs,\n",
        "                    validation_data=(X_valid_scaled, y_valid))"
      ],
      "execution_count": 106,
      "outputs": [
        {
          "output_type": "stream",
          "text": [
            "Train on 55000 samples, validate on 5000 samples\n",
            "Epoch 1/20\n",
            "55000/55000 [==============================] - 5s 92us/sample - loss: 0.6615 - accuracy: 0.7616 - val_loss: 0.6684 - val_accuracy: 0.8252\n",
            "Epoch 2/20\n",
            "55000/55000 [==============================] - 5s 84us/sample - loss: 0.5528 - accuracy: 0.7965 - val_loss: 0.5826 - val_accuracy: 0.8386\n",
            "Epoch 3/20\n",
            "55000/55000 [==============================] - 5s 87us/sample - loss: 0.5261 - accuracy: 0.8063 - val_loss: 0.5313 - val_accuracy: 0.8536\n",
            "Epoch 4/20\n",
            "55000/55000 [==============================] - 5s 87us/sample - loss: 0.5076 - accuracy: 0.8110 - val_loss: 0.4884 - val_accuracy: 0.8640\n",
            "Epoch 5/20\n",
            "55000/55000 [==============================] - 5s 84us/sample - loss: 0.4931 - accuracy: 0.8179 - val_loss: 0.4963 - val_accuracy: 0.8588\n",
            "Epoch 6/20\n",
            "55000/55000 [==============================] - 5s 85us/sample - loss: 0.4837 - accuracy: 0.8199 - val_loss: 0.5083 - val_accuracy: 0.8528\n",
            "Epoch 7/20\n",
            "55000/55000 [==============================] - 5s 85us/sample - loss: 0.4713 - accuracy: 0.8256 - val_loss: 0.4494 - val_accuracy: 0.8648\n",
            "Epoch 8/20\n",
            "55000/55000 [==============================] - 5s 84us/sample - loss: 0.4648 - accuracy: 0.8271 - val_loss: 0.4486 - val_accuracy: 0.8604\n",
            "Epoch 9/20\n",
            "55000/55000 [==============================] - 5s 88us/sample - loss: 0.4573 - accuracy: 0.8303 - val_loss: 0.4537 - val_accuracy: 0.8672\n",
            "Epoch 10/20\n",
            "55000/55000 [==============================] - 5s 84us/sample - loss: 0.4504 - accuracy: 0.8340 - val_loss: 0.4267 - val_accuracy: 0.8662\n",
            "Epoch 11/20\n",
            "55000/55000 [==============================] - 5s 86us/sample - loss: 0.4478 - accuracy: 0.8329 - val_loss: 0.4571 - val_accuracy: 0.8660\n",
            "Epoch 12/20\n",
            "55000/55000 [==============================] - 5s 85us/sample - loss: 0.4479 - accuracy: 0.8333 - val_loss: 0.4438 - val_accuracy: 0.8680\n",
            "Epoch 13/20\n",
            "55000/55000 [==============================] - 5s 88us/sample - loss: 0.4402 - accuracy: 0.8369 - val_loss: 0.4549 - val_accuracy: 0.8702\n",
            "Epoch 14/20\n",
            "55000/55000 [==============================] - 5s 87us/sample - loss: 0.4325 - accuracy: 0.8396 - val_loss: 0.4825 - val_accuracy: 0.8718\n",
            "Epoch 15/20\n",
            "55000/55000 [==============================] - 5s 88us/sample - loss: 0.4325 - accuracy: 0.8393 - val_loss: 0.4372 - val_accuracy: 0.8752\n",
            "Epoch 16/20\n",
            "55000/55000 [==============================] - 5s 88us/sample - loss: 0.4298 - accuracy: 0.8399 - val_loss: 0.4932 - val_accuracy: 0.8560\n",
            "Epoch 17/20\n",
            "55000/55000 [==============================] - 5s 86us/sample - loss: 0.4290 - accuracy: 0.8411 - val_loss: 0.4420 - val_accuracy: 0.8794\n",
            "Epoch 18/20\n",
            "55000/55000 [==============================] - 5s 85us/sample - loss: 0.4224 - accuracy: 0.8427 - val_loss: 0.4258 - val_accuracy: 0.8778\n",
            "Epoch 19/20\n",
            "55000/55000 [==============================] - 5s 86us/sample - loss: 0.4235 - accuracy: 0.8426 - val_loss: 0.4083 - val_accuracy: 0.8760\n",
            "Epoch 20/20\n",
            "55000/55000 [==============================] - 5s 85us/sample - loss: 0.4221 - accuracy: 0.8447 - val_loss: 0.4248 - val_accuracy: 0.8758\n"
          ],
          "name": "stdout"
        }
      ]
    },
    {
      "cell_type": "code",
      "metadata": {
        "id": "7qPAeMHLZb4o",
        "colab_type": "code",
        "colab": {
          "base_uri": "https://localhost:8080/",
          "height": 51
        },
        "outputId": "5b2ba1f5-46b7-4094-aeac-b8d160dbb748"
      },
      "source": [
        "model.evaluate(X_test_scaled, y_test)"
      ],
      "execution_count": 107,
      "outputs": [
        {
          "output_type": "stream",
          "text": [
            "10000/10000 [==============================] - 1s 58us/sample - loss: 0.4723 - accuracy: 0.8669\n"
          ],
          "name": "stdout"
        },
        {
          "output_type": "execute_result",
          "data": {
            "text/plain": [
              "[0.4723118964552879, 0.8669]"
            ]
          },
          "metadata": {
            "tags": []
          },
          "execution_count": 107
        }
      ]
    },
    {
      "cell_type": "code",
      "metadata": {
        "id": "bnqJdn2wZb4r",
        "colab_type": "code",
        "colab": {
          "base_uri": "https://localhost:8080/",
          "height": 51
        },
        "outputId": "e903c7db-b4e4-49aa-b3dd-104162f4a27f"
      },
      "source": [
        "model.evaluate(X_train_scaled, y_train)"
      ],
      "execution_count": 108,
      "outputs": [
        {
          "output_type": "stream",
          "text": [
            "55000/55000 [==============================] - 3s 59us/sample - loss: 0.3474 - accuracy: 0.8862\n"
          ],
          "name": "stdout"
        },
        {
          "output_type": "execute_result",
          "data": {
            "text/plain": [
              "[0.34736757821494885, 0.8862182]"
            ]
          },
          "metadata": {
            "tags": []
          },
          "execution_count": 108
        }
      ]
    },
    {
      "cell_type": "code",
      "metadata": {
        "id": "bDhtXJcBZb4s",
        "colab_type": "code",
        "colab": {
          "base_uri": "https://localhost:8080/",
          "height": 51
        },
        "outputId": "d3548e52-cbcf-4ac7-9e40-370f44e77245"
      },
      "source": [
        "history = model.fit(X_train_scaled, y_train)"
      ],
      "execution_count": 109,
      "outputs": [
        {
          "output_type": "stream",
          "text": [
            "Train on 55000 samples\n",
            "55000/55000 [==============================] - 4s 82us/sample - loss: 0.4201 - accuracy: 0.8450\n"
          ],
          "name": "stdout"
        }
      ]
    },
    {
      "cell_type": "markdown",
      "metadata": {
        "id": "QgoMzuDuZb4t",
        "colab_type": "text"
      },
      "source": [
        "## Porzucanie metodą Monte Carlo"
      ]
    },
    {
      "cell_type": "code",
      "metadata": {
        "id": "z0soUNhHZb4t",
        "colab_type": "code",
        "colab": {}
      },
      "source": [
        "tf.random.set_seed(42)\n",
        "np.random.seed(42)"
      ],
      "execution_count": 0,
      "outputs": []
    },
    {
      "cell_type": "code",
      "metadata": {
        "id": "AWxWgmS4Zb4u",
        "colab_type": "code",
        "colab": {
          "base_uri": "https://localhost:8080/",
          "height": 139
        },
        "outputId": "a31b7f9f-1624-4a32-a54a-1e911583fcb4"
      },
      "source": [
        "y_probas = np.stack([model(X_test_scaled, training=True)\n",
        "                     for sample in range(100)])\n",
        "y_proba = y_probas.mean(axis=0)\n",
        "y_std = y_probas.std(axis=0)"
      ],
      "execution_count": 111,
      "outputs": [
        {
          "output_type": "stream",
          "text": [
            "WARNING:tensorflow:Layer flatten_18 is casting an input tensor from dtype float64 to the layer's dtype of float32, which is new behavior in TensorFlow 2.  The layer has dtype float32 because it's dtype defaults to floatx.\n",
            "\n",
            "If you intended to run this layer in float32, you can safely ignore this warning. If in doubt, this warning is likely only an issue if you are porting a TensorFlow 1.X model to TensorFlow 2.\n",
            "\n",
            "To change all layers to have dtype float64 by default, call `tf.keras.backend.set_floatx('float64')`. To change just this layer, pass dtype='float64' to the layer constructor. If you are the author of this layer, you can disable autocasting by passing autocast=False to the base Layer constructor.\n",
            "\n"
          ],
          "name": "stdout"
        }
      ]
    },
    {
      "cell_type": "code",
      "metadata": {
        "id": "rw-ajSbWZb4v",
        "colab_type": "code",
        "colab": {
          "base_uri": "https://localhost:8080/",
          "height": 34
        },
        "outputId": "a7b55d97-4ac6-4375-b96b-93fed2d40588"
      },
      "source": [
        "np.round(model.predict(X_test_scaled[:1]), 2)"
      ],
      "execution_count": 112,
      "outputs": [
        {
          "output_type": "execute_result",
          "data": {
            "text/plain": [
              "array([[0., 0., 0., 0., 0., 0., 0., 0., 0., 1.]], dtype=float32)"
            ]
          },
          "metadata": {
            "tags": []
          },
          "execution_count": 112
        }
      ]
    },
    {
      "cell_type": "code",
      "metadata": {
        "id": "69y6yrFPZb4x",
        "colab_type": "code",
        "colab": {
          "base_uri": "https://localhost:8080/",
          "height": 1000
        },
        "outputId": "8dd7bc20-a060-46ab-8071-a94bb4d323c0"
      },
      "source": [
        "np.round(y_probas[:, :1], 2)"
      ],
      "execution_count": 113,
      "outputs": [
        {
          "output_type": "execute_result",
          "data": {
            "text/plain": [
              "array([[[0.  , 0.  , 0.  , 0.  , 0.  , 0.01, 0.  , 0.1 , 0.  , 0.89]],\n",
              "\n",
              "       [[0.  , 0.  , 0.  , 0.  , 0.  , 0.15, 0.  , 0.12, 0.  , 0.73]],\n",
              "\n",
              "       [[0.  , 0.  , 0.  , 0.  , 0.  , 0.13, 0.  , 0.03, 0.  , 0.84]],\n",
              "\n",
              "       [[0.  , 0.  , 0.  , 0.  , 0.  , 0.02, 0.  , 0.02, 0.03, 0.93]],\n",
              "\n",
              "       [[0.  , 0.  , 0.  , 0.  , 0.  , 0.04, 0.  , 0.03, 0.  , 0.92]],\n",
              "\n",
              "       [[0.  , 0.  , 0.  , 0.  , 0.  , 0.  , 0.  , 0.05, 0.  , 0.95]],\n",
              "\n",
              "       [[0.  , 0.  , 0.  , 0.  , 0.  , 0.01, 0.  , 0.07, 0.  , 0.92]],\n",
              "\n",
              "       [[0.  , 0.  , 0.  , 0.  , 0.  , 0.01, 0.  , 0.02, 0.  , 0.97]],\n",
              "\n",
              "       [[0.  , 0.  , 0.  , 0.  , 0.  , 0.73, 0.  , 0.02, 0.  , 0.24]],\n",
              "\n",
              "       [[0.  , 0.  , 0.  , 0.  , 0.  , 0.01, 0.  , 0.01, 0.  , 0.98]],\n",
              "\n",
              "       [[0.  , 0.  , 0.  , 0.  , 0.  , 0.06, 0.  , 0.04, 0.  , 0.91]],\n",
              "\n",
              "       [[0.  , 0.  , 0.  , 0.  , 0.  , 0.2 , 0.  , 0.04, 0.  , 0.76]],\n",
              "\n",
              "       [[0.  , 0.  , 0.  , 0.  , 0.  , 0.46, 0.  , 0.08, 0.  , 0.46]],\n",
              "\n",
              "       [[0.  , 0.  , 0.  , 0.  , 0.  , 0.32, 0.  , 0.12, 0.  , 0.56]],\n",
              "\n",
              "       [[0.  , 0.  , 0.  , 0.  , 0.  , 0.13, 0.  , 0.07, 0.  , 0.81]],\n",
              "\n",
              "       [[0.  , 0.  , 0.  , 0.  , 0.  , 0.14, 0.  , 0.06, 0.  , 0.8 ]],\n",
              "\n",
              "       [[0.  , 0.  , 0.  , 0.  , 0.  , 0.07, 0.  , 0.  , 0.  , 0.92]],\n",
              "\n",
              "       [[0.  , 0.  , 0.  , 0.  , 0.  , 0.07, 0.  , 0.08, 0.  , 0.85]],\n",
              "\n",
              "       [[0.  , 0.  , 0.  , 0.  , 0.  , 0.  , 0.  , 0.04, 0.  , 0.96]],\n",
              "\n",
              "       [[0.  , 0.  , 0.  , 0.  , 0.  , 0.03, 0.  , 0.  , 0.  , 0.97]],\n",
              "\n",
              "       [[0.  , 0.  , 0.  , 0.01, 0.  , 0.76, 0.  , 0.05, 0.  , 0.18]],\n",
              "\n",
              "       [[0.  , 0.  , 0.  , 0.  , 0.  , 0.55, 0.  , 0.19, 0.  , 0.26]],\n",
              "\n",
              "       [[0.  , 0.  , 0.  , 0.  , 0.  , 0.  , 0.  , 0.  , 0.  , 1.  ]],\n",
              "\n",
              "       [[0.  , 0.  , 0.  , 0.  , 0.  , 0.01, 0.  , 0.09, 0.  , 0.9 ]],\n",
              "\n",
              "       [[0.  , 0.  , 0.  , 0.  , 0.  , 0.03, 0.  , 0.02, 0.  , 0.95]],\n",
              "\n",
              "       [[0.  , 0.  , 0.  , 0.  , 0.  , 0.1 , 0.  , 0.21, 0.  , 0.69]],\n",
              "\n",
              "       [[0.  , 0.  , 0.  , 0.  , 0.  , 0.05, 0.  , 0.06, 0.  , 0.89]],\n",
              "\n",
              "       [[0.  , 0.  , 0.  , 0.  , 0.  , 0.03, 0.  , 0.01, 0.  , 0.96]],\n",
              "\n",
              "       [[0.  , 0.  , 0.  , 0.  , 0.  , 0.86, 0.  , 0.01, 0.  , 0.14]],\n",
              "\n",
              "       [[0.  , 0.  , 0.  , 0.  , 0.  , 0.09, 0.  , 0.18, 0.06, 0.67]],\n",
              "\n",
              "       [[0.  , 0.  , 0.  , 0.  , 0.  , 0.01, 0.  , 0.  , 0.  , 0.99]],\n",
              "\n",
              "       [[0.  , 0.  , 0.  , 0.  , 0.  , 0.01, 0.  , 0.01, 0.  , 0.98]],\n",
              "\n",
              "       [[0.  , 0.  , 0.  , 0.  , 0.  , 0.24, 0.  , 0.01, 0.  , 0.75]],\n",
              "\n",
              "       [[0.  , 0.  , 0.  , 0.  , 0.  , 0.11, 0.  , 0.16, 0.  , 0.73]],\n",
              "\n",
              "       [[0.  , 0.  , 0.  , 0.  , 0.  , 0.04, 0.  , 0.05, 0.  , 0.92]],\n",
              "\n",
              "       [[0.  , 0.  , 0.  , 0.  , 0.  , 0.06, 0.  , 0.62, 0.  , 0.32]],\n",
              "\n",
              "       [[0.  , 0.  , 0.  , 0.  , 0.  , 0.  , 0.  , 0.  , 0.  , 1.  ]],\n",
              "\n",
              "       [[0.  , 0.  , 0.  , 0.  , 0.  , 0.03, 0.  , 0.03, 0.  , 0.93]],\n",
              "\n",
              "       [[0.  , 0.  , 0.  , 0.  , 0.  , 0.03, 0.  , 0.11, 0.  , 0.86]],\n",
              "\n",
              "       [[0.  , 0.  , 0.  , 0.  , 0.  , 0.29, 0.  , 0.  , 0.  , 0.7 ]],\n",
              "\n",
              "       [[0.  , 0.  , 0.  , 0.  , 0.  , 0.13, 0.  , 0.02, 0.  , 0.85]],\n",
              "\n",
              "       [[0.  , 0.  , 0.  , 0.  , 0.  , 0.01, 0.  , 0.01, 0.  , 0.98]],\n",
              "\n",
              "       [[0.  , 0.  , 0.  , 0.  , 0.  , 0.11, 0.  , 0.04, 0.  , 0.85]],\n",
              "\n",
              "       [[0.  , 0.  , 0.  , 0.  , 0.  , 0.  , 0.  , 0.01, 0.  , 0.99]],\n",
              "\n",
              "       [[0.  , 0.  , 0.  , 0.  , 0.  , 0.16, 0.  , 0.02, 0.  , 0.83]],\n",
              "\n",
              "       [[0.  , 0.  , 0.  , 0.  , 0.  , 0.  , 0.  , 0.01, 0.  , 0.99]],\n",
              "\n",
              "       [[0.  , 0.  , 0.  , 0.  , 0.  , 0.04, 0.  , 0.05, 0.  , 0.91]],\n",
              "\n",
              "       [[0.  , 0.  , 0.  , 0.  , 0.  , 0.01, 0.  , 0.04, 0.  , 0.96]],\n",
              "\n",
              "       [[0.  , 0.  , 0.  , 0.  , 0.  , 0.  , 0.  , 0.14, 0.  , 0.86]],\n",
              "\n",
              "       [[0.  , 0.  , 0.  , 0.  , 0.  , 0.  , 0.  , 0.01, 0.  , 0.99]],\n",
              "\n",
              "       [[0.  , 0.  , 0.  , 0.  , 0.  , 0.93, 0.  , 0.01, 0.  , 0.06]],\n",
              "\n",
              "       [[0.  , 0.  , 0.  , 0.  , 0.  , 0.12, 0.  , 0.05, 0.  , 0.83]],\n",
              "\n",
              "       [[0.  , 0.  , 0.  , 0.  , 0.  , 0.  , 0.  , 0.  , 0.  , 1.  ]],\n",
              "\n",
              "       [[0.  , 0.  , 0.  , 0.  , 0.  , 0.03, 0.  , 0.  , 0.  , 0.97]],\n",
              "\n",
              "       [[0.  , 0.  , 0.  , 0.  , 0.  , 0.27, 0.  , 0.01, 0.  , 0.72]],\n",
              "\n",
              "       [[0.  , 0.  , 0.  , 0.  , 0.  , 0.  , 0.  , 0.01, 0.  , 0.99]],\n",
              "\n",
              "       [[0.  , 0.  , 0.  , 0.  , 0.  , 0.  , 0.  , 0.05, 0.  , 0.95]],\n",
              "\n",
              "       [[0.  , 0.  , 0.  , 0.  , 0.  , 0.19, 0.  , 0.06, 0.  , 0.74]],\n",
              "\n",
              "       [[0.  , 0.  , 0.  , 0.  , 0.  , 0.09, 0.  , 0.13, 0.  , 0.77]],\n",
              "\n",
              "       [[0.  , 0.  , 0.  , 0.  , 0.  , 0.02, 0.  , 0.04, 0.  , 0.94]],\n",
              "\n",
              "       [[0.  , 0.  , 0.  , 0.  , 0.  , 0.13, 0.  , 0.04, 0.  , 0.83]],\n",
              "\n",
              "       [[0.  , 0.  , 0.  , 0.  , 0.  , 0.02, 0.  , 0.09, 0.  , 0.89]],\n",
              "\n",
              "       [[0.  , 0.  , 0.  , 0.  , 0.  , 0.14, 0.  , 0.03, 0.  , 0.83]],\n",
              "\n",
              "       [[0.  , 0.  , 0.  , 0.  , 0.  , 0.  , 0.  , 0.02, 0.  , 0.97]],\n",
              "\n",
              "       [[0.  , 0.  , 0.  , 0.  , 0.  , 0.04, 0.  , 0.06, 0.  , 0.9 ]],\n",
              "\n",
              "       [[0.  , 0.  , 0.  , 0.  , 0.  , 0.01, 0.  , 0.15, 0.  , 0.84]],\n",
              "\n",
              "       [[0.  , 0.  , 0.  , 0.  , 0.  , 0.55, 0.  , 0.04, 0.  , 0.41]],\n",
              "\n",
              "       [[0.  , 0.  , 0.  , 0.  , 0.  , 0.  , 0.  , 0.02, 0.  , 0.98]],\n",
              "\n",
              "       [[0.  , 0.  , 0.  , 0.  , 0.  , 0.  , 0.  , 0.  , 0.  , 1.  ]],\n",
              "\n",
              "       [[0.  , 0.  , 0.  , 0.  , 0.  , 0.01, 0.  , 0.03, 0.  , 0.96]],\n",
              "\n",
              "       [[0.  , 0.  , 0.  , 0.  , 0.  , 0.  , 0.  , 0.  , 0.  , 1.  ]],\n",
              "\n",
              "       [[0.  , 0.  , 0.  , 0.  , 0.  , 0.01, 0.  , 0.01, 0.  , 0.98]],\n",
              "\n",
              "       [[0.  , 0.  , 0.  , 0.  , 0.  , 0.16, 0.  , 0.04, 0.  , 0.8 ]],\n",
              "\n",
              "       [[0.  , 0.  , 0.  , 0.  , 0.  , 0.  , 0.  , 0.05, 0.  , 0.95]],\n",
              "\n",
              "       [[0.  , 0.  , 0.  , 0.  , 0.  , 0.19, 0.  , 0.04, 0.  , 0.78]],\n",
              "\n",
              "       [[0.  , 0.  , 0.  , 0.  , 0.  , 0.04, 0.  , 0.  , 0.  , 0.96]],\n",
              "\n",
              "       [[0.  , 0.  , 0.  , 0.  , 0.  , 0.  , 0.  , 0.02, 0.  , 0.98]],\n",
              "\n",
              "       [[0.  , 0.  , 0.  , 0.  , 0.  , 0.02, 0.  , 0.22, 0.  , 0.76]],\n",
              "\n",
              "       [[0.  , 0.  , 0.  , 0.  , 0.  , 0.  , 0.  , 0.03, 0.  , 0.96]],\n",
              "\n",
              "       [[0.  , 0.  , 0.  , 0.  , 0.  , 0.  , 0.  , 0.01, 0.  , 0.99]],\n",
              "\n",
              "       [[0.  , 0.  , 0.  , 0.  , 0.  , 0.04, 0.  , 0.17, 0.  , 0.79]],\n",
              "\n",
              "       [[0.  , 0.  , 0.  , 0.  , 0.  , 0.02, 0.  , 0.  , 0.  , 0.97]],\n",
              "\n",
              "       [[0.  , 0.  , 0.  , 0.  , 0.  , 0.  , 0.  , 0.  , 0.  , 1.  ]],\n",
              "\n",
              "       [[0.  , 0.  , 0.  , 0.  , 0.  , 0.  , 0.  , 0.01, 0.  , 0.99]],\n",
              "\n",
              "       [[0.  , 0.  , 0.  , 0.  , 0.  , 0.03, 0.  , 0.39, 0.  , 0.58]],\n",
              "\n",
              "       [[0.  , 0.  , 0.  , 0.  , 0.  , 0.04, 0.  , 0.1 , 0.  , 0.86]],\n",
              "\n",
              "       [[0.  , 0.  , 0.  , 0.  , 0.  , 0.97, 0.  , 0.02, 0.  , 0.01]],\n",
              "\n",
              "       [[0.  , 0.  , 0.  , 0.  , 0.  , 0.08, 0.  , 0.03, 0.  , 0.89]],\n",
              "\n",
              "       [[0.  , 0.  , 0.  , 0.  , 0.  , 0.  , 0.  , 0.03, 0.  , 0.96]],\n",
              "\n",
              "       [[0.  , 0.  , 0.  , 0.  , 0.  , 0.  , 0.  , 0.  , 0.  , 1.  ]],\n",
              "\n",
              "       [[0.  , 0.  , 0.  , 0.  , 0.  , 0.06, 0.  , 0.08, 0.  , 0.86]],\n",
              "\n",
              "       [[0.  , 0.  , 0.  , 0.  , 0.  , 0.06, 0.  , 0.01, 0.  , 0.93]],\n",
              "\n",
              "       [[0.  , 0.  , 0.  , 0.  , 0.  , 0.34, 0.  , 0.29, 0.01, 0.36]],\n",
              "\n",
              "       [[0.  , 0.  , 0.  , 0.  , 0.  , 0.18, 0.  , 0.13, 0.  , 0.69]],\n",
              "\n",
              "       [[0.  , 0.  , 0.  , 0.  , 0.  , 0.01, 0.  , 0.01, 0.  , 0.98]],\n",
              "\n",
              "       [[0.  , 0.  , 0.  , 0.  , 0.  , 0.02, 0.  , 0.06, 0.  , 0.92]],\n",
              "\n",
              "       [[0.  , 0.  , 0.  , 0.  , 0.  , 0.01, 0.  , 0.03, 0.  , 0.96]],\n",
              "\n",
              "       [[0.  , 0.  , 0.  , 0.  , 0.  , 0.02, 0.  , 0.02, 0.  , 0.96]],\n",
              "\n",
              "       [[0.  , 0.  , 0.  , 0.  , 0.  , 0.12, 0.  , 0.  , 0.  , 0.87]],\n",
              "\n",
              "       [[0.  , 0.  , 0.  , 0.  , 0.  , 0.48, 0.  , 0.04, 0.  , 0.48]]],\n",
              "      dtype=float32)"
            ]
          },
          "metadata": {
            "tags": []
          },
          "execution_count": 113
        }
      ]
    },
    {
      "cell_type": "code",
      "metadata": {
        "id": "P4K7axPBZb4y",
        "colab_type": "code",
        "colab": {
          "base_uri": "https://localhost:8080/",
          "height": 51
        },
        "outputId": "707cfd18-5efd-466c-c3cf-932db5a64d90"
      },
      "source": [
        "np.round(y_proba[:1], 2)"
      ],
      "execution_count": 114,
      "outputs": [
        {
          "output_type": "execute_result",
          "data": {
            "text/plain": [
              "array([[0.  , 0.  , 0.  , 0.  , 0.  , 0.12, 0.  , 0.06, 0.  , 0.82]],\n",
              "      dtype=float32)"
            ]
          },
          "metadata": {
            "tags": []
          },
          "execution_count": 114
        }
      ]
    },
    {
      "cell_type": "code",
      "metadata": {
        "id": "l75vWkMwZb4z",
        "colab_type": "code",
        "colab": {
          "base_uri": "https://localhost:8080/",
          "height": 51
        },
        "outputId": "f87a8c7e-221f-4b70-f049-e8a7060309e6"
      },
      "source": [
        "y_std = y_probas.std(axis=0)\n",
        "np.round(y_std[:1], 2)"
      ],
      "execution_count": 115,
      "outputs": [
        {
          "output_type": "execute_result",
          "data": {
            "text/plain": [
              "array([[0.  , 0.  , 0.  , 0.  , 0.  , 0.2 , 0.  , 0.09, 0.01, 0.22]],\n",
              "      dtype=float32)"
            ]
          },
          "metadata": {
            "tags": []
          },
          "execution_count": 115
        }
      ]
    },
    {
      "cell_type": "code",
      "metadata": {
        "id": "2qqDZvRUZb41",
        "colab_type": "code",
        "colab": {}
      },
      "source": [
        "y_pred = np.argmax(y_proba, axis=1)"
      ],
      "execution_count": 0,
      "outputs": []
    },
    {
      "cell_type": "code",
      "metadata": {
        "id": "6QFvNW6SZb42",
        "colab_type": "code",
        "colab": {
          "base_uri": "https://localhost:8080/",
          "height": 34
        },
        "outputId": "783bec09-a53e-4ec8-a65b-0eff7f0c73b7"
      },
      "source": [
        "accuracy = np.sum(y_pred == y_test) / len(y_test)\n",
        "accuracy"
      ],
      "execution_count": 117,
      "outputs": [
        {
          "output_type": "execute_result",
          "data": {
            "text/plain": [
              "0.8596"
            ]
          },
          "metadata": {
            "tags": []
          },
          "execution_count": 117
        }
      ]
    },
    {
      "cell_type": "code",
      "metadata": {
        "id": "rey8rz-UZb45",
        "colab_type": "code",
        "colab": {}
      },
      "source": [
        "class MCDropout(keras.layers.Dropout):\n",
        "    def call(self, inputs):\n",
        "        return super().call(inputs, training=True)\n",
        "\n",
        "class MCAlphaDropout(keras.layers.AlphaDropout):\n",
        "    def call(self, inputs):\n",
        "        return super().call(inputs, training=True)"
      ],
      "execution_count": 0,
      "outputs": []
    },
    {
      "cell_type": "code",
      "metadata": {
        "id": "QbOQ4BD5Zb46",
        "colab_type": "code",
        "colab": {}
      },
      "source": [
        "tf.random.set_seed(42)\n",
        "np.random.seed(42)"
      ],
      "execution_count": 0,
      "outputs": []
    },
    {
      "cell_type": "code",
      "metadata": {
        "id": "rzAKQhKaZb48",
        "colab_type": "code",
        "colab": {}
      },
      "source": [
        "mc_model = keras.models.Sequential([\n",
        "    MCAlphaDropout(layer.rate) if isinstance(layer, keras.layers.AlphaDropout) else layer\n",
        "    for layer in model.layers\n",
        "])"
      ],
      "execution_count": 0,
      "outputs": []
    },
    {
      "cell_type": "code",
      "metadata": {
        "id": "Q6Yifds2Zb49",
        "colab_type": "code",
        "colab": {
          "base_uri": "https://localhost:8080/",
          "height": 391
        },
        "outputId": "df38a28a-ab64-436b-e55a-c53d3a18959a"
      },
      "source": [
        "mc_model.summary()"
      ],
      "execution_count": 121,
      "outputs": [
        {
          "output_type": "stream",
          "text": [
            "Model: \"sequential_20\"\n",
            "_________________________________________________________________\n",
            "Layer (type)                 Output Shape              Param #   \n",
            "=================================================================\n",
            "flatten_18 (Flatten)         (None, 784)               0         \n",
            "_________________________________________________________________\n",
            "mc_alpha_dropout (MCAlphaDro (None, 784)               0         \n",
            "_________________________________________________________________\n",
            "dense_262 (Dense)            (None, 300)               235500    \n",
            "_________________________________________________________________\n",
            "mc_alpha_dropout_1 (MCAlphaD (None, 300)               0         \n",
            "_________________________________________________________________\n",
            "dense_263 (Dense)            (None, 100)               30100     \n",
            "_________________________________________________________________\n",
            "mc_alpha_dropout_2 (MCAlphaD (None, 100)               0         \n",
            "_________________________________________________________________\n",
            "dense_264 (Dense)            (None, 10)                1010      \n",
            "=================================================================\n",
            "Total params: 266,610\n",
            "Trainable params: 266,610\n",
            "Non-trainable params: 0\n",
            "_________________________________________________________________\n"
          ],
          "name": "stdout"
        }
      ]
    },
    {
      "cell_type": "code",
      "metadata": {
        "id": "phIZXVkVZb4-",
        "colab_type": "code",
        "colab": {}
      },
      "source": [
        "optimizer = keras.optimizers.SGD(lr=0.01, momentum=0.9, nesterov=True)\n",
        "mc_model.compile(loss=\"sparse_categorical_crossentropy\", optimizer=optimizer, metrics=[\"accuracy\"])"
      ],
      "execution_count": 0,
      "outputs": []
    },
    {
      "cell_type": "code",
      "metadata": {
        "id": "-0q-qovXZb4_",
        "colab_type": "code",
        "colab": {}
      },
      "source": [
        "mc_model.set_weights(model.get_weights())"
      ],
      "execution_count": 0,
      "outputs": []
    },
    {
      "cell_type": "markdown",
      "metadata": {
        "id": "OugLG0qUZb5A",
        "colab_type": "text"
      },
      "source": [
        "Możemy teraz użyć modelu z porzucaniem MC:"
      ]
    },
    {
      "cell_type": "code",
      "metadata": {
        "id": "5_m0S0qNZb5A",
        "colab_type": "code",
        "colab": {
          "base_uri": "https://localhost:8080/",
          "height": 51
        },
        "outputId": "2082bbf7-534f-4f53-bc4e-7b1d0a32fd93"
      },
      "source": [
        "np.round(np.mean([mc_model.predict(X_test_scaled[:1]) for sample in range(100)], axis=0), 2)"
      ],
      "execution_count": 124,
      "outputs": [
        {
          "output_type": "execute_result",
          "data": {
            "text/plain": [
              "array([[0.  , 0.  , 0.  , 0.  , 0.  , 0.13, 0.  , 0.08, 0.  , 0.79]],\n",
              "      dtype=float32)"
            ]
          },
          "metadata": {
            "tags": []
          },
          "execution_count": 124
        }
      ]
    },
    {
      "cell_type": "markdown",
      "metadata": {
        "id": "3OHbeYPwZb5B",
        "colab_type": "text"
      },
      "source": [
        "## Regularyzacja typu max-norm"
      ]
    },
    {
      "cell_type": "code",
      "metadata": {
        "id": "YDSR1CEaZb5C",
        "colab_type": "code",
        "colab": {}
      },
      "source": [
        "layer = keras.layers.Dense(100, activation=\"selu\", kernel_initializer=\"lecun_normal\",\n",
        "                           kernel_constraint=keras.constraints.max_norm(1.))"
      ],
      "execution_count": 0,
      "outputs": []
    },
    {
      "cell_type": "code",
      "metadata": {
        "id": "NAxsT9cIZb5C",
        "colab_type": "code",
        "colab": {
          "base_uri": "https://localhost:8080/",
          "height": 102
        },
        "outputId": "6228ec55-9f1e-4715-9933-a8336f25439a"
      },
      "source": [
        "MaxNormDense = partial(keras.layers.Dense,\n",
        "                       activation=\"selu\", kernel_initializer=\"lecun_normal\",\n",
        "                       kernel_constraint=keras.constraints.max_norm(1.))\n",
        "\n",
        "model = keras.models.Sequential([\n",
        "    keras.layers.Flatten(input_shape=[28, 28]),\n",
        "    MaxNormDense(300),\n",
        "    MaxNormDense(100),\n",
        "    keras.layers.Dense(10, activation=\"softmax\")\n",
        "])\n",
        "model.compile(loss=\"sparse_categorical_crossentropy\", optimizer=\"nadam\", metrics=[\"accuracy\"])\n",
        "n_epochs = 2\n",
        "history = model.fit(X_train_scaled, y_train, epochs=n_epochs,\n",
        "                    validation_data=(X_valid_scaled, y_valid))"
      ],
      "execution_count": 126,
      "outputs": [
        {
          "output_type": "stream",
          "text": [
            "Train on 55000 samples, validate on 5000 samples\n",
            "Epoch 1/2\n",
            "55000/55000 [==============================] - 7s 120us/sample - loss: 0.4745 - accuracy: 0.8353 - val_loss: 0.4015 - val_accuracy: 0.8592\n",
            "Epoch 2/2\n",
            "55000/55000 [==============================] - 6s 109us/sample - loss: 0.3570 - accuracy: 0.8677 - val_loss: 0.3558 - val_accuracy: 0.8748\n"
          ],
          "name": "stdout"
        }
      ]
    },
    {
      "cell_type": "markdown",
      "metadata": {
        "id": "dvBRyNeaZb5D",
        "colab_type": "text"
      },
      "source": [
        "# Ćwiczenia"
      ]
    },
    {
      "cell_type": "markdown",
      "metadata": {
        "id": "RdvcybIHZb5E",
        "colab_type": "text"
      },
      "source": [
        "## 1. do 7."
      ]
    },
    {
      "cell_type": "markdown",
      "metadata": {
        "id": "rqRqDgkCZb5E",
        "colab_type": "text"
      },
      "source": [
        "Zobacz dodatek A."
      ]
    },
    {
      "cell_type": "markdown",
      "metadata": {
        "id": "gm_F7K6TZb5G",
        "colab_type": "text"
      },
      "source": [
        "## 8. Potrenuj uczenie głębokiej sieci neuronowej na zestawie obrazów CIFAR10"
      ]
    },
    {
      "cell_type": "markdown",
      "metadata": {
        "id": "ud-sWV_WZb5G",
        "colab_type": "text"
      },
      "source": [
        "### 8.1."
      ]
    },
    {
      "cell_type": "markdown",
      "metadata": {
        "id": "I39HkOI5Zb5H",
        "colab_type": "text"
      },
      "source": [
        "_Ćwiczenie: Stwórz sieć głęboką zawierającą 20 warstw ukrytych po 100 neuronów w każdej (jest ich za dużo, ale taki jest morał tego ćwiczenia). Skorzystaj z inicjalizacji He i funkcji aktywacji ELU._"
      ]
    },
    {
      "cell_type": "code",
      "metadata": {
        "id": "YCir_yHpZb5H",
        "colab_type": "code",
        "colab": {}
      },
      "source": [
        ""
      ],
      "execution_count": 0,
      "outputs": []
    },
    {
      "cell_type": "code",
      "metadata": {
        "id": "TZgGhqEJZb5J",
        "colab_type": "code",
        "colab": {}
      },
      "source": [
        ""
      ],
      "execution_count": 0,
      "outputs": []
    },
    {
      "cell_type": "code",
      "metadata": {
        "id": "A0lKCF4BZb5K",
        "colab_type": "code",
        "colab": {}
      },
      "source": [
        ""
      ],
      "execution_count": 0,
      "outputs": []
    },
    {
      "cell_type": "markdown",
      "metadata": {
        "id": "O9b5zYm0Zb5L",
        "colab_type": "text"
      },
      "source": [
        "### 8.2."
      ]
    },
    {
      "cell_type": "markdown",
      "metadata": {
        "id": "hPJH-G4CZb5M",
        "colab_type": "text"
      },
      "source": [
        "_Ćwiczenie: Wprowadź optymalizację Nadam i wczesne zatrzymywanie, po czym wyucz sieć na zestawie danych CIFAR10.  Możesz go wczytać za pomocą funkcji `keras.datasets.cifar10.load_data()`. Zestaw ten składa się z 60 000 kolorowych obrazów (50 000 przykładów uczących i 10 000 testowych) o rozmiarach 32 × 32, tworzących 10 klas, co oznacza, że będziesz musiał w warstwie wyjściowej wprowadzić funkcję softmax i 10 neuronów. Pamiętaj, aby po każdej zmianie struktury lub hiperparametrów modelu poszukać właściwej wartości współczynnika uczenia._"
      ]
    },
    {
      "cell_type": "code",
      "metadata": {
        "id": "Wcv7wDXhZb5M",
        "colab_type": "code",
        "colab": {}
      },
      "source": [
        ""
      ],
      "execution_count": 0,
      "outputs": []
    },
    {
      "cell_type": "code",
      "metadata": {
        "id": "AAdyekmGZb5O",
        "colab_type": "code",
        "colab": {}
      },
      "source": [
        ""
      ],
      "execution_count": 0,
      "outputs": []
    },
    {
      "cell_type": "code",
      "metadata": {
        "id": "iVVELoAeZb5P",
        "colab_type": "code",
        "colab": {}
      },
      "source": [
        ""
      ],
      "execution_count": 0,
      "outputs": []
    },
    {
      "cell_type": "markdown",
      "metadata": {
        "id": "aSnAD8TRZb5R",
        "colab_type": "text"
      },
      "source": [
        "### 8.3."
      ]
    },
    {
      "cell_type": "markdown",
      "metadata": {
        "id": "1e5UXhFpZb5R",
        "colab_type": "text"
      },
      "source": [
        "_Ćwiczenie: Spróbuj teraz dodać normalizację wsadową i porównać współczynniki uczenia. Czy model uzyskuje teraz szybciej zbieżność? Czy otrzymany model jest lepszy? Co się dzieje z szybkością uczenia?_"
      ]
    },
    {
      "cell_type": "code",
      "metadata": {
        "id": "CxNs44WIZb5T",
        "colab_type": "code",
        "colab": {}
      },
      "source": [
        ""
      ],
      "execution_count": 0,
      "outputs": []
    },
    {
      "cell_type": "code",
      "metadata": {
        "id": "WlMiXqGGZb5U",
        "colab_type": "code",
        "colab": {}
      },
      "source": [
        ""
      ],
      "execution_count": 0,
      "outputs": []
    },
    {
      "cell_type": "code",
      "metadata": {
        "id": "8dFgsMjxZb5X",
        "colab_type": "code",
        "colab": {}
      },
      "source": [
        ""
      ],
      "execution_count": 0,
      "outputs": []
    },
    {
      "cell_type": "markdown",
      "metadata": {
        "id": "bXQR1NkUZb5X",
        "colab_type": "text"
      },
      "source": [
        "### 8.4."
      ]
    },
    {
      "cell_type": "markdown",
      "metadata": {
        "id": "QNYHb2wfZb5Y",
        "colab_type": "text"
      },
      "source": [
        "_Ćwiczenie: Zastąp teraz normalizację wsadową funkcją SELU i wprowadź wszelkie modyfikacje wymagane to spełnienia wymogu samonormalizacji (tj. standaryzuj cechy wejściowe, skorzystać z klasycznej inicjalizacji LeCuna, upewnij się, że sieć głęboka będzie zawierała wyłącznie sekwencję warstw gęstych itd.)._"
      ]
    },
    {
      "cell_type": "code",
      "metadata": {
        "id": "-YhpjjUbZb5Y",
        "colab_type": "code",
        "colab": {}
      },
      "source": [
        ""
      ],
      "execution_count": 0,
      "outputs": []
    },
    {
      "cell_type": "code",
      "metadata": {
        "id": "U0Kxy6HoZb5Z",
        "colab_type": "code",
        "colab": {}
      },
      "source": [
        ""
      ],
      "execution_count": 0,
      "outputs": []
    },
    {
      "cell_type": "code",
      "metadata": {
        "id": "hY4PqoCxZb5a",
        "colab_type": "code",
        "colab": {}
      },
      "source": [
        ""
      ],
      "execution_count": 0,
      "outputs": []
    },
    {
      "cell_type": "markdown",
      "metadata": {
        "id": "nlVB8gi3Zb5f",
        "colab_type": "text"
      },
      "source": [
        "### 8.5."
      ]
    },
    {
      "cell_type": "markdown",
      "metadata": {
        "id": "a_qg8FFjZb5f",
        "colab_type": "text"
      },
      "source": [
        "_Ćwiczenie: Spróbuj przeprowadzić regularyzację modelu za pomocą porzucania alfa. Następnie sprawdź, czy możesz uzyskać lepszą wydajność za pomocą porzucania MC bez trenowania modelu._"
      ]
    },
    {
      "cell_type": "code",
      "metadata": {
        "id": "q74r2N4xZb5f",
        "colab_type": "code",
        "colab": {}
      },
      "source": [
        ""
      ],
      "execution_count": 0,
      "outputs": []
    },
    {
      "cell_type": "code",
      "metadata": {
        "id": "kSK1zrEoZb5g",
        "colab_type": "code",
        "colab": {}
      },
      "source": [
        ""
      ],
      "execution_count": 0,
      "outputs": []
    },
    {
      "cell_type": "code",
      "metadata": {
        "id": "DjJCfVxcZb5h",
        "colab_type": "code",
        "colab": {}
      },
      "source": [
        ""
      ],
      "execution_count": 0,
      "outputs": []
    },
    {
      "cell_type": "markdown",
      "metadata": {
        "id": "84VMVLmkZb5i",
        "colab_type": "text"
      },
      "source": [
        "### 8.6."
      ]
    },
    {
      "cell_type": "markdown",
      "metadata": {
        "id": "gL2TNQ7FZb5i",
        "colab_type": "text"
      },
      "source": [
        "_Ćwiczenie: Wytrenuj ponownie model za pomocą harmonogramowania 1cycle i sprawdź, jaki ma ono wpływ na szybkość uczenia i dokładność modelu._"
      ]
    },
    {
      "cell_type": "code",
      "metadata": {
        "id": "NMXnLdkuZb5i",
        "colab_type": "code",
        "colab": {}
      },
      "source": [
        ""
      ],
      "execution_count": 0,
      "outputs": []
    },
    {
      "cell_type": "code",
      "metadata": {
        "id": "2KXKd5TFZb5j",
        "colab_type": "code",
        "colab": {}
      },
      "source": [
        ""
      ],
      "execution_count": 0,
      "outputs": []
    },
    {
      "cell_type": "code",
      "metadata": {
        "id": "GU7ZDVmSZb5k",
        "colab_type": "code",
        "colab": {}
      },
      "source": [
        ""
      ],
      "execution_count": 0,
      "outputs": []
    }
  ]
}