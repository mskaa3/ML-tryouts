{
 "cells": [
  {
   "cell_type": "markdown",
   "metadata": {},
   "source": [
    "# Notatniki uczenia maszynowego\n",
    "\n",
    "*Witaj w notatnikach uczenia maszynowego!*\n",
    "\n",
    "[Wymogi wstępne](#Wymogi-wstępne) (zobacz niżej)\n",
    "\n",
    "## Notatniki\n",
    "1. [Krajobraz uczenia maszynowego](01_krajobraz_uczenia_maszynowego.ipynb)\n",
    "2. [Nasz pierwszy projekt uczenia maszynowego](02_nasz_pierwszy_projekt_uczenia_maszynowego.ipynb)\n",
    "3. [Klasyfikacja](03_klasyfikacja.ipynb)\n",
    "4. [Uczenie modeli liniowych](04_uczenie_modeli_liniowych.ipynb)\n",
    "5. [Maszyny wektorów nośnych](05_maszyny_wektorów_nośnych.ipynb)\n",
    "6. [Drzewa decyzyjne](06_drzewa_decyzyjne.ipynb)\n",
    "7. [Uczenie zespołowe i losowe lasy](07_uczenie_zespołowe_i_losowe_lasy.ipynb)\n",
    "8. [Redukcja wymiarowości](08_redukcja_wymiarowości.ipynb)\n",
    "9. [Techniki uczenia nienadzorowanego](09_techniki_uczenia_nienadzorowanego.ipynb)\n",
    "10. [Wprowadzenie do sztucznych sieci neuronowych z użyciem interfejsu Keras](10_sieci_neuronowe_keras.ipynb)\n",
    "11. [Uczenie głębokich sieci neuronowych](11_uczenie_głębokich_sieci_neuronowych.ipynb)\n",
    "12. [Modele niestandardowe i uczenie za pomocą modułu TensorFlow](12_niestandardowe_modele_i_uczenie_w_tensorflow.ipynb)\n",
    "13. [Wczytywanie i przetwarzanie wstępne danych za pomocą modułu TensorFlow](13_wczytywane_i_przetwarzanie_wstępne_danych.ipynb)\n",
    "14. [Głębokie widzenie komputerowe za pomocą splotowych sieci neuronowych](14_głębokie_widzenie_komputerowe_sieci_splotowe.ipynb)\n",
    "15. [Przetwarzanie sekwencji za pomocą sieci rekurencyjnych i splotowych](15_przetwarzanie_sekwencji_za_pomocą_sieci_rnn_i_cnn.ipynb)\n",
    "16. [Przetwarzanie języka naturalnego za pomocą sieci rekurencyjnych i mechanizmów uwagi](16_przetwarzanie_języka_naturalnego_mech_uwagi.ipynb)\n",
    "17. [RAutokodery i sieci GAN](17_autokodery_i_sieci_gan.ipynb)\n",
    "18. [Uczenie przez wzmacnianie](18_uczenie_przez_wzmacnianie.ipynb)\n",
    "19. [Wielkoskalowe uczenie i wdrażanie modeli TensorFlow](19_wielkoskalowe_uczenie_i_wdrażanie.ipynb)\n",
    "\n",
    "## Kursy bibliotek naukowych Pythona\n",
    "* [NumPy](narzędzia_numpy.ipynb)\n",
    "* [Matplotlib](narzędzia_matplotlib.ipynb)\n",
    "* [Pandas](narzędzia_pandas.ipynb)\n",
    "\n",
    "## Kursy matematyki\n",
    "* [Algebra liniowa](algebra_liniowa.ipynb)\n",
    "\n",
    "## Materiały dodatkowe\n",
    "Praca w toku\n",
    "\n",
    "## Różne\n",
    "* [Równania](wzory.ipynb) (lista równań umieszczonych w książce)\n"
   ]
  },
  {
   "cell_type": "markdown",
   "metadata": {},
   "source": [
    "## Wymogi wstępne\n",
    "### Co należy wiedzieć\n",
    "* **Python** – nie musisz być profesjonalnym programistą, ale musisz znać podstawy Pythona. Jeżeli ich nie znasz, warto rozpocząć od lektury oficjalnego [samouczka](https://docs.python.org/3/tutorial/).\n",
    "* **Biblioteki naukowe** – Będziemy korzystać z kilku popularnych bibliotek Pythona, zwłaszcza NumPy, matplotlib i pandas. Jeżeli nie miałeś z nimi do czynienia, zapoznaj się z materiałami podanymi w sekcji [Kursy bibliotek naukowych Pythona](#Kursy-bibliotek-naukowych-Pythona) (dotyczy to zwłaszcza biblioteki NumPy). I\n",
    "* **Matematyka** – Będziemy również korzystać z notacji algebry liniowej, analizy matematycznej, statystyki i teorii prawdopodobieństwa. Nie są to jakieś bardzo zaawansowane zagadnienia, dlatego jeżeli uczyłeś się wcześniej matematyki, nie powinieneś mieć z nimi problemu, ale jeżeli nigdy nie miałeś z nimi styczności albo musisz odświeżyć sobie pamięć, znajdziesz odpowiedni kurs w sekcji [Kursy matematyki](#Kursy-matematyki).\n",
    "\n",
    "### Aby uruchamiać przykłady\n",
    "* **Jupyter** – Niniejsze notatniki bazują na środowisku Jupyter. Możesz je otwierać jednym kliknięciem z poziomu wyspecjalizowanej platformy, takiej jak Binder, Deepnote czy Colaboratory (nie jest wymagana instalacja), możesz je przeglądać za pomocą przeglądarki Jupyter.org, albo możesz zainstalować wszystkie niezbędne elementy na komputerze."
   ]
  },
  {
   "cell_type": "code",
   "execution_count": null,
   "metadata": {
    "collapsed": true,
    "jupyter": {
     "outputs_hidden": true
    }
   },
   "outputs": [],
   "source": []
  }
 ],
 "metadata": {
  "kernelspec": {
   "display_name": "Python 3",
   "language": "python",
   "name": "python3"
  },
  "language_info": {
   "codemirror_mode": {
    "name": "ipython",
    "version": 3
   },
   "file_extension": ".py",
   "mimetype": "text/x-python",
   "name": "python",
   "nbconvert_exporter": "python",
   "pygments_lexer": "ipython3",
   "version": "3.7.5"
  },
  "nav_menu": {},
  "toc": {
   "navigate_menu": true,
   "number_sections": true,
   "sideBar": true,
   "threshold": 6,
   "toc_cell": false,
   "toc_section_display": "block",
   "toc_window_display": false
  }
 },
 "nbformat": 4,
 "nbformat_minor": 4
}
