{
  "nbformat": 4,
  "nbformat_minor": 0,
  "metadata": {
    "kernelspec": {
      "name": "python3",
      "display_name": "Python 3"
    },
    "language_info": {
      "codemirror_mode": {
        "name": "ipython",
        "version": 3
      },
      "file_extension": ".py",
      "mimetype": "text/x-python",
      "name": "python",
      "nbconvert_exporter": "python",
      "pygments_lexer": "ipython3",
      "version": "3.7.5"
    },
    "nav_menu": {},
    "toc": {
      "navigate_menu": true,
      "number_sections": true,
      "sideBar": true,
      "threshold": 6,
      "toc_cell": false,
      "toc_section_display": "block",
      "toc_window_display": false
    },
    "colab": {
      "name": "15_przetwarzanie_sekwencji_za_pomocą_sieci_rnn_i_cnn.ipynb",
      "provenance": []
    },
    "accelerator": "GPU"
  },
  "cells": [
    {
      "cell_type": "markdown",
      "metadata": {
        "id": "rjo4z2E1oVBT",
        "colab_type": "text"
      },
      "source": [
        "**Rozdział 15. Przetwarzanie sekwencji za pomocą sieci rekurencyjnych i splotowych**"
      ]
    },
    {
      "cell_type": "markdown",
      "metadata": {
        "id": "Fj1pH-sRoVBV",
        "colab_type": "text"
      },
      "source": [
        "_Notatnik ten zawiera przykładowy kod i rozwiązania ćwiczeń opisane w rozdziale 15._"
      ]
    },
    {
      "cell_type": "markdown",
      "metadata": {
        "id": "Qi2N8oPqoVBW",
        "colab_type": "text"
      },
      "source": [
        "<table align=\"left\">\n",
        "  <td>\n",
        "    <a target=\"_blank\" href=\"https://colab.research.google.com/github/ageron/handson-ml2/blob/master/15_processing_sequences_using_rnns_and_cnns.ipynb\"><img src=\"https://www.tensorflow.org/images/colab_logo_32px.png\" />Uruchom w Google Colab (wersja angielska)</a>\n",
        "  </td>\n",
        "</table>"
      ]
    },
    {
      "cell_type": "markdown",
      "metadata": {
        "id": "JdU8kcrsoVBX",
        "colab_type": "text"
      },
      "source": [
        "# Konfiguracja"
      ]
    },
    {
      "cell_type": "markdown",
      "metadata": {
        "id": "7TCUUVUuoVBX",
        "colab_type": "text"
      },
      "source": [
        "Importujmy najpierw kilka popularnych modułów, upewnijmy się, że będą wstawiane wykresy MatplotLib, a także przygotujmy funkcję zapisującą rysunki. Sprawdzimy także, czy jest zainstalowane środowisko Python 3.5 lub nowsze (możliwe, że kod będzie działał w środowisku Python 2.x, zostało ono jednak porzucone, dlatego zalecamy korzystanie ze środowiska Python 3), a także biblioteka Scikit-Learn 0.20 lub nowsza i TensorFlow 2.0 lub nowszy."
      ]
    },
    {
      "cell_type": "code",
      "metadata": {
        "id": "Tb9skBCGoVBY",
        "colab_type": "code",
        "colab": {
          "base_uri": "https://localhost:8080/",
          "height": 85
        },
        "outputId": "59035004-6a6a-4c21-e2bf-22517cf00d8a"
      },
      "source": [
        "# Wymagane środowisko Python ≥3.5\n",
        "import sys\n",
        "assert sys.version_info >= (3, 5)\n",
        "\n",
        "# Wymagana biblioteka Scikit-Learn ≥0.20\n",
        "import sklearn\n",
        "assert sklearn.__version__ >= \"0.20\"\n",
        "\n",
        "try:\n",
        "    # %tensorflow_version istnieje jedynie w środowisku Colab.\n",
        "    %tensorflow_version 2.x\n",
        "    IS_COLAB = True\n",
        "except Exception:\n",
        "    IS_COLAB = False\n",
        "\n",
        "# Wymagany moduł TensorFlow ≥2.0\n",
        "import tensorflow as tf\n",
        "from tensorflow import keras\n",
        "assert tf.__version__ >= \"2.0\"\n",
        "\n",
        "if not tf.test.is_gpu_available():\n",
        "    print(\"Nie wykryto procesora graficznego. Bez niego komórki LSTM i sieci splotowe mogą działać bardzo powoli.\")\n",
        "    if IS_COLAB:\n",
        "        print(\"Kliknij Runtime > Change runtime i wybierz akcelerator graficzny.\")\n",
        "\n",
        "# Importuje standardowe biblioteki\n",
        "import numpy as np\n",
        "import os\n",
        "\n",
        "# Aby wyniki uzyskiwane w tym notatniku były odtwarzalne\n",
        "np.random.seed(42)\n",
        "tf.random.set_seed(42)\n",
        "\n",
        "# Do rysowania ładnych wykresów\n",
        "%matplotlib inline\n",
        "import matplotlib as mpl\n",
        "import matplotlib.pyplot as plt\n",
        "mpl.rc('axes', labelsize=14)\n",
        "mpl.rc('xtick', labelsize=12)\n",
        "mpl.rc('ytick', labelsize=12)\n",
        "\n",
        "# Ścieżka zapisywania rysunków\n",
        "PROJECT_ROOT_DIR = \".\"\n",
        "CHAPTER_ID = \"R15\"\n",
        "IMAGES_PATH = os.path.join(PROJECT_ROOT_DIR, \"rysunki\", CHAPTER_ID)\n",
        "os.makedirs(IMAGES_PATH, exist_ok=True)\n",
        "\n",
        "def save_fig(fig_id, tight_layout=True, fig_extension=\"png\", resolution=300):\n",
        "    path = os.path.join(IMAGES_PATH, fig_id + \".\" + fig_extension)\n",
        "    print(\"Zapisywanie rysunku\", fig_id)\n",
        "    if tight_layout:\n",
        "        plt.tight_layout()\n",
        "    plt.savefig(path, format=fig_extension, dpi=resolution)"
      ],
      "execution_count": 1,
      "outputs": [
        {
          "output_type": "stream",
          "text": [
            "TensorFlow 2.x selected.\n",
            "WARNING:tensorflow:From <ipython-input-1-5b06bfff51b8>:20: is_gpu_available (from tensorflow.python.framework.test_util) is deprecated and will be removed in a future version.\n",
            "Instructions for updating:\n",
            "Use `tf.config.list_physical_devices('GPU')` instead.\n"
          ],
          "name": "stdout"
        }
      ]
    },
    {
      "cell_type": "markdown",
      "metadata": {
        "id": "3NZJf0hboVBc",
        "colab_type": "text"
      },
      "source": [
        "# Podstawowe sieci rekurencyjne"
      ]
    },
    {
      "cell_type": "markdown",
      "metadata": {
        "id": "oScwlZI_oVBc",
        "colab_type": "text"
      },
      "source": [
        "### Generowanie zestawu danych"
      ]
    },
    {
      "cell_type": "code",
      "metadata": {
        "id": "FQ-AeYhFoVBd",
        "colab_type": "code",
        "colab": {}
      },
      "source": [
        "def generate_time_series(batch_size, n_steps):\n",
        "    freq1, freq2, offsets1, offsets2 = np.random.rand(4, batch_size, 1)\n",
        "    time = np.linspace(0, 1, n_steps)\n",
        "    series = 0.5 * np.sin((time - offsets1) * (freq1 * 10 + 10))  #   fala 1.\n",
        "    series += 0.2 * np.sin((time - offsets2) * (freq2 * 20 + 20)) # + fala 2.\n",
        "    series += 0.1 * (np.random.rand(batch_size, n_steps) - 0.5)   # + szum\n",
        "    return series[..., np.newaxis].astype(np.float32)"
      ],
      "execution_count": 0,
      "outputs": []
    },
    {
      "cell_type": "code",
      "metadata": {
        "id": "3h8_lKHUoVBg",
        "colab_type": "code",
        "colab": {}
      },
      "source": [
        "np.random.seed(42)\n",
        "\n",
        "n_steps = 50\n",
        "series = generate_time_series(10000, n_steps + 1)\n",
        "X_train, y_train = series[:7000, :n_steps], series[:7000, -1]\n",
        "X_valid, y_valid = series[7000:9000, :n_steps], series[7000:9000, -1]\n",
        "X_test, y_test = series[9000:, :n_steps], series[9000:, -1]"
      ],
      "execution_count": 0,
      "outputs": []
    },
    {
      "cell_type": "code",
      "metadata": {
        "id": "FOQwPUT8oVBi",
        "colab_type": "code",
        "colab": {
          "base_uri": "https://localhost:8080/",
          "height": 34
        },
        "outputId": "c427aea8-24d0-4ca6-fe4c-54214adefe7a"
      },
      "source": [
        "X_train.shape, y_train.shape"
      ],
      "execution_count": 4,
      "outputs": [
        {
          "output_type": "execute_result",
          "data": {
            "text/plain": [
              "((7000, 50, 1), (7000, 1))"
            ]
          },
          "metadata": {
            "tags": []
          },
          "execution_count": 4
        }
      ]
    },
    {
      "cell_type": "code",
      "metadata": {
        "id": "LeITDCuFoVBm",
        "colab_type": "code",
        "colab": {
          "base_uri": "https://localhost:8080/",
          "height": 314
        },
        "outputId": "3685f523-40d8-4192-8160-9d52a5e38059"
      },
      "source": [
        "def plot_series(series, y=None, y_pred=None, x_label=\"$t$\", y_label=\"$x(t)$\"):\n",
        "    plt.plot(series, \".-\")\n",
        "    if y is not None:\n",
        "        plt.plot(n_steps, y, \"bx\", markersize=10)\n",
        "    if y_pred is not None:\n",
        "        plt.plot(n_steps, y_pred, \"ro\")\n",
        "    plt.grid(True)\n",
        "    if x_label:\n",
        "        plt.xlabel(x_label, fontsize=16)\n",
        "    if y_label:\n",
        "        plt.ylabel(y_label, fontsize=16, rotation=0)\n",
        "    plt.hlines(0, 0, 100, linewidth=1)\n",
        "    plt.axis([0, n_steps + 1, -1, 1])\n",
        "\n",
        "fig, axes = plt.subplots(nrows=1, ncols=3, sharey=True, figsize=(12, 4))\n",
        "for col in range(3):\n",
        "    plt.sca(axes[col])\n",
        "    plot_series(X_valid[col, :, 0], y_valid[col, 0],\n",
        "                y_label=(\"$x(t)$\" if col==0 else None))\n",
        "save_fig(\"r_15_6\")\n",
        "plt.show()"
      ],
      "execution_count": 5,
      "outputs": [
        {
          "output_type": "stream",
          "text": [
            "Zapisywanie rysunku r_15_6\n"
          ],
          "name": "stdout"
        },
        {
          "output_type": "display_data",
          "data": {
            "image/png": "[encoded data removed]",
            "text/plain": [
              "<Figure size 864x288 with 3 Axes>"
            ]
          },
          "metadata": {
            "tags": []
          }
        }
      ]
    },
    {
      "cell_type": "markdown",
      "metadata": {
        "id": "ueSHL_IpoVBp",
        "colab_type": "text"
      },
      "source": [
        "### Obliczenia bazowe"
      ]
    },
    {
      "cell_type": "markdown",
      "metadata": {
        "id": "iOwAEZK2oVBq",
        "colab_type": "text"
      },
      "source": [
        "Prognozy naiwne (prognozowanie ostatniej zaobserwowanej wartości):"
      ]
    },
    {
      "cell_type": "code",
      "metadata": {
        "id": "lFOdPZCpoVBq",
        "colab_type": "code",
        "colab": {
          "base_uri": "https://localhost:8080/",
          "height": 34
        },
        "outputId": "b47d391e-8f3e-4795-9ba2-8aa1bf5e1fbf"
      },
      "source": [
        "y_pred = X_valid[:, -1]\n",
        "np.mean(keras.losses.mean_squared_error(y_valid, y_pred))"
      ],
      "execution_count": 6,
      "outputs": [
        {
          "output_type": "execute_result",
          "data": {
            "text/plain": [
              "0.020211367"
            ]
          },
          "metadata": {
            "tags": []
          },
          "execution_count": 6
        }
      ]
    },
    {
      "cell_type": "code",
      "metadata": {
        "id": "TPc-a2WDoVBt",
        "colab_type": "code",
        "colab": {
          "base_uri": "https://localhost:8080/",
          "height": 293
        },
        "outputId": "6408451e-fbc4-41e6-b23b-d427c45728ff"
      },
      "source": [
        "plot_series(X_valid[0, :, 0], y_valid[0, 0], y_pred[0, 0])\n",
        "plt.show()"
      ],
      "execution_count": 7,
      "outputs": [
        {
          "output_type": "display_data",
          "data": {
            "image/png": "[encoded data removed]",
            "text/plain": [
              "<Figure size 432x288 with 1 Axes>"
            ]
          },
          "metadata": {
            "tags": []
          }
        }
      ]
    },
    {
      "cell_type": "markdown",
      "metadata": {
        "id": "GrAG9i3VoVBv",
        "colab_type": "text"
      },
      "source": [
        "Prognozy liniowe:"
      ]
    },
    {
      "cell_type": "code",
      "metadata": {
        "id": "h0Fn0iLnoVBw",
        "colab_type": "code",
        "colab": {
          "base_uri": "https://localhost:8080/",
          "height": 714
        },
        "outputId": "ed228c10-b515-4749-c493-8cfd5d4c2696"
      },
      "source": [
        "np.random.seed(42)\n",
        "tf.random.set_seed(42)\n",
        "\n",
        "model = keras.models.Sequential([\n",
        "    keras.layers.Flatten(input_shape=[50, 1]),\n",
        "    keras.layers.Dense(1)\n",
        "])\n",
        "\n",
        "model.compile(loss=\"mse\", optimizer=\"adam\")\n",
        "history = model.fit(X_train, y_train, epochs=20,\n",
        "                    validation_data=(X_valid, y_valid))"
      ],
      "execution_count": 8,
      "outputs": [
        {
          "output_type": "stream",
          "text": [
            "Train on 7000 samples, validate on 2000 samples\n",
            "Epoch 1/20\n",
            "7000/7000 [==============================] - 3s 365us/sample - loss: 0.1004 - val_loss: 0.0559\n",
            "Epoch 2/20\n",
            "7000/7000 [==============================] - 1s 93us/sample - loss: 0.0386 - val_loss: 0.0269\n",
            "Epoch 3/20\n",
            "7000/7000 [==============================] - 1s 90us/sample - loss: 0.0205 - val_loss: 0.0162\n",
            "Epoch 4/20\n",
            "7000/7000 [==============================] - 1s 88us/sample - loss: 0.0133 - val_loss: 0.0118\n",
            "Epoch 5/20\n",
            "7000/7000 [==============================] - 1s 92us/sample - loss: 0.0104 - val_loss: 0.0098\n",
            "Epoch 6/20\n",
            "7000/7000 [==============================] - 1s 91us/sample - loss: 0.0089 - val_loss: 0.0087\n",
            "Epoch 7/20\n",
            "7000/7000 [==============================] - 1s 93us/sample - loss: 0.0080 - val_loss: 0.0078\n",
            "Epoch 8/20\n",
            "7000/7000 [==============================] - 1s 91us/sample - loss: 0.0073 - val_loss: 0.0071\n",
            "Epoch 9/20\n",
            "7000/7000 [==============================] - 1s 89us/sample - loss: 0.0066 - val_loss: 0.0065\n",
            "Epoch 10/20\n",
            "7000/7000 [==============================] - 1s 92us/sample - loss: 0.0061 - val_loss: 0.0061\n",
            "Epoch 11/20\n",
            "7000/7000 [==============================] - 1s 93us/sample - loss: 0.0058 - val_loss: 0.0058\n",
            "Epoch 12/20\n",
            "7000/7000 [==============================] - 1s 86us/sample - loss: 0.0054 - val_loss: 0.0055\n",
            "Epoch 13/20\n",
            "7000/7000 [==============================] - 1s 86us/sample - loss: 0.0052 - val_loss: 0.0052\n",
            "Epoch 14/20\n",
            "7000/7000 [==============================] - 1s 87us/sample - loss: 0.0050 - val_loss: 0.0049\n",
            "Epoch 15/20\n",
            "7000/7000 [==============================] - 1s 86us/sample - loss: 0.0048 - val_loss: 0.0047\n",
            "Epoch 16/20\n",
            "7000/7000 [==============================] - 1s 87us/sample - loss: 0.0046 - val_loss: 0.0046\n",
            "Epoch 17/20\n",
            "7000/7000 [==============================] - 1s 84us/sample - loss: 0.0045 - val_loss: 0.0045\n",
            "Epoch 18/20\n",
            "7000/7000 [==============================] - 1s 83us/sample - loss: 0.0044 - val_loss: 0.0046\n",
            "Epoch 19/20\n",
            "7000/7000 [==============================] - 1s 85us/sample - loss: 0.0043 - val_loss: 0.0043\n",
            "Epoch 20/20\n",
            "7000/7000 [==============================] - 1s 84us/sample - loss: 0.0042 - val_loss: 0.0041\n"
          ],
          "name": "stdout"
        }
      ]
    },
    {
      "cell_type": "code",
      "metadata": {
        "id": "S2IKYVFNoVBz",
        "colab_type": "code",
        "colab": {
          "base_uri": "https://localhost:8080/",
          "height": 51
        },
        "outputId": "ec44abf4-1d4b-4d1f-b799-36e47881cb5e"
      },
      "source": [
        "model.evaluate(X_valid, y_valid)"
      ],
      "execution_count": 9,
      "outputs": [
        {
          "output_type": "stream",
          "text": [
            "2000/2000 [==============================] - 0s 47us/sample - loss: 0.0041\n"
          ],
          "name": "stdout"
        },
        {
          "output_type": "execute_result",
          "data": {
            "text/plain": [
              "0.004145486194640398"
            ]
          },
          "metadata": {
            "tags": []
          },
          "execution_count": 9
        }
      ]
    },
    {
      "cell_type": "code",
      "metadata": {
        "id": "Rp_EyZmRoVB1",
        "colab_type": "code",
        "colab": {
          "base_uri": "https://localhost:8080/",
          "height": 291
        },
        "outputId": "4b629fcf-95ee-4d0c-862b-f303f827c04c"
      },
      "source": [
        "def plot_learning_curves(loss, val_loss):\n",
        "    plt.plot(np.arange(len(loss)) + 0.5, loss, \"b.-\", label=\"F. straty uczenia\")\n",
        "    plt.plot(np.arange(len(val_loss)) + 1, val_loss, \"r.-\", label=\"F. straty walidacji\")\n",
        "    plt.gca().xaxis.set_major_locator(mpl.ticker.MaxNLocator(integer=True))\n",
        "    plt.axis([1, 20, 0, 0.05])\n",
        "    plt.legend(fontsize=14)\n",
        "    plt.xlabel(\"Epoki\")\n",
        "    plt.ylabel(\"Funkcja straty\")\n",
        "    plt.grid(True)\n",
        "\n",
        "plot_learning_curves(history.history[\"loss\"], history.history[\"val_loss\"])\n",
        "plt.show()"
      ],
      "execution_count": 10,
      "outputs": [
        {
          "output_type": "display_data",
          "data": {
            "image/png": "[encoded data removed]",
            "text/plain": [
              "<Figure size 432x288 with 1 Axes>"
            ]
          },
          "metadata": {
            "tags": []
          }
        }
      ]
    },
    {
      "cell_type": "code",
      "metadata": {
        "id": "NnxZdzjXoVB4",
        "colab_type": "code",
        "colab": {
          "base_uri": "https://localhost:8080/",
          "height": 293
        },
        "outputId": "68eb1899-eade-4bdf-d32b-66d3421c9016"
      },
      "source": [
        "y_pred = model.predict(X_valid)\n",
        "plot_series(X_valid[0, :, 0], y_valid[0, 0], y_pred[0, 0])\n",
        "plt.show()"
      ],
      "execution_count": 11,
      "outputs": [
        {
          "output_type": "display_data",
          "data": {
            "image/png": "[encoded data removed]",
            "text/plain": [
              "<Figure size 432x288 with 1 Axes>"
            ]
          },
          "metadata": {
            "tags": []
          }
        }
      ]
    },
    {
      "cell_type": "markdown",
      "metadata": {
        "id": "YCjh7qpWoVB6",
        "colab_type": "text"
      },
      "source": [
        "### Korzystanie z prostej sieci rekurencyjnej"
      ]
    },
    {
      "cell_type": "code",
      "metadata": {
        "id": "8HUgN_LroVB7",
        "colab_type": "code",
        "colab": {
          "base_uri": "https://localhost:8080/",
          "height": 714
        },
        "outputId": "7bff7bb4-c797-4068-9512-b5a0d708e670"
      },
      "source": [
        "np.random.seed(42)\n",
        "tf.random.set_seed(42)\n",
        "\n",
        "model = keras.models.Sequential([\n",
        "    keras.layers.SimpleRNN(1, input_shape=[None, 1])\n",
        "])\n",
        "\n",
        "optimizer = keras.optimizers.Adam(lr=0.005)\n",
        "model.compile(loss=\"mse\", optimizer=optimizer)\n",
        "history = model.fit(X_train, y_train, epochs=20,\n",
        "                    validation_data=(X_valid, y_valid))"
      ],
      "execution_count": 12,
      "outputs": [
        {
          "output_type": "stream",
          "text": [
            "Train on 7000 samples, validate on 2000 samples\n",
            "Epoch 1/20\n",
            "7000/7000 [==============================] - 8s 1ms/sample - loss: 0.0972 - val_loss: 0.0491\n",
            "Epoch 2/20\n",
            "7000/7000 [==============================] - 7s 1ms/sample - loss: 0.0372 - val_loss: 0.0298\n",
            "Epoch 3/20\n",
            "7000/7000 [==============================] - 7s 1ms/sample - loss: 0.0255 - val_loss: 0.0220\n",
            "Epoch 4/20\n",
            "7000/7000 [==============================] - 7s 1ms/sample - loss: 0.0200 - val_loss: 0.0178\n",
            "Epoch 5/20\n",
            "7000/7000 [==============================] - 7s 1ms/sample - loss: 0.0167 - val_loss: 0.0152\n",
            "Epoch 6/20\n",
            "7000/7000 [==============================] - 7s 1ms/sample - loss: 0.0147 - val_loss: 0.0135\n",
            "Epoch 7/20\n",
            "7000/7000 [==============================] - 7s 1ms/sample - loss: 0.0133 - val_loss: 0.0124\n",
            "Epoch 8/20\n",
            "7000/7000 [==============================] - 7s 1ms/sample - loss: 0.0124 - val_loss: 0.0117\n",
            "Epoch 9/20\n",
            "7000/7000 [==============================] - 7s 974us/sample - loss: 0.0119 - val_loss: 0.0113\n",
            "Epoch 10/20\n",
            "7000/7000 [==============================] - 7s 977us/sample - loss: 0.0116 - val_loss: 0.0110\n",
            "Epoch 11/20\n",
            "7000/7000 [==============================] - 7s 981us/sample - loss: 0.0114 - val_loss: 0.0110\n",
            "Epoch 12/20\n",
            "7000/7000 [==============================] - 7s 1ms/sample - loss: 0.0114 - val_loss: 0.0109\n",
            "Epoch 13/20\n",
            "7000/7000 [==============================] - 7s 967us/sample - loss: 0.0114 - val_loss: 0.0109\n",
            "Epoch 14/20\n",
            "7000/7000 [==============================] - 7s 983us/sample - loss: 0.0114 - val_loss: 0.0109\n",
            "Epoch 15/20\n",
            "7000/7000 [==============================] - 7s 953us/sample - loss: 0.0114 - val_loss: 0.0109\n",
            "Epoch 16/20\n",
            "7000/7000 [==============================] - 7s 995us/sample - loss: 0.0114 - val_loss: 0.0109\n",
            "Epoch 17/20\n",
            "7000/7000 [==============================] - 7s 980us/sample - loss: 0.0114 - val_loss: 0.0109\n",
            "Epoch 18/20\n",
            "7000/7000 [==============================] - 7s 961us/sample - loss: 0.0114 - val_loss: 0.0109\n",
            "Epoch 19/20\n",
            "7000/7000 [==============================] - 7s 1ms/sample - loss: 0.0114 - val_loss: 0.0109\n",
            "Epoch 20/20\n",
            "7000/7000 [==============================] - 7s 991us/sample - loss: 0.0114 - val_loss: 0.0109\n"
          ],
          "name": "stdout"
        }
      ]
    },
    {
      "cell_type": "code",
      "metadata": {
        "id": "YaKtHkMnoVB-",
        "colab_type": "code",
        "colab": {
          "base_uri": "https://localhost:8080/",
          "height": 51
        },
        "outputId": "398ef2e6-a1ca-4e15-f0b9-816bec28ab7f"
      },
      "source": [
        "model.evaluate(X_valid, y_valid)"
      ],
      "execution_count": 13,
      "outputs": [
        {
          "output_type": "stream",
          "text": [
            "2000/2000 [==============================] - 0s 174us/sample - loss: 0.0109\n"
          ],
          "name": "stdout"
        },
        {
          "output_type": "execute_result",
          "data": {
            "text/plain": [
              "0.010885455287992955"
            ]
          },
          "metadata": {
            "tags": []
          },
          "execution_count": 13
        }
      ]
    },
    {
      "cell_type": "code",
      "metadata": {
        "id": "0SNsoJRmoVCA",
        "colab_type": "code",
        "colab": {
          "base_uri": "https://localhost:8080/",
          "height": 291
        },
        "outputId": "4ff0ae2f-7d17-44be-9bff-97f249d2db7a"
      },
      "source": [
        "plot_learning_curves(history.history[\"loss\"], history.history[\"val_loss\"])\n",
        "plt.show()"
      ],
      "execution_count": 14,
      "outputs": [
        {
          "output_type": "display_data",
          "data": {
            "image/png": "[encoded data removed]",
            "text/plain": [
              "<Figure size 432x288 with 1 Axes>"
            ]
          },
          "metadata": {
            "tags": []
          }
        }
      ]
    },
    {
      "cell_type": "code",
      "metadata": {
        "id": "3wzITmg5oVCC",
        "colab_type": "code",
        "colab": {
          "base_uri": "https://localhost:8080/",
          "height": 293
        },
        "outputId": "6669be07-eeae-471a-d9f0-d74cf3452b86"
      },
      "source": [
        "y_pred = model.predict(X_valid)\n",
        "plot_series(X_valid[0, :, 0], y_valid[0, 0], y_pred[0, 0])\n",
        "plt.show()"
      ],
      "execution_count": 15,
      "outputs": [
        {
          "output_type": "display_data",
          "data": {
            "image/png": "[encoded data removed]",
            "text/plain": [
              "<Figure size 432x288 with 1 Axes>"
            ]
          },
          "metadata": {
            "tags": []
          }
        }
      ]
    },
    {
      "cell_type": "markdown",
      "metadata": {
        "id": "oZ1T-xaooVCF",
        "colab_type": "text"
      },
      "source": [
        "## Głębokie sieci rekurencyjne"
      ]
    },
    {
      "cell_type": "code",
      "metadata": {
        "id": "GeMGRmx0oVCF",
        "colab_type": "code",
        "colab": {
          "base_uri": "https://localhost:8080/",
          "height": 714
        },
        "outputId": "84116ee2-b57a-436a-bb5a-f2ffe62c2f3f"
      },
      "source": [
        "np.random.seed(42)\n",
        "tf.random.set_seed(42)\n",
        "\n",
        "model = keras.models.Sequential([\n",
        "    keras.layers.SimpleRNN(20, return_sequences=True, input_shape=[None, 1]),\n",
        "    keras.layers.SimpleRNN(20, return_sequences=True),\n",
        "    keras.layers.SimpleRNN(1)\n",
        "])\n",
        "\n",
        "model.compile(loss=\"mse\", optimizer=\"adam\")\n",
        "history = model.fit(X_train, y_train, epochs=20,\n",
        "                    validation_data=(X_valid, y_valid))"
      ],
      "execution_count": 16,
      "outputs": [
        {
          "output_type": "stream",
          "text": [
            "Train on 7000 samples, validate on 2000 samples\n",
            "Epoch 1/20\n",
            "7000/7000 [==============================] - 23s 3ms/sample - loss: 0.0433 - val_loss: 0.0073\n",
            "Epoch 2/20\n",
            "7000/7000 [==============================] - 21s 3ms/sample - loss: 0.0066 - val_loss: 0.0052\n",
            "Epoch 3/20\n",
            "7000/7000 [==============================] - 21s 3ms/sample - loss: 0.0051 - val_loss: 0.0043\n",
            "Epoch 4/20\n",
            "7000/7000 [==============================] - 21s 3ms/sample - loss: 0.0045 - val_loss: 0.0044\n",
            "Epoch 5/20\n",
            "7000/7000 [==============================] - 20s 3ms/sample - loss: 0.0040 - val_loss: 0.0038\n",
            "Epoch 6/20\n",
            "7000/7000 [==============================] - 21s 3ms/sample - loss: 0.0038 - val_loss: 0.0042\n",
            "Epoch 7/20\n",
            "7000/7000 [==============================] - 21s 3ms/sample - loss: 0.0037 - val_loss: 0.0033\n",
            "Epoch 8/20\n",
            "7000/7000 [==============================] - 20s 3ms/sample - loss: 0.0036 - val_loss: 0.0035\n",
            "Epoch 9/20\n",
            "7000/7000 [==============================] - 21s 3ms/sample - loss: 0.0034 - val_loss: 0.0038\n",
            "Epoch 10/20\n",
            "7000/7000 [==============================] - 21s 3ms/sample - loss: 0.0035 - val_loss: 0.0034\n",
            "Epoch 11/20\n",
            "7000/7000 [==============================] - 20s 3ms/sample - loss: 0.0034 - val_loss: 0.0031\n",
            "Epoch 12/20\n",
            "7000/7000 [==============================] - 20s 3ms/sample - loss: 0.0034 - val_loss: 0.0030\n",
            "Epoch 13/20\n",
            "7000/7000 [==============================] - 20s 3ms/sample - loss: 0.0034 - val_loss: 0.0031\n",
            "Epoch 14/20\n",
            "7000/7000 [==============================] - 20s 3ms/sample - loss: 0.0033 - val_loss: 0.0039\n",
            "Epoch 15/20\n",
            "7000/7000 [==============================] - 21s 3ms/sample - loss: 0.0033 - val_loss: 0.0030\n",
            "Epoch 16/20\n",
            "7000/7000 [==============================] - 20s 3ms/sample - loss: 0.0033 - val_loss: 0.0033\n",
            "Epoch 17/20\n",
            "7000/7000 [==============================] - 19s 3ms/sample - loss: 0.0034 - val_loss: 0.0033\n",
            "Epoch 18/20\n",
            "7000/7000 [==============================] - 20s 3ms/sample - loss: 0.0032 - val_loss: 0.0030\n",
            "Epoch 19/20\n",
            "7000/7000 [==============================] - 19s 3ms/sample - loss: 0.0032 - val_loss: 0.0032\n",
            "Epoch 20/20\n",
            "7000/7000 [==============================] - 20s 3ms/sample - loss: 0.0032 - val_loss: 0.0029\n"
          ],
          "name": "stdout"
        }
      ]
    },
    {
      "cell_type": "code",
      "metadata": {
        "id": "w48j3FLuoVCI",
        "colab_type": "code",
        "colab": {
          "base_uri": "https://localhost:8080/",
          "height": 51
        },
        "outputId": "29616681-a1ad-4c43-8d50-e83713227af2"
      },
      "source": [
        "model.evaluate(X_valid, y_valid)"
      ],
      "execution_count": 17,
      "outputs": [
        {
          "output_type": "stream",
          "text": [
            "2000/2000 [==============================] - 1s 372us/sample - loss: 0.0029\n"
          ],
          "name": "stdout"
        },
        {
          "output_type": "execute_result",
          "data": {
            "text/plain": [
              "0.002934106146916747"
            ]
          },
          "metadata": {
            "tags": []
          },
          "execution_count": 17
        }
      ]
    },
    {
      "cell_type": "code",
      "metadata": {
        "id": "sNEhft1UoVCM",
        "colab_type": "code",
        "colab": {
          "base_uri": "https://localhost:8080/",
          "height": 291
        },
        "outputId": "480478f9-4654-4d4f-855e-8a86847e5aaf"
      },
      "source": [
        "plot_learning_curves(history.history[\"loss\"], history.history[\"val_loss\"])\n",
        "plt.show()"
      ],
      "execution_count": 18,
      "outputs": [
        {
          "output_type": "display_data",
          "data": {
            "image/png": "[encoded data removed]",
            "text/plain": [
              "<Figure size 432x288 with 1 Axes>"
            ]
          },
          "metadata": {
            "tags": []
          }
        }
      ]
    },
    {
      "cell_type": "code",
      "metadata": {
        "id": "CxGHLbAloVCO",
        "colab_type": "code",
        "colab": {
          "base_uri": "https://localhost:8080/",
          "height": 293
        },
        "outputId": "7398ff54-56ea-4b9c-a5de-ffb8d05c43a4"
      },
      "source": [
        "y_pred = model.predict(X_valid)\n",
        "plot_series(X_valid[0, :, 0], y_valid[0, 0], y_pred[0, 0])\n",
        "plt.show()"
      ],
      "execution_count": 19,
      "outputs": [
        {
          "output_type": "display_data",
          "data": {
            "image/png": "[encoded data removed]",
            "text/plain": [
              "<Figure size 432x288 with 1 Axes>"
            ]
          },
          "metadata": {
            "tags": []
          }
        }
      ]
    },
    {
      "cell_type": "markdown",
      "metadata": {
        "id": "jdhsjJ93oVCR",
        "colab_type": "text"
      },
      "source": [
        "Sprawmy, aby druga warstwa `SimpleRNN` zwracała tylko ostatni wynik:"
      ]
    },
    {
      "cell_type": "code",
      "metadata": {
        "id": "T387ysMroVCR",
        "colab_type": "code",
        "colab": {
          "base_uri": "https://localhost:8080/",
          "height": 714
        },
        "outputId": "aad1c3a2-7b17-4bec-c5d3-4c955843b790"
      },
      "source": [
        "np.random.seed(42)\n",
        "tf.random.set_seed(42)\n",
        "\n",
        "model = keras.models.Sequential([\n",
        "    keras.layers.SimpleRNN(20, return_sequences=True, input_shape=[None, 1]),\n",
        "    keras.layers.SimpleRNN(20),\n",
        "    keras.layers.Dense(1)\n",
        "])\n",
        "\n",
        "model.compile(loss=\"mse\", optimizer=\"adam\")\n",
        "history = model.fit(X_train, y_train, epochs=20,\n",
        "                    validation_data=(X_valid, y_valid))"
      ],
      "execution_count": 20,
      "outputs": [
        {
          "output_type": "stream",
          "text": [
            "Train on 7000 samples, validate on 2000 samples\n",
            "Epoch 1/20\n",
            "7000/7000 [==============================] - 14s 2ms/sample - loss: 0.0221 - val_loss: 0.0053\n",
            "Epoch 2/20\n",
            "7000/7000 [==============================] - 14s 2ms/sample - loss: 0.0043 - val_loss: 0.0037\n",
            "Epoch 3/20\n",
            "7000/7000 [==============================] - 14s 2ms/sample - loss: 0.0035 - val_loss: 0.0032\n",
            "Epoch 4/20\n",
            "7000/7000 [==============================] - 14s 2ms/sample - loss: 0.0033 - val_loss: 0.0032\n",
            "Epoch 5/20\n",
            "7000/7000 [==============================] - 14s 2ms/sample - loss: 0.0032 - val_loss: 0.0030\n",
            "Epoch 6/20\n",
            "7000/7000 [==============================] - 13s 2ms/sample - loss: 0.0031 - val_loss: 0.0030\n",
            "Epoch 7/20\n",
            "7000/7000 [==============================] - 13s 2ms/sample - loss: 0.0031 - val_loss: 0.0028\n",
            "Epoch 8/20\n",
            "7000/7000 [==============================] - 13s 2ms/sample - loss: 0.0031 - val_loss: 0.0028\n",
            "Epoch 9/20\n",
            "7000/7000 [==============================] - 13s 2ms/sample - loss: 0.0030 - val_loss: 0.0029\n",
            "Epoch 10/20\n",
            "7000/7000 [==============================] - 13s 2ms/sample - loss: 0.0031 - val_loss: 0.0030\n",
            "Epoch 11/20\n",
            "7000/7000 [==============================] - 13s 2ms/sample - loss: 0.0030 - val_loss: 0.0029\n",
            "Epoch 12/20\n",
            "7000/7000 [==============================] - 14s 2ms/sample - loss: 0.0029 - val_loss: 0.0027\n",
            "Epoch 13/20\n",
            "7000/7000 [==============================] - 14s 2ms/sample - loss: 0.0030 - val_loss: 0.0030\n",
            "Epoch 14/20\n",
            "7000/7000 [==============================] - 13s 2ms/sample - loss: 0.0030 - val_loss: 0.0030\n",
            "Epoch 15/20\n",
            "7000/7000 [==============================] - 13s 2ms/sample - loss: 0.0029 - val_loss: 0.0027\n",
            "Epoch 16/20\n",
            "7000/7000 [==============================] - 13s 2ms/sample - loss: 0.0030 - val_loss: 0.0028\n",
            "Epoch 17/20\n",
            "7000/7000 [==============================] - 13s 2ms/sample - loss: 0.0029 - val_loss: 0.0031\n",
            "Epoch 18/20\n",
            "7000/7000 [==============================] - 13s 2ms/sample - loss: 0.0030 - val_loss: 0.0027\n",
            "Epoch 19/20\n",
            "7000/7000 [==============================] - 13s 2ms/sample - loss: 0.0029 - val_loss: 0.0030\n",
            "Epoch 20/20\n",
            "7000/7000 [==============================] - 13s 2ms/sample - loss: 0.0029 - val_loss: 0.0026\n"
          ],
          "name": "stdout"
        }
      ]
    },
    {
      "cell_type": "code",
      "metadata": {
        "id": "sXCvlJoHoVCT",
        "colab_type": "code",
        "colab": {
          "base_uri": "https://localhost:8080/",
          "height": 51
        },
        "outputId": "4899869c-0980-43c7-fc62-2e97dbb355af"
      },
      "source": [
        "model.evaluate(X_valid, y_valid)"
      ],
      "execution_count": 21,
      "outputs": [
        {
          "output_type": "stream",
          "text": [
            "2000/2000 [==============================] - 1s 273us/sample - loss: 0.0026\n"
          ],
          "name": "stdout"
        },
        {
          "output_type": "execute_result",
          "data": {
            "text/plain": [
              "0.0025768041349947452"
            ]
          },
          "metadata": {
            "tags": []
          },
          "execution_count": 21
        }
      ]
    },
    {
      "cell_type": "code",
      "metadata": {
        "id": "kFwV_PQ7oVCV",
        "colab_type": "code",
        "colab": {
          "base_uri": "https://localhost:8080/",
          "height": 291
        },
        "outputId": "9101540a-fefe-4a2b-aec9-344de8112ca2"
      },
      "source": [
        "plot_learning_curves(history.history[\"loss\"], history.history[\"val_loss\"])\n",
        "plt.show()"
      ],
      "execution_count": 22,
      "outputs": [
        {
          "output_type": "display_data",
          "data": {
            "image/png": "[encoded data removed]",
            "text/plain": [
              "<Figure size 432x288 with 1 Axes>"
            ]
          },
          "metadata": {
            "tags": []
          }
        }
      ]
    },
    {
      "cell_type": "code",
      "metadata": {
        "id": "dNtTC9wnoVCY",
        "colab_type": "code",
        "colab": {
          "base_uri": "https://localhost:8080/",
          "height": 293
        },
        "outputId": "b3666314-43ea-4305-dd3c-97d139f64a28"
      },
      "source": [
        "y_pred = model.predict(X_valid)\n",
        "plot_series(X_valid[0, :, 0], y_valid[0, 0], y_pred[0, 0])\n",
        "plt.show()"
      ],
      "execution_count": 23,
      "outputs": [
        {
          "output_type": "display_data",
          "data": {
            "image/png": "[encoded data removed]",
            "text/plain": [
              "<Figure size 432x288 with 1 Axes>"
            ]
          },
          "metadata": {
            "tags": []
          }
        }
      ]
    },
    {
      "cell_type": "markdown",
      "metadata": {
        "id": "TgkSgliRoVCa",
        "colab_type": "text"
      },
      "source": [
        "## Prognozowanie kilka taktów naprzód"
      ]
    },
    {
      "cell_type": "code",
      "metadata": {
        "id": "xTcpVVqboVCa",
        "colab_type": "code",
        "colab": {}
      },
      "source": [
        "np.random.seed(43) # nie 42, ponieważ otrzymalibyśmy w ten sposób pierwszy szereg w zestawie uczącym\n",
        "\n",
        "series = generate_time_series(1, n_steps + 10)\n",
        "X_new, Y_new = series[:, :n_steps], series[:, n_steps:]\n",
        "X = X_new\n",
        "for step_ahead in range(10):\n",
        "    y_pred_one = model.predict(X[:, step_ahead:])[:, np.newaxis, :]\n",
        "    X = np.concatenate([X, y_pred_one], axis=1)\n",
        "\n",
        "Y_pred = X[:, n_steps:]"
      ],
      "execution_count": 0,
      "outputs": []
    },
    {
      "cell_type": "code",
      "metadata": {
        "id": "XG0E9zK8oVCd",
        "colab_type": "code",
        "colab": {
          "base_uri": "https://localhost:8080/",
          "height": 34
        },
        "outputId": "8c1bbe6a-5a8e-48e0-bca0-21a91faef166"
      },
      "source": [
        "Y_pred.shape"
      ],
      "execution_count": 25,
      "outputs": [
        {
          "output_type": "execute_result",
          "data": {
            "text/plain": [
              "(1, 10, 1)"
            ]
          },
          "metadata": {
            "tags": []
          },
          "execution_count": 25
        }
      ]
    },
    {
      "cell_type": "code",
      "metadata": {
        "id": "1tCElUC-oVCh",
        "colab_type": "code",
        "colab": {
          "base_uri": "https://localhost:8080/",
          "height": 314
        },
        "outputId": "a695ef1c-f2ef-414b-8072-fa3e4e6e8def"
      },
      "source": [
        "def plot_multiple_forecasts(X, Y, Y_pred):\n",
        "    n_steps = X.shape[1]\n",
        "    ahead = Y.shape[1]\n",
        "    plot_series(X[0, :, 0])\n",
        "    plt.plot(np.arange(n_steps, n_steps + ahead), Y[0, :, 0], \"ro-\", label=\"Rzeczywiste\")\n",
        "    plt.plot(np.arange(n_steps, n_steps + ahead), Y_pred[0, :, 0], \"bx-\", label=\"Prognozowane\", markersize=10)\n",
        "    plt.axis([0, n_steps + ahead, -1, 1])\n",
        "    plt.legend(fontsize=14)\n",
        "\n",
        "plot_multiple_forecasts(X_new, Y_new, Y_pred)\n",
        "save_fig(\"r_15_8\")\n",
        "plt.show()"
      ],
      "execution_count": 26,
      "outputs": [
        {
          "output_type": "stream",
          "text": [
            "Zapisywanie rysunku r_15_8\n"
          ],
          "name": "stdout"
        },
        {
          "output_type": "display_data",
          "data": {
            "image/png": "[encoded data removed]",
            "text/plain": [
              "<Figure size 432x288 with 1 Axes>"
            ]
          },
          "metadata": {
            "tags": []
          }
        }
      ]
    },
    {
      "cell_type": "markdown",
      "metadata": {
        "id": "iVMh6gqPoVCj",
        "colab_type": "text"
      },
      "source": [
        "Użyjmy teraz tego modelu do prognozowania dziesięciu następnych wartości. Musimy najpierw ponownie wygenerować sekwencje składające się z co najmniej dziewięciu taktów."
      ]
    },
    {
      "cell_type": "code",
      "metadata": {
        "id": "KcrF-OKqoVCj",
        "colab_type": "code",
        "colab": {}
      },
      "source": [
        "np.random.seed(42)\n",
        "\n",
        "n_steps = 50\n",
        "series = generate_time_series(10000, n_steps + 10)\n",
        "X_train, Y_train = series[:7000, :n_steps], series[:7000, -10:, 0]\n",
        "X_valid, Y_valid = series[7000:9000, :n_steps], series[7000:9000, -10:, 0]\n",
        "X_test, Y_test = series[9000:, :n_steps], series[9000:, -10:, 0]"
      ],
      "execution_count": 0,
      "outputs": []
    },
    {
      "cell_type": "markdown",
      "metadata": {
        "id": "fxK9yryRoVCm",
        "colab_type": "text"
      },
      "source": [
        "Prognozujmy teraz kolejno dziesięć następnych wartości:"
      ]
    },
    {
      "cell_type": "code",
      "metadata": {
        "id": "KreKzdOooVCn",
        "colab_type": "code",
        "colab": {}
      },
      "source": [
        "X = X_valid\n",
        "for step_ahead in range(10):\n",
        "    y_pred_one = model.predict(X)[:, np.newaxis, :]\n",
        "    X = np.concatenate([X, y_pred_one], axis=1)\n",
        "\n",
        "Y_pred = X[:, n_steps:, 0]"
      ],
      "execution_count": 0,
      "outputs": []
    },
    {
      "cell_type": "code",
      "metadata": {
        "id": "r7EMIxlooVCp",
        "colab_type": "code",
        "colab": {
          "base_uri": "https://localhost:8080/",
          "height": 34
        },
        "outputId": "1f8e055c-3b0e-4693-dd6e-315962013426"
      },
      "source": [
        "Y_pred.shape"
      ],
      "execution_count": 29,
      "outputs": [
        {
          "output_type": "execute_result",
          "data": {
            "text/plain": [
              "(2000, 10)"
            ]
          },
          "metadata": {
            "tags": []
          },
          "execution_count": 29
        }
      ]
    },
    {
      "cell_type": "code",
      "metadata": {
        "id": "BRQ0t22RoVCr",
        "colab_type": "code",
        "colab": {
          "base_uri": "https://localhost:8080/",
          "height": 34
        },
        "outputId": "653e7f3d-7d3f-46e2-9444-c839bb46f6aa"
      },
      "source": [
        "np.mean(keras.metrics.mean_squared_error(Y_valid, Y_pred))"
      ],
      "execution_count": 30,
      "outputs": [
        {
          "output_type": "execute_result",
          "data": {
            "text/plain": [
              "0.02727729"
            ]
          },
          "metadata": {
            "tags": []
          },
          "execution_count": 30
        }
      ]
    },
    {
      "cell_type": "markdown",
      "metadata": {
        "id": "Tz-FATNBoVCt",
        "colab_type": "text"
      },
      "source": [
        "Porównajmy wydajność z metrykami bazowymi: prognozami naiwnymi i prostym modelem liniowym:"
      ]
    },
    {
      "cell_type": "code",
      "metadata": {
        "id": "7tIFAwOeoVCt",
        "colab_type": "code",
        "colab": {
          "base_uri": "https://localhost:8080/",
          "height": 34
        },
        "outputId": "8522beef-b983-41a2-f19c-b3848fc948b3"
      },
      "source": [
        "Y_naive_pred = Y_valid[:, -1:]\n",
        "np.mean(keras.metrics.mean_squared_error(Y_valid, Y_naive_pred))"
      ],
      "execution_count": 31,
      "outputs": [
        {
          "output_type": "execute_result",
          "data": {
            "text/plain": [
              "0.22278848"
            ]
          },
          "metadata": {
            "tags": []
          },
          "execution_count": 31
        }
      ]
    },
    {
      "cell_type": "code",
      "metadata": {
        "id": "sJsaaf9NoVCv",
        "colab_type": "code",
        "colab": {
          "base_uri": "https://localhost:8080/",
          "height": 714
        },
        "outputId": "4e4c2a71-a6f1-4fdf-a04f-741985eb2264"
      },
      "source": [
        "np.random.seed(42)\n",
        "tf.random.set_seed(42)\n",
        "\n",
        "model = keras.models.Sequential([\n",
        "    keras.layers.Flatten(input_shape=[50, 1]),\n",
        "    keras.layers.Dense(10)\n",
        "])\n",
        "\n",
        "model.compile(loss=\"mse\", optimizer=\"adam\")\n",
        "history = model.fit(X_train, Y_train, epochs=20,\n",
        "                    validation_data=(X_valid, Y_valid))"
      ],
      "execution_count": 32,
      "outputs": [
        {
          "output_type": "stream",
          "text": [
            "Train on 7000 samples, validate on 2000 samples\n",
            "Epoch 1/20\n",
            "7000/7000 [==============================] - 1s 116us/sample - loss: 0.1348 - val_loss: 0.0610\n",
            "Epoch 2/20\n",
            "7000/7000 [==============================] - 1s 88us/sample - loss: 0.0501 - val_loss: 0.0427\n",
            "Epoch 3/20\n",
            "7000/7000 [==============================] - 1s 86us/sample - loss: 0.0388 - val_loss: 0.0356\n",
            "Epoch 4/20\n",
            "7000/7000 [==============================] - 1s 86us/sample - loss: 0.0334 - val_loss: 0.0314\n",
            "Epoch 5/20\n",
            "7000/7000 [==============================] - 1s 84us/sample - loss: 0.0299 - val_loss: 0.0286\n",
            "Epoch 6/20\n",
            "7000/7000 [==============================] - 1s 83us/sample - loss: 0.0275 - val_loss: 0.0264\n",
            "Epoch 7/20\n",
            "7000/7000 [==============================] - 1s 87us/sample - loss: 0.0258 - val_loss: 0.0251\n",
            "Epoch 8/20\n",
            "7000/7000 [==============================] - 1s 83us/sample - loss: 0.0245 - val_loss: 0.0237\n",
            "Epoch 9/20\n",
            "7000/7000 [==============================] - 1s 84us/sample - loss: 0.0235 - val_loss: 0.0229\n",
            "Epoch 10/20\n",
            "7000/7000 [==============================] - 1s 81us/sample - loss: 0.0227 - val_loss: 0.0222\n",
            "Epoch 11/20\n",
            "7000/7000 [==============================] - 1s 83us/sample - loss: 0.0221 - val_loss: 0.0220\n",
            "Epoch 12/20\n",
            "7000/7000 [==============================] - 1s 81us/sample - loss: 0.0216 - val_loss: 0.0212\n",
            "Epoch 13/20\n",
            "7000/7000 [==============================] - 1s 91us/sample - loss: 0.0211 - val_loss: 0.0207\n",
            "Epoch 14/20\n",
            "7000/7000 [==============================] - 1s 89us/sample - loss: 0.0207 - val_loss: 0.0204\n",
            "Epoch 15/20\n",
            "7000/7000 [==============================] - 1s 80us/sample - loss: 0.0203 - val_loss: 0.0203\n",
            "Epoch 16/20\n",
            "7000/7000 [==============================] - 1s 83us/sample - loss: 0.0200 - val_loss: 0.0198\n",
            "Epoch 17/20\n",
            "7000/7000 [==============================] - 1s 80us/sample - loss: 0.0197 - val_loss: 0.0194\n",
            "Epoch 18/20\n",
            "7000/7000 [==============================] - 1s 86us/sample - loss: 0.0194 - val_loss: 0.0192\n",
            "Epoch 19/20\n",
            "7000/7000 [==============================] - 1s 83us/sample - loss: 0.0191 - val_loss: 0.0190\n",
            "Epoch 20/20\n",
            "7000/7000 [==============================] - 1s 83us/sample - loss: 0.0189 - val_loss: 0.0188\n"
          ],
          "name": "stdout"
        }
      ]
    },
    {
      "cell_type": "markdown",
      "metadata": {
        "id": "eWmha7n4oVCy",
        "colab_type": "text"
      },
      "source": [
        "Stwórzmy teraz sieć rekurencyjną, przewidującą równocześnie dziesięć następnych wartości:"
      ]
    },
    {
      "cell_type": "code",
      "metadata": {
        "id": "-816zt1doVCy",
        "colab_type": "code",
        "colab": {
          "base_uri": "https://localhost:8080/",
          "height": 714
        },
        "outputId": "b457af1e-0426-4537-f5ce-27db2a462af2"
      },
      "source": [
        "np.random.seed(42)\n",
        "tf.random.set_seed(42)\n",
        "\n",
        "model = keras.models.Sequential([\n",
        "    keras.layers.SimpleRNN(20, return_sequences=True, input_shape=[None, 1]),\n",
        "    keras.layers.SimpleRNN(20),\n",
        "    keras.layers.Dense(10)\n",
        "])\n",
        "\n",
        "model.compile(loss=\"mse\", optimizer=\"adam\")\n",
        "history = model.fit(X_train, Y_train, epochs=20,\n",
        "                    validation_data=(X_valid, Y_valid))"
      ],
      "execution_count": 33,
      "outputs": [
        {
          "output_type": "stream",
          "text": [
            "Train on 7000 samples, validate on 2000 samples\n",
            "Epoch 1/20\n",
            "7000/7000 [==============================] - 15s 2ms/sample - loss: 0.0665 - val_loss: 0.0317\n",
            "Epoch 2/20\n",
            "7000/7000 [==============================] - 14s 2ms/sample - loss: 0.0268 - val_loss: 0.0221\n",
            "Epoch 3/20\n",
            "7000/7000 [==============================] - 14s 2ms/sample - loss: 0.0188 - val_loss: 0.0166\n",
            "Epoch 4/20\n",
            "7000/7000 [==============================] - 14s 2ms/sample - loss: 0.0159 - val_loss: 0.0137\n",
            "Epoch 5/20\n",
            "7000/7000 [==============================] - 14s 2ms/sample - loss: 0.0138 - val_loss: 0.0127\n",
            "Epoch 6/20\n",
            "7000/7000 [==============================] - 15s 2ms/sample - loss: 0.0132 - val_loss: 0.0117\n",
            "Epoch 7/20\n",
            "7000/7000 [==============================] - 14s 2ms/sample - loss: 0.0119 - val_loss: 0.0117\n",
            "Epoch 8/20\n",
            "7000/7000 [==============================] - 14s 2ms/sample - loss: 0.0115 - val_loss: 0.0119\n",
            "Epoch 9/20\n",
            "7000/7000 [==============================] - 14s 2ms/sample - loss: 0.0110 - val_loss: 0.0113\n",
            "Epoch 10/20\n",
            "7000/7000 [==============================] - 14s 2ms/sample - loss: 0.0111 - val_loss: 0.0097\n",
            "Epoch 11/20\n",
            "7000/7000 [==============================] - 14s 2ms/sample - loss: 0.0104 - val_loss: 0.0098\n",
            "Epoch 12/20\n",
            "7000/7000 [==============================] - 15s 2ms/sample - loss: 0.0100 - val_loss: 0.0092\n",
            "Epoch 13/20\n",
            "7000/7000 [==============================] - 14s 2ms/sample - loss: 0.0101 - val_loss: 0.0101\n",
            "Epoch 14/20\n",
            "7000/7000 [==============================] - 14s 2ms/sample - loss: 0.0100 - val_loss: 0.0103\n",
            "Epoch 15/20\n",
            "7000/7000 [==============================] - 14s 2ms/sample - loss: 0.0097 - val_loss: 0.0092\n",
            "Epoch 16/20\n",
            "7000/7000 [==============================] - 14s 2ms/sample - loss: 0.0094 - val_loss: 0.0088\n",
            "Epoch 17/20\n",
            "7000/7000 [==============================] - 14s 2ms/sample - loss: 0.0091 - val_loss: 0.0088\n",
            "Epoch 18/20\n",
            "7000/7000 [==============================] - 14s 2ms/sample - loss: 0.0091 - val_loss: 0.0081\n",
            "Epoch 19/20\n",
            "7000/7000 [==============================] - 14s 2ms/sample - loss: 0.0089 - val_loss: 0.0079\n",
            "Epoch 20/20\n",
            "7000/7000 [==============================] - 14s 2ms/sample - loss: 0.0088 - val_loss: 0.0081\n"
          ],
          "name": "stdout"
        }
      ]
    },
    {
      "cell_type": "code",
      "metadata": {
        "id": "0CdbyZkGoVC0",
        "colab_type": "code",
        "colab": {}
      },
      "source": [
        "np.random.seed(43)\n",
        "\n",
        "series = generate_time_series(1, 50 + 10)\n",
        "X_new, Y_new = series[:, :50, :], series[:, -10:, :]\n",
        "Y_pred = model.predict(X_new)[..., np.newaxis]"
      ],
      "execution_count": 0,
      "outputs": []
    },
    {
      "cell_type": "code",
      "metadata": {
        "id": "QvvUMdMpoVC2",
        "colab_type": "code",
        "colab": {
          "base_uri": "https://localhost:8080/",
          "height": 293
        },
        "outputId": "9a288f85-4369-495b-8069-2b2c95f45c21"
      },
      "source": [
        "plot_multiple_forecasts(X_new, Y_new, Y_pred)\n",
        "plt.show()"
      ],
      "execution_count": 35,
      "outputs": [
        {
          "output_type": "display_data",
          "data": {
            "image/png": "[encoded data removed]",
            "text/plain": [
              "<Figure size 432x288 with 1 Axes>"
            ]
          },
          "metadata": {
            "tags": []
          }
        }
      ]
    },
    {
      "cell_type": "markdown",
      "metadata": {
        "id": "eGYN65yWoVC4",
        "colab_type": "text"
      },
      "source": [
        "Stwórzmy teraz sieć rekurencyjną, przewidującą dziesięć następnych etapów w każdym takcie. Inaczej mówiąc, nie będzie ona prognozować taktów od 50. do 59. na podstawie taktów 0.-49., lecz takty od 1. do 10. w takcie 0., następnie takty od 2. do 11. w takcie 1. itd., a na końcu będzie prognozować takty od 50. do 59. w ostatnim takcie. Zwróć uwagę, że model ten jest przyczynowy: w każdej prognozie może posługiwać się wyłącznie wcześniejszymi taktami."
      ]
    },
    {
      "cell_type": "code",
      "metadata": {
        "id": "_NgoGdL-oVC5",
        "colab_type": "code",
        "colab": {}
      },
      "source": [
        "np.random.seed(42)\n",
        "\n",
        "n_steps = 50\n",
        "series = generate_time_series(10000, n_steps + 10)\n",
        "X_train = series[:7000, :n_steps]\n",
        "X_valid = series[7000:9000, :n_steps]\n",
        "X_test = series[9000:, :n_steps]\n",
        "Y = np.empty((10000, n_steps, 10))\n",
        "for step_ahead in range(1, 10 + 1):\n",
        "    Y[..., step_ahead - 1] = series[..., step_ahead:step_ahead + n_steps, 0]\n",
        "Y_train = Y[:7000]\n",
        "Y_valid = Y[7000:9000]\n",
        "Y_test = Y[9000:]"
      ],
      "execution_count": 0,
      "outputs": []
    },
    {
      "cell_type": "code",
      "metadata": {
        "id": "basw7Xk8oVC8",
        "colab_type": "code",
        "colab": {
          "base_uri": "https://localhost:8080/",
          "height": 34
        },
        "outputId": "d51c0e4b-4ba0-4f31-c055-f479b594a71b"
      },
      "source": [
        "X_train.shape, Y_train.shape"
      ],
      "execution_count": 37,
      "outputs": [
        {
          "output_type": "execute_result",
          "data": {
            "text/plain": [
              "((7000, 50, 1), (7000, 50, 10))"
            ]
          },
          "metadata": {
            "tags": []
          },
          "execution_count": 37
        }
      ]
    },
    {
      "cell_type": "code",
      "metadata": {
        "id": "1YaRzq6soVDD",
        "colab_type": "code",
        "colab": {
          "base_uri": "https://localhost:8080/",
          "height": 714
        },
        "outputId": "d440ee38-6035-4f68-9066-9e53310d7c97"
      },
      "source": [
        "np.random.seed(42)\n",
        "tf.random.set_seed(42)\n",
        "\n",
        "model = keras.models.Sequential([\n",
        "    keras.layers.SimpleRNN(20, return_sequences=True, input_shape=[None, 1]),\n",
        "    keras.layers.SimpleRNN(20, return_sequences=True),\n",
        "    keras.layers.TimeDistributed(keras.layers.Dense(10))\n",
        "])\n",
        "\n",
        "def last_time_step_mse(Y_true, Y_pred):\n",
        "    return keras.metrics.mean_squared_error(Y_true[:, -1], Y_pred[:, -1])\n",
        "\n",
        "model.compile(loss=\"mse\", optimizer=keras.optimizers.Adam(lr=0.01), metrics=[last_time_step_mse])\n",
        "history = model.fit(X_train, Y_train, epochs=20,\n",
        "                    validation_data=(X_valid, Y_valid))"
      ],
      "execution_count": 38,
      "outputs": [
        {
          "output_type": "stream",
          "text": [
            "Train on 7000 samples, validate on 2000 samples\n",
            "Epoch 1/20\n",
            "7000/7000 [==============================] - 15s 2ms/sample - loss: 0.0498 - last_time_step_mse: 0.0388 - val_loss: 0.0416 - val_last_time_step_mse: 0.0321\n",
            "Epoch 2/20\n",
            "7000/7000 [==============================] - 14s 2ms/sample - loss: 0.0389 - last_time_step_mse: 0.0282 - val_loss: 0.0320 - val_last_time_step_mse: 0.0196\n",
            "Epoch 3/20\n",
            "7000/7000 [==============================] - 15s 2ms/sample - loss: 0.0328 - last_time_step_mse: 0.0218 - val_loss: 0.0297 - val_last_time_step_mse: 0.0186\n",
            "Epoch 4/20\n",
            "7000/7000 [==============================] - 14s 2ms/sample - loss: 0.0292 - last_time_step_mse: 0.0180 - val_loss: 0.0282 - val_last_time_step_mse: 0.0175\n",
            "Epoch 5/20\n",
            "7000/7000 [==============================] - 14s 2ms/sample - loss: 0.0272 - last_time_step_mse: 0.0155 - val_loss: 0.0269 - val_last_time_step_mse: 0.0147\n",
            "Epoch 6/20\n",
            "7000/7000 [==============================] - 14s 2ms/sample - loss: 0.0246 - last_time_step_mse: 0.0121 - val_loss: 0.0228 - val_last_time_step_mse: 0.0097\n",
            "Epoch 7/20\n",
            "7000/7000 [==============================] - 14s 2ms/sample - loss: 0.0226 - last_time_step_mse: 0.0101 - val_loss: 0.0220 - val_last_time_step_mse: 0.0084\n",
            "Epoch 8/20\n",
            "7000/7000 [==============================] - 14s 2ms/sample - loss: 0.0211 - last_time_step_mse: 0.0086 - val_loss: 0.0195 - val_last_time_step_mse: 0.0068\n",
            "Epoch 9/20\n",
            "7000/7000 [==============================] - 14s 2ms/sample - loss: 0.0203 - last_time_step_mse: 0.0080 - val_loss: 0.0197 - val_last_time_step_mse: 0.0077\n",
            "Epoch 10/20\n",
            "7000/7000 [==============================] - 14s 2ms/sample - loss: 0.0198 - last_time_step_mse: 0.0076 - val_loss: 0.0197 - val_last_time_step_mse: 0.0078\n",
            "Epoch 11/20\n",
            "7000/7000 [==============================] - 14s 2ms/sample - loss: 0.0193 - last_time_step_mse: 0.0071 - val_loss: 0.0187 - val_last_time_step_mse: 0.0068\n",
            "Epoch 12/20\n",
            "7000/7000 [==============================] - 13s 2ms/sample - loss: 0.0190 - last_time_step_mse: 0.0069 - val_loss: 0.0188 - val_last_time_step_mse: 0.0076\n",
            "Epoch 13/20\n",
            "7000/7000 [==============================] - 13s 2ms/sample - loss: 0.0188 - last_time_step_mse: 0.0068 - val_loss: 0.0180 - val_last_time_step_mse: 0.0060\n",
            "Epoch 14/20\n",
            "7000/7000 [==============================] - 13s 2ms/sample - loss: 0.0190 - last_time_step_mse: 0.0072 - val_loss: 0.0184 - val_last_time_step_mse: 0.0068\n",
            "Epoch 15/20\n",
            "7000/7000 [==============================] - 13s 2ms/sample - loss: 0.0191 - last_time_step_mse: 0.0072 - val_loss: 0.0185 - val_last_time_step_mse: 0.0065\n",
            "Epoch 16/20\n",
            "7000/7000 [==============================] - 13s 2ms/sample - loss: 0.0186 - last_time_step_mse: 0.0068 - val_loss: 0.0186 - val_last_time_step_mse: 0.0069\n",
            "Epoch 17/20\n",
            "7000/7000 [==============================] - 13s 2ms/sample - loss: 0.0187 - last_time_step_mse: 0.0070 - val_loss: 0.0175 - val_last_time_step_mse: 0.0063\n",
            "Epoch 18/20\n",
            "7000/7000 [==============================] - 15s 2ms/sample - loss: 0.0184 - last_time_step_mse: 0.0067 - val_loss: 0.0178 - val_last_time_step_mse: 0.0064\n",
            "Epoch 19/20\n",
            "7000/7000 [==============================] - 14s 2ms/sample - loss: 0.0181 - last_time_step_mse: 0.0064 - val_loss: 0.0181 - val_last_time_step_mse: 0.0067\n",
            "Epoch 20/20\n",
            "7000/7000 [==============================] - 13s 2ms/sample - loss: 0.0181 - last_time_step_mse: 0.0065 - val_loss: 0.0172 - val_last_time_step_mse: 0.0059\n"
          ],
          "name": "stdout"
        }
      ]
    },
    {
      "cell_type": "code",
      "metadata": {
        "id": "zW_rDUaPoVDF",
        "colab_type": "code",
        "colab": {}
      },
      "source": [
        "np.random.seed(43)\n",
        "\n",
        "series = generate_time_series(1, 50 + 10)\n",
        "X_new, Y_new = series[:, :50, :], series[:, 50:, :]\n",
        "Y_pred = model.predict(X_new)[:, -1][..., np.newaxis]"
      ],
      "execution_count": 0,
      "outputs": []
    },
    {
      "cell_type": "code",
      "metadata": {
        "id": "prE3PsMIoVDJ",
        "colab_type": "code",
        "colab": {
          "base_uri": "https://localhost:8080/",
          "height": 293
        },
        "outputId": "90d313d2-d2c2-4d87-93c1-7a098f6f0df6"
      },
      "source": [
        "plot_multiple_forecasts(X_new, Y_new, Y_pred)\n",
        "plt.show()"
      ],
      "execution_count": 40,
      "outputs": [
        {
          "output_type": "display_data",
          "data": {
            "image/png": "[encoded data removed]",
            "text/plain": [
              "<Figure size 432x288 with 1 Axes>"
            ]
          },
          "metadata": {
            "tags": []
          }
        }
      ]
    },
    {
      "cell_type": "markdown",
      "metadata": {
        "id": "x_jdWy8XoVDL",
        "colab_type": "text"
      },
      "source": [
        "# Głęboka sieć rekurencyjna z normalizacją wsadową"
      ]
    },
    {
      "cell_type": "code",
      "metadata": {
        "id": "DrXu5FNsoVDM",
        "colab_type": "code",
        "colab": {
          "base_uri": "https://localhost:8080/",
          "height": 714
        },
        "outputId": "39be626f-4f56-44cc-8725-87de55b71be1"
      },
      "source": [
        "np.random.seed(42)\n",
        "tf.random.set_seed(42)\n",
        "\n",
        "model = keras.models.Sequential([\n",
        "    keras.layers.SimpleRNN(20, return_sequences=True, input_shape=[None, 1]),\n",
        "    keras.layers.BatchNormalization(),\n",
        "    keras.layers.SimpleRNN(20, return_sequences=True),\n",
        "    keras.layers.BatchNormalization(),\n",
        "    keras.layers.TimeDistributed(keras.layers.Dense(10))\n",
        "])\n",
        "\n",
        "model.compile(loss=\"mse\", optimizer=\"adam\", metrics=[last_time_step_mse])\n",
        "history = model.fit(X_train, Y_train, epochs=20,\n",
        "                    validation_data=(X_valid, Y_valid))"
      ],
      "execution_count": 41,
      "outputs": [
        {
          "output_type": "stream",
          "text": [
            "Train on 7000 samples, validate on 2000 samples\n",
            "Epoch 1/20\n",
            "7000/7000 [==============================] - 15s 2ms/sample - loss: 0.1936 - last_time_step_mse: 0.1913 - val_loss: 0.0901 - val_last_time_step_mse: 0.0863\n",
            "Epoch 2/20\n",
            "7000/7000 [==============================] - 14s 2ms/sample - loss: 0.0531 - last_time_step_mse: 0.0441 - val_loss: 0.0559 - val_last_time_step_mse: 0.0469\n",
            "Epoch 3/20\n",
            "7000/7000 [==============================] - 14s 2ms/sample - loss: 0.0470 - last_time_step_mse: 0.0374 - val_loss: 0.0453 - val_last_time_step_mse: 0.0354\n",
            "Epoch 4/20\n",
            "7000/7000 [==============================] - 14s 2ms/sample - loss: 0.0437 - last_time_step_mse: 0.0337 - val_loss: 0.0423 - val_last_time_step_mse: 0.0320\n",
            "Epoch 5/20\n",
            "7000/7000 [==============================] - 14s 2ms/sample - loss: 0.0414 - last_time_step_mse: 0.0310 - val_loss: 0.0402 - val_last_time_step_mse: 0.0301\n",
            "Epoch 6/20\n",
            "7000/7000 [==============================] - 14s 2ms/sample - loss: 0.0390 - last_time_step_mse: 0.0283 - val_loss: 0.0377 - val_last_time_step_mse: 0.0261\n",
            "Epoch 7/20\n",
            "7000/7000 [==============================] - 14s 2ms/sample - loss: 0.0368 - last_time_step_mse: 0.0255 - val_loss: 0.0369 - val_last_time_step_mse: 0.0255\n",
            "Epoch 8/20\n",
            "7000/7000 [==============================] - 14s 2ms/sample - loss: 0.0354 - last_time_step_mse: 0.0240 - val_loss: 0.0369 - val_last_time_step_mse: 0.0244\n",
            "Epoch 9/20\n",
            "7000/7000 [==============================] - 14s 2ms/sample - loss: 0.0342 - last_time_step_mse: 0.0227 - val_loss: 0.0361 - val_last_time_step_mse: 0.0233\n",
            "Epoch 10/20\n",
            "7000/7000 [==============================] - 15s 2ms/sample - loss: 0.0332 - last_time_step_mse: 0.0216 - val_loss: 0.0340 - val_last_time_step_mse: 0.0223\n",
            "Epoch 11/20\n",
            "7000/7000 [==============================] - 15s 2ms/sample - loss: 0.0324 - last_time_step_mse: 0.0210 - val_loss: 0.0338 - val_last_time_step_mse: 0.0229\n",
            "Epoch 12/20\n",
            "7000/7000 [==============================] - 14s 2ms/sample - loss: 0.0316 - last_time_step_mse: 0.0202 - val_loss: 0.0332 - val_last_time_step_mse: 0.0214\n",
            "Epoch 13/20\n",
            "7000/7000 [==============================] - 14s 2ms/sample - loss: 0.0309 - last_time_step_mse: 0.0192 - val_loss: 0.0307 - val_last_time_step_mse: 0.0187\n",
            "Epoch 14/20\n",
            "7000/7000 [==============================] - 14s 2ms/sample - loss: 0.0305 - last_time_step_mse: 0.0189 - val_loss: 0.0322 - val_last_time_step_mse: 0.0198\n",
            "Epoch 15/20\n",
            "7000/7000 [==============================] - 14s 2ms/sample - loss: 0.0304 - last_time_step_mse: 0.0185 - val_loss: 0.0297 - val_last_time_step_mse: 0.0177\n",
            "Epoch 16/20\n",
            "7000/7000 [==============================] - 14s 2ms/sample - loss: 0.0296 - last_time_step_mse: 0.0177 - val_loss: 0.0291 - val_last_time_step_mse: 0.0168\n",
            "Epoch 17/20\n",
            "7000/7000 [==============================] - 14s 2ms/sample - loss: 0.0293 - last_time_step_mse: 0.0173 - val_loss: 0.0285 - val_last_time_step_mse: 0.0163\n",
            "Epoch 18/20\n",
            "7000/7000 [==============================] - 14s 2ms/sample - loss: 0.0288 - last_time_step_mse: 0.0169 - val_loss: 0.0284 - val_last_time_step_mse: 0.0159\n",
            "Epoch 19/20\n",
            "7000/7000 [==============================] - 15s 2ms/sample - loss: 0.0286 - last_time_step_mse: 0.0166 - val_loss: 0.0284 - val_last_time_step_mse: 0.0156\n",
            "Epoch 20/20\n",
            "7000/7000 [==============================] - 14s 2ms/sample - loss: 0.0282 - last_time_step_mse: 0.0162 - val_loss: 0.0323 - val_last_time_step_mse: 0.0214\n"
          ],
          "name": "stdout"
        }
      ]
    },
    {
      "cell_type": "markdown",
      "metadata": {
        "id": "NQRYWzJjoVDQ",
        "colab_type": "text"
      },
      "source": [
        "# Głębokie sieci rekurencyjne z normalizacją warstw"
      ]
    },
    {
      "cell_type": "code",
      "metadata": {
        "id": "c0TavY3CoVDQ",
        "colab_type": "code",
        "colab": {}
      },
      "source": [
        "from tensorflow.keras.layers import LayerNormalization"
      ],
      "execution_count": 0,
      "outputs": []
    },
    {
      "cell_type": "code",
      "metadata": {
        "id": "1zOpC2rEoVDS",
        "colab_type": "code",
        "colab": {}
      },
      "source": [
        "class LNSimpleRNNCell(keras.layers.Layer):\n",
        "    def __init__(self, units, activation=\"tanh\", **kwargs):\n",
        "        super().__init__(**kwargs)\n",
        "        self.state_size = units\n",
        "        self.output_size = units\n",
        "        self.simple_rnn_cell = keras.layers.SimpleRNNCell(units,\n",
        "                                                          activation=None)\n",
        "        self.layer_norm = LayerNormalization()\n",
        "        self.activation = keras.activations.get(activation)\n",
        "    def get_initial_state(self, inputs=None, batch_size=None, dtype=None):\n",
        "        if inputs is not None:\n",
        "            batch_size = tf.shape(inputs)[0]\n",
        "            dtype = inputs.dtype\n",
        "        return [tf.zeros([batch_size, self.state_size], dtype=dtype)]\n",
        "    def call(self, inputs, states):\n",
        "        outputs, new_states = self.simple_rnn_cell(inputs, states)\n",
        "        norm_outputs = self.activation(self.layer_norm(outputs))\n",
        "        return norm_outputs, [norm_outputs]"
      ],
      "execution_count": 0,
      "outputs": []
    },
    {
      "cell_type": "code",
      "metadata": {
        "id": "xlpeE7dooVDV",
        "colab_type": "code",
        "colab": {
          "base_uri": "https://localhost:8080/",
          "height": 714
        },
        "outputId": "39ab05a1-c18c-44fa-bcc1-2e939816bb1e"
      },
      "source": [
        "np.random.seed(42)\n",
        "tf.random.set_seed(42)\n",
        "\n",
        "model = keras.models.Sequential([\n",
        "    keras.layers.RNN(LNSimpleRNNCell(20), return_sequences=True,\n",
        "                     input_shape=[None, 1]),\n",
        "    keras.layers.RNN(LNSimpleRNNCell(20), return_sequences=True),\n",
        "    keras.layers.TimeDistributed(keras.layers.Dense(10))\n",
        "])\n",
        "\n",
        "model.compile(loss=\"mse\", optimizer=\"adam\", metrics=[last_time_step_mse])\n",
        "history = model.fit(X_train, Y_train, epochs=20,\n",
        "                    validation_data=(X_valid, Y_valid))"
      ],
      "execution_count": 44,
      "outputs": [
        {
          "output_type": "stream",
          "text": [
            "Train on 7000 samples, validate on 2000 samples\n",
            "Epoch 1/20\n",
            "7000/7000 [==============================] - 27s 4ms/sample - loss: 0.1570 - last_time_step_mse: 0.1503 - val_loss: 0.0719 - val_last_time_step_mse: 0.0664\n",
            "Epoch 2/20\n",
            "7000/7000 [==============================] - 20s 3ms/sample - loss: 0.0630 - last_time_step_mse: 0.0562 - val_loss: 0.0564 - val_last_time_step_mse: 0.0494\n",
            "Epoch 3/20\n",
            "7000/7000 [==============================] - 20s 3ms/sample - loss: 0.0538 - last_time_step_mse: 0.0464 - val_loss: 0.0504 - val_last_time_step_mse: 0.0430\n",
            "Epoch 4/20\n",
            "7000/7000 [==============================] - 20s 3ms/sample - loss: 0.0488 - last_time_step_mse: 0.0411 - val_loss: 0.0455 - val_last_time_step_mse: 0.0374\n",
            "Epoch 5/20\n",
            "7000/7000 [==============================] - 20s 3ms/sample - loss: 0.0425 - last_time_step_mse: 0.0329 - val_loss: 0.0393 - val_last_time_step_mse: 0.0286\n",
            "Epoch 6/20\n",
            "7000/7000 [==============================] - 20s 3ms/sample - loss: 0.0386 - last_time_step_mse: 0.0278 - val_loss: 0.0366 - val_last_time_step_mse: 0.0251\n",
            "Epoch 7/20\n",
            "7000/7000 [==============================] - 20s 3ms/sample - loss: 0.0359 - last_time_step_mse: 0.0244 - val_loss: 0.0344 - val_last_time_step_mse: 0.0231\n",
            "Epoch 8/20\n",
            "7000/7000 [==============================] - 20s 3ms/sample - loss: 0.0341 - last_time_step_mse: 0.0224 - val_loss: 0.0334 - val_last_time_step_mse: 0.0223\n",
            "Epoch 9/20\n",
            "7000/7000 [==============================] - 20s 3ms/sample - loss: 0.0331 - last_time_step_mse: 0.0211 - val_loss: 0.0320 - val_last_time_step_mse: 0.0204\n",
            "Epoch 10/20\n",
            "7000/7000 [==============================] - 20s 3ms/sample - loss: 0.0316 - last_time_step_mse: 0.0194 - val_loss: 0.0303 - val_last_time_step_mse: 0.0181\n",
            "Epoch 11/20\n",
            "7000/7000 [==============================] - 20s 3ms/sample - loss: 0.0310 - last_time_step_mse: 0.0188 - val_loss: 0.0298 - val_last_time_step_mse: 0.0178\n",
            "Epoch 12/20\n",
            "7000/7000 [==============================] - 20s 3ms/sample - loss: 0.0300 - last_time_step_mse: 0.0176 - val_loss: 0.0301 - val_last_time_step_mse: 0.0177\n",
            "Epoch 13/20\n",
            "7000/7000 [==============================] - 20s 3ms/sample - loss: 0.0295 - last_time_step_mse: 0.0171 - val_loss: 0.0287 - val_last_time_step_mse: 0.0164\n",
            "Epoch 14/20\n",
            "7000/7000 [==============================] - 20s 3ms/sample - loss: 0.0292 - last_time_step_mse: 0.0168 - val_loss: 0.0281 - val_last_time_step_mse: 0.0154\n",
            "Epoch 15/20\n",
            "7000/7000 [==============================] - 20s 3ms/sample - loss: 0.0285 - last_time_step_mse: 0.0160 - val_loss: 0.0305 - val_last_time_step_mse: 0.0183\n",
            "Epoch 16/20\n",
            "7000/7000 [==============================] - 20s 3ms/sample - loss: 0.0283 - last_time_step_mse: 0.0158 - val_loss: 0.0284 - val_last_time_step_mse: 0.0167\n",
            "Epoch 17/20\n",
            "7000/7000 [==============================] - 20s 3ms/sample - loss: 0.0279 - last_time_step_mse: 0.0155 - val_loss: 0.0274 - val_last_time_step_mse: 0.0152\n",
            "Epoch 18/20\n",
            "7000/7000 [==============================] - 20s 3ms/sample - loss: 0.0278 - last_time_step_mse: 0.0156 - val_loss: 0.0273 - val_last_time_step_mse: 0.0148\n",
            "Epoch 19/20\n",
            "7000/7000 [==============================] - 20s 3ms/sample - loss: 0.0277 - last_time_step_mse: 0.0152 - val_loss: 0.0268 - val_last_time_step_mse: 0.0142\n",
            "Epoch 20/20\n",
            "7000/7000 [==============================] - 20s 3ms/sample - loss: 0.0274 - last_time_step_mse: 0.0149 - val_loss: 0.0267 - val_last_time_step_mse: 0.0141\n"
          ],
          "name": "stdout"
        }
      ]
    },
    {
      "cell_type": "markdown",
      "metadata": {
        "id": "qlIu5LDboVDa",
        "colab_type": "text"
      },
      "source": [
        "# Tworzenie niestandardowej klasy rekurencyjnej"
      ]
    },
    {
      "cell_type": "code",
      "metadata": {
        "id": "l0RTNxC-oVDb",
        "colab_type": "code",
        "colab": {}
      },
      "source": [
        "class MyRNN(keras.layers.Layer):\n",
        "    def __init__(self, cell, return_sequences=False, **kwargs):\n",
        "        super().__init__(**kwargs)\n",
        "        self.cell = cell\n",
        "        self.return_sequences = return_sequences\n",
        "        self.get_initial_state = getattr(\n",
        "            self.cell, \"get_initial_state\", self.fallback_initial_state)\n",
        "    def fallback_initial_state(self, inputs):\n",
        "        return [tf.zeros([self.cell.state_size], dtype=inputs.dtype)]\n",
        "    @tf.function\n",
        "    def call(self, inputs):\n",
        "        states = self.get_initial_state(inputs)\n",
        "        n_steps = tf.shape(inputs)[1]\n",
        "        if self.return_sequences:\n",
        "            sequences = tf.TensorArray(inputs.dtype, size=n_steps)\n",
        "        outputs = tf.zeros(shape=[n_steps, self.cell.output_size], dtype=inputs.dtype)\n",
        "        for step in tf.range(n_steps):\n",
        "            outputs, states = self.cell(inputs[:, step], states)\n",
        "            if self.return_sequences:\n",
        "                sequences = sequences.write(step, outputs)\n",
        "        if self.return_sequences:\n",
        "            return sequences.stack()\n",
        "        else:\n",
        "            return outputs"
      ],
      "execution_count": 0,
      "outputs": []
    },
    {
      "cell_type": "code",
      "metadata": {
        "id": "w0dVeBX6oVEM",
        "colab_type": "code",
        "colab": {
          "base_uri": "https://localhost:8080/",
          "height": 714
        },
        "outputId": "3f365707-16cb-4987-bda7-9bac43e4a23d"
      },
      "source": [
        "np.random.seed(42)\n",
        "tf.random.set_seed(42)\n",
        "\n",
        "model = keras.models.Sequential([\n",
        "    MyRNN(LNSimpleRNNCell(20), return_sequences=True,\n",
        "          input_shape=[None, 1]),\n",
        "    MyRNN(LNSimpleRNNCell(20), return_sequences=True),\n",
        "    keras.layers.TimeDistributed(keras.layers.Dense(10))\n",
        "])\n",
        "\n",
        "model.compile(loss=\"mse\", optimizer=\"adam\", metrics=[last_time_step_mse])\n",
        "history = model.fit(X_train, Y_train, epochs=20,\n",
        "                    validation_data=(X_valid, Y_valid))"
      ],
      "execution_count": 46,
      "outputs": [
        {
          "output_type": "stream",
          "text": [
            "Train on 7000 samples, validate on 2000 samples\n",
            "Epoch 1/20\n",
            "7000/7000 [==============================] - 24s 3ms/sample - loss: 0.2154 - last_time_step_mse: 0.2040 - val_loss: 0.0870 - val_last_time_step_mse: 0.0769\n",
            "Epoch 2/20\n",
            "7000/7000 [==============================] - 23s 3ms/sample - loss: 0.0723 - last_time_step_mse: 0.0607 - val_loss: 0.0627 - val_last_time_step_mse: 0.0510\n",
            "Epoch 3/20\n",
            "7000/7000 [==============================] - 23s 3ms/sample - loss: 0.0577 - last_time_step_mse: 0.0439 - val_loss: 0.0535 - val_last_time_step_mse: 0.0392\n",
            "Epoch 4/20\n",
            "7000/7000 [==============================] - 22s 3ms/sample - loss: 0.0508 - last_time_step_mse: 0.0364 - val_loss: 0.0486 - val_last_time_step_mse: 0.0332\n",
            "Epoch 5/20\n",
            "7000/7000 [==============================] - 23s 3ms/sample - loss: 0.0462 - last_time_step_mse: 0.0322 - val_loss: 0.0444 - val_last_time_step_mse: 0.0302\n",
            "Epoch 6/20\n",
            "7000/7000 [==============================] - 22s 3ms/sample - loss: 0.0430 - last_time_step_mse: 0.0292 - val_loss: 0.0418 - val_last_time_step_mse: 0.0284\n",
            "Epoch 7/20\n",
            "7000/7000 [==============================] - 22s 3ms/sample - loss: 0.0402 - last_time_step_mse: 0.0269 - val_loss: 0.0389 - val_last_time_step_mse: 0.0251\n",
            "Epoch 8/20\n",
            "7000/7000 [==============================] - 23s 3ms/sample - loss: 0.0378 - last_time_step_mse: 0.0247 - val_loss: 0.0371 - val_last_time_step_mse: 0.0261\n",
            "Epoch 9/20\n",
            "7000/7000 [==============================] - 22s 3ms/sample - loss: 0.0358 - last_time_step_mse: 0.0225 - val_loss: 0.0348 - val_last_time_step_mse: 0.0214\n",
            "Epoch 10/20\n",
            "7000/7000 [==============================] - 23s 3ms/sample - loss: 0.0342 - last_time_step_mse: 0.0207 - val_loss: 0.0335 - val_last_time_step_mse: 0.0196\n",
            "Epoch 11/20\n",
            "7000/7000 [==============================] - 22s 3ms/sample - loss: 0.0330 - last_time_step_mse: 0.0194 - val_loss: 0.0321 - val_last_time_step_mse: 0.0187\n",
            "Epoch 12/20\n",
            "7000/7000 [==============================] - 22s 3ms/sample - loss: 0.0318 - last_time_step_mse: 0.0184 - val_loss: 0.0310 - val_last_time_step_mse: 0.0174\n",
            "Epoch 13/20\n",
            "7000/7000 [==============================] - 22s 3ms/sample - loss: 0.0311 - last_time_step_mse: 0.0178 - val_loss: 0.0305 - val_last_time_step_mse: 0.0176\n",
            "Epoch 14/20\n",
            "7000/7000 [==============================] - 23s 3ms/sample - loss: 0.0302 - last_time_step_mse: 0.0172 - val_loss: 0.0303 - val_last_time_step_mse: 0.0172\n",
            "Epoch 15/20\n",
            "7000/7000 [==============================] - 23s 3ms/sample - loss: 0.0295 - last_time_step_mse: 0.0168 - val_loss: 0.0291 - val_last_time_step_mse: 0.0162\n",
            "Epoch 16/20\n",
            "7000/7000 [==============================] - 23s 3ms/sample - loss: 0.0290 - last_time_step_mse: 0.0160 - val_loss: 0.0285 - val_last_time_step_mse: 0.0160\n",
            "Epoch 17/20\n",
            "7000/7000 [==============================] - 23s 3ms/sample - loss: 0.0286 - last_time_step_mse: 0.0157 - val_loss: 0.0286 - val_last_time_step_mse: 0.0167\n",
            "Epoch 18/20\n",
            "7000/7000 [==============================] - 23s 3ms/sample - loss: 0.0282 - last_time_step_mse: 0.0153 - val_loss: 0.0280 - val_last_time_step_mse: 0.0151\n",
            "Epoch 19/20\n",
            "7000/7000 [==============================] - 23s 3ms/sample - loss: 0.0293 - last_time_step_mse: 0.0168 - val_loss: 0.0279 - val_last_time_step_mse: 0.0149\n",
            "Epoch 20/20\n",
            "7000/7000 [==============================] - 23s 3ms/sample - loss: 0.0278 - last_time_step_mse: 0.0151 - val_loss: 0.0274 - val_last_time_step_mse: 0.0144\n"
          ],
          "name": "stdout"
        }
      ]
    },
    {
      "cell_type": "markdown",
      "metadata": {
        "id": "RNitlK6moVEO",
        "colab_type": "text"
      },
      "source": [
        "# Komórki LSTM"
      ]
    },
    {
      "cell_type": "code",
      "metadata": {
        "scrolled": true,
        "id": "My4bLPyIoVEP",
        "colab_type": "code",
        "colab": {
          "base_uri": "https://localhost:8080/",
          "height": 714
        },
        "outputId": "611aacce-52cc-4130-bf8d-4a85faffbc4e"
      },
      "source": [
        "np.random.seed(42)\n",
        "tf.random.set_seed(42)\n",
        "\n",
        "model = keras.models.Sequential([\n",
        "    keras.layers.LSTM(20, return_sequences=True, input_shape=[None, 1]),\n",
        "    keras.layers.LSTM(20, return_sequences=True),\n",
        "    keras.layers.TimeDistributed(keras.layers.Dense(10))\n",
        "])\n",
        "\n",
        "model.compile(loss=\"mse\", optimizer=\"adam\", metrics=[last_time_step_mse])\n",
        "history = model.fit(X_train, Y_train, epochs=20,\n",
        "                    validation_data=(X_valid, Y_valid))"
      ],
      "execution_count": 47,
      "outputs": [
        {
          "output_type": "stream",
          "text": [
            "Train on 7000 samples, validate on 2000 samples\n",
            "Epoch 1/20\n",
            "7000/7000 [==============================] - 4s 636us/sample - loss: 0.0760 - last_time_step_mse: 0.0615 - val_loss: 0.0554 - val_last_time_step_mse: 0.0372\n",
            "Epoch 2/20\n",
            "7000/7000 [==============================] - 2s 292us/sample - loss: 0.0480 - last_time_step_mse: 0.0281 - val_loss: 0.0423 - val_last_time_step_mse: 0.0211\n",
            "Epoch 3/20\n",
            "7000/7000 [==============================] - 2s 309us/sample - loss: 0.0390 - last_time_step_mse: 0.0182 - val_loss: 0.0371 - val_last_time_step_mse: 0.0164\n",
            "Epoch 4/20\n",
            "7000/7000 [==============================] - 2s 283us/sample - loss: 0.0350 - last_time_step_mse: 0.0151 - val_loss: 0.0335 - val_last_time_step_mse: 0.0143\n",
            "Epoch 5/20\n",
            "7000/7000 [==============================] - 2s 288us/sample - loss: 0.0325 - last_time_step_mse: 0.0136 - val_loss: 0.0314 - val_last_time_step_mse: 0.0124\n",
            "Epoch 6/20\n",
            "7000/7000 [==============================] - 2s 284us/sample - loss: 0.0308 - last_time_step_mse: 0.0123 - val_loss: 0.0297 - val_last_time_step_mse: 0.0108\n",
            "Epoch 7/20\n",
            "7000/7000 [==============================] - 2s 287us/sample - loss: 0.0297 - last_time_step_mse: 0.0117 - val_loss: 0.0289 - val_last_time_step_mse: 0.0106\n",
            "Epoch 8/20\n",
            "7000/7000 [==============================] - 2s 287us/sample - loss: 0.0286 - last_time_step_mse: 0.0108 - val_loss: 0.0279 - val_last_time_step_mse: 0.0103\n",
            "Epoch 9/20\n",
            "7000/7000 [==============================] - 2s 307us/sample - loss: 0.0280 - last_time_step_mse: 0.0106 - val_loss: 0.0279 - val_last_time_step_mse: 0.0111\n",
            "Epoch 10/20\n",
            "7000/7000 [==============================] - 2s 288us/sample - loss: 0.0274 - last_time_step_mse: 0.0105 - val_loss: 0.0270 - val_last_time_step_mse: 0.0103\n",
            "Epoch 11/20\n",
            "7000/7000 [==============================] - 2s 288us/sample - loss: 0.0268 - last_time_step_mse: 0.0100 - val_loss: 0.0264 - val_last_time_step_mse: 0.0097\n",
            "Epoch 12/20\n",
            "7000/7000 [==============================] - 2s 283us/sample - loss: 0.0264 - last_time_step_mse: 0.0099 - val_loss: 0.0263 - val_last_time_step_mse: 0.0108\n",
            "Epoch 13/20\n",
            "7000/7000 [==============================] - 2s 278us/sample - loss: 0.0259 - last_time_step_mse: 0.0096 - val_loss: 0.0257 - val_last_time_step_mse: 0.0094\n",
            "Epoch 14/20\n",
            "7000/7000 [==============================] - 2s 279us/sample - loss: 0.0257 - last_time_step_mse: 0.0096 - val_loss: 0.0264 - val_last_time_step_mse: 0.0110\n",
            "Epoch 15/20\n",
            "7000/7000 [==============================] - 2s 283us/sample - loss: 0.0253 - last_time_step_mse: 0.0095 - val_loss: 0.0253 - val_last_time_step_mse: 0.0096\n",
            "Epoch 16/20\n",
            "7000/7000 [==============================] - 2s 285us/sample - loss: 0.0250 - last_time_step_mse: 0.0092 - val_loss: 0.0248 - val_last_time_step_mse: 0.0091\n",
            "Epoch 17/20\n",
            "7000/7000 [==============================] - 2s 279us/sample - loss: 0.0247 - last_time_step_mse: 0.0092 - val_loss: 0.0245 - val_last_time_step_mse: 0.0087\n",
            "Epoch 18/20\n",
            "7000/7000 [==============================] - 2s 282us/sample - loss: 0.0245 - last_time_step_mse: 0.0092 - val_loss: 0.0242 - val_last_time_step_mse: 0.0092\n",
            "Epoch 19/20\n",
            "7000/7000 [==============================] - 2s 279us/sample - loss: 0.0242 - last_time_step_mse: 0.0089 - val_loss: 0.0237 - val_last_time_step_mse: 0.0084\n",
            "Epoch 20/20\n",
            "7000/7000 [==============================] - 2s 279us/sample - loss: 0.0239 - last_time_step_mse: 0.0089 - val_loss: 0.0240 - val_last_time_step_mse: 0.0086\n"
          ],
          "name": "stdout"
        }
      ]
    },
    {
      "cell_type": "code",
      "metadata": {
        "id": "-utCmrUpoVER",
        "colab_type": "code",
        "colab": {
          "base_uri": "https://localhost:8080/",
          "height": 51
        },
        "outputId": "9e9e2b8b-e04e-4ded-d074-8eb1d345f1f2"
      },
      "source": [
        "model.evaluate(X_valid, Y_valid)"
      ],
      "execution_count": 48,
      "outputs": [
        {
          "output_type": "stream",
          "text": [
            "2000/2000 [==============================] - 0s 137us/sample - loss: 0.0240 - last_time_step_mse: 0.0086\n"
          ],
          "name": "stdout"
        },
        {
          "output_type": "execute_result",
          "data": {
            "text/plain": [
              "[0.02401665513217449, 0.008551416]"
            ]
          },
          "metadata": {
            "tags": []
          },
          "execution_count": 48
        }
      ]
    },
    {
      "cell_type": "code",
      "metadata": {
        "id": "qS6XpDfMoVET",
        "colab_type": "code",
        "colab": {
          "base_uri": "https://localhost:8080/",
          "height": 291
        },
        "outputId": "eb6cab72-40ed-432a-cf50-ebf1faba7e0b"
      },
      "source": [
        "plot_learning_curves(history.history[\"loss\"], history.history[\"val_loss\"])\n",
        "plt.show()"
      ],
      "execution_count": 49,
      "outputs": [
        {
          "output_type": "display_data",
          "data": {
            "image/png": "[encoded data removed]",
            "text/plain": [
              "<Figure size 432x288 with 1 Axes>"
            ]
          },
          "metadata": {
            "tags": []
          }
        }
      ]
    },
    {
      "cell_type": "code",
      "metadata": {
        "id": "Q86xWaqooVEV",
        "colab_type": "code",
        "colab": {}
      },
      "source": [
        "np.random.seed(43)\n",
        "\n",
        "series = generate_time_series(1, 50 + 10)\n",
        "X_new, Y_new = series[:, :50, :], series[:, 50:, :]\n",
        "Y_pred = model.predict(X_new)[:, -1][..., np.newaxis]"
      ],
      "execution_count": 0,
      "outputs": []
    },
    {
      "cell_type": "code",
      "metadata": {
        "scrolled": true,
        "id": "jtrUc-hAoVEW",
        "colab_type": "code",
        "colab": {
          "base_uri": "https://localhost:8080/",
          "height": 293
        },
        "outputId": "ecc937ca-07df-449c-883e-03c09b0421f0"
      },
      "source": [
        "plot_multiple_forecasts(X_new, Y_new, Y_pred)\n",
        "plt.show()"
      ],
      "execution_count": 51,
      "outputs": [
        {
          "output_type": "display_data",
          "data": {
            "image/png": "[encoded data removed]",
            "text/plain": [
              "<Figure size 432x288 with 1 Axes>"
            ]
          },
          "metadata": {
            "tags": []
          }
        }
      ]
    },
    {
      "cell_type": "markdown",
      "metadata": {
        "id": "lBozwERtoVEY",
        "colab_type": "text"
      },
      "source": [
        "# Komórki GRU"
      ]
    },
    {
      "cell_type": "code",
      "metadata": {
        "id": "acXfZpLxoVEY",
        "colab_type": "code",
        "colab": {
          "base_uri": "https://localhost:8080/",
          "height": 714
        },
        "outputId": "d7f60387-8430-4313-e64e-c0d9e49b0edf"
      },
      "source": [
        "np.random.seed(42)\n",
        "tf.random.set_seed(42)\n",
        "\n",
        "model = keras.models.Sequential([\n",
        "    keras.layers.GRU(20, return_sequences=True, input_shape=[None, 1]),\n",
        "    keras.layers.GRU(20, return_sequences=True),\n",
        "    keras.layers.TimeDistributed(keras.layers.Dense(10))\n",
        "])\n",
        "\n",
        "model.compile(loss=\"mse\", optimizer=\"adam\", metrics=[last_time_step_mse])\n",
        "history = model.fit(X_train, Y_train, epochs=20,\n",
        "                    validation_data=(X_valid, Y_valid))"
      ],
      "execution_count": 52,
      "outputs": [
        {
          "output_type": "stream",
          "text": [
            "Train on 7000 samples, validate on 2000 samples\n",
            "Epoch 1/20\n",
            "7000/7000 [==============================] - 4s 591us/sample - loss: 0.0742 - last_time_step_mse: 0.0663 - val_loss: 0.0523 - val_last_time_step_mse: 0.0421\n",
            "Epoch 2/20\n",
            "7000/7000 [==============================] - 2s 286us/sample - loss: 0.0476 - last_time_step_mse: 0.0367 - val_loss: 0.0441 - val_last_time_step_mse: 0.0327\n",
            "Epoch 3/20\n",
            "7000/7000 [==============================] - 2s 262us/sample - loss: 0.0418 - last_time_step_mse: 0.0305 - val_loss: 0.0391 - val_last_time_step_mse: 0.0271\n",
            "Epoch 4/20\n",
            "7000/7000 [==============================] - 2s 266us/sample - loss: 0.0373 - last_time_step_mse: 0.0249 - val_loss: 0.0343 - val_last_time_step_mse: 0.0205\n",
            "Epoch 5/20\n",
            "7000/7000 [==============================] - 2s 264us/sample - loss: 0.0327 - last_time_step_mse: 0.0179 - val_loss: 0.0313 - val_last_time_step_mse: 0.0158\n",
            "Epoch 6/20\n",
            "7000/7000 [==============================] - 2s 266us/sample - loss: 0.0308 - last_time_step_mse: 0.0155 - val_loss: 0.0297 - val_last_time_step_mse: 0.0143\n",
            "Epoch 7/20\n",
            "7000/7000 [==============================] - 2s 267us/sample - loss: 0.0296 - last_time_step_mse: 0.0146 - val_loss: 0.0290 - val_last_time_step_mse: 0.0140\n",
            "Epoch 8/20\n",
            "7000/7000 [==============================] - 2s 262us/sample - loss: 0.0284 - last_time_step_mse: 0.0134 - val_loss: 0.0278 - val_last_time_step_mse: 0.0128\n",
            "Epoch 9/20\n",
            "7000/7000 [==============================] - 2s 286us/sample - loss: 0.0278 - last_time_step_mse: 0.0131 - val_loss: 0.0278 - val_last_time_step_mse: 0.0133\n",
            "Epoch 10/20\n",
            "7000/7000 [==============================] - 2s 269us/sample - loss: 0.0272 - last_time_step_mse: 0.0126 - val_loss: 0.0272 - val_last_time_step_mse: 0.0139\n",
            "Epoch 11/20\n",
            "7000/7000 [==============================] - 2s 274us/sample - loss: 0.0267 - last_time_step_mse: 0.0122 - val_loss: 0.0269 - val_last_time_step_mse: 0.0123\n",
            "Epoch 12/20\n",
            "7000/7000 [==============================] - 2s 265us/sample - loss: 0.0264 - last_time_step_mse: 0.0121 - val_loss: 0.0267 - val_last_time_step_mse: 0.0132\n",
            "Epoch 13/20\n",
            "7000/7000 [==============================] - 2s 265us/sample - loss: 0.0260 - last_time_step_mse: 0.0117 - val_loss: 0.0259 - val_last_time_step_mse: 0.0120\n",
            "Epoch 14/20\n",
            "7000/7000 [==============================] - 2s 260us/sample - loss: 0.0257 - last_time_step_mse: 0.0116 - val_loss: 0.0265 - val_last_time_step_mse: 0.0132\n",
            "Epoch 15/20\n",
            "7000/7000 [==============================] - 2s 258us/sample - loss: 0.0255 - last_time_step_mse: 0.0116 - val_loss: 0.0256 - val_last_time_step_mse: 0.0119\n",
            "Epoch 16/20\n",
            "7000/7000 [==============================] - 2s 284us/sample - loss: 0.0252 - last_time_step_mse: 0.0112 - val_loss: 0.0249 - val_last_time_step_mse: 0.0110\n",
            "Epoch 17/20\n",
            "7000/7000 [==============================] - 2s 263us/sample - loss: 0.0249 - last_time_step_mse: 0.0111 - val_loss: 0.0246 - val_last_time_step_mse: 0.0107\n",
            "Epoch 18/20\n",
            "7000/7000 [==============================] - 2s 260us/sample - loss: 0.0248 - last_time_step_mse: 0.0112 - val_loss: 0.0251 - val_last_time_step_mse: 0.0124\n",
            "Epoch 19/20\n",
            "7000/7000 [==============================] - 2s 260us/sample - loss: 0.0244 - last_time_step_mse: 0.0108 - val_loss: 0.0241 - val_last_time_step_mse: 0.0104\n",
            "Epoch 20/20\n",
            "7000/7000 [==============================] - 2s 260us/sample - loss: 0.0242 - last_time_step_mse: 0.0106 - val_loss: 0.0241 - val_last_time_step_mse: 0.0103\n"
          ],
          "name": "stdout"
        }
      ]
    },
    {
      "cell_type": "code",
      "metadata": {
        "id": "ly7o9ozyoVEZ",
        "colab_type": "code",
        "colab": {
          "base_uri": "https://localhost:8080/",
          "height": 51
        },
        "outputId": "b516b469-c399-4814-b045-5e8900473ff3"
      },
      "source": [
        "model.evaluate(X_valid, Y_valid)"
      ],
      "execution_count": 53,
      "outputs": [
        {
          "output_type": "stream",
          "text": [
            "2000/2000 [==============================] - 0s 128us/sample - loss: 0.0241 - last_time_step_mse: 0.0103\n"
          ],
          "name": "stdout"
        },
        {
          "output_type": "execute_result",
          "data": {
            "text/plain": [
              "[0.024071006208658218, 0.01029832]"
            ]
          },
          "metadata": {
            "tags": []
          },
          "execution_count": 53
        }
      ]
    },
    {
      "cell_type": "code",
      "metadata": {
        "id": "QFNeAR4CoVEd",
        "colab_type": "code",
        "colab": {
          "base_uri": "https://localhost:8080/",
          "height": 291
        },
        "outputId": "da743046-6f4c-4b78-db39-cc3d064d7cdd"
      },
      "source": [
        "plot_learning_curves(history.history[\"loss\"], history.history[\"val_loss\"])\n",
        "plt.show()"
      ],
      "execution_count": 54,
      "outputs": [
        {
          "output_type": "display_data",
          "data": {
            "image/png": "[encoded data removed]",
            "text/plain": [
              "<Figure size 432x288 with 1 Axes>"
            ]
          },
          "metadata": {
            "tags": []
          }
        }
      ]
    },
    {
      "cell_type": "code",
      "metadata": {
        "id": "L30SquydoVEf",
        "colab_type": "code",
        "colab": {}
      },
      "source": [
        "np.random.seed(43)\n",
        "\n",
        "series = generate_time_series(1, 50 + 10)\n",
        "X_new, Y_new = series[:, :50, :], series[:, 50:, :]\n",
        "Y_pred = model.predict(X_new)[:, -1][..., np.newaxis]"
      ],
      "execution_count": 0,
      "outputs": []
    },
    {
      "cell_type": "code",
      "metadata": {
        "scrolled": true,
        "id": "sZEYH5s_oVEh",
        "colab_type": "code",
        "colab": {
          "base_uri": "https://localhost:8080/",
          "height": 293
        },
        "outputId": "17e77a98-fee4-48f5-c963-3eb7a7beac6f"
      },
      "source": [
        "plot_multiple_forecasts(X_new, Y_new, Y_pred)\n",
        "plt.show()"
      ],
      "execution_count": 56,
      "outputs": [
        {
          "output_type": "display_data",
          "data": {
            "image/png": "[encoded data removed]",
            "text/plain": [
              "<Figure size 432x288 with 1 Axes>"
            ]
          },
          "metadata": {
            "tags": []
          }
        }
      ]
    },
    {
      "cell_type": "markdown",
      "metadata": {
        "id": "Nq62X4vDoVEj",
        "colab_type": "text"
      },
      "source": [
        "## Stosowanie jednowymiarowych warstw splotowych w przetwarzaniu sekwencji"
      ]
    },
    {
      "cell_type": "markdown",
      "metadata": {
        "id": "Tw5Oq_s8oVEk",
        "colab_type": "text"
      },
      "source": [
        "```\n",
        "Jednowymiarowa warstwa splotowa z jądrem o rozmiarze 4, kroku równym 2 i uzupełnianiu zerami typu VALID:\n",
        "\n",
        "              |-----2-----|     |-----5---...------|     |-----23----|\n",
        "        |-----1-----|     |-----4-----|   ...      |-----22----|\n",
        "  |-----0----|      |-----3-----|     |---...|-----21----|\n",
        "X: 0  1  2  3  4  5  6  7  8  9  10 11 12 ... 42 43 44 45 46 47 48 49\n",
        "Y: 1  2  3  4  5  6  7  8  9  10 11 12 13 ... 43 44 45 46 47 48 49 50\n",
        "  /10 11 12 13 14 15 16 17 18 19 20 21 22 ... 52 53 54 55 56 57 58 59\n",
        "\n",
        "Wynik:\n",
        "\n",
        "X:     0/3   2/5   4/7   6/9   8/11 10/13 .../43 42/45 44/47 46/49\n",
        "Y:     4/13  6/15  8/17 10/19 12/21 14/23 .../53 46/55 48/57 50/59\n",
        "```"
      ]
    },
    {
      "cell_type": "code",
      "metadata": {
        "id": "xLwxUaDJoVEk",
        "colab_type": "code",
        "colab": {
          "base_uri": "https://localhost:8080/",
          "height": 714
        },
        "outputId": "60b426fe-2076-4b42-a49f-006cb5a6761c"
      },
      "source": [
        "np.random.seed(42)\n",
        "tf.random.set_seed(42)\n",
        "\n",
        "model = keras.models.Sequential([\n",
        "    keras.layers.Conv1D(filters=20, kernel_size=4, strides=2, padding=\"valid\",\n",
        "                        input_shape=[None, 1]),\n",
        "    keras.layers.GRU(20, return_sequences=True),\n",
        "    keras.layers.GRU(20, return_sequences=True),\n",
        "    keras.layers.TimeDistributed(keras.layers.Dense(10))\n",
        "])\n",
        "\n",
        "model.compile(loss=\"mse\", optimizer=\"adam\", metrics=[last_time_step_mse])\n",
        "history = model.fit(X_train, Y_train[:, 3::2], epochs=20,\n",
        "                    validation_data=(X_valid, Y_valid[:, 3::2]))"
      ],
      "execution_count": 57,
      "outputs": [
        {
          "output_type": "stream",
          "text": [
            "Train on 7000 samples, validate on 2000 samples\n",
            "Epoch 1/20\n",
            "7000/7000 [==============================] - 4s 582us/sample - loss: 0.0683 - last_time_step_mse: 0.0605 - val_loss: 0.0482 - val_last_time_step_mse: 0.0405\n",
            "Epoch 2/20\n",
            "7000/7000 [==============================] - 2s 228us/sample - loss: 0.0416 - last_time_step_mse: 0.0342 - val_loss: 0.0368 - val_last_time_step_mse: 0.0283\n",
            "Epoch 3/20\n",
            "7000/7000 [==============================] - 2s 241us/sample - loss: 0.0334 - last_time_step_mse: 0.0251 - val_loss: 0.0307 - val_last_time_step_mse: 0.0220\n",
            "Epoch 4/20\n",
            "7000/7000 [==============================] - 2s 230us/sample - loss: 0.0273 - last_time_step_mse: 0.0172 - val_loss: 0.0251 - val_last_time_step_mse: 0.0141\n",
            "Epoch 5/20\n",
            "7000/7000 [==============================] - 2s 225us/sample - loss: 0.0243 - last_time_step_mse: 0.0134 - val_loss: 0.0238 - val_last_time_step_mse: 0.0128\n",
            "Epoch 6/20\n",
            "7000/7000 [==============================] - 2s 231us/sample - loss: 0.0230 - last_time_step_mse: 0.0121 - val_loss: 0.0226 - val_last_time_step_mse: 0.0116\n",
            "Epoch 7/20\n",
            "7000/7000 [==============================] - 2s 230us/sample - loss: 0.0224 - last_time_step_mse: 0.0116 - val_loss: 0.0220 - val_last_time_step_mse: 0.0110\n",
            "Epoch 8/20\n",
            "7000/7000 [==============================] - 2s 224us/sample - loss: 0.0218 - last_time_step_mse: 0.0111 - val_loss: 0.0216 - val_last_time_step_mse: 0.0107\n",
            "Epoch 9/20\n",
            "7000/7000 [==============================] - 2s 230us/sample - loss: 0.0214 - last_time_step_mse: 0.0107 - val_loss: 0.0211 - val_last_time_step_mse: 0.0103\n",
            "Epoch 10/20\n",
            "7000/7000 [==============================] - 2s 242us/sample - loss: 0.0211 - last_time_step_mse: 0.0105 - val_loss: 0.0209 - val_last_time_step_mse: 0.0102\n",
            "Epoch 11/20\n",
            "7000/7000 [==============================] - 2s 229us/sample - loss: 0.0207 - last_time_step_mse: 0.0103 - val_loss: 0.0206 - val_last_time_step_mse: 0.0099\n",
            "Epoch 12/20\n",
            "7000/7000 [==============================] - 2s 225us/sample - loss: 0.0206 - last_time_step_mse: 0.0102 - val_loss: 0.0203 - val_last_time_step_mse: 0.0097\n",
            "Epoch 13/20\n",
            "7000/7000 [==============================] - 2s 231us/sample - loss: 0.0202 - last_time_step_mse: 0.0098 - val_loss: 0.0200 - val_last_time_step_mse: 0.0095\n",
            "Epoch 14/20\n",
            "7000/7000 [==============================] - 2s 227us/sample - loss: 0.0200 - last_time_step_mse: 0.0096 - val_loss: 0.0207 - val_last_time_step_mse: 0.0105\n",
            "Epoch 15/20\n",
            "7000/7000 [==============================] - 2s 230us/sample - loss: 0.0197 - last_time_step_mse: 0.0095 - val_loss: 0.0198 - val_last_time_step_mse: 0.0093\n",
            "Epoch 16/20\n",
            "7000/7000 [==============================] - 2s 229us/sample - loss: 0.0194 - last_time_step_mse: 0.0091 - val_loss: 0.0191 - val_last_time_step_mse: 0.0087\n",
            "Epoch 17/20\n",
            "7000/7000 [==============================] - 2s 242us/sample - loss: 0.0191 - last_time_step_mse: 0.0089 - val_loss: 0.0188 - val_last_time_step_mse: 0.0085\n",
            "Epoch 18/20\n",
            "7000/7000 [==============================] - 2s 232us/sample - loss: 0.0187 - last_time_step_mse: 0.0085 - val_loss: 0.0183 - val_last_time_step_mse: 0.0077\n",
            "Epoch 19/20\n",
            "7000/7000 [==============================] - 2s 227us/sample - loss: 0.0181 - last_time_step_mse: 0.0078 - val_loss: 0.0178 - val_last_time_step_mse: 0.0074\n",
            "Epoch 20/20\n",
            "7000/7000 [==============================] - 2s 229us/sample - loss: 0.0175 - last_time_step_mse: 0.0072 - val_loss: 0.0173 - val_last_time_step_mse: 0.0067\n"
          ],
          "name": "stdout"
        }
      ]
    },
    {
      "cell_type": "markdown",
      "metadata": {
        "id": "JvF2DTTgoVEm",
        "colab_type": "text"
      },
      "source": [
        "## WaveNet"
      ]
    },
    {
      "cell_type": "markdown",
      "metadata": {
        "id": "MVW-EfUwoVEm",
        "colab_type": "text"
      },
      "source": [
        "```\n",
        "C2  /\\ /\\ /\\ /\\ /\\ /\\ /\\ /\\ /\\ /\\ /\\ /\\ /\\.../\\ /\\ /\\ /\\ /\\ /\\\n",
        "   \\  /  \\  /  \\  /  \\  /  \\  /  \\  /  \\       /  \\  /  \\  /  \\\n",
        "     /    \\      /    \\      /    \\                 /    \\\n",
        "C1  /\\ /\\ /\\ /\\ /\\ /\\ /\\ /\\ /\\ /\\ /\\  /\\ /.../\\ /\\ /\\ /\\ /\\ /\\ /\\\n",
        "X: 0  1  2  3  4  5  6  7  8  9  10 11 12 ... 43 44 45 46 47 48 49\n",
        "Y: 1  2  3  4  5  6  7  8  9  10 11 12 13 ... 44 45 46 47 48 49 50\n",
        "  /10 11 12 13 14 15 16 17 18 19 20 21 22 ... 53 54 55 56 57 58 59\n",
        "```"
      ]
    },
    {
      "cell_type": "code",
      "metadata": {
        "id": "lz_BY5fnoVEm",
        "colab_type": "code",
        "colab": {
          "base_uri": "https://localhost:8080/",
          "height": 714
        },
        "outputId": "2b919b9a-a822-4672-f941-c1a143ee3cf5"
      },
      "source": [
        "np.random.seed(42)\n",
        "tf.random.set_seed(42)\n",
        "\n",
        "model = keras.models.Sequential()\n",
        "model.add(keras.layers.InputLayer(input_shape=[None, 1]))\n",
        "for rate in (1, 2, 4, 8) * 2:\n",
        "    model.add(keras.layers.Conv1D(filters=20, kernel_size=2, padding=\"causal\",\n",
        "                                  activation=\"relu\", dilation_rate=rate))\n",
        "model.add(keras.layers.Conv1D(filters=10, kernel_size=1))\n",
        "model.compile(loss=\"mse\", optimizer=\"adam\", metrics=[last_time_step_mse])\n",
        "history = model.fit(X_train, Y_train, epochs=20,\n",
        "                    validation_data=(X_valid, Y_valid))"
      ],
      "execution_count": 58,
      "outputs": [
        {
          "output_type": "stream",
          "text": [
            "Train on 7000 samples, validate on 2000 samples\n",
            "Epoch 1/20\n",
            "7000/7000 [==============================] - 3s 379us/sample - loss: 0.0684 - last_time_step_mse: 0.0550 - val_loss: 0.0385 - val_last_time_step_mse: 0.0248\n",
            "Epoch 2/20\n",
            "7000/7000 [==============================] - 1s 189us/sample - loss: 0.0340 - last_time_step_mse: 0.0215 - val_loss: 0.0306 - val_last_time_step_mse: 0.0183\n",
            "Epoch 3/20\n",
            "7000/7000 [==============================] - 1s 189us/sample - loss: 0.0294 - last_time_step_mse: 0.0174 - val_loss: 0.0277 - val_last_time_step_mse: 0.0157\n",
            "Epoch 4/20\n",
            "7000/7000 [==============================] - 1s 199us/sample - loss: 0.0273 - last_time_step_mse: 0.0156 - val_loss: 0.0266 - val_last_time_step_mse: 0.0150\n",
            "Epoch 5/20\n",
            "7000/7000 [==============================] - 1s 189us/sample - loss: 0.0259 - last_time_step_mse: 0.0142 - val_loss: 0.0251 - val_last_time_step_mse: 0.0134\n",
            "Epoch 6/20\n",
            "7000/7000 [==============================] - 1s 192us/sample - loss: 0.0249 - last_time_step_mse: 0.0133 - val_loss: 0.0242 - val_last_time_step_mse: 0.0124\n",
            "Epoch 7/20\n",
            "7000/7000 [==============================] - 1s 185us/sample - loss: 0.0241 - last_time_step_mse: 0.0124 - val_loss: 0.0235 - val_last_time_step_mse: 0.0119\n",
            "Epoch 8/20\n",
            "7000/7000 [==============================] - 1s 185us/sample - loss: 0.0236 - last_time_step_mse: 0.0120 - val_loss: 0.0234 - val_last_time_step_mse: 0.0116\n",
            "Epoch 9/20\n",
            "7000/7000 [==============================] - 1s 181us/sample - loss: 0.0232 - last_time_step_mse: 0.0116 - val_loss: 0.0239 - val_last_time_step_mse: 0.0129\n",
            "Epoch 10/20\n",
            "7000/7000 [==============================] - 1s 186us/sample - loss: 0.0228 - last_time_step_mse: 0.0114 - val_loss: 0.0222 - val_last_time_step_mse: 0.0105\n",
            "Epoch 11/20\n",
            "7000/7000 [==============================] - 1s 184us/sample - loss: 0.0222 - last_time_step_mse: 0.0107 - val_loss: 0.0220 - val_last_time_step_mse: 0.0100\n",
            "Epoch 12/20\n",
            "7000/7000 [==============================] - 1s 184us/sample - loss: 0.0220 - last_time_step_mse: 0.0105 - val_loss: 0.0220 - val_last_time_step_mse: 0.0102\n",
            "Epoch 13/20\n",
            "7000/7000 [==============================] - 1s 183us/sample - loss: 0.0217 - last_time_step_mse: 0.0102 - val_loss: 0.0215 - val_last_time_step_mse: 0.0098\n",
            "Epoch 14/20\n",
            "7000/7000 [==============================] - 1s 197us/sample - loss: 0.0216 - last_time_step_mse: 0.0101 - val_loss: 0.0213 - val_last_time_step_mse: 0.0097\n",
            "Epoch 15/20\n",
            "7000/7000 [==============================] - 1s 181us/sample - loss: 0.0213 - last_time_step_mse: 0.0098 - val_loss: 0.0210 - val_last_time_step_mse: 0.0093\n",
            "Epoch 16/20\n",
            "7000/7000 [==============================] - 1s 178us/sample - loss: 0.0211 - last_time_step_mse: 0.0095 - val_loss: 0.0209 - val_last_time_step_mse: 0.0095\n",
            "Epoch 17/20\n",
            "7000/7000 [==============================] - 1s 177us/sample - loss: 0.0209 - last_time_step_mse: 0.0093 - val_loss: 0.0210 - val_last_time_step_mse: 0.0098\n",
            "Epoch 18/20\n",
            "7000/7000 [==============================] - 1s 178us/sample - loss: 0.0207 - last_time_step_mse: 0.0091 - val_loss: 0.0206 - val_last_time_step_mse: 0.0092\n",
            "Epoch 19/20\n",
            "7000/7000 [==============================] - 1s 179us/sample - loss: 0.0207 - last_time_step_mse: 0.0092 - val_loss: 0.0205 - val_last_time_step_mse: 0.0091\n",
            "Epoch 20/20\n",
            "7000/7000 [==============================] - 1s 179us/sample - loss: 0.0203 - last_time_step_mse: 0.0088 - val_loss: 0.0202 - val_last_time_step_mse: 0.0084\n"
          ],
          "name": "stdout"
        }
      ]
    },
    {
      "cell_type": "markdown",
      "metadata": {
        "id": "QJyGrY8aoVEo",
        "colab_type": "text"
      },
      "source": [
        "Poniżej prezentuję oryginalną sieć WaveNet, zdefiniowaną w artykule: wykorzystuje ona jednostki aktywacji bramkowanej zamiast funkcji ReLU, a także parametryzowane połączenia pomijające, a do tego uzupełnia zerami lewą stronę w celu uniknięcia coraz krótszych sekwencji:"
      ]
    },
    {
      "cell_type": "code",
      "metadata": {
        "id": "tVQOLrjZoVEp",
        "colab_type": "code",
        "colab": {}
      },
      "source": [
        "class GatedActivationUnit(keras.layers.Layer):\n",
        "    def __init__(self, activation=\"tanh\", **kwargs):\n",
        "        super().__init__(**kwargs)\n",
        "        self.activation = keras.activations.get(activation)\n",
        "    def call(self, inputs):\n",
        "        n_filters = inputs.shape[-1] // 2\n",
        "        linear_output = self.activation(inputs[..., :n_filters])\n",
        "        gate = keras.activations.sigmoid(inputs[..., n_filters:])\n",
        "        return self.activation(linear_output) * gate"
      ],
      "execution_count": 0,
      "outputs": []
    },
    {
      "cell_type": "code",
      "metadata": {
        "id": "0T-HrD4doVEr",
        "colab_type": "code",
        "colab": {}
      },
      "source": [
        "def wavenet_residual_block(inputs, n_filters, dilation_rate):\n",
        "    z = keras.layers.Conv1D(2 * n_filters, kernel_size=2, padding=\"causal\",\n",
        "                            dilation_rate=dilation_rate)(inputs)\n",
        "    z = GatedActivationUnit()(z)\n",
        "    z = keras.layers.Conv1D(n_filters, kernel_size=1)(z)\n",
        "    return keras.layers.Add()([z, inputs]), z"
      ],
      "execution_count": 0,
      "outputs": []
    },
    {
      "cell_type": "code",
      "metadata": {
        "id": "0Hx_X1_koVEs",
        "colab_type": "code",
        "colab": {}
      },
      "source": [
        "keras.backend.clear_session()\n",
        "np.random.seed(42)\n",
        "tf.random.set_seed(42)\n",
        "\n",
        "n_layers_per_block = 3 # 10 w artykule\n",
        "n_blocks = 1 # 3 w artykule\n",
        "n_filters = 32 # 128 w artykule\n",
        "n_outputs = 10 # 256 w artykule\n",
        "\n",
        "inputs = keras.layers.Input(shape=[None, 1])\n",
        "z = keras.layers.Conv1D(n_filters, kernel_size=2, padding=\"causal\")(inputs)\n",
        "skip_to_last = []\n",
        "for dilation_rate in [2**i for i in range(n_layers_per_block)] * n_blocks:\n",
        "    z, skip = wavenet_residual_block(z, n_filters, dilation_rate)\n",
        "    skip_to_last.append(skip)\n",
        "z = keras.activations.relu(keras.layers.Add()(skip_to_last))\n",
        "z = keras.layers.Conv1D(n_filters, kernel_size=1, activation=\"relu\")(z)\n",
        "Y_proba = keras.layers.Conv1D(n_outputs, kernel_size=1, activation=\"softmax\")(z)\n",
        "\n",
        "model = keras.models.Model(inputs=[inputs], outputs=[Y_proba])"
      ],
      "execution_count": 0,
      "outputs": []
    },
    {
      "cell_type": "code",
      "metadata": {
        "id": "PBVr5-VNoVEu",
        "colab_type": "code",
        "colab": {
          "base_uri": "https://localhost:8080/",
          "height": 102
        },
        "outputId": "5ebf17d3-240b-4fae-ad65-734b5e8b7871"
      },
      "source": [
        "model.compile(loss=\"mse\", optimizer=\"adam\", metrics=[last_time_step_mse])\n",
        "history = model.fit(X_train, Y_train, epochs=2,\n",
        "                    validation_data=(X_valid, Y_valid))"
      ],
      "execution_count": 62,
      "outputs": [
        {
          "output_type": "stream",
          "text": [
            "Train on 7000 samples, validate on 2000 samples\n",
            "Epoch 1/2\n",
            "7000/7000 [==============================] - 3s 422us/sample - loss: 0.1299 - last_time_step_mse: 0.1258 - val_loss: 0.1229 - val_last_time_step_mse: 0.1199\n",
            "Epoch 2/2\n",
            "7000/7000 [==============================] - 1s 201us/sample - loss: 0.1222 - last_time_step_mse: 0.1178 - val_loss: 0.1218 - val_last_time_step_mse: 0.1190\n"
          ],
          "name": "stdout"
        }
      ]
    },
    {
      "cell_type": "markdown",
      "metadata": {
        "id": "xX_ROKiRoVEw",
        "colab_type": "text"
      },
      "source": [
        "W tym rozdziale poznaliśmy podstawy sieci rekurencyjnych i wykorzystaliśmy je do przetwarzania sekwencji (mianowicie szeregów czasowych). Przyjrzeliśmy się również innym sposobom przetwarzania sekwencji, w tym również za pomocą sieci splotowych. W następnym rozdziale wykorzystamy sieci rekurencyjne w zadania przetwarzania języka naturalnego, a także poznamy ich kolejne odmiany (dwukierunkowe, stanowe i bezstanowe, modele typu koder-dekoder, a także zastosowania mechanizmów uwagi). Omówię także transformatory, czyli modele bazujące wyłącznie na mechanizmach uwagi."
      ]
    },
    {
      "cell_type": "markdown",
      "metadata": {
        "id": "S_yE-X4koVEw",
        "colab_type": "text"
      },
      "source": [
        "# Rozwiązania ćwiczeń"
      ]
    },
    {
      "cell_type": "markdown",
      "metadata": {
        "id": "J8G_vOMZoVEw",
        "colab_type": "text"
      },
      "source": [
        "## 1. do 6."
      ]
    },
    {
      "cell_type": "markdown",
      "metadata": {
        "id": "xFu7-FzvoVEx",
        "colab_type": "text"
      },
      "source": [
        "Zobacz dodatek A."
      ]
    },
    {
      "cell_type": "markdown",
      "metadata": {
        "id": "pGQikAR-oVEy",
        "colab_type": "text"
      },
      "source": [
        "## 7. Osadzone gramatyki Rebera"
      ]
    },
    {
      "cell_type": "markdown",
      "metadata": {
        "id": "mrEggvPfoVEy",
        "colab_type": "text"
      },
      "source": [
        "Najpierw musimy stworzyć funkcję generującą łańcuchy znaków na podstawie jakiejś gramatyki. Gramatyka ta będzie reprezentowana jako lista możliwych przejść dla każdego stanu. Za pomocą przejścia wyznaczamy łańcuch znaków na wyjściu (lub gramatykę służącą do wygenerowania tego łańcucha) i następny stan."
      ]
    },
    {
      "cell_type": "code",
      "metadata": {
        "id": "4ixSTlLdoVEz",
        "colab_type": "code",
        "colab": {}
      },
      "source": [
        "np.random.seed(42)\n",
        "\n",
        "default_reber_grammar = [\n",
        "    [(\"B\", 1)],           # (stan 0.) =B=>(stan 1.)\n",
        "    [(\"T\", 2), (\"P\", 3)], # (stan 1.) =T=>(stan 2.) lub =P=>(stan 3.)\n",
        "    [(\"S\", 2), (\"X\", 4)], # (stan 2.) =S=>(stan 2.) lub =X=>(stan 4.)\n",
        "    [(\"T\", 3), (\"V\", 5)], # i tak dalej...\n",
        "    [(\"X\", 3), (\"S\", 6)],\n",
        "    [(\"P\", 4), (\"V\", 6)],\n",
        "    [(\"E\", None)]]        # (stan 6.) =E=>(stan końcowy)\n",
        "\n",
        "embedded_reber_grammar = [\n",
        "    [(\"B\", 1)],\n",
        "    [(\"T\", 2), (\"P\", 3)],\n",
        "    [(default_reber_grammar, 4)],\n",
        "    [(default_reber_grammar, 5)],\n",
        "    [(\"T\", 6)],\n",
        "    [(\"P\", 6)],\n",
        "    [(\"E\", None)]]\n",
        "\n",
        "def generate_string(grammar):\n",
        "    state = 0\n",
        "    output = []\n",
        "    while state is not None:\n",
        "        index = np.random.randint(len(grammar[state]))\n",
        "        production, state = grammar[state][index]\n",
        "        if isinstance(production, list):\n",
        "            production = generate_string(grammar=production)\n",
        "        output.append(production)\n",
        "    return \"\".join(output)"
      ],
      "execution_count": 0,
      "outputs": []
    },
    {
      "cell_type": "markdown",
      "metadata": {
        "id": "JzN8i-2_oVE0",
        "colab_type": "text"
      },
      "source": [
        "Wygenerujmy kilka łańcuchów znaków bazujących na domyślnej gramatyce Rebera:"
      ]
    },
    {
      "cell_type": "code",
      "metadata": {
        "id": "783TYdJFoVE1",
        "colab_type": "code",
        "colab": {},
        "outputId": "f4aac5ee-b3bf-422e-a331-00d3157aed54"
      },
      "source": [
        "for _ in range(25):\n",
        "    print(generate_string(default_reber_grammar), end=\" \")"
      ],
      "execution_count": 0,
      "outputs": [
        {
          "output_type": "stream",
          "text": [
            "BTXXTTVPXTVPXTTVPSE BPVPSE BTXSE BPVVE BPVVE BTSXSE BPTVPXTTTVVE BPVVE BTXSE BTXXVPSE BPTTTTTTTTVVE BTXSE BPVPSE BTXSE BPTVPSE BTXXTVPSE BPVVE BPVVE BPVVE BPTTVVE BPVVE BPVVE BTXXVVE BTXXVVE BTXXVPXVVE "
          ],
          "name": "stdout"
        }
      ]
    },
    {
      "cell_type": "markdown",
      "metadata": {
        "id": "l-fBFgJnoVE2",
        "colab_type": "text"
      },
      "source": [
        "Wygląda dobrze. Wygenerujmy teraz kilka łańcuchów znaków na podstawie osadzonej gramatyki Rebera:"
      ]
    },
    {
      "cell_type": "code",
      "metadata": {
        "id": "hZyjVbBCoVE3",
        "colab_type": "code",
        "colab": {},
        "outputId": "4a78ee38-27a2-4ba0-80af-a1b6df0f3e02"
      },
      "source": [
        "for _ in range(25):\n",
        "    print(generate_string(embedded_reber_grammar), end=\" \")"
      ],
      "execution_count": 0,
      "outputs": [
        {
          "output_type": "stream",
          "text": [
            "BTBPVVETE BTBTSSSSSSSXXVVETE BPBTSSSXXTTTTVPSEPE BTBPTTVVETE BPBTXXTVVEPE BTBTXSETE BPBTSSSSSXXTTVPXVPXTTTVVEPE BPBTSSXXTVPSEPE BPBPTTTTTTTVPSEPE BTBTSXSETE BPBPTVPXVVEPE BPBPVVEPE BPBPTVVEPE BTBPTTVPXTTVPSETE BTBTSSXSETE BTBTXXTTVVETE BPBTSXSEPE BPBPTVPSEPE BTBPVVETE BPBTXXTTTVPXTVVEPE BPBPTTVPXTVVEPE BTBPVVETE BPBPTVPXVPXTVVEPE BTBPVVETE BPBTSXSEPE "
          ],
          "name": "stdout"
        }
      ]
    },
    {
      "cell_type": "markdown",
      "metadata": {
        "id": "bJzyLCH9oVE4",
        "colab_type": "text"
      },
      "source": [
        "W porządku, potrzebna jest nam teraz funkcja generująca łańcuchy zgodnie z regułami gramatyki. Moglibyśmy wygenerować losowy łańcuch znaków, ale byłoby to zbyt proste, dlatego wygenerujemy łańcuch znaków przestrzegający zasad gramatyki i uszkodzimy go za pomocą tylko jednego znaku:"
      ]
    },
    {
      "cell_type": "code",
      "metadata": {
        "id": "ZeOVGd0IoVE5",
        "colab_type": "code",
        "colab": {}
      },
      "source": [
        "def generate_corrupted_string(grammar, chars=\"BEPSTVX\"):\n",
        "    good_string = generate_string(grammar)\n",
        "    index = np.random.randint(len(good_string))\n",
        "    good_char = good_string[index]\n",
        "    bad_char = np.random.choice(sorted(set(chars) - set(good_char)))\n",
        "    return good_string[:index] + bad_char + good_string[index + 1:]"
      ],
      "execution_count": 0,
      "outputs": []
    },
    {
      "cell_type": "markdown",
      "metadata": {
        "id": "nzRKochtoVE6",
        "colab_type": "text"
      },
      "source": [
        "Przyjrzyjmy się kilku uszkodzonym łańcuchom znaków:"
      ]
    },
    {
      "cell_type": "code",
      "metadata": {
        "id": "p-D35Qp5oVE6",
        "colab_type": "code",
        "colab": {},
        "outputId": "e7df0759-72dc-48b7-d51c-b49a7a526d80"
      },
      "source": [
        "for _ in range(25):\n",
        "    print(generate_corrupted_string(embedded_reber_grammar), end=\" \")"
      ],
      "execution_count": 0,
      "outputs": [
        {
          "output_type": "stream",
          "text": [
            "BTTTXXVVETE BPBTXXSPXTVVEPE BTBTXSPTE BPTTSXXTVPXVVEPE PPBPVPSEPE BTBPTVETE BPTTSSSSSXSEPE BPBSVPSEPE BTBPVVESE BPBTXSEPS BEBTXSETE XPBTXXTVPSEPE BTBPVVEPE BTXPTVVETE BTBPVXETE BVBTXSETE BPTTXXVPXVPSEPE BTBPXVPSETE STBPTTVPXVPXTVPSETE BPBPTVPSESE BPBPVEEPE ETBTXSETE BTBTXSVTE BPBTXXVPSEPP BTBTXXVPSETS "
          ],
          "name": "stdout"
        }
      ]
    },
    {
      "cell_type": "markdown",
      "metadata": {
        "id": "MUpen7AVoVE9",
        "colab_type": "text"
      },
      "source": [
        "Ciąg dalszy nastąpi..."
      ]
    },
    {
      "cell_type": "code",
      "metadata": {
        "id": "uNghVt00oVE9",
        "colab_type": "code",
        "colab": {}
      },
      "source": [
        ""
      ],
      "execution_count": 0,
      "outputs": []
    }
  ]
}