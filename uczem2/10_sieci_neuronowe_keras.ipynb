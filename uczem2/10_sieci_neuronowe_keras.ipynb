{
  "nbformat": 4,
  "nbformat_minor": 0,
  "metadata": {
    "kernelspec": {
      "name": "python3",
      "display_name": "Python 3"
    },
    "language_info": {
      "codemirror_mode": {
        "name": "ipython",
        "version": 3
      },
      "file_extension": ".py",
      "mimetype": "text/x-python",
      "name": "python",
      "nbconvert_exporter": "python",
      "pygments_lexer": "ipython3",
      "version": "3.6.5"
    },
    "nav_menu": {
      "height": "264px",
      "width": "369px"
    },
    "toc": {
      "navigate_menu": true,
      "number_sections": true,
      "sideBar": true,
      "threshold": 6,
      "toc_cell": false,
      "toc_section_display": "block",
      "toc_window_display": false
    },
    "colab": {
      "name": "10_sieci_neuronowe_keras.ipynb",
      "provenance": []
    },
    "accelerator": "GPU"
  },
  "cells": [
    {
      "cell_type": "markdown",
      "metadata": {
        "id": "Bst5ZxrovDNR",
        "colab_type": "text"
      },
      "source": [
        "**Rozdział 10. Wprowadzenie do sztucznych sieci neuronowych z użyciem interfejsu Keras**\n",
        "\n",
        "_Notatnik ten zawiera przykładowy kod i rozwiązania ćwiczeń opisane w rozdziale 10._"
      ]
    },
    {
      "cell_type": "markdown",
      "metadata": {
        "id": "FKEJoS6QvDNU",
        "colab_type": "text"
      },
      "source": [
        "<table align=\"left\">\n",
        "  <td>\n",
        "    <a target=\"_blank\" href=\"https://colab.research.google.com/github/ageron/handson-ml2/blob/master/10_neural_nets_with_keras.ipynb\"><img src=\"https://www.tensorflow.org/images/colab_logo_32px.png\" />Uruchom w Google Colab (wersja angielska)</a>\n",
        "  </td>\n",
        "</table>"
      ]
    },
    {
      "cell_type": "markdown",
      "metadata": {
        "editable": true,
        "id": "HqIqpnwcvDNV",
        "colab_type": "text"
      },
      "source": [
        "# Konfiguracja"
      ]
    },
    {
      "cell_type": "markdown",
      "metadata": {
        "id": "tnQ0H6MGvDNV",
        "colab_type": "text"
      },
      "source": [
        "Importujmy najpierw kilka popularnych modułów, upewnijmy się, że będą wstawiane wykresy MatplotLib, a także przygotujmy funkcję zapisującą rysunki. Sprawdzimy także, czy jest zainstalowane środowisko Python 3.5 lub nowsze (możliwe, że kod będzie działał w środowisku Python 2.x, zostało ono jednak porzucone, dlatego zalecamy korzystanie ze środowiska Python 3), a także biblioteka Scikit-Learn 0.20 lub nowsza i TensorFlow 2.0 lub nowszy."
      ]
    },
    {
      "cell_type": "code",
      "metadata": {
        "id": "SnzSGozgvDNW",
        "colab_type": "code",
        "colab": {
          "base_uri": "https://localhost:8080/",
          "height": 34
        },
        "outputId": "c7413368-31d8-4a49-b370-81cbb66f3095"
      },
      "source": [
        "# Wymagane środowisko Python ≥3.5\n",
        "import sys\n",
        "assert sys.version_info >= (3, 5)\n",
        "\n",
        "# Wymagana biblioteka Scikit-Learn ≥0.20\n",
        "import sklearn\n",
        "assert sklearn.__version__ >= \"0.20\"\n",
        "\n",
        "try:\n",
        "    # %tensorflow_version istnieje jedynie w środowisku Colab.\n",
        "    %tensorflow_version 2.x\n",
        "except Exception:\n",
        "    pass\n",
        "\n",
        "# Wymagany moduł TensorFlow ≥2.0\n",
        "import tensorflow as tf\n",
        "assert tf.__version__ >= \"2.0\"\n",
        "\n",
        "# Importuje standardowe biblioteki\n",
        "import numpy as np\n",
        "import os\n",
        "\n",
        "# Aby wyniki uzyskiwane w tym notatniku były odtwarzalne\n",
        "np.random.seed(42)\n",
        "\n",
        "# Do rysowania ładnych wykresów\n",
        "%matplotlib inline\n",
        "import matplotlib as mpl\n",
        "import matplotlib.pyplot as plt\n",
        "mpl.rc('axes', labelsize=14)\n",
        "mpl.rc('xtick', labelsize=12)\n",
        "mpl.rc('ytick', labelsize=12)\n",
        "\n",
        "# Ścieżka zapisywania rysunków\n",
        "PROJECT_ROOT_DIR = \".\"\n",
        "CHAPTER_ID = \"R10\"\n",
        "IMAGES_PATH = os.path.join(PROJECT_ROOT_DIR, \"rysunki\", CHAPTER_ID)\n",
        "os.makedirs(IMAGES_PATH, exist_ok=True)\n",
        "\n",
        "def save_fig(fig_id, tight_layout=True, fig_extension=\"png\", resolution=300):\n",
        "    path = os.path.join(IMAGES_PATH, fig_id + \".\" + fig_extension)\n",
        "    print(\"Zapisywanie rysunku\", fig_id)\n",
        "    if tight_layout:\n",
        "        plt.tight_layout()\n",
        "    plt.savefig(path, format=fig_extension, dpi=resolution)\n",
        "\n",
        "# Ignoruje niepotrzebne ostrzeżenia (sprawdź problem numer 5998 SciPy)\n",
        "import warnings\n",
        "warnings.filterwarnings(action=\"ignore\", message=\"^internal gelsd\")"
      ],
      "execution_count": 1,
      "outputs": [
        {
          "output_type": "stream",
          "text": [
            "TensorFlow 2.x selected.\n"
          ],
          "name": "stdout"
        }
      ]
    },
    {
      "cell_type": "markdown",
      "metadata": {
        "id": "nkHMiITOvDNZ",
        "colab_type": "text"
      },
      "source": [
        "# Perceptrony"
      ]
    },
    {
      "cell_type": "markdown",
      "metadata": {
        "id": "rs-vXf0XvDNa",
        "colab_type": "text"
      },
      "source": [
        "**Uwaga**: jawnie wyznaczamy `max_iter` i `tol` po to, aby unikać ostrzeżeń informujących o zmianie wartości domyślnych tych parametrów w przyszłych wydaniach biblioteki Scikit-Learn."
      ]
    },
    {
      "cell_type": "code",
      "metadata": {
        "id": "BzVR3TrQvDNb",
        "colab_type": "code",
        "colab": {}
      },
      "source": [
        "import numpy as np\n",
        "from sklearn.datasets import load_iris\n",
        "from sklearn.linear_model import Perceptron\n",
        "\n",
        "iris = load_iris()\n",
        "X = iris.data[:, (2, 3)]  # długość płatka, szerokość płatka\n",
        "y = (iris.target == 0).astype(np.int)\n",
        "\n",
        "per_clf = Perceptron(max_iter=1000, tol=1e-3, random_state=42)\n",
        "per_clf.fit(X, y)\n",
        "\n",
        "y_pred = per_clf.predict([[2, 0.5]])"
      ],
      "execution_count": 0,
      "outputs": []
    },
    {
      "cell_type": "code",
      "metadata": {
        "id": "fK_0QxE8vDNd",
        "colab_type": "code",
        "colab": {
          "base_uri": "https://localhost:8080/",
          "height": 34
        },
        "outputId": "0eb78a3c-4111-41bd-8052-233e3706ae5f"
      },
      "source": [
        "y_pred"
      ],
      "execution_count": 3,
      "outputs": [
        {
          "output_type": "execute_result",
          "data": {
            "text/plain": [
              "array([1])"
            ]
          },
          "metadata": {
            "tags": []
          },
          "execution_count": 3
        }
      ]
    },
    {
      "cell_type": "code",
      "metadata": {
        "id": "X2Es-W16vDNg",
        "colab_type": "code",
        "colab": {
          "base_uri": "https://localhost:8080/",
          "height": 314
        },
        "outputId": "c83cc1f4-34d3-4ca7-9ae2-ca198fecf7c6"
      },
      "source": [
        "a = -per_clf.coef_[0][0] / per_clf.coef_[0][1]\n",
        "b = -per_clf.intercept_ / per_clf.coef_[0][1]\n",
        "\n",
        "axes = [0, 5, 0, 2]\n",
        "\n",
        "x0, x1 = np.meshgrid(\n",
        "        np.linspace(axes[0], axes[1], 500).reshape(-1, 1),\n",
        "        np.linspace(axes[2], axes[3], 200).reshape(-1, 1),\n",
        "    )\n",
        "X_new = np.c_[x0.ravel(), x1.ravel()]\n",
        "y_predict = per_clf.predict(X_new)\n",
        "zz = y_predict.reshape(x0.shape)\n",
        "\n",
        "plt.figure(figsize=(10, 4))\n",
        "plt.plot(X[y==0, 0], X[y==0, 1], \"bs\", label=\"Pozostałe\")\n",
        "plt.plot(X[y==1, 0], X[y==1, 1], \"yo\", label=\"Iris Setosa\")\n",
        "\n",
        "plt.plot([axes[0], axes[1]], [a * axes[0] + b, a * axes[1] + b], \"k-\", linewidth=3)\n",
        "from matplotlib.colors import ListedColormap\n",
        "custom_cmap = ListedColormap(['#9898ff', '#fafab0'])\n",
        "\n",
        "plt.contourf(x0, x1, zz, cmap=custom_cmap)\n",
        "plt.xlabel(\"Długość płatka\", fontsize=14)\n",
        "plt.ylabel(\"Szerokość płatka\", fontsize=14)\n",
        "plt.legend(loc=\"lower right\", fontsize=14)\n",
        "plt.axis(axes)\n",
        "\n",
        "save_fig(\"perceptron_zestaw_iris\")\n",
        "plt.show()"
      ],
      "execution_count": 4,
      "outputs": [
        {
          "output_type": "stream",
          "text": [
            "Zapisywanie rysunku perceptron_zestaw_iris\n"
          ],
          "name": "stdout"
        },
        {
          "output_type": "display_data",
          "data": {
            "image/png": "[encoded data removed]",
            "text/plain": [
              "<Figure size 720x288 with 1 Axes>"
            ]
          },
          "metadata": {
            "tags": []
          }
        }
      ]
    },
    {
      "cell_type": "markdown",
      "metadata": {
        "id": "gxDn_JQ1vDNj",
        "colab_type": "text"
      },
      "source": [
        "# Funkcje aktywacji"
      ]
    },
    {
      "cell_type": "code",
      "metadata": {
        "id": "Pa1OSnPBvDNk",
        "colab_type": "code",
        "colab": {}
      },
      "source": [
        "def sigmoid(z):\n",
        "    return 1 / (1 + np.exp(-z))\n",
        "\n",
        "def relu(z):\n",
        "    return np.maximum(0, z)\n",
        "\n",
        "def derivative(f, z, eps=0.000001):\n",
        "    return (f(z + eps) - f(z - eps))/(2 * eps)"
      ],
      "execution_count": 0,
      "outputs": []
    },
    {
      "cell_type": "code",
      "metadata": {
        "id": "UHiQWnWVvDNm",
        "colab_type": "code",
        "colab": {
          "base_uri": "https://localhost:8080/",
          "height": 314
        },
        "outputId": "a18ff56b-b504-448e-8f7d-c3fec45dee95"
      },
      "source": [
        "z = np.linspace(-5, 5, 200)\n",
        "\n",
        "plt.figure(figsize=(11,4))\n",
        "\n",
        "plt.subplot(121)\n",
        "plt.plot(z, np.sign(z), \"r-\", linewidth=1, label=\"Skokowa\")\n",
        "plt.plot(z, sigmoid(z), \"g--\", linewidth=2, label=\"Sigmoidalna\")\n",
        "plt.plot(z, np.tanh(z), \"b-\", linewidth=2, label=\"Tanh\")\n",
        "plt.plot(z, relu(z), \"m-.\", linewidth=2, label=\"ReLU\")\n",
        "plt.grid(True)\n",
        "plt.legend(loc=\"center right\", fontsize=14)\n",
        "plt.title(\"Funkcje aktywacji\", fontsize=14)\n",
        "plt.axis([-5, 5, -1.2, 1.2])\n",
        "\n",
        "plt.subplot(122)\n",
        "plt.plot(z, derivative(np.sign, z), \"r-\", linewidth=1, label=\"Skokowa\")\n",
        "plt.plot(0, 0, \"ro\", markersize=5)\n",
        "plt.plot(0, 0, \"rx\", markersize=10)\n",
        "plt.plot(z, derivative(sigmoid, z), \"g--\", linewidth=2, label=\"Sigmoidalna\")\n",
        "plt.plot(z, derivative(np.tanh, z), \"b-\", linewidth=2, label=\"Tanh\")\n",
        "plt.plot(z, derivative(relu, z), \"m-.\", linewidth=2, label=\"ReLU\")\n",
        "plt.grid(True)\n",
        "#plt.legend(loc=\"center right\", fontsize=14)\n",
        "plt.title(\"Pochodne\", fontsize=14)\n",
        "plt.axis([-5, 5, -0.2, 1.2])\n",
        "\n",
        "save_fig(\"r_10_8\")\n",
        "plt.show()"
      ],
      "execution_count": 6,
      "outputs": [
        {
          "output_type": "stream",
          "text": [
            "Zapisywanie rysunku r_10_8\n"
          ],
          "name": "stdout"
        },
        {
          "output_type": "display_data",
          "data": {
            "image/png": "[encoded data removed]",
            "text/plain": [
              "<Figure size 792x288 with 2 Axes>"
            ]
          },
          "metadata": {
            "tags": []
          }
        }
      ]
    },
    {
      "cell_type": "code",
      "metadata": {
        "id": "TAimhExevDNo",
        "colab_type": "code",
        "colab": {}
      },
      "source": [
        "def heaviside(z):\n",
        "    return (z >= 0).astype(z.dtype)\n",
        "\n",
        "def mlp_xor(x1, x2, activation=heaviside):\n",
        "    return activation(-activation(x1 + x2 - 1.5) + activation(x1 + x2 - 0.5) - 0.5)"
      ],
      "execution_count": 0,
      "outputs": []
    },
    {
      "cell_type": "code",
      "metadata": {
        "scrolled": true,
        "id": "qXSLHNiMvDNq",
        "colab_type": "code",
        "colab": {
          "base_uri": "https://localhost:8080/",
          "height": 286
        },
        "outputId": "ee7a4c40-722f-4549-e94b-d5986fc39066"
      },
      "source": [
        "x1s = np.linspace(-0.2, 1.2, 100)\n",
        "x2s = np.linspace(-0.2, 1.2, 100)\n",
        "x1, x2 = np.meshgrid(x1s, x2s)\n",
        "\n",
        "z1 = mlp_xor(x1, x2, activation=heaviside)\n",
        "z2 = mlp_xor(x1, x2, activation=sigmoid)\n",
        "\n",
        "plt.figure(figsize=(10,4))\n",
        "\n",
        "plt.subplot(121)\n",
        "plt.contourf(x1, x2, z1)\n",
        "plt.plot([0, 1], [0, 1], \"gs\", markersize=20)\n",
        "plt.plot([0, 1], [1, 0], \"y^\", markersize=20)\n",
        "plt.title(\"Funkcja aktywacji: Heaviside`a\", fontsize=14)\n",
        "plt.grid(True)\n",
        "\n",
        "plt.subplot(122)\n",
        "plt.contourf(x1, x2, z2)\n",
        "plt.plot([0, 1], [0, 1], \"gs\", markersize=20)\n",
        "plt.plot([0, 1], [1, 0], \"y^\", markersize=20)\n",
        "plt.title(\"Funkcja aktywacji: sigmoidalna\", fontsize=14)\n",
        "plt.grid(True)"
      ],
      "execution_count": 8,
      "outputs": [
        {
          "output_type": "display_data",
          "data": {
            "image/png": "[encoded data removed]",
            "text/plain": [
              "<Figure size 720x288 with 2 Axes>"
            ]
          },
          "metadata": {
            "tags": []
          }
        }
      ]
    },
    {
      "cell_type": "markdown",
      "metadata": {
        "id": "8HfysjZWvDNt",
        "colab_type": "text"
      },
      "source": [
        "# Tworzenie klasyfikatora obrazów"
      ]
    },
    {
      "cell_type": "markdown",
      "metadata": {
        "id": "0hGLMHn9vDN0",
        "colab_type": "text"
      },
      "source": [
        "Importujmy najpierw moduł TensorFlow i interfejs Keras."
      ]
    },
    {
      "cell_type": "code",
      "metadata": {
        "id": "3fO3kbxmvDN1",
        "colab_type": "code",
        "colab": {}
      },
      "source": [
        "import tensorflow as tf\n",
        "from tensorflow import keras"
      ],
      "execution_count": 0,
      "outputs": []
    },
    {
      "cell_type": "code",
      "metadata": {
        "id": "dbEGVLA5vDN3",
        "colab_type": "code",
        "colab": {
          "base_uri": "https://localhost:8080/",
          "height": 34
        },
        "outputId": "63737e2e-bf76-42b1-fcdc-65c733c55f4b"
      },
      "source": [
        "tf.__version__"
      ],
      "execution_count": 10,
      "outputs": [
        {
          "output_type": "execute_result",
          "data": {
            "text/plain": [
              "'2.1.0'"
            ]
          },
          "metadata": {
            "tags": []
          },
          "execution_count": 10
        }
      ]
    },
    {
      "cell_type": "code",
      "metadata": {
        "id": "eHEemAu3vDN5",
        "colab_type": "code",
        "colab": {
          "base_uri": "https://localhost:8080/",
          "height": 34
        },
        "outputId": "3df8718f-727a-4ddb-d0c3-738801fca5ee"
      },
      "source": [
        "keras.__version__"
      ],
      "execution_count": 11,
      "outputs": [
        {
          "output_type": "execute_result",
          "data": {
            "text/plain": [
              "'2.2.4-tf'"
            ]
          },
          "metadata": {
            "tags": []
          },
          "execution_count": 11
        }
      ]
    },
    {
      "cell_type": "markdown",
      "metadata": {
        "id": "XpWZgv1RvDN7",
        "colab_type": "text"
      },
      "source": [
        "Wczytajmy zestaw danych Fashion MNIST. Interfejs Keras zawiera wiele funkcji pozwalających na wczytywanie popularnych zestawów danych w `keras.datasets`. Interesujący nas zestaw danych jest już podzielony na zbiory uczący i testowy, ale warto jeszcze dodatkowo podzielić zestaw uczący tak, aby otrzymać zbiór walidacyjny:"
      ]
    },
    {
      "cell_type": "code",
      "metadata": {
        "id": "tK0nlDy5vDN8",
        "colab_type": "code",
        "colab": {
          "base_uri": "https://localhost:8080/",
          "height": 153
        },
        "outputId": "b3faff62-cecc-4f12-8810-38ff41f88395"
      },
      "source": [
        "fashion_mnist = keras.datasets.fashion_mnist\n",
        "(X_train_full, y_train_full), (X_test, y_test) = fashion_mnist.load_data()"
      ],
      "execution_count": 12,
      "outputs": [
        {
          "output_type": "stream",
          "text": [
            "Downloading data from https://storage.googleapis.com/tensorflow/tf-keras-datasets/train-labels-idx1-ubyte.gz\n",
            "32768/29515 [=================================] - 0s 0us/step\n",
            "Downloading data from https://storage.googleapis.com/tensorflow/tf-keras-datasets/train-images-idx3-ubyte.gz\n",
            "26427392/26421880 [==============================] - 1s 0us/step\n",
            "Downloading data from https://storage.googleapis.com/tensorflow/tf-keras-datasets/t10k-labels-idx1-ubyte.gz\n",
            "8192/5148 [===============================================] - 0s 0us/step\n",
            "Downloading data from https://storage.googleapis.com/tensorflow/tf-keras-datasets/t10k-images-idx3-ubyte.gz\n",
            "4423680/4422102 [==============================] - 0s 0us/step\n"
          ],
          "name": "stdout"
        }
      ]
    },
    {
      "cell_type": "markdown",
      "metadata": {
        "id": "7mkZJzWRvDN-",
        "colab_type": "text"
      },
      "source": [
        "Zbiór uczący zawiera 60 000 czarno-białych obrazów o rozmiarze 28x28 pikseli:"
      ]
    },
    {
      "cell_type": "code",
      "metadata": {
        "id": "ocCGAFmzvDN_",
        "colab_type": "code",
        "colab": {
          "base_uri": "https://localhost:8080/",
          "height": 34
        },
        "outputId": "27d3b12b-948a-4ec5-f3f9-bb4ca801c799"
      },
      "source": [
        "X_train_full.shape"
      ],
      "execution_count": 13,
      "outputs": [
        {
          "output_type": "execute_result",
          "data": {
            "text/plain": [
              "(60000, 28, 28)"
            ]
          },
          "metadata": {
            "tags": []
          },
          "execution_count": 13
        }
      ]
    },
    {
      "cell_type": "markdown",
      "metadata": {
        "id": "62Kq7zK3vDOC",
        "colab_type": "text"
      },
      "source": [
        "Intensywność każdego piksela reprezentowana jest w postaci bajtowej (od 0 do 255):"
      ]
    },
    {
      "cell_type": "code",
      "metadata": {
        "id": "QEk54AMTvDOD",
        "colab_type": "code",
        "colab": {
          "base_uri": "https://localhost:8080/",
          "height": 34
        },
        "outputId": "a28dbe3c-6372-4a59-f268-7a97f756349c"
      },
      "source": [
        "X_train_full.dtype"
      ],
      "execution_count": 14,
      "outputs": [
        {
          "output_type": "execute_result",
          "data": {
            "text/plain": [
              "dtype('uint8')"
            ]
          },
          "metadata": {
            "tags": []
          },
          "execution_count": 14
        }
      ]
    },
    {
      "cell_type": "markdown",
      "metadata": {
        "id": "S__RAAhAvDOF",
        "colab_type": "text"
      },
      "source": [
        "Podzielmy pełen zestaw uczący na zbiór walidacyjny i (mniejszy) zbiór uczący. Przeskalujemy również intensywności pikseli do zakresu od 0 do 1 i przekształcimy je do formatu zmiennoprzecinkowego (wystarczy podzielić je przez 255)."
      ]
    },
    {
      "cell_type": "code",
      "metadata": {
        "id": "bwUEFvVRvDOG",
        "colab_type": "code",
        "colab": {}
      },
      "source": [
        "X_valid, X_train = X_train_full[:5000] / 255., X_train_full[5000:] / 255.\n",
        "y_valid, y_train = y_train_full[:5000], y_train_full[5000:]\n",
        "X_test = X_test / 255."
      ],
      "execution_count": 0,
      "outputs": []
    },
    {
      "cell_type": "markdown",
      "metadata": {
        "id": "jD5YH_jivDOI",
        "colab_type": "text"
      },
      "source": [
        "Możesz stworzyć wykres obrazu za pomocą funkcji `imshow()` z biblioteki Matplotlib, przy użyciu mapy kolorów `'binary'`:"
      ]
    },
    {
      "cell_type": "code",
      "metadata": {
        "id": "mnJnO71pvDOI",
        "colab_type": "code",
        "colab": {
          "base_uri": "https://localhost:8080/",
          "height": 248
        },
        "outputId": "4a546e42-7aa6-487e-aec7-2da833d990a1"
      },
      "source": [
        "plt.imshow(X_train[0], cmap=\"binary\")\n",
        "plt.axis('off')\n",
        "plt.show()"
      ],
      "execution_count": 16,
      "outputs": [
        {
          "output_type": "display_data",
          "data": {
            "image/png": "[encoded data removed]",
            "text/plain": [
              "<Figure size 432x288 with 1 Axes>"
            ]
          },
          "metadata": {
            "tags": []
          }
        }
      ]
    },
    {
      "cell_type": "markdown",
      "metadata": {
        "id": "M0Lxt9ZfvDOL",
        "colab_type": "text"
      },
      "source": [
        "Etykiety są identyfikatorami klas (w formacie uint8) od 0 do 9:"
      ]
    },
    {
      "cell_type": "code",
      "metadata": {
        "id": "P8gWmlRBvDOL",
        "colab_type": "code",
        "colab": {
          "base_uri": "https://localhost:8080/",
          "height": 34
        },
        "outputId": "f09cc055-91cc-4dd6-a74d-d5c804a77698"
      },
      "source": [
        "y_train"
      ],
      "execution_count": 17,
      "outputs": [
        {
          "output_type": "execute_result",
          "data": {
            "text/plain": [
              "array([4, 0, 7, ..., 3, 0, 5], dtype=uint8)"
            ]
          },
          "metadata": {
            "tags": []
          },
          "execution_count": 17
        }
      ]
    },
    {
      "cell_type": "markdown",
      "metadata": {
        "id": "ucxH1oKsvDON",
        "colab_type": "text"
      },
      "source": [
        "Wprowadzamy tu odpowiadające im nazwy klas:"
      ]
    },
    {
      "cell_type": "code",
      "metadata": {
        "id": "QupKzfV0vDOO",
        "colab_type": "code",
        "colab": {}
      },
      "source": [
        "class_names = [\"Koszulka\", \"Spodnie\", \"Sweter\", \"Sukienka\", \"Płaszcz\",\n",
        "               \"Sandał\", \"Koszula\", \"Tenisówka\", \"Torebka\", \"Trzewik\"]"
      ],
      "execution_count": 0,
      "outputs": []
    },
    {
      "cell_type": "markdown",
      "metadata": {
        "id": "KcLK1MOYvDOQ",
        "colab_type": "text"
      },
      "source": [
        "Zatem pierwszym obrazem w zbiorze uczącym jest płaszcz:"
      ]
    },
    {
      "cell_type": "code",
      "metadata": {
        "id": "zr6QpCPLvDOQ",
        "colab_type": "code",
        "colab": {
          "base_uri": "https://localhost:8080/",
          "height": 34
        },
        "outputId": "15500285-9ef1-45e9-8836-4ea58aaa9ca9"
      },
      "source": [
        "class_names[y_train[0]]"
      ],
      "execution_count": 19,
      "outputs": [
        {
          "output_type": "execute_result",
          "data": {
            "text/plain": [
              "'Płaszcz'"
            ]
          },
          "metadata": {
            "tags": []
          },
          "execution_count": 19
        }
      ]
    },
    {
      "cell_type": "markdown",
      "metadata": {
        "id": "ukGvw_XmvDOS",
        "colab_type": "text"
      },
      "source": [
        "Zbiór walidacyjny zawiera 5 000 obrazów, natomiast zbiór testowy - 10 000 przykładów:"
      ]
    },
    {
      "cell_type": "code",
      "metadata": {
        "id": "IZRSWUqyvDOT",
        "colab_type": "code",
        "colab": {
          "base_uri": "https://localhost:8080/",
          "height": 34
        },
        "outputId": "9dca89c6-3b70-46fd-8619-2524565ba909"
      },
      "source": [
        "X_valid.shape"
      ],
      "execution_count": 20,
      "outputs": [
        {
          "output_type": "execute_result",
          "data": {
            "text/plain": [
              "(5000, 28, 28)"
            ]
          },
          "metadata": {
            "tags": []
          },
          "execution_count": 20
        }
      ]
    },
    {
      "cell_type": "code",
      "metadata": {
        "id": "VqZyRJL_vDOV",
        "colab_type": "code",
        "colab": {
          "base_uri": "https://localhost:8080/",
          "height": 34
        },
        "outputId": "43d6f844-c688-4afd-bd63-69eb7bf54c79"
      },
      "source": [
        "X_test.shape"
      ],
      "execution_count": 21,
      "outputs": [
        {
          "output_type": "execute_result",
          "data": {
            "text/plain": [
              "(10000, 28, 28)"
            ]
          },
          "metadata": {
            "tags": []
          },
          "execution_count": 21
        }
      ]
    },
    {
      "cell_type": "markdown",
      "metadata": {
        "id": "09n0QZd6vDOX",
        "colab_type": "text"
      },
      "source": [
        "Przyjrzyjmy się grupie obrazów z zestawu danych:"
      ]
    },
    {
      "cell_type": "code",
      "metadata": {
        "id": "cgYCMG-hvDOY",
        "colab_type": "code",
        "colab": {
          "base_uri": "https://localhost:8080/",
          "height": 325
        },
        "outputId": "88be3c0f-a825-4fc1-8ddf-b248e4dfb9c0"
      },
      "source": [
        "n_rows = 4\n",
        "n_cols = 10\n",
        "plt.figure(figsize=(n_cols * 1.2, n_rows * 1.2))\n",
        "for row in range(n_rows):\n",
        "    for col in range(n_cols):\n",
        "        index = n_cols * row + col\n",
        "        plt.subplot(n_rows, n_cols, index + 1)\n",
        "        plt.imshow(X_train[index], cmap=\"binary\", interpolation=\"nearest\")\n",
        "        plt.axis('off')\n",
        "        plt.title(class_names[y_train[index]], fontsize=12)\n",
        "plt.subplots_adjust(wspace=0.2, hspace=0.5)\n",
        "save_fig('r_10_11', tight_layout=False)\n",
        "plt.show()"
      ],
      "execution_count": 22,
      "outputs": [
        {
          "output_type": "stream",
          "text": [
            "Zapisywanie rysunku r_10_11\n"
          ],
          "name": "stdout"
        },
        {
          "output_type": "display_data",
          "data": {
            "image/png": "[encoded data removed]",
            "text/plain": [
              "<Figure size 864x345.6 with 40 Axes>"
            ]
          },
          "metadata": {
            "tags": []
          }
        }
      ]
    },
    {
      "cell_type": "code",
      "metadata": {
        "id": "BHr4Go2_vDOZ",
        "colab_type": "code",
        "colab": {}
      },
      "source": [
        "model = keras.models.Sequential()\n",
        "model.add(keras.layers.Flatten(input_shape=[28, 28]))\n",
        "model.add(keras.layers.Dense(300, activation=\"relu\"))\n",
        "model.add(keras.layers.Dense(100, activation=\"relu\"))\n",
        "model.add(keras.layers.Dense(10, activation=\"softmax\"))"
      ],
      "execution_count": 0,
      "outputs": []
    },
    {
      "cell_type": "code",
      "metadata": {
        "id": "EULKkTbwvDOc",
        "colab_type": "code",
        "colab": {}
      },
      "source": [
        "keras.backend.clear_session()\n",
        "np.random.seed(42)\n",
        "tf.random.set_seed(42)"
      ],
      "execution_count": 0,
      "outputs": []
    },
    {
      "cell_type": "code",
      "metadata": {
        "id": "Zgjj6pDxvDOe",
        "colab_type": "code",
        "colab": {}
      },
      "source": [
        "model = keras.models.Sequential([\n",
        "    keras.layers.Flatten(input_shape=[28, 28]),\n",
        "    keras.layers.Dense(300, activation=\"relu\"),\n",
        "    keras.layers.Dense(100, activation=\"relu\"),\n",
        "    keras.layers.Dense(10, activation=\"softmax\")\n",
        "])"
      ],
      "execution_count": 0,
      "outputs": []
    },
    {
      "cell_type": "code",
      "metadata": {
        "id": "vzoPrPeAvDOg",
        "colab_type": "code",
        "colab": {
          "base_uri": "https://localhost:8080/",
          "height": 85
        },
        "outputId": "58262019-1698-47c9-98f5-e490ed642ac9"
      },
      "source": [
        "model.layers"
      ],
      "execution_count": 26,
      "outputs": [
        {
          "output_type": "execute_result",
          "data": {
            "text/plain": [
              "[<tensorflow.python.keras.layers.core.Flatten at 0x7f31304d13c8>,\n",
              " <tensorflow.python.keras.layers.core.Dense at 0x7f31304d14e0>,\n",
              " <tensorflow.python.keras.layers.core.Dense at 0x7f31304d16d8>,\n",
              " <tensorflow.python.keras.layers.core.Dense at 0x7f31304d18d0>]"
            ]
          },
          "metadata": {
            "tags": []
          },
          "execution_count": 26
        }
      ]
    },
    {
      "cell_type": "code",
      "metadata": {
        "id": "F4gkKAlSvDOi",
        "colab_type": "code",
        "colab": {
          "base_uri": "https://localhost:8080/",
          "height": 289
        },
        "outputId": "50caa81a-71a1-4c82-94a5-44126d576458"
      },
      "source": [
        "model.summary()"
      ],
      "execution_count": 27,
      "outputs": [
        {
          "output_type": "stream",
          "text": [
            "Model: \"sequential\"\n",
            "_________________________________________________________________\n",
            "Layer (type)                 Output Shape              Param #   \n",
            "=================================================================\n",
            "flatten (Flatten)            (None, 784)               0         \n",
            "_________________________________________________________________\n",
            "dense (Dense)                (None, 300)               235500    \n",
            "_________________________________________________________________\n",
            "dense_1 (Dense)              (None, 100)               30100     \n",
            "_________________________________________________________________\n",
            "dense_2 (Dense)              (None, 10)                1010      \n",
            "=================================================================\n",
            "Total params: 266,610\n",
            "Trainable params: 266,610\n",
            "Non-trainable params: 0\n",
            "_________________________________________________________________\n"
          ],
          "name": "stdout"
        }
      ]
    },
    {
      "cell_type": "code",
      "metadata": {
        "id": "ZhLKw6YkvDOk",
        "colab_type": "code",
        "colab": {
          "base_uri": "https://localhost:8080/",
          "height": 533
        },
        "outputId": "4a454f31-90ca-4d09-9bf5-42500e11ffef"
      },
      "source": [
        "keras.utils.plot_model(model, \"moj_model_fashion_mnist.png\", show_shapes=True)"
      ],
      "execution_count": 28,
      "outputs": [
        {
          "output_type": "execute_result",
          "data": {
            "image/png": "[encoded data removed]",
            "text/plain": [
              "<IPython.core.display.Image object>"
            ]
          },
          "metadata": {
            "tags": []
          },
          "execution_count": 28
        }
      ]
    },
    {
      "cell_type": "code",
      "metadata": {
        "id": "J5vNln6FvDOm",
        "colab_type": "code",
        "colab": {
          "base_uri": "https://localhost:8080/",
          "height": 34
        },
        "outputId": "c8c615ae-aa31-4cde-e65f-2c1fe016932b"
      },
      "source": [
        "hidden1 = model.layers[1]\n",
        "hidden1.name"
      ],
      "execution_count": 29,
      "outputs": [
        {
          "output_type": "execute_result",
          "data": {
            "text/plain": [
              "'dense'"
            ]
          },
          "metadata": {
            "tags": []
          },
          "execution_count": 29
        }
      ]
    },
    {
      "cell_type": "code",
      "metadata": {
        "id": "xVu-1nR-vDOo",
        "colab_type": "code",
        "colab": {
          "base_uri": "https://localhost:8080/",
          "height": 34
        },
        "outputId": "d9e35971-f33d-4216-b51c-8a33622e2951"
      },
      "source": [
        "model.get_layer(hidden1.name) is hidden1"
      ],
      "execution_count": 30,
      "outputs": [
        {
          "output_type": "execute_result",
          "data": {
            "text/plain": [
              "True"
            ]
          },
          "metadata": {
            "tags": []
          },
          "execution_count": 30
        }
      ]
    },
    {
      "cell_type": "code",
      "metadata": {
        "id": "iteT16-9vDOq",
        "colab_type": "code",
        "colab": {}
      },
      "source": [
        "weights, biases = hidden1.get_weights()"
      ],
      "execution_count": 0,
      "outputs": []
    },
    {
      "cell_type": "code",
      "metadata": {
        "id": "y9xYVomDvDOs",
        "colab_type": "code",
        "colab": {
          "base_uri": "https://localhost:8080/",
          "height": 238
        },
        "outputId": "4d81dec5-5dda-4459-d54e-a7ab3d862acd"
      },
      "source": [
        "weights"
      ],
      "execution_count": 32,
      "outputs": [
        {
          "output_type": "execute_result",
          "data": {
            "text/plain": [
              "array([[ 0.02448617, -0.00877795, -0.02189048, ..., -0.02766046,\n",
              "         0.03859074, -0.06889391],\n",
              "       [ 0.00476504, -0.03105379, -0.0586676 , ...,  0.00602964,\n",
              "        -0.02763776, -0.04165364],\n",
              "       [-0.06189284, -0.06901957,  0.07102345, ..., -0.04238207,\n",
              "         0.07121518, -0.07331658],\n",
              "       ...,\n",
              "       [-0.03048757,  0.02155137, -0.05400612, ..., -0.00113463,\n",
              "         0.00228987,  0.05581069],\n",
              "       [ 0.07061854, -0.06960931,  0.07038955, ..., -0.00384101,\n",
              "         0.00034875,  0.02878492],\n",
              "       [-0.06022581,  0.01577859, -0.02585464, ..., -0.00527829,\n",
              "         0.00272203, -0.06793761]], dtype=float32)"
            ]
          },
          "metadata": {
            "tags": []
          },
          "execution_count": 32
        }
      ]
    },
    {
      "cell_type": "code",
      "metadata": {
        "id": "u32Q8j5dvDOu",
        "colab_type": "code",
        "colab": {
          "base_uri": "https://localhost:8080/",
          "height": 34
        },
        "outputId": "30273acb-b440-469a-a4b4-0990964aa377"
      },
      "source": [
        "weights.shape"
      ],
      "execution_count": 33,
      "outputs": [
        {
          "output_type": "execute_result",
          "data": {
            "text/plain": [
              "(784, 300)"
            ]
          },
          "metadata": {
            "tags": []
          },
          "execution_count": 33
        }
      ]
    },
    {
      "cell_type": "code",
      "metadata": {
        "id": "pyNsG6m4vDOw",
        "colab_type": "code",
        "colab": {
          "base_uri": "https://localhost:8080/",
          "height": 323
        },
        "outputId": "b97a043a-0f70-438f-a01f-09ed98a12e6f"
      },
      "source": [
        "biases"
      ],
      "execution_count": 34,
      "outputs": [
        {
          "output_type": "execute_result",
          "data": {
            "text/plain": [
              "array([0., 0., 0., 0., 0., 0., 0., 0., 0., 0., 0., 0., 0., 0., 0., 0., 0.,\n",
              "       0., 0., 0., 0., 0., 0., 0., 0., 0., 0., 0., 0., 0., 0., 0., 0., 0.,\n",
              "       0., 0., 0., 0., 0., 0., 0., 0., 0., 0., 0., 0., 0., 0., 0., 0., 0.,\n",
              "       0., 0., 0., 0., 0., 0., 0., 0., 0., 0., 0., 0., 0., 0., 0., 0., 0.,\n",
              "       0., 0., 0., 0., 0., 0., 0., 0., 0., 0., 0., 0., 0., 0., 0., 0., 0.,\n",
              "       0., 0., 0., 0., 0., 0., 0., 0., 0., 0., 0., 0., 0., 0., 0., 0., 0.,\n",
              "       0., 0., 0., 0., 0., 0., 0., 0., 0., 0., 0., 0., 0., 0., 0., 0., 0.,\n",
              "       0., 0., 0., 0., 0., 0., 0., 0., 0., 0., 0., 0., 0., 0., 0., 0., 0.,\n",
              "       0., 0., 0., 0., 0., 0., 0., 0., 0., 0., 0., 0., 0., 0., 0., 0., 0.,\n",
              "       0., 0., 0., 0., 0., 0., 0., 0., 0., 0., 0., 0., 0., 0., 0., 0., 0.,\n",
              "       0., 0., 0., 0., 0., 0., 0., 0., 0., 0., 0., 0., 0., 0., 0., 0., 0.,\n",
              "       0., 0., 0., 0., 0., 0., 0., 0., 0., 0., 0., 0., 0., 0., 0., 0., 0.,\n",
              "       0., 0., 0., 0., 0., 0., 0., 0., 0., 0., 0., 0., 0., 0., 0., 0., 0.,\n",
              "       0., 0., 0., 0., 0., 0., 0., 0., 0., 0., 0., 0., 0., 0., 0., 0., 0.,\n",
              "       0., 0., 0., 0., 0., 0., 0., 0., 0., 0., 0., 0., 0., 0., 0., 0., 0.,\n",
              "       0., 0., 0., 0., 0., 0., 0., 0., 0., 0., 0., 0., 0., 0., 0., 0., 0.,\n",
              "       0., 0., 0., 0., 0., 0., 0., 0., 0., 0., 0., 0., 0., 0., 0., 0., 0.,\n",
              "       0., 0., 0., 0., 0., 0., 0., 0., 0., 0., 0.], dtype=float32)"
            ]
          },
          "metadata": {
            "tags": []
          },
          "execution_count": 34
        }
      ]
    },
    {
      "cell_type": "code",
      "metadata": {
        "id": "u_nrCGfWvDOy",
        "colab_type": "code",
        "colab": {
          "base_uri": "https://localhost:8080/",
          "height": 34
        },
        "outputId": "de2b0312-354e-4ed8-eda1-3d19fa921be5"
      },
      "source": [
        "biases.shape"
      ],
      "execution_count": 35,
      "outputs": [
        {
          "output_type": "execute_result",
          "data": {
            "text/plain": [
              "(300,)"
            ]
          },
          "metadata": {
            "tags": []
          },
          "execution_count": 35
        }
      ]
    },
    {
      "cell_type": "code",
      "metadata": {
        "id": "OZKwaopbvDO1",
        "colab_type": "code",
        "colab": {}
      },
      "source": [
        "model.compile(loss=\"sparse_categorical_crossentropy\",\n",
        "              optimizer=\"sgd\",\n",
        "              metrics=[\"accuracy\"])"
      ],
      "execution_count": 0,
      "outputs": []
    },
    {
      "cell_type": "markdown",
      "metadata": {
        "id": "l68OIRnDvDO5",
        "colab_type": "text"
      },
      "source": [
        "Jest to równoważne:"
      ]
    },
    {
      "cell_type": "markdown",
      "metadata": {
        "id": "ARJA3GxOvDO5",
        "colab_type": "text"
      },
      "source": [
        "```python\n",
        "model.compile(loss=keras.losses.sparse_categorical_crossentropy,\n",
        "              optimizer=keras.optimizers.SGD(),\n",
        "              metrics=[keras.metrics.sparse_categorical_accuracy])\n",
        "```"
      ]
    },
    {
      "cell_type": "code",
      "metadata": {
        "id": "b72qLuvFvDO6",
        "colab_type": "code",
        "colab": {
          "base_uri": "https://localhost:8080/",
          "height": 1000
        },
        "outputId": "acb4ce72-2406-426d-db03-aee33072b010"
      },
      "source": [
        "history = model.fit(X_train, y_train, epochs=30,\n",
        "                    validation_data=(X_valid, y_valid))"
      ],
      "execution_count": 37,
      "outputs": [
        {
          "output_type": "stream",
          "text": [
            "Train on 55000 samples, validate on 5000 samples\n",
            "Epoch 1/30\n",
            "55000/55000 [==============================] - 8s 141us/sample - loss: 0.7226 - accuracy: 0.7640 - val_loss: 0.5076 - val_accuracy: 0.8314\n",
            "Epoch 2/30\n",
            "55000/55000 [==============================] - 6s 105us/sample - loss: 0.4843 - accuracy: 0.8323 - val_loss: 0.4540 - val_accuracy: 0.8484\n",
            "Epoch 3/30\n",
            "55000/55000 [==============================] - 6s 103us/sample - loss: 0.4414 - accuracy: 0.8465 - val_loss: 0.4382 - val_accuracy: 0.8496\n",
            "Epoch 4/30\n",
            "55000/55000 [==============================] - 6s 102us/sample - loss: 0.4130 - accuracy: 0.8547 - val_loss: 0.4158 - val_accuracy: 0.8564\n",
            "Epoch 5/30\n",
            "55000/55000 [==============================] - 6s 104us/sample - loss: 0.3928 - accuracy: 0.8613 - val_loss: 0.3812 - val_accuracy: 0.8644\n",
            "Epoch 6/30\n",
            "55000/55000 [==============================] - 6s 102us/sample - loss: 0.3772 - accuracy: 0.8665 - val_loss: 0.3728 - val_accuracy: 0.8692\n",
            "Epoch 7/30\n",
            "55000/55000 [==============================] - 6s 102us/sample - loss: 0.3626 - accuracy: 0.8732 - val_loss: 0.3702 - val_accuracy: 0.8694\n",
            "Epoch 8/30\n",
            "55000/55000 [==============================] - 6s 103us/sample - loss: 0.3518 - accuracy: 0.8747 - val_loss: 0.3669 - val_accuracy: 0.8700\n",
            "Epoch 9/30\n",
            "55000/55000 [==============================] - 6s 104us/sample - loss: 0.3421 - accuracy: 0.8773 - val_loss: 0.3436 - val_accuracy: 0.8798\n",
            "Epoch 10/30\n",
            "55000/55000 [==============================] - 6s 103us/sample - loss: 0.3326 - accuracy: 0.8809 - val_loss: 0.3508 - val_accuracy: 0.8778\n",
            "Epoch 11/30\n",
            "55000/55000 [==============================] - 6s 102us/sample - loss: 0.3242 - accuracy: 0.8836 - val_loss: 0.3363 - val_accuracy: 0.8818\n",
            "Epoch 12/30\n",
            "55000/55000 [==============================] - 6s 106us/sample - loss: 0.3161 - accuracy: 0.8867 - val_loss: 0.3306 - val_accuracy: 0.8844\n",
            "Epoch 13/30\n",
            "55000/55000 [==============================] - 6s 103us/sample - loss: 0.3075 - accuracy: 0.8900 - val_loss: 0.3324 - val_accuracy: 0.8824\n",
            "Epoch 14/30\n",
            "55000/55000 [==============================] - 6s 105us/sample - loss: 0.3019 - accuracy: 0.8918 - val_loss: 0.3239 - val_accuracy: 0.8860\n",
            "Epoch 15/30\n",
            "55000/55000 [==============================] - 6s 105us/sample - loss: 0.2955 - accuracy: 0.8935 - val_loss: 0.3169 - val_accuracy: 0.8894\n",
            "Epoch 16/30\n",
            "55000/55000 [==============================] - 6s 104us/sample - loss: 0.2899 - accuracy: 0.8960 - val_loss: 0.3253 - val_accuracy: 0.8880\n",
            "Epoch 17/30\n",
            "55000/55000 [==============================] - 6s 104us/sample - loss: 0.2836 - accuracy: 0.8979 - val_loss: 0.3181 - val_accuracy: 0.8910\n",
            "Epoch 18/30\n",
            "55000/55000 [==============================] - 6s 102us/sample - loss: 0.2784 - accuracy: 0.8998 - val_loss: 0.3102 - val_accuracy: 0.8908\n",
            "Epoch 19/30\n",
            "55000/55000 [==============================] - 6s 102us/sample - loss: 0.2731 - accuracy: 0.9016 - val_loss: 0.3199 - val_accuracy: 0.8844\n",
            "Epoch 20/30\n",
            "55000/55000 [==============================] - 6s 105us/sample - loss: 0.2682 - accuracy: 0.9038 - val_loss: 0.3224 - val_accuracy: 0.8836\n",
            "Epoch 21/30\n",
            "55000/55000 [==============================] - 6s 102us/sample - loss: 0.2636 - accuracy: 0.9041 - val_loss: 0.2993 - val_accuracy: 0.8954\n",
            "Epoch 22/30\n",
            "55000/55000 [==============================] - 6s 102us/sample - loss: 0.2576 - accuracy: 0.9075 - val_loss: 0.3112 - val_accuracy: 0.8868\n",
            "Epoch 23/30\n",
            "55000/55000 [==============================] - 6s 105us/sample - loss: 0.2542 - accuracy: 0.9081 - val_loss: 0.3001 - val_accuracy: 0.8904\n",
            "Epoch 24/30\n",
            "55000/55000 [==============================] - 6s 104us/sample - loss: 0.2493 - accuracy: 0.9101 - val_loss: 0.3112 - val_accuracy: 0.8854\n",
            "Epoch 25/30\n",
            "55000/55000 [==============================] - 6s 104us/sample - loss: 0.2455 - accuracy: 0.9123 - val_loss: 0.3097 - val_accuracy: 0.8894\n",
            "Epoch 26/30\n",
            "55000/55000 [==============================] - 6s 105us/sample - loss: 0.2411 - accuracy: 0.9141 - val_loss: 0.3248 - val_accuracy: 0.8866\n",
            "Epoch 27/30\n",
            "55000/55000 [==============================] - 6s 103us/sample - loss: 0.2370 - accuracy: 0.9150 - val_loss: 0.3099 - val_accuracy: 0.8864\n",
            "Epoch 28/30\n",
            "55000/55000 [==============================] - 6s 103us/sample - loss: 0.2325 - accuracy: 0.9173 - val_loss: 0.2919 - val_accuracy: 0.8942\n",
            "Epoch 29/30\n",
            "55000/55000 [==============================] - 6s 102us/sample - loss: 0.2290 - accuracy: 0.9183 - val_loss: 0.2981 - val_accuracy: 0.8922\n",
            "Epoch 30/30\n",
            "55000/55000 [==============================] - 6s 102us/sample - loss: 0.2260 - accuracy: 0.9192 - val_loss: 0.3030 - val_accuracy: 0.8918\n"
          ],
          "name": "stdout"
        }
      ]
    },
    {
      "cell_type": "code",
      "metadata": {
        "id": "0cuTN_HPvDO8",
        "colab_type": "code",
        "colab": {
          "base_uri": "https://localhost:8080/",
          "height": 136
        },
        "outputId": "ccadd30c-f969-427a-b2c9-decbbbb2d851"
      },
      "source": [
        "history.params"
      ],
      "execution_count": 38,
      "outputs": [
        {
          "output_type": "execute_result",
          "data": {
            "text/plain": [
              "{'batch_size': 32,\n",
              " 'do_validation': True,\n",
              " 'epochs': 30,\n",
              " 'metrics': ['loss', 'accuracy', 'val_loss', 'val_accuracy'],\n",
              " 'samples': 55000,\n",
              " 'steps': 1719,\n",
              " 'verbose': 0}"
            ]
          },
          "metadata": {
            "tags": []
          },
          "execution_count": 38
        }
      ]
    },
    {
      "cell_type": "code",
      "metadata": {
        "id": "CHA69SjivDO-",
        "colab_type": "code",
        "colab": {
          "base_uri": "https://localhost:8080/",
          "height": 34
        },
        "outputId": "e2c25080-95b4-404c-e67c-445561ec6c92"
      },
      "source": [
        "print(history.epoch)"
      ],
      "execution_count": 39,
      "outputs": [
        {
          "output_type": "stream",
          "text": [
            "[0, 1, 2, 3, 4, 5, 6, 7, 8, 9, 10, 11, 12, 13, 14, 15, 16, 17, 18, 19, 20, 21, 22, 23, 24, 25, 26, 27, 28, 29]\n"
          ],
          "name": "stdout"
        }
      ]
    },
    {
      "cell_type": "code",
      "metadata": {
        "id": "5lc3zFrUvDPB",
        "colab_type": "code",
        "colab": {
          "base_uri": "https://localhost:8080/",
          "height": 34
        },
        "outputId": "f76e90e6-5c10-4bb0-e713-446e44c3b9b2"
      },
      "source": [
        "history.history.keys()"
      ],
      "execution_count": 40,
      "outputs": [
        {
          "output_type": "execute_result",
          "data": {
            "text/plain": [
              "dict_keys(['loss', 'accuracy', 'val_loss', 'val_accuracy'])"
            ]
          },
          "metadata": {
            "tags": []
          },
          "execution_count": 40
        }
      ]
    },
    {
      "cell_type": "code",
      "metadata": {
        "id": "SYwYePUmvDPC",
        "colab_type": "code",
        "colab": {
          "base_uri": "https://localhost:8080/",
          "height": 386
        },
        "outputId": "f1f39028-2ac3-498b-9de3-2085ca917893"
      },
      "source": [
        "import pandas as pd\n",
        "\n",
        "pd.DataFrame(history.history).plot(figsize=(8, 5))\n",
        "plt.grid(True)\n",
        "plt.gca().set_ylim(0, 1)\n",
        "save_fig(\"r_10_12\")\n",
        "plt.show()"
      ],
      "execution_count": 41,
      "outputs": [
        {
          "output_type": "stream",
          "text": [
            "Zapisywanie rysunku r_10_12\n"
          ],
          "name": "stdout"
        },
        {
          "output_type": "display_data",
          "data": {
            "image/png": "[encoded data removed]",
            "text/plain": [
              "<Figure size 576x360 with 1 Axes>"
            ]
          },
          "metadata": {
            "tags": []
          }
        }
      ]
    },
    {
      "cell_type": "code",
      "metadata": {
        "id": "ZzhtPltsvDPF",
        "colab_type": "code",
        "colab": {
          "base_uri": "https://localhost:8080/",
          "height": 51
        },
        "outputId": "9c82ba26-a64f-464e-e832-1257f5aa92f5"
      },
      "source": [
        "model.evaluate(X_test, y_test)"
      ],
      "execution_count": 42,
      "outputs": [
        {
          "output_type": "stream",
          "text": [
            "10000/10000 [==============================] - 1s 76us/sample - loss: 0.3357 - accuracy: 0.8792\n"
          ],
          "name": "stdout"
        },
        {
          "output_type": "execute_result",
          "data": {
            "text/plain": [
              "[0.3356892125844955, 0.8792]"
            ]
          },
          "metadata": {
            "tags": []
          },
          "execution_count": 42
        }
      ]
    },
    {
      "cell_type": "code",
      "metadata": {
        "id": "B2WRdLrZvDPH",
        "colab_type": "code",
        "colab": {
          "base_uri": "https://localhost:8080/",
          "height": 85
        },
        "outputId": "c2eb3047-991a-44ca-9c90-16946554dfc6"
      },
      "source": [
        "X_new = X_test[:3]\n",
        "y_proba = model.predict(X_new)\n",
        "y_proba.round(2)"
      ],
      "execution_count": 43,
      "outputs": [
        {
          "output_type": "execute_result",
          "data": {
            "text/plain": [
              "array([[0.  , 0.  , 0.  , 0.  , 0.  , 0.  , 0.  , 0.01, 0.  , 0.98],\n",
              "       [0.  , 0.  , 1.  , 0.  , 0.  , 0.  , 0.  , 0.  , 0.  , 0.  ],\n",
              "       [0.  , 1.  , 0.  , 0.  , 0.  , 0.  , 0.  , 0.  , 0.  , 0.  ]],\n",
              "      dtype=float32)"
            ]
          },
          "metadata": {
            "tags": []
          },
          "execution_count": 43
        }
      ]
    },
    {
      "cell_type": "code",
      "metadata": {
        "id": "EdSt_IcdvDPJ",
        "colab_type": "code",
        "colab": {
          "base_uri": "https://localhost:8080/",
          "height": 34
        },
        "outputId": "30be4a1f-818c-4d70-deb8-989e65d6999a"
      },
      "source": [
        "y_pred = model.predict_classes(X_new)\n",
        "y_pred"
      ],
      "execution_count": 44,
      "outputs": [
        {
          "output_type": "execute_result",
          "data": {
            "text/plain": [
              "array([9, 2, 1])"
            ]
          },
          "metadata": {
            "tags": []
          },
          "execution_count": 44
        }
      ]
    },
    {
      "cell_type": "code",
      "metadata": {
        "id": "SsxnhpJOvDPL",
        "colab_type": "code",
        "colab": {
          "base_uri": "https://localhost:8080/",
          "height": 34
        },
        "outputId": "36e41458-a0d6-47e7-d359-a5256fa0fff5"
      },
      "source": [
        "np.array(class_names)[y_pred]"
      ],
      "execution_count": 45,
      "outputs": [
        {
          "output_type": "execute_result",
          "data": {
            "text/plain": [
              "array(['Trzewik', 'Sweter', 'Spodnie'], dtype='<U9')"
            ]
          },
          "metadata": {
            "tags": []
          },
          "execution_count": 45
        }
      ]
    },
    {
      "cell_type": "code",
      "metadata": {
        "id": "YUAfRBKavDPN",
        "colab_type": "code",
        "colab": {
          "base_uri": "https://localhost:8080/",
          "height": 34
        },
        "outputId": "da12eb42-d6c0-43ac-9717-3f110db9d927"
      },
      "source": [
        "y_new = y_test[:3]\n",
        "y_new"
      ],
      "execution_count": 46,
      "outputs": [
        {
          "output_type": "execute_result",
          "data": {
            "text/plain": [
              "array([9, 2, 1], dtype=uint8)"
            ]
          },
          "metadata": {
            "tags": []
          },
          "execution_count": 46
        }
      ]
    },
    {
      "cell_type": "code",
      "metadata": {
        "id": "9F4Py3CjvDPP",
        "colab_type": "code",
        "colab": {
          "base_uri": "https://localhost:8080/",
          "height": 182
        },
        "outputId": "0f9ed941-2b6e-41b0-ed3d-4c92a5caf23c"
      },
      "source": [
        "plt.figure(figsize=(7.2, 2.4))\n",
        "for index, image in enumerate(X_new):\n",
        "    plt.subplot(1, 3, index + 1)\n",
        "    plt.imshow(image, cmap=\"binary\", interpolation=\"nearest\")\n",
        "    plt.axis('off')\n",
        "    plt.title(class_names[y_test[index]], fontsize=12)\n",
        "plt.subplots_adjust(wspace=0.2, hspace=0.5)\n",
        "save_fig('r_10_13', tight_layout=False)\n",
        "plt.show()"
      ],
      "execution_count": 47,
      "outputs": [
        {
          "output_type": "stream",
          "text": [
            "Zapisywanie rysunku r_10_13\n"
          ],
          "name": "stdout"
        },
        {
          "output_type": "display_data",
          "data": {
            "image/png": "[encoded data removed]",
            "text/plain": [
              "<Figure size 518.4x172.8 with 3 Axes>"
            ]
          },
          "metadata": {
            "tags": []
          }
        }
      ]
    },
    {
      "cell_type": "markdown",
      "metadata": {
        "id": "Hyn1Ue3xvDPQ",
        "colab_type": "text"
      },
      "source": [
        "# Regresyjny perceptron wielowarstwowy"
      ]
    },
    {
      "cell_type": "markdown",
      "metadata": {
        "id": "_rqdwKBuvDPQ",
        "colab_type": "text"
      },
      "source": [
        "Wczytajmy, podzielmy i przeskalujmy zestaw danych California Housing (oryginalny, a nie jego zmodyfikowaną wersję, której używaliśmy w rozdziale 2.):"
      ]
    },
    {
      "cell_type": "code",
      "metadata": {
        "id": "usFfj8S1vDPR",
        "colab_type": "code",
        "colab": {
          "base_uri": "https://localhost:8080/",
          "height": 34
        },
        "outputId": "77969c2c-740f-407f-b827-71b3e87fab8f"
      },
      "source": [
        "from sklearn.datasets import fetch_california_housing\n",
        "from sklearn.model_selection import train_test_split\n",
        "from sklearn.preprocessing import StandardScaler\n",
        "\n",
        "housing = fetch_california_housing()\n",
        "\n",
        "X_train_full, X_test, y_train_full, y_test = train_test_split(housing.data, housing.target, random_state=42)\n",
        "X_train, X_valid, y_train, y_valid = train_test_split(X_train_full, y_train_full, random_state=42)\n",
        "\n",
        "scaler = StandardScaler()\n",
        "X_train = scaler.fit_transform(X_train)\n",
        "X_valid = scaler.transform(X_valid)\n",
        "X_test = scaler.transform(X_test)"
      ],
      "execution_count": 48,
      "outputs": [
        {
          "output_type": "stream",
          "text": [
            "Downloading Cal. housing from https://ndownloader.figshare.com/files/5976036 to /root/scikit_learn_data\n"
          ],
          "name": "stderr"
        }
      ]
    },
    {
      "cell_type": "code",
      "metadata": {
        "id": "J9WsgXswvDPS",
        "colab_type": "code",
        "colab": {}
      },
      "source": [
        "np.random.seed(42)\n",
        "tf.random.set_seed(42)"
      ],
      "execution_count": 0,
      "outputs": []
    },
    {
      "cell_type": "code",
      "metadata": {
        "id": "Zy9JUlQEvDPU",
        "colab_type": "code",
        "colab": {
          "base_uri": "https://localhost:8080/",
          "height": 731
        },
        "outputId": "86f9adc3-491c-407a-a468-c58401a294f8"
      },
      "source": [
        "model = keras.models.Sequential([\n",
        "    keras.layers.Dense(30, activation=\"relu\", input_shape=X_train.shape[1:]),\n",
        "    keras.layers.Dense(1)\n",
        "])\n",
        "model.compile(loss=\"mean_squared_error\", optimizer=keras.optimizers.SGD(lr=1e-3))\n",
        "history = model.fit(X_train, y_train, epochs=20, validation_data=(X_valid, y_valid))\n",
        "mse_test = model.evaluate(X_test, y_test)\n",
        "X_new = X_test[:3]\n",
        "y_pred = model.predict(X_new)"
      ],
      "execution_count": 50,
      "outputs": [
        {
          "output_type": "stream",
          "text": [
            "Train on 11610 samples, validate on 3870 samples\n",
            "Epoch 1/20\n",
            "11610/11610 [==============================] - 2s 132us/sample - loss: 1.6205 - val_loss: 2.0374\n",
            "Epoch 2/20\n",
            "11610/11610 [==============================] - 1s 108us/sample - loss: 0.7162 - val_loss: 0.6571\n",
            "Epoch 3/20\n",
            "11610/11610 [==============================] - 1s 112us/sample - loss: 0.6356 - val_loss: 0.5996\n",
            "Epoch 4/20\n",
            "11610/11610 [==============================] - 1s 109us/sample - loss: 0.5989 - val_loss: 0.5662\n",
            "Epoch 5/20\n",
            "11610/11610 [==============================] - 1s 110us/sample - loss: 0.5713 - val_loss: 0.5489\n",
            "Epoch 6/20\n",
            "11610/11610 [==============================] - 1s 110us/sample - loss: 0.5491 - val_loss: 0.5204\n",
            "Epoch 7/20\n",
            "11610/11610 [==============================] - 1s 108us/sample - loss: 0.5301 - val_loss: 0.5018\n",
            "Epoch 8/20\n",
            "11610/11610 [==============================] - 1s 109us/sample - loss: 0.5142 - val_loss: 0.4815\n",
            "Epoch 9/20\n",
            "11610/11610 [==============================] - 1s 111us/sample - loss: 0.5004 - val_loss: 0.4695\n",
            "Epoch 10/20\n",
            "11610/11610 [==============================] - 1s 110us/sample - loss: 0.4883 - val_loss: 0.4605\n",
            "Epoch 11/20\n",
            "11610/11610 [==============================] - 1s 114us/sample - loss: 0.4786 - val_loss: 0.4495\n",
            "Epoch 12/20\n",
            "11610/11610 [==============================] - 1s 113us/sample - loss: 0.4697 - val_loss: 0.4382\n",
            "Epoch 13/20\n",
            "11610/11610 [==============================] - 1s 109us/sample - loss: 0.4621 - val_loss: 0.4309\n",
            "Epoch 14/20\n",
            "11610/11610 [==============================] - 1s 108us/sample - loss: 0.4556 - val_loss: 0.4247\n",
            "Epoch 15/20\n",
            "11610/11610 [==============================] - 1s 109us/sample - loss: 0.4497 - val_loss: 0.4200\n",
            "Epoch 16/20\n",
            "11610/11610 [==============================] - 1s 111us/sample - loss: 0.4443 - val_loss: 0.4149\n",
            "Epoch 17/20\n",
            "11610/11610 [==============================] - 1s 113us/sample - loss: 0.4397 - val_loss: 0.4108\n",
            "Epoch 18/20\n",
            "11610/11610 [==============================] - 1s 109us/sample - loss: 0.4354 - val_loss: 0.4059\n",
            "Epoch 19/20\n",
            "11610/11610 [==============================] - 1s 111us/sample - loss: 0.4315 - val_loss: 0.4003\n",
            "Epoch 20/20\n",
            "11610/11610 [==============================] - 1s 109us/sample - loss: 0.4281 - val_loss: 0.3981\n",
            "5160/5160 [==============================] - 0s 63us/sample - loss: 0.4218\n"
          ],
          "name": "stdout"
        }
      ]
    },
    {
      "cell_type": "code",
      "metadata": {
        "id": "LCWZ90PTvDPY",
        "colab_type": "code",
        "colab": {
          "base_uri": "https://localhost:8080/",
          "height": 273
        },
        "outputId": "0b763db1-f060-4d13-a78e-5de52ebc0fd8"
      },
      "source": [
        "plt.plot(pd.DataFrame(history.history))\n",
        "plt.grid(True)\n",
        "plt.gca().set_ylim(0, 1)\n",
        "plt.show()"
      ],
      "execution_count": 51,
      "outputs": [
        {
          "output_type": "display_data",
          "data": {
            "image/png": "[encoded data removed]",
            "text/plain": [
              "<Figure size 432x288 with 1 Axes>"
            ]
          },
          "metadata": {
            "tags": []
          }
        }
      ]
    },
    {
      "cell_type": "code",
      "metadata": {
        "id": "q7BlB_3GvDPZ",
        "colab_type": "code",
        "colab": {
          "base_uri": "https://localhost:8080/",
          "height": 68
        },
        "outputId": "47b3f914-488e-48ff-9cd0-dcf3e3149b7d"
      },
      "source": [
        "y_pred"
      ],
      "execution_count": 52,
      "outputs": [
        {
          "output_type": "execute_result",
          "data": {
            "text/plain": [
              "array([[0.37310085],\n",
              "       [1.679079  ],\n",
              "       [3.0817142 ]], dtype=float32)"
            ]
          },
          "metadata": {
            "tags": []
          },
          "execution_count": 52
        }
      ]
    },
    {
      "cell_type": "markdown",
      "metadata": {
        "id": "_Kvinuw9vDPa",
        "colab_type": "text"
      },
      "source": [
        "# Interfejs funkcyjny"
      ]
    },
    {
      "cell_type": "markdown",
      "metadata": {
        "id": "OWhC-20fvDPb",
        "colab_type": "text"
      },
      "source": [
        "Nie wszystkie modele sieci neuronowych są sekwencyjne. Niektóre cechuje skomplikowana topologia. Inne mogą mieć wiele wejść i/lub wyjść. Na przykład, sieć Wide & Deep (zobacz [artykuł](https://ai.google/research/pubs/pub45413)) łączy wszystkie lub niektóre wejścia bezpośrednio z warstwą wyjściową:"
      ]
    },
    {
      "cell_type": "code",
      "metadata": {
        "id": "ubHlDVDAvDPb",
        "colab_type": "code",
        "colab": {}
      },
      "source": [
        "np.random.seed(42)\n",
        "tf.random.set_seed(42)"
      ],
      "execution_count": 0,
      "outputs": []
    },
    {
      "cell_type": "code",
      "metadata": {
        "id": "BG1KNc7cvDPd",
        "colab_type": "code",
        "colab": {}
      },
      "source": [
        "input_ = keras.layers.Input(shape=X_train.shape[1:])\n",
        "hidden1 = keras.layers.Dense(30, activation=\"relu\")(input_)\n",
        "hidden2 = keras.layers.Dense(30, activation=\"relu\")(hidden1)\n",
        "concat = keras.layers.concatenate([input_, hidden2])\n",
        "output = keras.layers.Dense(1)(concat)\n",
        "model = keras.models.Model(inputs=[input_], outputs=[output])"
      ],
      "execution_count": 0,
      "outputs": []
    },
    {
      "cell_type": "code",
      "metadata": {
        "id": "ynLxzOnyvDPf",
        "colab_type": "code",
        "colab": {
          "base_uri": "https://localhost:8080/",
          "height": 340
        },
        "outputId": "e97ad618-3715-483b-fd82-361e53f13aa2"
      },
      "source": [
        "model.summary()"
      ],
      "execution_count": 55,
      "outputs": [
        {
          "output_type": "stream",
          "text": [
            "Model: \"model\"\n",
            "__________________________________________________________________________________________________\n",
            "Layer (type)                    Output Shape         Param #     Connected to                     \n",
            "==================================================================================================\n",
            "input_1 (InputLayer)            [(None, 8)]          0                                            \n",
            "__________________________________________________________________________________________________\n",
            "dense_5 (Dense)                 (None, 30)           270         input_1[0][0]                    \n",
            "__________________________________________________________________________________________________\n",
            "dense_6 (Dense)                 (None, 30)           930         dense_5[0][0]                    \n",
            "__________________________________________________________________________________________________\n",
            "concatenate (Concatenate)       (None, 38)           0           input_1[0][0]                    \n",
            "                                                                 dense_6[0][0]                    \n",
            "__________________________________________________________________________________________________\n",
            "dense_7 (Dense)                 (None, 1)            39          concatenate[0][0]                \n",
            "==================================================================================================\n",
            "Total params: 1,239\n",
            "Trainable params: 1,239\n",
            "Non-trainable params: 0\n",
            "__________________________________________________________________________________________________\n"
          ],
          "name": "stdout"
        }
      ]
    },
    {
      "cell_type": "code",
      "metadata": {
        "id": "WEJvesH-vDPg",
        "colab_type": "code",
        "colab": {
          "base_uri": "https://localhost:8080/",
          "height": 731
        },
        "outputId": "6717851a-9cc2-4f8c-aff4-2459842eed49"
      },
      "source": [
        "model.compile(loss=\"mean_squared_error\", optimizer=keras.optimizers.SGD(lr=1e-3))\n",
        "history = model.fit(X_train, y_train, epochs=20,\n",
        "                    validation_data=(X_valid, y_valid))\n",
        "mse_test = model.evaluate(X_test, y_test)\n",
        "y_pred = model.predict(X_new)"
      ],
      "execution_count": 56,
      "outputs": [
        {
          "output_type": "stream",
          "text": [
            "Train on 11610 samples, validate on 3870 samples\n",
            "Epoch 1/20\n",
            "11610/11610 [==============================] - 2s 157us/sample - loss: 1.2390 - val_loss: 0.6566\n",
            "Epoch 2/20\n",
            "11610/11610 [==============================] - 1s 114us/sample - loss: 0.6312 - val_loss: 0.6734\n",
            "Epoch 3/20\n",
            "11610/11610 [==============================] - 1s 115us/sample - loss: 0.5886 - val_loss: 0.5574\n",
            "Epoch 4/20\n",
            "11610/11610 [==============================] - 1s 119us/sample - loss: 0.5595 - val_loss: 0.5235\n",
            "Epoch 5/20\n",
            "11610/11610 [==============================] - 1s 115us/sample - loss: 0.5361 - val_loss: 0.5011\n",
            "Epoch 6/20\n",
            "11610/11610 [==============================] - 1s 116us/sample - loss: 0.5178 - val_loss: 0.5065\n",
            "Epoch 7/20\n",
            "11610/11610 [==============================] - 1s 115us/sample - loss: 0.5016 - val_loss: 0.4699\n",
            "Epoch 8/20\n",
            "11610/11610 [==============================] - 1s 113us/sample - loss: 0.4888 - val_loss: 0.4745\n",
            "Epoch 9/20\n",
            "11610/11610 [==============================] - 1s 116us/sample - loss: 0.4772 - val_loss: 0.4425\n",
            "Epoch 10/20\n",
            "11610/11610 [==============================] - 1s 116us/sample - loss: 0.4673 - val_loss: 0.4384\n",
            "Epoch 11/20\n",
            "11610/11610 [==============================] - 1s 114us/sample - loss: 0.4586 - val_loss: 0.4533\n",
            "Epoch 12/20\n",
            "11610/11610 [==============================] - 1s 116us/sample - loss: 0.4504 - val_loss: 0.4179\n",
            "Epoch 13/20\n",
            "11610/11610 [==============================] - 1s 116us/sample - loss: 0.4435 - val_loss: 0.4137\n",
            "Epoch 14/20\n",
            "11610/11610 [==============================] - 1s 115us/sample - loss: 0.4376 - val_loss: 0.4062\n",
            "Epoch 15/20\n",
            "11610/11610 [==============================] - 1s 116us/sample - loss: 0.4318 - val_loss: 0.4541\n",
            "Epoch 16/20\n",
            "11610/11610 [==============================] - 1s 116us/sample - loss: 0.4266 - val_loss: 0.3952\n",
            "Epoch 17/20\n",
            "11610/11610 [==============================] - 1s 120us/sample - loss: 0.4221 - val_loss: 0.3910\n",
            "Epoch 18/20\n",
            "11610/11610 [==============================] - 1s 118us/sample - loss: 0.4173 - val_loss: 0.4205\n",
            "Epoch 19/20\n",
            "11610/11610 [==============================] - 1s 113us/sample - loss: 0.4132 - val_loss: 0.3830\n",
            "Epoch 20/20\n",
            "11610/11610 [==============================] - 1s 115us/sample - loss: 0.4096 - val_loss: 0.3923\n",
            "5160/5160 [==============================] - 0s 66us/sample - loss: 0.4042\n"
          ],
          "name": "stdout"
        }
      ]
    },
    {
      "cell_type": "markdown",
      "metadata": {
        "id": "4t8z4eMEvDPi",
        "colab_type": "text"
      },
      "source": [
        "A gdybyśmy chcieli przesyłać osobne podzbiory cech wejściowych ścieżką krótką lub głęboką? Prześlemy pięć cech (od 0. do 4.) ścieżką krótką, a 6 (od 2. do 7.) ścieżką głęboką. Zwróć uwagę, że trzy cechy (2., 3. i 4.) będą przesyłane obydwiema ścieżkami."
      ]
    },
    {
      "cell_type": "code",
      "metadata": {
        "id": "uKb7eAZMvDPi",
        "colab_type": "code",
        "colab": {}
      },
      "source": [
        "np.random.seed(42)\n",
        "tf.random.set_seed(42)"
      ],
      "execution_count": 0,
      "outputs": []
    },
    {
      "cell_type": "code",
      "metadata": {
        "id": "w9CcTiRcvDPj",
        "colab_type": "code",
        "colab": {}
      },
      "source": [
        "input_A = keras.layers.Input(shape=[5], name=\"wejscie_krotkie\")\n",
        "input_B = keras.layers.Input(shape=[6], name=\"wejscie_glebokie\")\n",
        "hidden1 = keras.layers.Dense(30, activation=\"relu\")(input_B)\n",
        "hidden2 = keras.layers.Dense(30, activation=\"relu\")(hidden1)\n",
        "concat = keras.layers.concatenate([input_A, hidden2])\n",
        "output = keras.layers.Dense(1, name=\"wyjscie\")(concat)\n",
        "model = keras.models.Model(inputs=[input_A, input_B], outputs=[output])"
      ],
      "execution_count": 0,
      "outputs": []
    },
    {
      "cell_type": "code",
      "metadata": {
        "id": "JazKjwojvDPk",
        "colab_type": "code",
        "colab": {
          "base_uri": "https://localhost:8080/",
          "height": 731
        },
        "outputId": "1191ef8a-a6c4-48c1-cafc-43f3a970aa0c"
      },
      "source": [
        "model.compile(loss=\"mse\", optimizer=keras.optimizers.SGD(lr=1e-3))\n",
        "\n",
        "X_train_A, X_train_B = X_train[:, :5], X_train[:, 2:]\n",
        "X_valid_A, X_valid_B = X_valid[:, :5], X_valid[:, 2:]\n",
        "X_test_A, X_test_B = X_test[:, :5], X_test[:, 2:]\n",
        "X_new_A, X_new_B = X_test_A[:3], X_test_B[:3]\n",
        "\n",
        "history = model.fit((X_train_A, X_train_B), y_train, epochs=20,\n",
        "                    validation_data=((X_valid_A, X_valid_B), y_valid))\n",
        "mse_test = model.evaluate((X_test_A, X_test_B), y_test)\n",
        "y_pred = model.predict((X_new_A, X_new_B))"
      ],
      "execution_count": 59,
      "outputs": [
        {
          "output_type": "stream",
          "text": [
            "Train on 11610 samples, validate on 3870 samples\n",
            "Epoch 1/20\n",
            "11610/11610 [==============================] - 2s 145us/sample - loss: 1.8127 - val_loss: 2.1165\n",
            "Epoch 2/20\n",
            "11610/11610 [==============================] - 1s 117us/sample - loss: 0.6852 - val_loss: 0.6178\n",
            "Epoch 3/20\n",
            "11610/11610 [==============================] - 1s 117us/sample - loss: 0.5965 - val_loss: 0.5600\n",
            "Epoch 4/20\n",
            "11610/11610 [==============================] - 1s 118us/sample - loss: 0.5587 - val_loss: 0.5269\n",
            "Epoch 5/20\n",
            "11610/11610 [==============================] - 1s 119us/sample - loss: 0.5321 - val_loss: 0.5185\n",
            "Epoch 6/20\n",
            "11610/11610 [==============================] - 1s 122us/sample - loss: 0.5129 - val_loss: 0.4803\n",
            "Epoch 7/20\n",
            "11610/11610 [==============================] - 1s 119us/sample - loss: 0.4959 - val_loss: 0.4689\n",
            "Epoch 8/20\n",
            "11610/11610 [==============================] - 1s 119us/sample - loss: 0.4837 - val_loss: 0.4498\n",
            "Epoch 9/20\n",
            "11610/11610 [==============================] - 1s 119us/sample - loss: 0.4734 - val_loss: 0.4387\n",
            "Epoch 10/20\n",
            "11610/11610 [==============================] - 1s 124us/sample - loss: 0.4646 - val_loss: 0.4306\n",
            "Epoch 11/20\n",
            "11610/11610 [==============================] - 1s 119us/sample - loss: 0.4571 - val_loss: 0.4262\n",
            "Epoch 12/20\n",
            "11610/11610 [==============================] - 1s 122us/sample - loss: 0.4507 - val_loss: 0.4173\n",
            "Epoch 13/20\n",
            "11610/11610 [==============================] - 1s 119us/sample - loss: 0.4456 - val_loss: 0.4124\n",
            "Epoch 14/20\n",
            "11610/11610 [==============================] - 1s 118us/sample - loss: 0.4422 - val_loss: 0.4084\n",
            "Epoch 15/20\n",
            "11610/11610 [==============================] - 1s 120us/sample - loss: 0.4386 - val_loss: 0.4351\n",
            "Epoch 16/20\n",
            "11610/11610 [==============================] - 1s 119us/sample - loss: 0.4361 - val_loss: 0.4017\n",
            "Epoch 17/20\n",
            "11610/11610 [==============================] - 1s 119us/sample - loss: 0.4326 - val_loss: 0.3990\n",
            "Epoch 18/20\n",
            "11610/11610 [==============================] - 1s 116us/sample - loss: 0.4296 - val_loss: 0.4148\n",
            "Epoch 19/20\n",
            "11610/11610 [==============================] - 1s 121us/sample - loss: 0.4278 - val_loss: 0.3957\n",
            "Epoch 20/20\n",
            "11610/11610 [==============================] - 1s 118us/sample - loss: 0.4259 - val_loss: 0.3976\n",
            "5160/5160 [==============================] - 0s 66us/sample - loss: 0.4202\n"
          ],
          "name": "stdout"
        }
      ]
    },
    {
      "cell_type": "markdown",
      "metadata": {
        "id": "RgNCPKTDvDPn",
        "colab_type": "text"
      },
      "source": [
        "Wprowadzamy dodatkowe wyjście w celu regularyzacji:"
      ]
    },
    {
      "cell_type": "code",
      "metadata": {
        "id": "Qq1oqDyhvDPn",
        "colab_type": "code",
        "colab": {}
      },
      "source": [
        "np.random.seed(42)\n",
        "tf.random.set_seed(42)"
      ],
      "execution_count": 0,
      "outputs": []
    },
    {
      "cell_type": "code",
      "metadata": {
        "id": "8VfyWsT_vDPs",
        "colab_type": "code",
        "colab": {}
      },
      "source": [
        "input_A = keras.layers.Input(shape=[5], name=\"wejscie_krotkie\")\n",
        "input_B = keras.layers.Input(shape=[6], name=\"wejscie_glebokie\")\n",
        "hidden1 = keras.layers.Dense(30, activation=\"relu\")(input_B)\n",
        "hidden2 = keras.layers.Dense(30, activation=\"relu\")(hidden1)\n",
        "concat = keras.layers.concatenate([input_A, hidden2])\n",
        "output = keras.layers.Dense(1, name=\"wyjscie_glowne\")(concat)\n",
        "aux_output = keras.layers.Dense(1, name=\"wyjscie_dodatkowe\")(hidden2)\n",
        "model = keras.models.Model(inputs=[input_A, input_B],\n",
        "                           outputs=[output, aux_output])"
      ],
      "execution_count": 0,
      "outputs": []
    },
    {
      "cell_type": "code",
      "metadata": {
        "id": "UHjbUZgxvDPt",
        "colab_type": "code",
        "colab": {}
      },
      "source": [
        "model.compile(loss=[\"mse\", \"mse\"], loss_weights=[0.9, 0.1], optimizer=keras.optimizers.SGD(lr=1e-3))"
      ],
      "execution_count": 0,
      "outputs": []
    },
    {
      "cell_type": "code",
      "metadata": {
        "id": "QT14y3JAvDPv",
        "colab_type": "code",
        "colab": {
          "base_uri": "https://localhost:8080/",
          "height": 714
        },
        "outputId": "87002893-1ebb-49e0-b495-c2143459b616"
      },
      "source": [
        "history = model.fit([X_train_A, X_train_B], [y_train, y_train], epochs=20,\n",
        "                    validation_data=([X_valid_A, X_valid_B], [y_valid, y_valid]))"
      ],
      "execution_count": 63,
      "outputs": [
        {
          "output_type": "stream",
          "text": [
            "Train on 11610 samples, validate on 3870 samples\n",
            "Epoch 1/20\n",
            "11610/11610 [==============================] - 2s 207us/sample - loss: 2.1346 - wyjscie_glowne_loss: 1.9194 - wyjscie_dodatkowe_loss: 4.0632 - val_loss: 2.9120 - val_wyjscie_glowne_loss: 2.2555 - val_wyjscie_dodatkowe_loss: 8.8088\n",
            "Epoch 2/20\n",
            "11610/11610 [==============================] - 2s 161us/sample - loss: 0.8954 - wyjscie_glowne_loss: 0.7048 - wyjscie_dodatkowe_loss: 2.6119 - val_loss: 1.4135 - val_wyjscie_glowne_loss: 0.6348 - val_wyjscie_dodatkowe_loss: 8.4172\n",
            "Epoch 3/20\n",
            "11610/11610 [==============================] - 2s 162us/sample - loss: 0.7400 - wyjscie_glowne_loss: 0.6077 - wyjscie_dodatkowe_loss: 1.9305 - val_loss: 1.3594 - val_wyjscie_glowne_loss: 0.5885 - val_wyjscie_dodatkowe_loss: 8.2925\n",
            "Epoch 4/20\n",
            "11610/11610 [==============================] - 2s 161us/sample - loss: 0.6749 - wyjscie_glowne_loss: 0.5690 - wyjscie_dodatkowe_loss: 1.6264 - val_loss: 1.2789 - val_wyjscie_glowne_loss: 0.5611 - val_wyjscie_dodatkowe_loss: 7.7340\n",
            "Epoch 5/20\n",
            "11610/11610 [==============================] - 2s 161us/sample - loss: 0.6351 - wyjscie_glowne_loss: 0.5420 - wyjscie_dodatkowe_loss: 1.4729 - val_loss: 1.1841 - val_wyjscie_glowne_loss: 0.5656 - val_wyjscie_dodatkowe_loss: 6.7464\n",
            "Epoch 6/20\n",
            "11610/11610 [==============================] - 2s 159us/sample - loss: 0.6068 - wyjscie_glowne_loss: 0.5213 - wyjscie_dodatkowe_loss: 1.3763 - val_loss: 1.0614 - val_wyjscie_glowne_loss: 0.5202 - val_wyjscie_dodatkowe_loss: 5.9282\n",
            "Epoch 7/20\n",
            "11610/11610 [==============================] - 2s 164us/sample - loss: 0.5832 - wyjscie_glowne_loss: 0.5028 - wyjscie_dodatkowe_loss: 1.3072 - val_loss: 0.9555 - val_wyjscie_glowne_loss: 0.5111 - val_wyjscie_dodatkowe_loss: 4.9515\n",
            "Epoch 8/20\n",
            "11610/11610 [==============================] - 2s 168us/sample - loss: 0.5651 - wyjscie_glowne_loss: 0.4892 - wyjscie_dodatkowe_loss: 1.2463 - val_loss: 0.8426 - val_wyjscie_glowne_loss: 0.4713 - val_wyjscie_dodatkowe_loss: 4.1805\n",
            "Epoch 9/20\n",
            "11610/11610 [==============================] - 2s 165us/sample - loss: 0.5497 - wyjscie_glowne_loss: 0.4772 - wyjscie_dodatkowe_loss: 1.2017 - val_loss: 0.7632 - val_wyjscie_glowne_loss: 0.4633 - val_wyjscie_dodatkowe_loss: 3.4589\n",
            "Epoch 10/20\n",
            "11610/11610 [==============================] - 2s 162us/sample - loss: 0.5368 - wyjscie_glowne_loss: 0.4671 - wyjscie_dodatkowe_loss: 1.1631 - val_loss: 0.6954 - val_wyjscie_glowne_loss: 0.4467 - val_wyjscie_dodatkowe_loss: 2.9307\n",
            "Epoch 11/20\n",
            "11610/11610 [==============================] - 2s 162us/sample - loss: 0.5257 - wyjscie_glowne_loss: 0.4586 - wyjscie_dodatkowe_loss: 1.1297 - val_loss: 0.6413 - val_wyjscie_glowne_loss: 0.4292 - val_wyjscie_dodatkowe_loss: 2.5478\n",
            "Epoch 12/20\n",
            "11610/11610 [==============================] - 2s 161us/sample - loss: 0.5162 - wyjscie_glowne_loss: 0.4516 - wyjscie_dodatkowe_loss: 1.0989 - val_loss: 0.5950 - val_wyjscie_glowne_loss: 0.4232 - val_wyjscie_dodatkowe_loss: 2.1396\n",
            "Epoch 13/20\n",
            "11610/11610 [==============================] - 2s 163us/sample - loss: 0.5082 - wyjscie_glowne_loss: 0.4454 - wyjscie_dodatkowe_loss: 1.0729 - val_loss: 0.5608 - val_wyjscie_glowne_loss: 0.4203 - val_wyjscie_dodatkowe_loss: 1.8236\n",
            "Epoch 14/20\n",
            "11610/11610 [==============================] - 2s 159us/sample - loss: 0.5022 - wyjscie_glowne_loss: 0.4416 - wyjscie_dodatkowe_loss: 1.0487 - val_loss: 0.5324 - val_wyjscie_glowne_loss: 0.4142 - val_wyjscie_dodatkowe_loss: 1.5944\n",
            "Epoch 15/20\n",
            "11610/11610 [==============================] - 2s 159us/sample - loss: 0.4964 - wyjscie_glowne_loss: 0.4376 - wyjscie_dodatkowe_loss: 1.0240 - val_loss: 0.5206 - val_wyjscie_glowne_loss: 0.4118 - val_wyjscie_dodatkowe_loss: 1.4985\n",
            "Epoch 16/20\n",
            "11610/11610 [==============================] - 2s 162us/sample - loss: 0.4914 - wyjscie_glowne_loss: 0.4344 - wyjscie_dodatkowe_loss: 1.0054 - val_loss: 0.4939 - val_wyjscie_glowne_loss: 0.4017 - val_wyjscie_dodatkowe_loss: 1.3221\n",
            "Epoch 17/20\n",
            "11610/11610 [==============================] - 2s 159us/sample - loss: 0.4865 - wyjscie_glowne_loss: 0.4312 - wyjscie_dodatkowe_loss: 0.9841 - val_loss: 0.4803 - val_wyjscie_glowne_loss: 0.3993 - val_wyjscie_dodatkowe_loss: 1.2082\n",
            "Epoch 18/20\n",
            "11610/11610 [==============================] - 2s 167us/sample - loss: 0.4820 - wyjscie_glowne_loss: 0.4281 - wyjscie_dodatkowe_loss: 0.9663 - val_loss: 0.4820 - val_wyjscie_glowne_loss: 0.4053 - val_wyjscie_dodatkowe_loss: 1.1710\n",
            "Epoch 19/20\n",
            "11610/11610 [==============================] - 2s 162us/sample - loss: 0.4786 - wyjscie_glowne_loss: 0.4264 - wyjscie_dodatkowe_loss: 0.9490 - val_loss: 0.4661 - val_wyjscie_glowne_loss: 0.3979 - val_wyjscie_dodatkowe_loss: 1.0790\n",
            "Epoch 20/20\n",
            "11610/11610 [==============================] - 2s 164us/sample - loss: 0.4753 - wyjscie_glowne_loss: 0.4245 - wyjscie_dodatkowe_loss: 0.9320 - val_loss: 0.4598 - val_wyjscie_glowne_loss: 0.3968 - val_wyjscie_dodatkowe_loss: 1.0257\n"
          ],
          "name": "stdout"
        }
      ]
    },
    {
      "cell_type": "code",
      "metadata": {
        "id": "SfRvqoVavDPw",
        "colab_type": "code",
        "colab": {
          "base_uri": "https://localhost:8080/",
          "height": 34
        },
        "outputId": "ee619b1f-7e4c-42ee-a0da-f9c33500072d"
      },
      "source": [
        "total_loss, main_loss, aux_loss = model.evaluate(\n",
        "    [X_test_A, X_test_B], [y_test, y_test])\n",
        "y_pred_main, y_pred_aux = model.predict([X_new_A, X_new_B])"
      ],
      "execution_count": 64,
      "outputs": [
        {
          "output_type": "stream",
          "text": [
            "5160/5160 [==============================] - 0s 86us/sample - loss: 0.4656 - wyjscie_glowne_loss: 0.4165 - wyjscie_dodatkowe_loss: 0.9111\n"
          ],
          "name": "stdout"
        }
      ]
    },
    {
      "cell_type": "markdown",
      "metadata": {
        "id": "TTeY5a9vvDPx",
        "colab_type": "text"
      },
      "source": [
        "# Interfejs podklasowy"
      ]
    },
    {
      "cell_type": "code",
      "metadata": {
        "id": "APTUj9pEvDPy",
        "colab_type": "code",
        "colab": {}
      },
      "source": [
        "class WideAndDeepModel(keras.models.Model):\n",
        "    def __init__(self, units=30, activation=\"relu\", **kwargs):\n",
        "        super().__init__(**kwargs)\n",
        "        self.hidden1 = keras.layers.Dense(units, activation=activation)\n",
        "        self.hidden2 = keras.layers.Dense(units, activation=activation)\n",
        "        self.main_output = keras.layers.Dense(1)\n",
        "        self.aux_output = keras.layers.Dense(1)\n",
        "        \n",
        "    def call(self, inputs):\n",
        "        input_A, input_B = inputs\n",
        "        hidden1 = self.hidden1(input_B)\n",
        "        hidden2 = self.hidden2(hidden1)\n",
        "        concat = keras.layers.concatenate([input_A, hidden2])\n",
        "        main_output = self.main_output(concat)\n",
        "        aux_output = self.aux_output(hidden2)\n",
        "        return main_output, aux_output\n",
        "\n",
        "model = WideAndDeepModel(30, activation=\"relu\")"
      ],
      "execution_count": 0,
      "outputs": []
    },
    {
      "cell_type": "code",
      "metadata": {
        "id": "_zKlS4d9vDPz",
        "colab_type": "code",
        "colab": {
          "base_uri": "https://localhost:8080/",
          "height": 391
        },
        "outputId": "52b70b8b-966d-4594-8793-60420c1cdadd"
      },
      "source": [
        "model.compile(loss=\"mse\", loss_weights=[0.9, 0.1], optimizer=keras.optimizers.SGD(lr=1e-3))\n",
        "history = model.fit((X_train_A, X_train_B), (y_train, y_train), epochs=10,\n",
        "                    validation_data=((X_valid_A, X_valid_B), (y_valid, y_valid)))\n",
        "total_loss, main_loss, aux_loss = model.evaluate((X_test_A, X_test_B), (y_test, y_test))\n",
        "y_pred_main, y_pred_aux = model.predict((X_new_A, X_new_B))"
      ],
      "execution_count": 66,
      "outputs": [
        {
          "output_type": "stream",
          "text": [
            "Train on 11610 samples, validate on 3870 samples\n",
            "Epoch 1/10\n",
            "11610/11610 [==============================] - 2s 202us/sample - loss: 2.2719 - output_1_loss: 2.1554 - output_2_loss: 3.3117 - val_loss: 4.3377 - val_output_1_loss: 2.7732 - val_output_2_loss: 18.3999\n",
            "Epoch 2/10\n",
            "11610/11610 [==============================] - 2s 159us/sample - loss: 0.9891 - output_1_loss: 0.8653 - output_2_loss: 2.1062 - val_loss: 2.0073 - val_output_1_loss: 0.7581 - val_output_2_loss: 13.2427\n",
            "Epoch 3/10\n",
            "11610/11610 [==============================] - 2s 162us/sample - loss: 0.8320 - output_1_loss: 0.7303 - output_2_loss: 1.7468 - val_loss: 1.7215 - val_output_1_loss: 0.7114 - val_output_2_loss: 10.8051\n",
            "Epoch 4/10\n",
            "11610/11610 [==============================] - 2s 161us/sample - loss: 0.7658 - output_1_loss: 0.6760 - output_2_loss: 1.5726 - val_loss: 1.4708 - val_output_1_loss: 0.6454 - val_output_2_loss: 8.8938\n",
            "Epoch 5/10\n",
            "11610/11610 [==============================] - 2s 157us/sample - loss: 0.7223 - output_1_loss: 0.6394 - output_2_loss: 1.4683 - val_loss: 1.3057 - val_output_1_loss: 0.6852 - val_output_2_loss: 6.8846\n",
            "Epoch 6/10\n",
            "11610/11610 [==============================] - 2s 159us/sample - loss: 0.6909 - output_1_loss: 0.6132 - output_2_loss: 1.3901 - val_loss: 1.1005 - val_output_1_loss: 0.5915 - val_output_2_loss: 5.6773\n",
            "Epoch 7/10\n",
            "11610/11610 [==============================] - 2s 158us/sample - loss: 0.6636 - output_1_loss: 0.5894 - output_2_loss: 1.3330 - val_loss: 0.9605 - val_output_1_loss: 0.5611 - val_output_2_loss: 4.5516\n",
            "Epoch 8/10\n",
            "11610/11610 [==============================] - 2s 162us/sample - loss: 0.6406 - output_1_loss: 0.5691 - output_2_loss: 1.2833 - val_loss: 0.8480 - val_output_1_loss: 0.5263 - val_output_2_loss: 3.7399\n",
            "Epoch 9/10\n",
            "11610/11610 [==============================] - 2s 158us/sample - loss: 0.6199 - output_1_loss: 0.5507 - output_2_loss: 1.2416 - val_loss: 0.7650 - val_output_1_loss: 0.5085 - val_output_2_loss: 3.0718\n",
            "Epoch 10/10\n",
            "11610/11610 [==============================] - 2s 158us/sample - loss: 0.6019 - output_1_loss: 0.5351 - output_2_loss: 1.2026 - val_loss: 0.7004 - val_output_1_loss: 0.4916 - val_output_2_loss: 2.5772\n",
            "5160/5160 [==============================] - 0s 86us/sample - loss: 0.5819 - output_1_loss: 0.5174 - output_2_loss: 1.1749\n"
          ],
          "name": "stdout"
        }
      ]
    },
    {
      "cell_type": "code",
      "metadata": {
        "id": "KPZe8Ul_vDP0",
        "colab_type": "code",
        "colab": {}
      },
      "source": [
        "model = WideAndDeepModel(30, activation=\"relu\")"
      ],
      "execution_count": 0,
      "outputs": []
    },
    {
      "cell_type": "markdown",
      "metadata": {
        "id": "p9qL-aurvDP1",
        "colab_type": "text"
      },
      "source": [
        "# Zapisywanie i wczytywanie"
      ]
    },
    {
      "cell_type": "code",
      "metadata": {
        "id": "FomoDO8-vDP2",
        "colab_type": "code",
        "colab": {}
      },
      "source": [
        "np.random.seed(42)\n",
        "tf.random.set_seed(42)"
      ],
      "execution_count": 0,
      "outputs": []
    },
    {
      "cell_type": "code",
      "metadata": {
        "id": "IFNlKRvGvDP3",
        "colab_type": "code",
        "colab": {}
      },
      "source": [
        "model = keras.models.Sequential([\n",
        "    keras.layers.Dense(30, activation=\"relu\", input_shape=[8]),\n",
        "    keras.layers.Dense(30, activation=\"relu\"),\n",
        "    keras.layers.Dense(1)\n",
        "])    "
      ],
      "execution_count": 0,
      "outputs": []
    },
    {
      "cell_type": "code",
      "metadata": {
        "id": "qrGut0XyvDP5",
        "colab_type": "code",
        "colab": {
          "base_uri": "https://localhost:8080/",
          "height": 391
        },
        "outputId": "99f61880-357a-4d15-d8ae-5d8e732b9fc5"
      },
      "source": [
        "model.compile(loss=\"mse\", optimizer=keras.optimizers.SGD(lr=1e-3))\n",
        "history = model.fit(X_train, y_train, epochs=10, validation_data=(X_valid, y_valid))\n",
        "mse_test = model.evaluate(X_test, y_test)"
      ],
      "execution_count": 70,
      "outputs": [
        {
          "output_type": "stream",
          "text": [
            "Train on 11610 samples, validate on 3870 samples\n",
            "Epoch 1/10\n",
            "11610/11610 [==============================] - 2s 139us/sample - loss: 1.8423 - val_loss: 5.2165\n",
            "Epoch 2/10\n",
            "11610/11610 [==============================] - 1s 113us/sample - loss: 0.6876 - val_loss: 0.7732\n",
            "Epoch 3/10\n",
            "11610/11610 [==============================] - 1s 113us/sample - loss: 0.5954 - val_loss: 0.5446\n",
            "Epoch 4/10\n",
            "11610/11610 [==============================] - 1s 116us/sample - loss: 0.5553 - val_loss: 0.5425\n",
            "Epoch 5/10\n",
            "11610/11610 [==============================] - 1s 112us/sample - loss: 0.5268 - val_loss: 0.5539\n",
            "Epoch 6/10\n",
            "11610/11610 [==============================] - 1s 113us/sample - loss: 0.5049 - val_loss: 0.4701\n",
            "Epoch 7/10\n",
            "11610/11610 [==============================] - 1s 116us/sample - loss: 0.4852 - val_loss: 0.4562\n",
            "Epoch 8/10\n",
            "11610/11610 [==============================] - 1s 112us/sample - loss: 0.4706 - val_loss: 0.4452\n",
            "Epoch 9/10\n",
            "11610/11610 [==============================] - 1s 123us/sample - loss: 0.4576 - val_loss: 0.4406\n",
            "Epoch 10/10\n",
            "11610/11610 [==============================] - 1s 123us/sample - loss: 0.4476 - val_loss: 0.4185\n",
            "5160/5160 [==============================] - 0s 64us/sample - loss: 0.4376\n"
          ],
          "name": "stdout"
        }
      ]
    },
    {
      "cell_type": "code",
      "metadata": {
        "id": "CgkN85B1vDP7",
        "colab_type": "code",
        "colab": {}
      },
      "source": [
        "model.save(\"moj_model_keras.h5\")"
      ],
      "execution_count": 0,
      "outputs": []
    },
    {
      "cell_type": "code",
      "metadata": {
        "id": "uiXWYKM8vDP8",
        "colab_type": "code",
        "colab": {}
      },
      "source": [
        "model = keras.models.load_model(\"moj_model_keras.h5\")"
      ],
      "execution_count": 0,
      "outputs": []
    },
    {
      "cell_type": "code",
      "metadata": {
        "id": "WbhkvTr0vDP9",
        "colab_type": "code",
        "colab": {
          "base_uri": "https://localhost:8080/",
          "height": 68
        },
        "outputId": "c4e44285-9bbb-4f39-8842-ced539e5b41f"
      },
      "source": [
        "model.predict(X_new)"
      ],
      "execution_count": 73,
      "outputs": [
        {
          "output_type": "execute_result",
          "data": {
            "text/plain": [
              "array([[0.55155903],\n",
              "       [1.6555369 ],\n",
              "       [3.0014236 ]], dtype=float32)"
            ]
          },
          "metadata": {
            "tags": []
          },
          "execution_count": 73
        }
      ]
    },
    {
      "cell_type": "code",
      "metadata": {
        "id": "QhDUUipwvDP_",
        "colab_type": "code",
        "colab": {}
      },
      "source": [
        "model.save_weights(\"moje_wagi_keras.ckpt\")"
      ],
      "execution_count": 0,
      "outputs": []
    },
    {
      "cell_type": "code",
      "metadata": {
        "id": "xxlEim8LvDQA",
        "colab_type": "code",
        "colab": {
          "base_uri": "https://localhost:8080/",
          "height": 34
        },
        "outputId": "882adfa3-575e-4cf8-ff1c-93294f64900e"
      },
      "source": [
        "model.load_weights(\"moje_wagi_keras.ckpt\")"
      ],
      "execution_count": 75,
      "outputs": [
        {
          "output_type": "execute_result",
          "data": {
            "text/plain": [
              "<tensorflow.python.training.tracking.util.CheckpointLoadStatus at 0x7f313aedc160>"
            ]
          },
          "metadata": {
            "tags": []
          },
          "execution_count": 75
        }
      ]
    },
    {
      "cell_type": "markdown",
      "metadata": {
        "id": "yDmPap1VvDQB",
        "colab_type": "text"
      },
      "source": [
        "# Używanie wywołań zwrotnych w czasie uczenia"
      ]
    },
    {
      "cell_type": "code",
      "metadata": {
        "id": "KEAMX0I_vDQB",
        "colab_type": "code",
        "colab": {}
      },
      "source": [
        "keras.backend.clear_session()\n",
        "np.random.seed(42)\n",
        "tf.random.set_seed(42)"
      ],
      "execution_count": 0,
      "outputs": []
    },
    {
      "cell_type": "code",
      "metadata": {
        "id": "VZ5nRm3BvDQD",
        "colab_type": "code",
        "colab": {}
      },
      "source": [
        "model = keras.models.Sequential([\n",
        "    keras.layers.Dense(30, activation=\"relu\", input_shape=[8]),\n",
        "    keras.layers.Dense(30, activation=\"relu\"),\n",
        "    keras.layers.Dense(1)\n",
        "])    "
      ],
      "execution_count": 0,
      "outputs": []
    },
    {
      "cell_type": "code",
      "metadata": {
        "id": "QN6q2noRvDQE",
        "colab_type": "code",
        "colab": {
          "base_uri": "https://localhost:8080/",
          "height": 391
        },
        "outputId": "3eb2ad57-a957-4174-9dce-18e135e29d3d"
      },
      "source": [
        "model.compile(loss=\"mse\", optimizer=keras.optimizers.SGD(lr=1e-3))\n",
        "checkpoint_cb = keras.callbacks.ModelCheckpoint(\"moj_model_keras.h5\", save_best_only=True)\n",
        "history = model.fit(X_train, y_train, epochs=10,\n",
        "                    validation_data=(X_valid, y_valid),\n",
        "                    callbacks=[checkpoint_cb])\n",
        "model = keras.models.load_model(\"moj_model_keras.h5\") # przywraca najlepszy model\n",
        "mse_test = model.evaluate(X_test, y_test)"
      ],
      "execution_count": 78,
      "outputs": [
        {
          "output_type": "stream",
          "text": [
            "Train on 11610 samples, validate on 3870 samples\n",
            "Epoch 1/10\n",
            "11610/11610 [==============================] - 2s 139us/sample - loss: 1.8423 - val_loss: 5.2165\n",
            "Epoch 2/10\n",
            "11610/11610 [==============================] - 1s 115us/sample - loss: 0.6876 - val_loss: 0.7732\n",
            "Epoch 3/10\n",
            "11610/11610 [==============================] - 1s 114us/sample - loss: 0.5954 - val_loss: 0.5446\n",
            "Epoch 4/10\n",
            "11610/11610 [==============================] - 1s 113us/sample - loss: 0.5553 - val_loss: 0.5425\n",
            "Epoch 5/10\n",
            "11610/11610 [==============================] - 1s 113us/sample - loss: 0.5268 - val_loss: 0.5539\n",
            "Epoch 6/10\n",
            "11610/11610 [==============================] - 1s 114us/sample - loss: 0.5049 - val_loss: 0.4701\n",
            "Epoch 7/10\n",
            "11610/11610 [==============================] - 1s 113us/sample - loss: 0.4852 - val_loss: 0.4562\n",
            "Epoch 8/10\n",
            "11610/11610 [==============================] - 1s 115us/sample - loss: 0.4706 - val_loss: 0.4452\n",
            "Epoch 9/10\n",
            "11610/11610 [==============================] - 1s 115us/sample - loss: 0.4576 - val_loss: 0.4406\n",
            "Epoch 10/10\n",
            "11610/11610 [==============================] - 1s 112us/sample - loss: 0.4476 - val_loss: 0.4185\n",
            "5160/5160 [==============================] - 0s 77us/sample - loss: 0.4376\n"
          ],
          "name": "stdout"
        }
      ]
    },
    {
      "cell_type": "code",
      "metadata": {
        "id": "B_Z_d6h0vDQF",
        "colab_type": "code",
        "colab": {
          "base_uri": "https://localhost:8080/",
          "height": 1000
        },
        "outputId": "219c3874-c863-45c5-bdea-196bd5d97f7b"
      },
      "source": [
        "model.compile(loss=\"mse\", optimizer=keras.optimizers.SGD(lr=1e-3))\n",
        "early_stopping_cb = keras.callbacks.EarlyStopping(patience=10,\n",
        "                                                  restore_best_weights=True)\n",
        "history = model.fit(X_train, y_train, epochs=100,\n",
        "                    validation_data=(X_valid, y_valid),\n",
        "                    callbacks=[checkpoint_cb, early_stopping_cb])\n",
        "mse_test = model.evaluate(X_test, y_test)"
      ],
      "execution_count": 79,
      "outputs": [
        {
          "output_type": "stream",
          "text": [
            "Train on 11610 samples, validate on 3870 samples\n",
            "Epoch 1/100\n",
            "11610/11610 [==============================] - 2s 137us/sample - loss: 0.4385 - val_loss: 0.4287\n",
            "Epoch 2/100\n",
            "11610/11610 [==============================] - 1s 116us/sample - loss: 0.4319 - val_loss: 0.4117\n",
            "Epoch 3/100\n",
            "11610/11610 [==============================] - 1s 114us/sample - loss: 0.4252 - val_loss: 0.3975\n",
            "Epoch 4/100\n",
            "11610/11610 [==============================] - 1s 113us/sample - loss: 0.4199 - val_loss: 0.3943\n",
            "Epoch 5/100\n",
            "11610/11610 [==============================] - 1s 113us/sample - loss: 0.4150 - val_loss: 0.3964\n",
            "Epoch 6/100\n",
            "11610/11610 [==============================] - 1s 115us/sample - loss: 0.4110 - val_loss: 0.3907\n",
            "Epoch 7/100\n",
            "11610/11610 [==============================] - 1s 114us/sample - loss: 0.4070 - val_loss: 0.3823\n",
            "Epoch 8/100\n",
            "11610/11610 [==============================] - 1s 115us/sample - loss: 0.4036 - val_loss: 0.3786\n",
            "Epoch 9/100\n",
            "11610/11610 [==============================] - 1s 115us/sample - loss: 0.4003 - val_loss: 0.3739\n",
            "Epoch 10/100\n",
            "11610/11610 [==============================] - 1s 115us/sample - loss: 0.3973 - val_loss: 0.3724\n",
            "Epoch 11/100\n",
            "11610/11610 [==============================] - 1s 112us/sample - loss: 0.3944 - val_loss: 0.3697\n",
            "Epoch 12/100\n",
            "11610/11610 [==============================] - 1s 113us/sample - loss: 0.3916 - val_loss: 0.3670\n",
            "Epoch 13/100\n",
            "11610/11610 [==============================] - 1s 119us/sample - loss: 0.3892 - val_loss: 0.3638\n",
            "Epoch 14/100\n",
            "11610/11610 [==============================] - 1s 117us/sample - loss: 0.3869 - val_loss: 0.3633\n",
            "Epoch 15/100\n",
            "11610/11610 [==============================] - 1s 115us/sample - loss: 0.3845 - val_loss: 0.4051\n",
            "Epoch 16/100\n",
            "11610/11610 [==============================] - 1s 114us/sample - loss: 0.3826 - val_loss: 0.3662\n",
            "Epoch 17/100\n",
            "11610/11610 [==============================] - 1s 114us/sample - loss: 0.3805 - val_loss: 0.3554\n",
            "Epoch 18/100\n",
            "11610/11610 [==============================] - 1s 113us/sample - loss: 0.3782 - val_loss: 0.3684\n",
            "Epoch 19/100\n",
            "11610/11610 [==============================] - 1s 114us/sample - loss: 0.3762 - val_loss: 0.3523\n",
            "Epoch 20/100\n",
            "11610/11610 [==============================] - 1s 112us/sample - loss: 0.3744 - val_loss: 0.3622\n",
            "Epoch 21/100\n",
            "11610/11610 [==============================] - 1s 115us/sample - loss: 0.3727 - val_loss: 0.3498\n",
            "Epoch 22/100\n",
            "11610/11610 [==============================] - 1s 113us/sample - loss: 0.3709 - val_loss: 0.3650\n",
            "Epoch 23/100\n",
            "11610/11610 [==============================] - 1s 112us/sample - loss: 0.3694 - val_loss: 0.3538\n",
            "Epoch 24/100\n",
            "11610/11610 [==============================] - 1s 112us/sample - loss: 0.3681 - val_loss: 0.3479\n",
            "Epoch 25/100\n",
            "11610/11610 [==============================] - 1s 114us/sample - loss: 0.3668 - val_loss: 0.3475\n",
            "Epoch 26/100\n",
            "11610/11610 [==============================] - 1s 115us/sample - loss: 0.3654 - val_loss: 0.3483\n",
            "Epoch 27/100\n",
            "11610/11610 [==============================] - 1s 114us/sample - loss: 0.3641 - val_loss: 0.3787\n",
            "Epoch 28/100\n",
            "11610/11610 [==============================] - 1s 116us/sample - loss: 0.3631 - val_loss: 0.3461\n",
            "Epoch 29/100\n",
            "11610/11610 [==============================] - 1s 114us/sample - loss: 0.3618 - val_loss: 0.3709\n",
            "Epoch 30/100\n",
            "11610/11610 [==============================] - 1s 114us/sample - loss: 0.3607 - val_loss: 0.3530\n",
            "Epoch 31/100\n",
            "11610/11610 [==============================] - 1s 114us/sample - loss: 0.3596 - val_loss: 0.3428\n",
            "Epoch 32/100\n",
            "11610/11610 [==============================] - 1s 112us/sample - loss: 0.3586 - val_loss: 0.3442\n",
            "Epoch 33/100\n",
            "11610/11610 [==============================] - 1s 113us/sample - loss: 0.3577 - val_loss: 0.3533\n",
            "Epoch 34/100\n",
            "11610/11610 [==============================] - 1s 115us/sample - loss: 0.3567 - val_loss: 0.3359\n",
            "Epoch 35/100\n",
            "11610/11610 [==============================] - 1s 112us/sample - loss: 0.3557 - val_loss: 0.3828\n",
            "Epoch 36/100\n",
            "11610/11610 [==============================] - 1s 115us/sample - loss: 0.3551 - val_loss: 0.3345\n",
            "Epoch 37/100\n",
            "11610/11610 [==============================] - 1s 114us/sample - loss: 0.3541 - val_loss: 0.3843\n",
            "Epoch 38/100\n",
            "11610/11610 [==============================] - 1s 116us/sample - loss: 0.3534 - val_loss: 0.3329\n",
            "Epoch 39/100\n",
            "11610/11610 [==============================] - 1s 114us/sample - loss: 0.3524 - val_loss: 0.3934\n",
            "Epoch 40/100\n",
            "11610/11610 [==============================] - 1s 114us/sample - loss: 0.3522 - val_loss: 0.3314\n",
            "Epoch 41/100\n",
            "11610/11610 [==============================] - 1s 113us/sample - loss: 0.3510 - val_loss: 0.3986\n",
            "Epoch 42/100\n",
            "11610/11610 [==============================] - 1s 113us/sample - loss: 0.3507 - val_loss: 0.3299\n",
            "Epoch 43/100\n",
            "11610/11610 [==============================] - 1s 115us/sample - loss: 0.3498 - val_loss: 0.3467\n",
            "Epoch 44/100\n",
            "11610/11610 [==============================] - 1s 115us/sample - loss: 0.3488 - val_loss: 0.3414\n",
            "Epoch 45/100\n",
            "11610/11610 [==============================] - 1s 119us/sample - loss: 0.3484 - val_loss: 0.3437\n",
            "Epoch 46/100\n",
            "11610/11610 [==============================] - 1s 112us/sample - loss: 0.3479 - val_loss: 0.3289\n",
            "Epoch 47/100\n",
            "11610/11610 [==============================] - 1s 111us/sample - loss: 0.3468 - val_loss: 0.3654\n",
            "Epoch 48/100\n",
            "11610/11610 [==============================] - 1s 111us/sample - loss: 0.3467 - val_loss: 0.3285\n",
            "Epoch 49/100\n",
            "11610/11610 [==============================] - 1s 110us/sample - loss: 0.3461 - val_loss: 0.3964\n",
            "Epoch 50/100\n",
            "11610/11610 [==============================] - 1s 115us/sample - loss: 0.3456 - val_loss: 0.3299\n",
            "Epoch 51/100\n",
            "11610/11610 [==============================] - 1s 115us/sample - loss: 0.3451 - val_loss: 0.3349\n",
            "Epoch 52/100\n",
            "11610/11610 [==============================] - 1s 113us/sample - loss: 0.3446 - val_loss: 0.3329\n",
            "Epoch 53/100\n",
            "11610/11610 [==============================] - 1s 114us/sample - loss: 0.3440 - val_loss: 0.3580\n",
            "Epoch 54/100\n",
            "11610/11610 [==============================] - 1s 114us/sample - loss: 0.3433 - val_loss: 0.3316\n",
            "Epoch 55/100\n",
            "11610/11610 [==============================] - 1s 117us/sample - loss: 0.3429 - val_loss: 0.3252\n",
            "Epoch 56/100\n",
            "11610/11610 [==============================] - 1s 109us/sample - loss: 0.3423 - val_loss: 0.3858\n",
            "Epoch 57/100\n",
            "11610/11610 [==============================] - 1s 116us/sample - loss: 0.3422 - val_loss: 0.3237\n",
            "Epoch 58/100\n",
            "11610/11610 [==============================] - 1s 116us/sample - loss: 0.3414 - val_loss: 0.3387\n",
            "Epoch 59/100\n",
            "11610/11610 [==============================] - 1s 116us/sample - loss: 0.3409 - val_loss: 0.3226\n",
            "Epoch 60/100\n",
            "11610/11610 [==============================] - 1s 114us/sample - loss: 0.3403 - val_loss: 0.4004\n",
            "Epoch 61/100\n",
            "11610/11610 [==============================] - 1s 114us/sample - loss: 0.3406 - val_loss: 0.3220\n",
            "Epoch 62/100\n",
            "11610/11610 [==============================] - 1s 112us/sample - loss: 0.3396 - val_loss: 0.3941\n",
            "Epoch 63/100\n",
            "11610/11610 [==============================] - 1s 111us/sample - loss: 0.3393 - val_loss: 0.3282\n",
            "Epoch 64/100\n",
            "11610/11610 [==============================] - 1s 113us/sample - loss: 0.3391 - val_loss: 0.3584\n",
            "Epoch 65/100\n",
            "11610/11610 [==============================] - 1s 114us/sample - loss: 0.3383 - val_loss: 0.3217\n",
            "Epoch 66/100\n",
            "11610/11610 [==============================] - 1s 112us/sample - loss: 0.3380 - val_loss: 0.3740\n",
            "Epoch 67/100\n",
            "11610/11610 [==============================] - 1s 113us/sample - loss: 0.3378 - val_loss: 0.3397\n",
            "Epoch 68/100\n",
            "11610/11610 [==============================] - 1s 113us/sample - loss: 0.3373 - val_loss: 0.3194\n",
            "Epoch 69/100\n",
            "11610/11610 [==============================] - 1s 111us/sample - loss: 0.3367 - val_loss: 0.3785\n",
            "Epoch 70/100\n",
            "11610/11610 [==============================] - 1s 111us/sample - loss: 0.3368 - val_loss: 0.3206\n",
            "Epoch 71/100\n",
            "11610/11610 [==============================] - 1s 113us/sample - loss: 0.3358 - val_loss: 0.3811\n",
            "Epoch 72/100\n",
            "11610/11610 [==============================] - 1s 114us/sample - loss: 0.3358 - val_loss: 0.3352\n",
            "Epoch 73/100\n",
            "11610/11610 [==============================] - 1s 111us/sample - loss: 0.3350 - val_loss: 0.3333\n",
            "Epoch 74/100\n",
            "11610/11610 [==============================] - 1s 112us/sample - loss: 0.3350 - val_loss: 0.3179\n",
            "Epoch 75/100\n",
            "11610/11610 [==============================] - 1s 112us/sample - loss: 0.3345 - val_loss: 0.3474\n",
            "Epoch 76/100\n",
            "11610/11610 [==============================] - 1s 112us/sample - loss: 0.3341 - val_loss: 0.3196\n",
            "Epoch 77/100\n",
            "11610/11610 [==============================] - 1s 113us/sample - loss: 0.3338 - val_loss: 0.3608\n",
            "Epoch 78/100\n",
            "11610/11610 [==============================] - 1s 115us/sample - loss: 0.3336 - val_loss: 0.3294\n",
            "Epoch 79/100\n",
            "11610/11610 [==============================] - 1s 112us/sample - loss: 0.3331 - val_loss: 0.3934\n",
            "Epoch 80/100\n",
            "11610/11610 [==============================] - 1s 117us/sample - loss: 0.3332 - val_loss: 0.3166\n",
            "Epoch 81/100\n",
            "11610/11610 [==============================] - 1s 113us/sample - loss: 0.3317 - val_loss: 0.3795\n",
            "Epoch 82/100\n",
            "11610/11610 [==============================] - 1s 114us/sample - loss: 0.3322 - val_loss: 0.3155\n",
            "Epoch 83/100\n",
            "11610/11610 [==============================] - 1s 113us/sample - loss: 0.3316 - val_loss: 0.3550\n",
            "Epoch 84/100\n",
            "11610/11610 [==============================] - 1s 112us/sample - loss: 0.3312 - val_loss: 0.3279\n",
            "Epoch 85/100\n",
            "11610/11610 [==============================] - 1s 111us/sample - loss: 0.3308 - val_loss: 0.3381\n",
            "Epoch 86/100\n",
            "11610/11610 [==============================] - 1s 111us/sample - loss: 0.3306 - val_loss: 0.3163\n",
            "Epoch 87/100\n",
            "11610/11610 [==============================] - 1s 112us/sample - loss: 0.3302 - val_loss: 0.3378\n",
            "Epoch 88/100\n",
            "11610/11610 [==============================] - 1s 115us/sample - loss: 0.3300 - val_loss: 0.3343\n",
            "Epoch 89/100\n",
            "11610/11610 [==============================] - 1s 112us/sample - loss: 0.3295 - val_loss: 0.3158\n",
            "Epoch 90/100\n",
            "11610/11610 [==============================] - 1s 118us/sample - loss: 0.3294 - val_loss: 0.3523\n",
            "Epoch 91/100\n",
            "11610/11610 [==============================] - 1s 119us/sample - loss: 0.3289 - val_loss: 0.3142\n",
            "Epoch 92/100\n",
            "11610/11610 [==============================] - 1s 110us/sample - loss: 0.3286 - val_loss: 0.3620\n",
            "Epoch 93/100\n",
            "11610/11610 [==============================] - 1s 113us/sample - loss: 0.3283 - val_loss: 0.3272\n",
            "Epoch 94/100\n",
            "11610/11610 [==============================] - 1s 111us/sample - loss: 0.3282 - val_loss: 0.4629\n",
            "Epoch 95/100\n",
            "11610/11610 [==============================] - 1s 113us/sample - loss: 0.3284 - val_loss: 0.3367\n",
            "Epoch 96/100\n",
            "11610/11610 [==============================] - 1s 114us/sample - loss: 0.3275 - val_loss: 0.4651\n",
            "Epoch 97/100\n",
            "11610/11610 [==============================] - 1s 112us/sample - loss: 0.3278 - val_loss: 0.3154\n",
            "Epoch 98/100\n",
            "11610/11610 [==============================] - 1s 112us/sample - loss: 0.3265 - val_loss: 0.3258\n",
            "Epoch 99/100\n",
            "11610/11610 [==============================] - 1s 112us/sample - loss: 0.3262 - val_loss: 0.3411\n",
            "Epoch 100/100\n",
            "11610/11610 [==============================] - 1s 114us/sample - loss: 0.3264 - val_loss: 0.3177\n",
            "5160/5160 [==============================] - 0s 63us/sample - loss: 0.3270\n"
          ],
          "name": "stdout"
        }
      ]
    },
    {
      "cell_type": "code",
      "metadata": {
        "id": "SsK65Y4jvDQH",
        "colab_type": "code",
        "colab": {}
      },
      "source": [
        "class PrintValTrainRatioCallback(keras.callbacks.Callback):\n",
        "    def on_epoch_end(self, epoch, logs):\n",
        "        print(\"\\nwalidacja/uczenie: {:.2f}\".format(logs[\"val_loss\"] / logs[\"loss\"]))"
      ],
      "execution_count": 0,
      "outputs": []
    },
    {
      "cell_type": "code",
      "metadata": {
        "id": "tRNOniClvDQI",
        "colab_type": "code",
        "colab": {
          "base_uri": "https://localhost:8080/",
          "height": 85
        },
        "outputId": "c18cf776-3961-4adb-be88-16e147c1fcc0"
      },
      "source": [
        "val_train_ratio_cb = PrintValTrainRatioCallback()\n",
        "history = model.fit(X_train, y_train, epochs=1,\n",
        "                    validation_data=(X_valid, y_valid),\n",
        "                    callbacks=[val_train_ratio_cb])"
      ],
      "execution_count": 81,
      "outputs": [
        {
          "output_type": "stream",
          "text": [
            "Train on 11610 samples, validate on 3870 samples\n",
            "11520/11610 [============================>.] - ETA: 0s - loss: 0.3265\n",
            "walidacja/uczenie: 1.16\n",
            "11610/11610 [==============================] - 1s 113us/sample - loss: 0.3256 - val_loss: 0.3789\n"
          ],
          "name": "stdout"
        }
      ]
    },
    {
      "cell_type": "markdown",
      "metadata": {
        "id": "eiDB-Q1QvDQJ",
        "colab_type": "text"
      },
      "source": [
        "# TensorBoard"
      ]
    },
    {
      "cell_type": "code",
      "metadata": {
        "id": "k0GI0LWcvDQK",
        "colab_type": "code",
        "colab": {}
      },
      "source": [
        "root_logdir = os.path.join(os.curdir, \"moje_dzienniki\")"
      ],
      "execution_count": 0,
      "outputs": []
    },
    {
      "cell_type": "code",
      "metadata": {
        "id": "waThGwibvDQM",
        "colab_type": "code",
        "colab": {
          "base_uri": "https://localhost:8080/",
          "height": 34
        },
        "outputId": "17a5ddaa-36da-4a0a-8d12-1174c1affa6c"
      },
      "source": [
        "def get_run_logdir():\n",
        "    import time\n",
        "    run_id = time.strftime(\"przebieg_%Y_%m_%d-%H_%M_%S\")\n",
        "    return os.path.join(root_logdir, run_id)\n",
        "\n",
        "run_logdir = get_run_logdir()\n",
        "run_logdir"
      ],
      "execution_count": 83,
      "outputs": [
        {
          "output_type": "execute_result",
          "data": {
            "text/plain": [
              "'./moje_dzienniki/przebieg_2020_02_23-20_44_55'"
            ]
          },
          "metadata": {
            "tags": []
          },
          "execution_count": 83
        }
      ]
    },
    {
      "cell_type": "code",
      "metadata": {
        "id": "sDzjbKyYvDQO",
        "colab_type": "code",
        "colab": {}
      },
      "source": [
        "keras.backend.clear_session()\n",
        "np.random.seed(42)\n",
        "tf.random.set_seed(42)"
      ],
      "execution_count": 0,
      "outputs": []
    },
    {
      "cell_type": "code",
      "metadata": {
        "id": "tyZnIXu2vDQQ",
        "colab_type": "code",
        "colab": {}
      },
      "source": [
        "model = keras.models.Sequential([\n",
        "    keras.layers.Dense(30, activation=\"relu\", input_shape=[8]),\n",
        "    keras.layers.Dense(30, activation=\"relu\"),\n",
        "    keras.layers.Dense(1)\n",
        "])    \n",
        "model.compile(loss=\"mse\", optimizer=keras.optimizers.SGD(lr=1e-3))"
      ],
      "execution_count": 0,
      "outputs": []
    },
    {
      "cell_type": "code",
      "metadata": {
        "id": "C0cdQTctvDQR",
        "colab_type": "code",
        "colab": {
          "base_uri": "https://localhost:8080/",
          "height": 1000
        },
        "outputId": "ebc9bdb4-2ca9-4a01-a00c-de5c155b9ec8"
      },
      "source": [
        "tensorboard_cb = keras.callbacks.TensorBoard(run_logdir)\n",
        "history = model.fit(X_train, y_train, epochs=30,\n",
        "                    validation_data=(X_valid, y_valid),\n",
        "                    callbacks=[checkpoint_cb, tensorboard_cb])"
      ],
      "execution_count": 86,
      "outputs": [
        {
          "output_type": "stream",
          "text": [
            "Train on 11610 samples, validate on 3870 samples\n",
            "Epoch 1/30\n",
            "WARNING:tensorflow:Method (on_train_batch_end) is slow compared to the batch update (0.223278). Check your callbacks.\n",
            "   32/11610 [..............................] - ETA: 2:45 - loss: 7.4465WARNING:tensorflow:Method (on_train_batch_end) is slow compared to the batch update (0.113855). Check your callbacks.\n",
            "11610/11610 [==============================] - 2s 200us/sample - loss: 1.8423 - val_loss: 5.2165\n",
            "Epoch 2/30\n",
            "11610/11610 [==============================] - 2s 155us/sample - loss: 0.6876 - val_loss: 0.7732\n",
            "Epoch 3/30\n",
            "11610/11610 [==============================] - 2s 153us/sample - loss: 0.5954 - val_loss: 0.5446\n",
            "Epoch 4/30\n",
            "11610/11610 [==============================] - 2s 152us/sample - loss: 0.5553 - val_loss: 0.5425\n",
            "Epoch 5/30\n",
            "11610/11610 [==============================] - 2s 153us/sample - loss: 0.5268 - val_loss: 0.5539\n",
            "Epoch 6/30\n",
            "11610/11610 [==============================] - 2s 152us/sample - loss: 0.5049 - val_loss: 0.4701\n",
            "Epoch 7/30\n",
            "11610/11610 [==============================] - 2s 153us/sample - loss: 0.4852 - val_loss: 0.4562\n",
            "Epoch 8/30\n",
            "11610/11610 [==============================] - 2s 160us/sample - loss: 0.4706 - val_loss: 0.4452\n",
            "Epoch 9/30\n",
            "11610/11610 [==============================] - 2s 158us/sample - loss: 0.4576 - val_loss: 0.4406\n",
            "Epoch 10/30\n",
            "11610/11610 [==============================] - 2s 151us/sample - loss: 0.4476 - val_loss: 0.4185\n",
            "Epoch 11/30\n",
            "11610/11610 [==============================] - 2s 152us/sample - loss: 0.4388 - val_loss: 0.4285\n",
            "Epoch 12/30\n",
            "11610/11610 [==============================] - 2s 150us/sample - loss: 0.4313 - val_loss: 0.4071\n",
            "Epoch 13/30\n",
            "11610/11610 [==============================] - 2s 152us/sample - loss: 0.4252 - val_loss: 0.3998\n",
            "Epoch 14/30\n",
            "11610/11610 [==============================] - 2s 153us/sample - loss: 0.4198 - val_loss: 0.3970\n",
            "Epoch 15/30\n",
            "11610/11610 [==============================] - 2s 150us/sample - loss: 0.4152 - val_loss: 0.4115\n",
            "Epoch 16/30\n",
            "11610/11610 [==============================] - 2s 153us/sample - loss: 0.4109 - val_loss: 0.3849\n",
            "Epoch 17/30\n",
            "11610/11610 [==============================] - 2s 154us/sample - loss: 0.4073 - val_loss: 0.3862\n",
            "Epoch 18/30\n",
            "11610/11610 [==============================] - 2s 156us/sample - loss: 0.4037 - val_loss: 0.3907\n",
            "Epoch 19/30\n",
            "11610/11610 [==============================] - 2s 155us/sample - loss: 0.4003 - val_loss: 0.3751\n",
            "Epoch 20/30\n",
            "11610/11610 [==============================] - 2s 155us/sample - loss: 0.3974 - val_loss: 0.3711\n",
            "Epoch 21/30\n",
            "11610/11610 [==============================] - 2s 154us/sample - loss: 0.3945 - val_loss: 0.3733\n",
            "Epoch 22/30\n",
            "11610/11610 [==============================] - 2s 150us/sample - loss: 0.3919 - val_loss: 0.3676\n",
            "Epoch 23/30\n",
            "11610/11610 [==============================] - 2s 153us/sample - loss: 0.3893 - val_loss: 0.3669\n",
            "Epoch 24/30\n",
            "11610/11610 [==============================] - 2s 153us/sample - loss: 0.3869 - val_loss: 0.3614\n",
            "Epoch 25/30\n",
            "11610/11610 [==============================] - 2s 153us/sample - loss: 0.3846 - val_loss: 0.3600\n",
            "Epoch 26/30\n",
            "11610/11610 [==============================] - 2s 149us/sample - loss: 0.3825 - val_loss: 0.3578\n",
            "Epoch 27/30\n",
            "11610/11610 [==============================] - 2s 151us/sample - loss: 0.3802 - val_loss: 0.3676\n",
            "Epoch 28/30\n",
            "11610/11610 [==============================] - 2s 149us/sample - loss: 0.3781 - val_loss: 0.3545\n",
            "Epoch 29/30\n",
            "11610/11610 [==============================] - 2s 149us/sample - loss: 0.3761 - val_loss: 0.3612\n",
            "Epoch 30/30\n",
            "11610/11610 [==============================] - 2s 151us/sample - loss: 0.3742 - val_loss: 0.3555\n"
          ],
          "name": "stdout"
        }
      ]
    },
    {
      "cell_type": "markdown",
      "metadata": {
        "id": "2HGWVP2bvDQS",
        "colab_type": "text"
      },
      "source": [
        "Aby uruchomić serwer TensorBoard, może otworzyć terminal, w razie potrzeby uaktywnić środowisko wirtualnym, w którym zainstalowałeś narzędzie TensorBoard, przejść do katalogu tego notatnika i wpisać:\n",
        "\n",
        "```bash\n",
        "$ tensorboard --logdir=./moje_dzienniki --port=6006\n",
        "```\n",
        "\n",
        "Możesz następnie otworzyć w przeglądarce adres [localhost:6006](http://localhost:6006) i zacząć korzystać z serwera TensorBoard. Gdy już skończysz, wciśnij kombinację klawiszy Ctrl+C w oknie terminala, aby wyłączyć serwer TensorBoard.\n",
        "\n",
        "Możesz ewentualnie wczytać rozszerzenie TensorBoard Jupyter i uruchomić je następująco:"
      ]
    },
    {
      "cell_type": "code",
      "metadata": {
        "id": "_31MOErQvDQT",
        "colab_type": "code",
        "colab": {},
        "outputId": "5ec1034c-7884-4318-cd7c-0a1e8c10c570"
      },
      "source": [
        "%load_ext tensorboard\n",
        "%tensorboard --logdir=./moje_dzienniki --port=6006"
      ],
      "execution_count": 0,
      "outputs": [
        {
          "output_type": "display_data",
          "data": {
            "text/html": [
              "\n",
              "      <iframe id=\"tensorboard-frame-52a06f24fbc7eece\" width=\"100%\" height=\"800\" frameborder=\"0\">\n",
              "      </iframe>\n",
              "      <script>\n",
              "        (function() {\n",
              "          const frame = document.getElementById(\"tensorboard-frame-52a06f24fbc7eece\");\n",
              "          const url = new URL(\"/\", window.location);\n",
              "          url.port = 6006;\n",
              "          frame.src = url;\n",
              "        })();\n",
              "      </script>\n",
              "  "
            ],
            "text/plain": [
              "<IPython.core.display.HTML object>"
            ]
          },
          "metadata": {
            "tags": []
          }
        }
      ]
    },
    {
      "cell_type": "code",
      "metadata": {
        "id": "WzilyIVwvDQU",
        "colab_type": "code",
        "colab": {},
        "outputId": "cdcf3866-79b4-4484-f11f-65845a6f3a41"
      },
      "source": [
        "run_logdir2 = get_run_logdir()\n",
        "run_logdir2"
      ],
      "execution_count": 0,
      "outputs": [
        {
          "output_type": "execute_result",
          "data": {
            "text/plain": [
              "'./my_logs/run_2020_01_27-10_18_25'"
            ]
          },
          "metadata": {
            "tags": []
          },
          "execution_count": 88
        }
      ]
    },
    {
      "cell_type": "code",
      "metadata": {
        "id": "iz3z8eCFvDQV",
        "colab_type": "code",
        "colab": {}
      },
      "source": [
        "keras.backend.clear_session()\n",
        "np.random.seed(42)\n",
        "tf.random.set_seed(42)"
      ],
      "execution_count": 0,
      "outputs": []
    },
    {
      "cell_type": "code",
      "metadata": {
        "id": "5cTaxFrvvDQW",
        "colab_type": "code",
        "colab": {}
      },
      "source": [
        "model = keras.models.Sequential([\n",
        "    keras.layers.Dense(30, activation=\"relu\", input_shape=[8]),\n",
        "    keras.layers.Dense(30, activation=\"relu\"),\n",
        "    keras.layers.Dense(1)\n",
        "])    \n",
        "model.compile(loss=\"mse\", optimizer=keras.optimizers.SGD(lr=0.05))"
      ],
      "execution_count": 0,
      "outputs": []
    },
    {
      "cell_type": "code",
      "metadata": {
        "id": "5p8WEQaPvDQX",
        "colab_type": "code",
        "colab": {},
        "outputId": "b06b4024-a955-4480-870d-de923885e0dc"
      },
      "source": [
        "tensorboard_cb = keras.callbacks.TensorBoard(run_logdir2)\n",
        "history = model.fit(X_train, y_train, epochs=30,\n",
        "                    validation_data=(X_valid, y_valid),\n",
        "                    callbacks=[checkpoint_cb, tensorboard_cb])"
      ],
      "execution_count": 0,
      "outputs": [
        {
          "output_type": "stream",
          "text": [
            "Train on 11610 samples, validate on 3870 samples\n",
            "Epoch 1/30\n",
            "11610/11610 [==============================] - 1s 52us/sample - loss: 5.6341 - val_loss: 1.3205\n",
            "Epoch 2/30\n",
            "11610/11610 [==============================] - 0s 35us/sample - loss: 1.2704 - val_loss: 1.0757\n",
            "Epoch 3/30\n",
            "11610/11610 [==============================] - 0s 36us/sample - loss: 0.9370 - val_loss: 0.7769\n",
            "Epoch 4/30\n",
            "11610/11610 [==============================] - 0s 36us/sample - loss: 0.8854 - val_loss: 0.8254\n",
            "Epoch 5/30\n",
            "11610/11610 [==============================] - 0s 35us/sample - loss: 0.9501 - val_loss: 0.9415\n",
            "Epoch 6/30\n",
            "11610/11610 [==============================] - 0s 35us/sample - loss: 0.8283 - val_loss: 0.6111\n",
            "Epoch 7/30\n",
            "11610/11610 [==============================] - 0s 35us/sample - loss: 0.8095 - val_loss: 0.7394\n",
            "Epoch 8/30\n",
            "11610/11610 [==============================] - 0s 35us/sample - loss: 1.1857 - val_loss: 1.0356\n",
            "Epoch 9/30\n",
            "11610/11610 [==============================] - 0s 35us/sample - loss: 0.8920 - val_loss: 0.6564\n",
            "Epoch 10/30\n",
            "11610/11610 [==============================] - 0s 35us/sample - loss: 1.2295 - val_loss: 1.1277\n",
            "Epoch 11/30\n",
            "11610/11610 [==============================] - 0s 35us/sample - loss: 0.8992 - val_loss: 0.6219\n",
            "Epoch 12/30\n",
            "11610/11610 [==============================] - 0s 35us/sample - loss: 0.7697 - val_loss: 0.6959\n",
            "Epoch 13/30\n",
            "11610/11610 [==============================] - 0s 35us/sample - loss: 0.7375 - val_loss: 0.6471\n",
            "Epoch 14/30\n",
            "11610/11610 [==============================] - 0s 35us/sample - loss: 0.9825 - val_loss: 1.0278\n",
            "Epoch 15/30\n",
            "11610/11610 [==============================] - 0s 35us/sample - loss: 0.9653 - val_loss: 0.9092\n",
            "Epoch 16/30\n",
            "11610/11610 [==============================] - 0s 36us/sample - loss: 0.9008 - val_loss: 0.8451\n",
            "Epoch 17/30\n",
            "11610/11610 [==============================] - 0s 36us/sample - loss: 0.7838 - val_loss: 0.5818\n",
            "Epoch 18/30\n",
            "11610/11610 [==============================] - 0s 36us/sample - loss: 0.9960 - val_loss: 1.0598\n",
            "Epoch 19/30\n",
            "11610/11610 [==============================] - 0s 36us/sample - loss: 0.7887 - val_loss: 0.6405\n",
            "Epoch 20/30\n",
            "11610/11610 [==============================] - 0s 35us/sample - loss: 0.5706 - val_loss: 0.5093\n",
            "Epoch 21/30\n",
            "11610/11610 [==============================] - 0s 36us/sample - loss: 0.5192 - val_loss: 0.5457\n",
            "Epoch 22/30\n",
            "11610/11610 [==============================] - 0s 38us/sample - loss: 0.4971 - val_loss: 0.4644\n",
            "Epoch 23/30\n",
            "11610/11610 [==============================] - 0s 38us/sample - loss: 0.4815 - val_loss: 0.4120\n",
            "Epoch 24/30\n",
            "11610/11610 [==============================] - 0s 37us/sample - loss: 0.4678 - val_loss: 0.4853\n",
            "Epoch 25/30\n",
            "11610/11610 [==============================] - 0s 36us/sample - loss: 0.4490 - val_loss: 0.3972\n",
            "Epoch 26/30\n",
            "11610/11610 [==============================] - 0s 35us/sample - loss: 0.4348 - val_loss: 0.4258\n",
            "Epoch 27/30\n",
            "11610/11610 [==============================] - 0s 36us/sample - loss: 0.4377 - val_loss: 0.3829\n",
            "Epoch 28/30\n",
            "11610/11610 [==============================] - 0s 35us/sample - loss: 0.4353 - val_loss: 0.3860\n",
            "Epoch 29/30\n",
            "11610/11610 [==============================] - 0s 35us/sample - loss: 0.4209 - val_loss: 0.3763\n",
            "Epoch 30/30\n",
            "11610/11610 [==============================] - 0s 36us/sample - loss: 0.4441 - val_loss: 0.4186\n"
          ],
          "name": "stdout"
        }
      ]
    },
    {
      "cell_type": "markdown",
      "metadata": {
        "id": "2ggYoBE2vDQZ",
        "colab_type": "text"
      },
      "source": [
        "Serwer TensorBoard widzi teraz dwa porzebiegi i możesz porównać ich krzywe uczenia."
      ]
    },
    {
      "cell_type": "markdown",
      "metadata": {
        "id": "x4mzTJMjvDQZ",
        "colab_type": "text"
      },
      "source": [
        "Dostępne są również inne opcje zapisywania zdarzeń:"
      ]
    },
    {
      "cell_type": "code",
      "metadata": {
        "id": "1JgctxyZvDQZ",
        "colab_type": "code",
        "colab": {},
        "outputId": "7885e41c-ab22-4d95-87b8-f12fde8a774c"
      },
      "source": [
        "help(keras.callbacks.TensorBoard.__init__)"
      ],
      "execution_count": 0,
      "outputs": [
        {
          "output_type": "stream",
          "text": [
            "Help on function __init__ in module tensorflow.python.keras.callbacks:\n",
            "\n",
            "__init__(self, log_dir='logs', histogram_freq=0, write_graph=True, write_images=False, update_freq='epoch', profile_batch=2, embeddings_freq=0, embeddings_metadata=None, **kwargs)\n",
            "    Initialize self.  See help(type(self)) for accurate signature.\n",
            "\n"
          ],
          "name": "stdout"
        }
      ]
    },
    {
      "cell_type": "markdown",
      "metadata": {
        "id": "IBtFwgpYvDQa",
        "colab_type": "text"
      },
      "source": [
        "# Strojenie hiperparametrów"
      ]
    },
    {
      "cell_type": "code",
      "metadata": {
        "id": "ElxdnN0CvDQb",
        "colab_type": "code",
        "colab": {}
      },
      "source": [
        "keras.backend.clear_session()\n",
        "np.random.seed(42)\n",
        "tf.random.set_seed(42)"
      ],
      "execution_count": 0,
      "outputs": []
    },
    {
      "cell_type": "code",
      "metadata": {
        "id": "b9bzV6nIvDQd",
        "colab_type": "code",
        "colab": {}
      },
      "source": [
        "def build_model(n_hidden=1, n_neurons=30, learning_rate=3e-3, input_shape=[8]):\n",
        "    model = keras.models.Sequential()\n",
        "    model.add(keras.layers.InputLayer(input_shape=input_shape))\n",
        "    for layer in range(n_hidden):\n",
        "        model.add(keras.layers.Dense(n_neurons, activation=\"relu\"))\n",
        "    model.add(keras.layers.Dense(1))\n",
        "    optimizer = keras.optimizers.SGD(lr=learning_rate)\n",
        "    model.compile(loss=\"mse\", optimizer=optimizer)\n",
        "    return model"
      ],
      "execution_count": 0,
      "outputs": []
    },
    {
      "cell_type": "code",
      "metadata": {
        "id": "VApaohRgvDQe",
        "colab_type": "code",
        "colab": {}
      },
      "source": [
        "keras_reg = keras.wrappers.scikit_learn.KerasRegressor(build_model)"
      ],
      "execution_count": 0,
      "outputs": []
    },
    {
      "cell_type": "code",
      "metadata": {
        "id": "nQnUJ3_kvDQf",
        "colab_type": "code",
        "colab": {},
        "outputId": "eec07012-15ce-4dc0-c31b-b1f6e8f5d9a2"
      },
      "source": [
        "keras_reg.fit(X_train, y_train, epochs=100,\n",
        "              validation_data=(X_valid, y_valid),\n",
        "              callbacks=[keras.callbacks.EarlyStopping(patience=10)])"
      ],
      "execution_count": 0,
      "outputs": [
        {
          "output_type": "stream",
          "text": [
            "Train on 11610 samples, validate on 3870 samples\n",
            "Epoch 1/100\n",
            "11610/11610 [==============================] - 0s 43us/sample - loss: 1.1399 - val_loss: 24.4309\n",
            "Epoch 2/100\n",
            "11610/11610 [==============================] - 0s 29us/sample - loss: 0.7393 - val_loss: 3.2896\n",
            "Epoch 3/100\n",
            "11610/11610 [==============================] - 0s 29us/sample - loss: 0.5374 - val_loss: 0.6080\n",
            "Epoch 4/100\n",
            "11610/11610 [==============================] - 0s 28us/sample - loss: 0.4796 - val_loss: 0.4532\n",
            "Epoch 5/100\n",
            "11610/11610 [==============================] - 0s 29us/sample - loss: 0.4536 - val_loss: 0.4221\n",
            "Epoch 6/100\n",
            "11610/11610 [==============================] - 0s 29us/sample - loss: 0.4373 - val_loss: 0.4144\n",
            "Epoch 7/100\n",
            "11610/11610 [==============================] - 0s 29us/sample - loss: 0.4256 - val_loss: 0.4025\n",
            "Epoch 8/100\n",
            "11610/11610 [==============================] - 0s 28us/sample - loss: 0.4178 - val_loss: 0.3938\n",
            "Epoch 9/100\n",
            "11610/11610 [==============================] - 0s 29us/sample - loss: 0.4114 - val_loss: 0.4085\n",
            "Epoch 10/100\n",
            "11610/11610 [==============================] - 0s 28us/sample - loss: 0.4060 - val_loss: 0.3974\n",
            "Epoch 11/100\n",
            "11610/11610 [==============================] - 0s 29us/sample - loss: 0.4018 - val_loss: 0.3847\n",
            "Epoch 12/100\n",
            "11610/11610 [==============================] - 0s 29us/sample - loss: 0.3978 - val_loss: 0.3818\n",
            "Epoch 13/100\n",
            "11610/11610 [==============================] - 0s 28us/sample - loss: 0.3943 - val_loss: 0.3820\n",
            "Epoch 14/100\n",
            "11610/11610 [==============================] - 0s 28us/sample - loss: 0.3915 - val_loss: 0.3766\n",
            "Epoch 15/100\n",
            "11610/11610 [==============================] - 0s 29us/sample - loss: 0.3888 - val_loss: 0.4268\n",
            "Epoch 16/100\n",
            "11610/11610 [==============================] - 0s 28us/sample - loss: 0.3862 - val_loss: 0.3638\n",
            "Epoch 17/100\n",
            "11610/11610 [==============================] - 0s 29us/sample - loss: 0.3842 - val_loss: 0.3666\n",
            "<<53 more lines>>\n",
            "11610/11610 [==============================] - 0s 29us/sample - loss: 0.3533 - val_loss: 0.3355\n",
            "Epoch 45/100\n",
            "11610/11610 [==============================] - 0s 29us/sample - loss: 0.3529 - val_loss: 0.3329\n",
            "Epoch 46/100\n",
            "11610/11610 [==============================] - 0s 29us/sample - loss: 0.3522 - val_loss: 0.3393\n",
            "Epoch 47/100\n",
            "11610/11610 [==============================] - 0s 30us/sample - loss: 0.3510 - val_loss: 0.4172\n",
            "Epoch 48/100\n",
            "11610/11610 [==============================] - 0s 29us/sample - loss: 0.3515 - val_loss: 0.3758\n",
            "Epoch 49/100\n",
            "11610/11610 [==============================] - 0s 29us/sample - loss: 0.3506 - val_loss: 0.4285\n",
            "Epoch 50/100\n",
            "11610/11610 [==============================] - 0s 28us/sample - loss: 0.3506 - val_loss: 0.4004\n",
            "Epoch 51/100\n",
            "11610/11610 [==============================] - 0s 29us/sample - loss: 0.3501 - val_loss: 0.3300\n",
            "Epoch 52/100\n",
            "11610/11610 [==============================] - 0s 29us/sample - loss: 0.3495 - val_loss: 0.3300\n",
            "Epoch 53/100\n",
            "11610/11610 [==============================] - 0s 29us/sample - loss: 0.3485 - val_loss: 0.3599\n",
            "Epoch 54/100\n",
            "11610/11610 [==============================] - 0s 29us/sample - loss: 0.3479 - val_loss: 0.3424\n",
            "Epoch 55/100\n",
            "11610/11610 [==============================] - 0s 29us/sample - loss: 0.3475 - val_loss: 0.3752\n",
            "Epoch 56/100\n",
            "11610/11610 [==============================] - 0s 29us/sample - loss: 0.3472 - val_loss: 0.4231\n",
            "Epoch 57/100\n",
            "11610/11610 [==============================] - 0s 29us/sample - loss: 0.3474 - val_loss: 0.3728\n",
            "Epoch 58/100\n",
            "11610/11610 [==============================] - 0s 28us/sample - loss: 0.3464 - val_loss: 0.3455\n",
            "Epoch 59/100\n",
            "11610/11610 [==============================] - 0s 29us/sample - loss: 0.3458 - val_loss: 0.3647\n",
            "Epoch 60/100\n",
            "11610/11610 [==============================] - 0s 29us/sample - loss: 0.3451 - val_loss: 0.4226\n",
            "Epoch 61/100\n",
            "11610/11610 [==============================] - 0s 29us/sample - loss: 0.3456 - val_loss: 0.3635\n"
          ],
          "name": "stdout"
        },
        {
          "output_type": "execute_result",
          "data": {
            "text/plain": [
              "<tensorflow.python.keras.callbacks.History at 0x7ff32141f630>"
            ]
          },
          "metadata": {
            "tags": []
          },
          "execution_count": 96
        }
      ]
    },
    {
      "cell_type": "code",
      "metadata": {
        "id": "GclGlQeLvDQg",
        "colab_type": "code",
        "colab": {},
        "outputId": "e23ecf06-2808-45bb-a923-97976b375002"
      },
      "source": [
        "mse_test = keras_reg.score(X_test, y_test)"
      ],
      "execution_count": 0,
      "outputs": [
        {
          "output_type": "stream",
          "text": [
            "5160/5160 [==============================] - 0s 14us/sample - loss: 0.3464\n"
          ],
          "name": "stdout"
        }
      ]
    },
    {
      "cell_type": "code",
      "metadata": {
        "id": "fRmFffMZvDQk",
        "colab_type": "code",
        "colab": {}
      },
      "source": [
        "y_pred = keras_reg.predict(X_new)"
      ],
      "execution_count": 0,
      "outputs": []
    },
    {
      "cell_type": "code",
      "metadata": {
        "id": "Pm0uQug5vDQl",
        "colab_type": "code",
        "colab": {}
      },
      "source": [
        "np.random.seed(42)\n",
        "tf.random.set_seed(42)"
      ],
      "execution_count": 0,
      "outputs": []
    },
    {
      "cell_type": "code",
      "metadata": {
        "id": "iTed32TqvDQm",
        "colab_type": "code",
        "colab": {},
        "outputId": "a1e175f1-04eb-430c-8480-d5113e23256f"
      },
      "source": [
        "from scipy.stats import reciprocal\n",
        "from sklearn.model_selection import RandomizedSearchCV\n",
        "\n",
        "param_distribs = {\n",
        "    \"n_hidden\": [0, 1, 2, 3],\n",
        "    \"n_neurons\": np.arange(1, 100),\n",
        "    \"learning_rate\": reciprocal(3e-4, 3e-2),\n",
        "}\n",
        "\n",
        "rnd_search_cv = RandomizedSearchCV(keras_reg, param_distribs, n_iter=10, cv=3, verbose=2)\n",
        "rnd_search_cv.fit(X_train, y_train, epochs=100,\n",
        "                  validation_data=(X_valid, y_valid),\n",
        "                  callbacks=[keras.callbacks.EarlyStopping(patience=10)])"
      ],
      "execution_count": 0,
      "outputs": [
        {
          "output_type": "stream",
          "text": [
            "Fitting 3 folds for each of 10 candidates, totalling 30 fits\n",
            "[CV] learning_rate=0.001683454924600351, n_hidden=0, n_neurons=15 ....\n",
            "Train on 7740 samples, validate on 3870 samples\n",
            "Epoch 1/100\n",
            "  32/7740 [..............................] - ETA: 30s - loss: 6.7379"
          ],
          "name": "stdout"
        },
        {
          "output_type": "stream",
          "text": [
            "[Parallel(n_jobs=1)]: Using backend SequentialBackend with 1 concurrent workers.\n"
          ],
          "name": "stderr"
        },
        {
          "output_type": "stream",
          "text": [
            "7740/7740 [==============================] - 0s 53us/sample - loss: 3.5574 - val_loss: 1.8536\n",
            "Epoch 2/100\n",
            "7740/7740 [==============================] - 0s 30us/sample - loss: 1.3316 - val_loss: 0.9380\n",
            "Epoch 3/100\n",
            "7740/7740 [==============================] - 0s 30us/sample - loss: 0.8573 - val_loss: 0.8545\n",
            "Epoch 4/100\n",
            "7740/7740 [==============================] - 0s 30us/sample - loss: 0.7344 - val_loss: 0.9545\n",
            "Epoch 5/100\n",
            "7740/7740 [==============================] - 0s 30us/sample - loss: 0.6943 - val_loss: 0.7248\n",
            "Epoch 6/100\n",
            "7740/7740 [==============================] - 0s 30us/sample - loss: 0.6682 - val_loss: 0.7356\n",
            "Epoch 7/100\n",
            "7740/7740 [==============================] - 0s 31us/sample - loss: 0.6494 - val_loss: 0.9732\n",
            "Epoch 8/100\n",
            "7740/7740 [==============================] - 0s 30us/sample - loss: 0.6408 - val_loss: 0.6175\n",
            "Epoch 9/100\n",
            "7740/7740 [==============================] - 0s 30us/sample - loss: 0.6256 - val_loss: 0.5877\n",
            "Epoch 10/100\n",
            "7740/7740 [==============================] - 0s 30us/sample - loss: 0.6149 - val_loss: 0.6164\n",
            "Epoch 11/100\n",
            "7740/7740 [==============================] - 0s 29us/sample - loss: 0.6058 - val_loss: 0.5851\n",
            "Epoch 12/100\n",
            "7740/7740 [==============================] - 0s 30us/sample - loss: 0.5961 - val_loss: 0.7040\n",
            "Epoch 13/100\n",
            "7740/7740 [==============================] - 0s 30us/sample - loss: 0.5905 - val_loss: 0.5594\n",
            "Epoch 14/100\n",
            "7740/7740 [==============================] - 0s 30us/sample - loss: 0.5797 - val_loss: 0.8668\n",
            "Epoch 15/100\n",
            "7740/7740 [==============================] - 0s 30us/sample - loss: 0.5764 - val_loss: 0.9031\n",
            "<<2324 more lines>>\n",
            "11610/11610 [==============================] - 0s 31us/sample - loss: 0.2976 - val_loss: 0.3259\n",
            "Epoch 72/100\n",
            "11610/11610 [==============================] - 0s 31us/sample - loss: 0.2979 - val_loss: 0.3275\n",
            "Epoch 73/100\n",
            "11610/11610 [==============================] - 0s 31us/sample - loss: 0.2982 - val_loss: 0.3235\n",
            "Epoch 74/100\n",
            "11610/11610 [==============================] - 0s 31us/sample - loss: 0.2971 - val_loss: 0.2947\n",
            "Epoch 75/100\n",
            "11610/11610 [==============================] - 0s 31us/sample - loss: 0.2960 - val_loss: 0.3523\n",
            "Epoch 76/100\n",
            "11610/11610 [==============================] - 0s 30us/sample - loss: 0.2967 - val_loss: 0.3259\n",
            "Epoch 77/100\n",
            "11610/11610 [==============================] - 0s 30us/sample - loss: 0.2962 - val_loss: 0.3409\n",
            "Epoch 78/100\n",
            "11610/11610 [==============================] - 0s 30us/sample - loss: 0.2952 - val_loss: 0.2925\n",
            "Epoch 79/100\n",
            "11610/11610 [==============================] - 0s 31us/sample - loss: 0.2949 - val_loss: 0.3667\n",
            "Epoch 80/100\n",
            "11610/11610 [==============================] - 0s 31us/sample - loss: 0.2948 - val_loss: 0.2954\n",
            "Epoch 81/100\n",
            "11610/11610 [==============================] - 0s 30us/sample - loss: 0.2931 - val_loss: 0.3468\n",
            "Epoch 82/100\n",
            "11610/11610 [==============================] - 0s 31us/sample - loss: 0.2951 - val_loss: 0.3064\n",
            "Epoch 83/100\n",
            "11610/11610 [==============================] - 0s 31us/sample - loss: 0.2932 - val_loss: 0.3054\n",
            "Epoch 84/100\n",
            "11610/11610 [==============================] - 0s 31us/sample - loss: 0.2924 - val_loss: 0.3041\n",
            "Epoch 85/100\n",
            "11610/11610 [==============================] - 0s 31us/sample - loss: 0.2920 - val_loss: 0.3227\n",
            "Epoch 86/100\n",
            "11610/11610 [==============================] - 0s 30us/sample - loss: 0.2922 - val_loss: 0.2982\n",
            "Epoch 87/100\n",
            "11610/11610 [==============================] - 0s 31us/sample - loss: 0.2917 - val_loss: 0.3389\n",
            "Epoch 88/100\n",
            "11610/11610 [==============================] - 0s 30us/sample - loss: 0.2915 - val_loss: 0.3658\n"
          ],
          "name": "stdout"
        },
        {
          "output_type": "execute_result",
          "data": {
            "text/plain": [
              "RandomizedSearchCV(cv=3, error_score='raise-deprecating',\n",
              "                   estimator=<tensorflow.python.keras.wrappers.scikit_learn.KerasRegressor object at 0x7ff3841c6be0>,\n",
              "                   iid='warn', n_iter=10, n_jobs=None,\n",
              "                   param_distributions={'learning_rate': <scipy.stats._distn_infrastructure.rv_frozen object at 0x7ff384301f60>,\n",
              "                                        'n_hidden': [0, 1, 2, 3],\n",
              "                                        'n_neurons': array([ 1,  2,  3,  4,  5,  6,  7,  8,  9, 10,...\n",
              "       18, 19, 20, 21, 22, 23, 24, 25, 26, 27, 28, 29, 30, 31, 32, 33, 34,\n",
              "       35, 36, 37, 38, 39, 40, 41, 42, 43, 44, 45, 46, 47, 48, 49, 50, 51,\n",
              "       52, 53, 54, 55, 56, 57, 58, 59, 60, 61, 62, 63, 64, 65, 66, 67, 68,\n",
              "       69, 70, 71, 72, 73, 74, 75, 76, 77, 78, 79, 80, 81, 82, 83, 84, 85,\n",
              "       86, 87, 88, 89, 90, 91, 92, 93, 94, 95, 96, 97, 98, 99])},\n",
              "                   pre_dispatch='2*n_jobs', random_state=None, refit=True,\n",
              "                   return_train_score=False, scoring=None, verbose=2)"
            ]
          },
          "metadata": {
            "tags": []
          },
          "execution_count": 100
        }
      ]
    },
    {
      "cell_type": "code",
      "metadata": {
        "id": "GvHYId3MvDQm",
        "colab_type": "code",
        "colab": {},
        "outputId": "b0ca29d3-ccb3-4866-9f1d-ea0eef88351e"
      },
      "source": [
        "rnd_search_cv.best_params_"
      ],
      "execution_count": 0,
      "outputs": [
        {
          "output_type": "execute_result",
          "data": {
            "text/plain": [
              "{'learning_rate': 0.0033625641252688094, 'n_hidden': 2, 'n_neurons': 42}"
            ]
          },
          "metadata": {
            "tags": []
          },
          "execution_count": 101
        }
      ]
    },
    {
      "cell_type": "code",
      "metadata": {
        "id": "jVM9pPUYvDQo",
        "colab_type": "code",
        "colab": {},
        "outputId": "83b570ce-b4b4-4d1d-8ba6-66ed38ef7967"
      },
      "source": [
        "rnd_search_cv.best_score_"
      ],
      "execution_count": 0,
      "outputs": [
        {
          "output_type": "execute_result",
          "data": {
            "text/plain": [
              "-0.35952892616378346"
            ]
          },
          "metadata": {
            "tags": []
          },
          "execution_count": 102
        }
      ]
    },
    {
      "cell_type": "code",
      "metadata": {
        "id": "EXSA9p-fvDQp",
        "colab_type": "code",
        "colab": {},
        "outputId": "8f9a7024-d689-423c-bf5f-0fd768a1c277"
      },
      "source": [
        "rnd_search_cv.best_estimator_"
      ],
      "execution_count": 0,
      "outputs": [
        {
          "output_type": "execute_result",
          "data": {
            "text/plain": [
              "<tensorflow.python.keras.wrappers.scikit_learn.KerasRegressor at 0x7ff384301518>"
            ]
          },
          "metadata": {
            "tags": []
          },
          "execution_count": 103
        }
      ]
    },
    {
      "cell_type": "code",
      "metadata": {
        "id": "wtlIsJmPvDQq",
        "colab_type": "code",
        "colab": {},
        "outputId": "0dec57f5-5e2c-4b85-c87f-871fbebaf3b3"
      },
      "source": [
        "rnd_search_cv.score(X_test, y_test)"
      ],
      "execution_count": 0,
      "outputs": [
        {
          "output_type": "stream",
          "text": [
            "5160/5160 [==============================] - 0s 15us/sample - loss: 0.3065\n"
          ],
          "name": "stdout"
        },
        {
          "output_type": "execute_result",
          "data": {
            "text/plain": [
              "-0.30652404945026074"
            ]
          },
          "metadata": {
            "tags": []
          },
          "execution_count": 104
        }
      ]
    },
    {
      "cell_type": "code",
      "metadata": {
        "id": "oYcJJkbIvDQs",
        "colab_type": "code",
        "colab": {},
        "outputId": "f57dba16-c577-4a83-9341-deaafb6f9fed"
      },
      "source": [
        "model = rnd_search_cv.best_estimator_.model\n",
        "model"
      ],
      "execution_count": 0,
      "outputs": [
        {
          "output_type": "execute_result",
          "data": {
            "text/plain": [
              "<tensorflow.python.keras.engine.sequential.Sequential at 0x7ff350924668>"
            ]
          },
          "metadata": {
            "tags": []
          },
          "execution_count": 105
        }
      ]
    },
    {
      "cell_type": "code",
      "metadata": {
        "scrolled": true,
        "id": "4sl1mVLQvDQt",
        "colab_type": "code",
        "colab": {},
        "outputId": "2ecaf0a6-48b4-46a8-bb0c-a4ddedc018a7"
      },
      "source": [
        "model.evaluate(X_test, y_test)"
      ],
      "execution_count": 0,
      "outputs": [
        {
          "output_type": "stream",
          "text": [
            "5160/5160 [==============================] - 0s 15us/sample - loss: 0.3065\n"
          ],
          "name": "stdout"
        },
        {
          "output_type": "execute_result",
          "data": {
            "text/plain": [
              "0.30652404945026074"
            ]
          },
          "metadata": {
            "tags": []
          },
          "execution_count": 106
        }
      ]
    },
    {
      "cell_type": "markdown",
      "metadata": {
        "id": "aPvxYd9VvDQu",
        "colab_type": "text"
      },
      "source": [
        "# Rozwiązania ćwiczeń"
      ]
    },
    {
      "cell_type": "markdown",
      "metadata": {
        "id": "luKyqBClvDQv",
        "colab_type": "text"
      },
      "source": [
        "## 1. do 9."
      ]
    },
    {
      "cell_type": "markdown",
      "metadata": {
        "id": "ZCJ-URFLvDQv",
        "colab_type": "text"
      },
      "source": [
        "Zobacz dodatek A."
      ]
    },
    {
      "cell_type": "markdown",
      "metadata": {
        "id": "9uazhvGgvDQv",
        "colab_type": "text"
      },
      "source": [
        "## 10."
      ]
    },
    {
      "cell_type": "markdown",
      "metadata": {
        "id": "ZAYofuJPvDQv",
        "colab_type": "text"
      },
      "source": [
        "*Ćwiczenie: 10.\tWytrenuj głęboki perceptron wielowarstwowy na zestawie danych MNIST (możesz go wczytać za pomocą funkcji `keras.data sets.mnist.load_data()`). Spróbuj uzyskać precyzję przekraczającą 98%. Postaraj się wyszukać optymalny współczynnik uczenia za pomocą techniki opisanej w niniejszym rozdziale (tj. wykładnicze zwiększanie wartości współczynnika uczenia w każdej iteracji, stworzenie wykresu funkcji straty i znalezienie punktu, w którym wartość tej funkcji zaczyna rosnąć). Spróbuj dodać inne funkcje, takie jak zapisywanie punktów kontrolnych, wczesne zatrzymywanie czy generowanie wykresów krzywych uczenia przy użyciu narzędzia TensorBoard.*"
      ]
    },
    {
      "cell_type": "markdown",
      "metadata": {
        "id": "mqPjbLg5vDQv",
        "colab_type": "text"
      },
      "source": [
        "Wczytajmy zestaw danych:"
      ]
    },
    {
      "cell_type": "code",
      "metadata": {
        "id": "wHUWUP7mvDQw",
        "colab_type": "code",
        "colab": {}
      },
      "source": [
        "(X_train_full, y_train_full), (X_test, y_test) = keras.datasets.mnist.load_data()"
      ],
      "execution_count": 0,
      "outputs": []
    },
    {
      "cell_type": "markdown",
      "metadata": {
        "id": "2np_tiNpvDQw",
        "colab_type": "text"
      },
      "source": [
        "Podobnie jak w przypadku zestawu Fashion MNIST, zbiór uczący MNIST składa się z 60 000 czarno-białych obrazów o rozmiarze 28x28 pikseli:"
      ]
    },
    {
      "cell_type": "code",
      "metadata": {
        "id": "fPh0wOy5vDQx",
        "colab_type": "code",
        "colab": {},
        "outputId": "fc730fcc-f6aa-4f83-be7c-a173eead1b4b"
      },
      "source": [
        "X_train_full.shape"
      ],
      "execution_count": 0,
      "outputs": [
        {
          "output_type": "execute_result",
          "data": {
            "text/plain": [
              "(60000, 28, 28)"
            ]
          },
          "metadata": {
            "tags": []
          },
          "execution_count": 108
        }
      ]
    },
    {
      "cell_type": "markdown",
      "metadata": {
        "id": "nSj8W2ixvDQz",
        "colab_type": "text"
      },
      "source": [
        "Również turaj intensywność każdego piksela jest reprentowanie w formie bajtowej (od 0 do 255):"
      ]
    },
    {
      "cell_type": "code",
      "metadata": {
        "id": "WGL1NhtNvDQz",
        "colab_type": "code",
        "colab": {},
        "outputId": "b7144a01-15b7-4bbd-a0b0-e5ee265314aa"
      },
      "source": [
        "X_train_full.dtype"
      ],
      "execution_count": 0,
      "outputs": [
        {
          "output_type": "execute_result",
          "data": {
            "text/plain": [
              "dtype('uint8')"
            ]
          },
          "metadata": {
            "tags": []
          },
          "execution_count": 109
        }
      ]
    },
    {
      "cell_type": "markdown",
      "metadata": {
        "id": "1jveroGbvDQ2",
        "colab_type": "text"
      },
      "source": [
        "Podzielmy pełny zestaw uczący na zbiór walidacyjny i (mniejszy) zbiór uczący. Tak jak w przypadku zestawu Fashion MNIST, przeskalujemy tu intensywności pikseli do zakresu od 0 do 1 i przekształcimy je w wartości zmiennoprzecinkowe (podzielimy je przez 255):"
      ]
    },
    {
      "cell_type": "code",
      "metadata": {
        "id": "V52X1LO2vDQ2",
        "colab_type": "code",
        "colab": {}
      },
      "source": [
        "X_valid, X_train = X_train_full[:5000] / 255., X_train_full[5000:] / 255.\n",
        "y_valid, y_train = y_train_full[:5000], y_train_full[5000:]\n",
        "X_test = X_test / 255."
      ],
      "execution_count": 0,
      "outputs": []
    },
    {
      "cell_type": "markdown",
      "metadata": {
        "id": "ULiCs_7CvDQ4",
        "colab_type": "text"
      },
      "source": [
        "Stwórzmy wykres obrazu za pomocą funkcji `imshow()` i mapy kolorów `'binary'`:"
      ]
    },
    {
      "cell_type": "code",
      "metadata": {
        "id": "CnRKUxJEvDQ4",
        "colab_type": "code",
        "colab": {},
        "outputId": "6d657dab-f347-441b-aaad-acef2cd68e76"
      },
      "source": [
        "plt.imshow(X_train[0], cmap=\"binary\")\n",
        "plt.axis('off')\n",
        "plt.show()"
      ],
      "execution_count": 0,
      "outputs": [
        {
          "output_type": "display_data",
          "data": {
            "image/png": "[encoded data removed]",
            "text/plain": [
              "<Figure size 432x288 with 1 Axes>"
            ]
          },
          "metadata": {
            "tags": [],
            "needs_background": "light"
          }
        }
      ]
    },
    {
      "cell_type": "markdown",
      "metadata": {
        "id": "luy6TJi6vDQ5",
        "colab_type": "text"
      },
      "source": [
        "Etukiety są identyfikatorami klas (reprezentowanymi w formacie uint8) od 0 do 9. Na szczęście identyfikatory klas odpowiadają cyfrom widocznym na obrazach, dlatego nie potrzebujemy tablicy `class_names`:"
      ]
    },
    {
      "cell_type": "code",
      "metadata": {
        "id": "-BssH0TWvDQ5",
        "colab_type": "code",
        "colab": {},
        "outputId": "453ab416-50b8-4bb7-feb0-08a823f05a30"
      },
      "source": [
        "y_train"
      ],
      "execution_count": 0,
      "outputs": [
        {
          "output_type": "execute_result",
          "data": {
            "text/plain": [
              "array([7, 3, 4, ..., 5, 6, 8], dtype=uint8)"
            ]
          },
          "metadata": {
            "tags": []
          },
          "execution_count": 112
        }
      ]
    },
    {
      "cell_type": "markdown",
      "metadata": {
        "id": "XptldypRvDQ6",
        "colab_type": "text"
      },
      "source": [
        "Zbiór walidacyjny zawiera 5 000 obrazów, a zbiór testowy składa się 10 000 przykładów:"
      ]
    },
    {
      "cell_type": "code",
      "metadata": {
        "id": "kTaSuik8vDQ7",
        "colab_type": "code",
        "colab": {},
        "outputId": "9001e660-5677-439c-d218-7c93ecf30146"
      },
      "source": [
        "X_valid.shape"
      ],
      "execution_count": 0,
      "outputs": [
        {
          "output_type": "execute_result",
          "data": {
            "text/plain": [
              "(5000, 28, 28)"
            ]
          },
          "metadata": {
            "tags": []
          },
          "execution_count": 113
        }
      ]
    },
    {
      "cell_type": "code",
      "metadata": {
        "id": "olZj1gL5vDQ8",
        "colab_type": "code",
        "colab": {},
        "outputId": "a91ceae2-5ed4-4259-8acf-0e41d8ac3bb0"
      },
      "source": [
        "X_test.shape"
      ],
      "execution_count": 0,
      "outputs": [
        {
          "output_type": "execute_result",
          "data": {
            "text/plain": [
              "(10000, 28, 28)"
            ]
          },
          "metadata": {
            "tags": []
          },
          "execution_count": 114
        }
      ]
    },
    {
      "cell_type": "markdown",
      "metadata": {
        "id": "wzq0PdKfvDQ9",
        "colab_type": "text"
      },
      "source": [
        "Spójrzmy na przykładową grupę obrazów z tego zestawu danych:"
      ]
    },
    {
      "cell_type": "code",
      "metadata": {
        "id": "ELn62sTbvDQ-",
        "colab_type": "code",
        "colab": {},
        "outputId": "3c0a68f1-7669-44b8-e9fa-f746d4ab95ba"
      },
      "source": [
        "n_rows = 4\n",
        "n_cols = 10\n",
        "plt.figure(figsize=(n_cols * 1.2, n_rows * 1.2))\n",
        "for row in range(n_rows):\n",
        "    for col in range(n_cols):\n",
        "        index = n_cols * row + col\n",
        "        plt.subplot(n_rows, n_cols, index + 1)\n",
        "        plt.imshow(X_train[index], cmap=\"binary\", interpolation=\"nearest\")\n",
        "        plt.axis('off')\n",
        "        plt.title(y_train[index], fontsize=12)\n",
        "plt.subplots_adjust(wspace=0.2, hspace=0.5)\n",
        "plt.show()"
      ],
      "execution_count": 0,
      "outputs": [
        {
          "output_type": "display_data",
          "data": {
            "image/png": "[encoded data removed]",
            "text/plain": [
              "<Figure size 864x345.6 with 40 Axes>"
            ]
          },
          "metadata": {
            "tags": [],
            "needs_background": "light"
          }
        }
      ]
    },
    {
      "cell_type": "markdown",
      "metadata": {
        "id": "Ubr1d8ZrvDQ_",
        "colab_type": "text"
      },
      "source": [
        "Zbudujmy prostą sieć gęstą i określmy jej optymalny współczynnik uczenia. Będziemy potrzebować wywołania zwrotnego zwiększającego wartość współczynnika uczenia w każdej iteracji. Będziemy także rejestroować wartość współczynnika uczenia i funkcji straty w każdej iteracji:"
      ]
    },
    {
      "cell_type": "code",
      "metadata": {
        "id": "cJngjgfivDQ_",
        "colab_type": "code",
        "colab": {}
      },
      "source": [
        "K = keras.backend\n",
        "\n",
        "class ExponentialLearningRate(keras.callbacks.Callback):\n",
        "    def __init__(self, factor):\n",
        "        self.factor = factor\n",
        "        self.rates = []\n",
        "        self.losses = []\n",
        "    def on_batch_end(self, batch, logs):\n",
        "        self.rates.append(K.get_value(self.model.optimizer.lr))\n",
        "        self.losses.append(logs[\"loss\"])\n",
        "        K.set_value(self.model.optimizer.lr, self.model.optimizer.lr * self.factor)"
      ],
      "execution_count": 0,
      "outputs": []
    },
    {
      "cell_type": "code",
      "metadata": {
        "id": "smOR0xMlvDRA",
        "colab_type": "code",
        "colab": {}
      },
      "source": [
        "keras.backend.clear_session()\n",
        "np.random.seed(42)\n",
        "tf.random.set_seed(42)"
      ],
      "execution_count": 0,
      "outputs": []
    },
    {
      "cell_type": "code",
      "metadata": {
        "id": "K80ZcME8vDRB",
        "colab_type": "code",
        "colab": {}
      },
      "source": [
        "model = keras.models.Sequential([\n",
        "    keras.layers.Flatten(input_shape=[28, 28]),\n",
        "    keras.layers.Dense(300, activation=\"relu\"),\n",
        "    keras.layers.Dense(100, activation=\"relu\"),\n",
        "    keras.layers.Dense(10, activation=\"softmax\")\n",
        "])"
      ],
      "execution_count": 0,
      "outputs": []
    },
    {
      "cell_type": "markdown",
      "metadata": {
        "id": "cAMKoyUbvDRC",
        "colab_type": "text"
      },
      "source": [
        "Zaczniemy od małej wartości współczynnika uczenia, rzędu 1e-3, i będzie zwiększać ją o 0.5% w każdej iteracji:"
      ]
    },
    {
      "cell_type": "code",
      "metadata": {
        "id": "dxWkjoD6vDRD",
        "colab_type": "code",
        "colab": {}
      },
      "source": [
        "model.compile(loss=\"sparse_categorical_crossentropy\",\n",
        "              optimizer=keras.optimizers.SGD(lr=1e-3),\n",
        "              metrics=[\"accuracy\"])\n",
        "expon_lr = ExponentialLearningRate(factor=1.005)"
      ],
      "execution_count": 0,
      "outputs": []
    },
    {
      "cell_type": "markdown",
      "metadata": {
        "id": "Sou05QmmvDRE",
        "colab_type": "text"
      },
      "source": [
        "Wytrenujmy teraz model tylko przez jedną epokę:"
      ]
    },
    {
      "cell_type": "code",
      "metadata": {
        "id": "L48aHy3jvDRE",
        "colab_type": "code",
        "colab": {},
        "outputId": "9e8dfc66-4212-493f-dc0f-19a9bc9d61a9"
      },
      "source": [
        "history = model.fit(X_train, y_train, epochs=1,\n",
        "                    validation_data=(X_valid, y_valid),\n",
        "                    callbacks=[expon_lr])"
      ],
      "execution_count": 0,
      "outputs": [
        {
          "output_type": "stream",
          "text": [
            "Train on 55000 samples, validate on 5000 samples\n",
            "55000/55000 [==============================] - 3s 52us/sample - loss: 55143288500710.3281 - accuracy: 0.5734 - val_loss: 2.3660 - val_accuracy: 0.1100\n"
          ],
          "name": "stdout"
        }
      ]
    },
    {
      "cell_type": "markdown",
      "metadata": {
        "id": "iZdU0tsBvDRF",
        "colab_type": "text"
      },
      "source": [
        "Możemy teraz stworzyć wykres funkcji straty od współczynnika uczenia:"
      ]
    },
    {
      "cell_type": "code",
      "metadata": {
        "id": "9aRQadvavDRG",
        "colab_type": "code",
        "colab": {},
        "outputId": "64f0e5a7-eeb6-4dad-96f4-65082ce57529"
      },
      "source": [
        "plt.plot(expon_lr.rates, expon_lr.losses)\n",
        "plt.gca().set_xscale('log')\n",
        "plt.hlines(min(expon_lr.losses), min(expon_lr.rates), max(expon_lr.rates))\n",
        "plt.axis([min(expon_lr.rates), max(expon_lr.rates), 0, expon_lr.losses[0]])\n",
        "plt.xlabel(\"Współczynnik uczenia\")\n",
        "plt.ylabel(\"Funkcja straty\")"
      ],
      "execution_count": 0,
      "outputs": [
        {
          "output_type": "execute_result",
          "data": {
            "text/plain": [
              "Text(0, 0.5, 'Loss')"
            ]
          },
          "metadata": {
            "tags": []
          },
          "execution_count": 121
        },
        {
          "output_type": "display_data",
          "data": {
            "image/png": "[encoded data removed]",
            "text/plain": [
              "<Figure size 432x288 with 1 Axes>"
            ]
          },
          "metadata": {
            "tags": [],
            "needs_background": "light"
          }
        }
      ]
    },
    {
      "cell_type": "markdown",
      "metadata": {
        "id": "YOZQHkf2vDRH",
        "colab_type": "text"
      },
      "source": [
        "Funkcja straty zaczyna mocno wariować w okolicachg wartości 3e-1 współczynnika uczenia, dlatego zwiększmy ją do 2e-1:"
      ]
    },
    {
      "cell_type": "code",
      "metadata": {
        "id": "-ejjXxv1vDRH",
        "colab_type": "code",
        "colab": {}
      },
      "source": [
        "keras.backend.clear_session()\n",
        "np.random.seed(42)\n",
        "tf.random.set_seed(42)"
      ],
      "execution_count": 0,
      "outputs": []
    },
    {
      "cell_type": "code",
      "metadata": {
        "id": "h9QPERruvDRI",
        "colab_type": "code",
        "colab": {}
      },
      "source": [
        "model = keras.models.Sequential([\n",
        "    keras.layers.Flatten(input_shape=[28, 28]),\n",
        "    keras.layers.Dense(300, activation=\"relu\"),\n",
        "    keras.layers.Dense(100, activation=\"relu\"),\n",
        "    keras.layers.Dense(10, activation=\"softmax\")\n",
        "])"
      ],
      "execution_count": 0,
      "outputs": []
    },
    {
      "cell_type": "code",
      "metadata": {
        "id": "eY7NGtn8vDRI",
        "colab_type": "code",
        "colab": {}
      },
      "source": [
        "model.compile(loss=\"sparse_categorical_crossentropy\",\n",
        "              optimizer=keras.optimizers.SGD(lr=2e-1),\n",
        "              metrics=[\"accuracy\"])"
      ],
      "execution_count": 0,
      "outputs": []
    },
    {
      "cell_type": "code",
      "metadata": {
        "id": "ZzrH_c9FvDRJ",
        "colab_type": "code",
        "colab": {},
        "outputId": "7ffd4041-6ae8-4cde-ab12-c8b77b6a82d3"
      },
      "source": [
        "run_index = 1 # zwiększa tę wartość w każdym przebiegu\n",
        "run_logdir = os.path.join(os.curdir, \"moje_dzienniki_mnist\", \"przebieg_{:03d}\".format(run_index))\n",
        "run_logdir"
      ],
      "execution_count": 0,
      "outputs": [
        {
          "output_type": "execute_result",
          "data": {
            "text/plain": [
              "'./my_mnist_logs/run_001'"
            ]
          },
          "metadata": {
            "tags": []
          },
          "execution_count": 125
        }
      ]
    },
    {
      "cell_type": "code",
      "metadata": {
        "id": "5--IOzoHvDRK",
        "colab_type": "code",
        "colab": {},
        "outputId": "288705e9-fc72-4823-d3fa-c94ada91c2bd"
      },
      "source": [
        "early_stopping_cb = keras.callbacks.EarlyStopping(patience=20)\n",
        "checkpoint_cb = keras.callbacks.ModelCheckpoint(\"moj_model_mnist.h5\", save_best_only=True)\n",
        "tensorboard_cb = keras.callbacks.TensorBoard(run_logdir)\n",
        "\n",
        "history = model.fit(X_train, y_train, epochs=100,\n",
        "                    validation_data=(X_valid, y_valid),\n",
        "                    callbacks=[early_stopping_cb, checkpoint_cb, tensorboard_cb])"
      ],
      "execution_count": 0,
      "outputs": [
        {
          "output_type": "stream",
          "text": [
            "Train on 55000 samples, validate on 5000 samples\n",
            "Epoch 1/100\n",
            "55000/55000 [==============================] - 3s 46us/sample - loss: 0.2361 - accuracy: 0.9280 - val_loss: 0.1183 - val_accuracy: 0.9664\n",
            "Epoch 2/100\n",
            "55000/55000 [==============================] - 2s 42us/sample - loss: 0.0954 - accuracy: 0.9705 - val_loss: 0.0855 - val_accuracy: 0.9768\n",
            "Epoch 3/100\n",
            "55000/55000 [==============================] - 2s 42us/sample - loss: 0.0642 - accuracy: 0.9796 - val_loss: 0.0822 - val_accuracy: 0.9786\n",
            "Epoch 4/100\n",
            "55000/55000 [==============================] - 2s 42us/sample - loss: 0.0462 - accuracy: 0.9855 - val_loss: 0.0804 - val_accuracy: 0.9770\n",
            "Epoch 5/100\n",
            "55000/55000 [==============================] - 2s 42us/sample - loss: 0.0333 - accuracy: 0.9894 - val_loss: 0.1907 - val_accuracy: 0.9500\n",
            "Epoch 6/100\n",
            "55000/55000 [==============================] - 2s 41us/sample - loss: 0.0244 - accuracy: 0.9919 - val_loss: 0.0698 - val_accuracy: 0.9828\n",
            "Epoch 7/100\n",
            "55000/55000 [==============================] - 2s 41us/sample - loss: 0.0205 - accuracy: 0.9929 - val_loss: 0.0809 - val_accuracy: 0.9800\n",
            "Epoch 8/100\n",
            "55000/55000 [==============================] - 2s 42us/sample - loss: 0.0153 - accuracy: 0.9949 - val_loss: 0.0841 - val_accuracy: 0.9824\n",
            "Epoch 9/100\n",
            "55000/55000 [==============================] - 2s 42us/sample - loss: 0.0084 - accuracy: 0.9975 - val_loss: 0.0899 - val_accuracy: 0.9788\n",
            "Epoch 10/100\n",
            "55000/55000 [==============================] - 2s 41us/sample - loss: 0.0084 - accuracy: 0.9972 - val_loss: 0.0741 - val_accuracy: 0.9844\n",
            "Epoch 11/100\n",
            "55000/55000 [==============================] - 2s 42us/sample - loss: 0.0042 - accuracy: 0.9989 - val_loss: 0.0729 - val_accuracy: 0.9842\n",
            "Epoch 12/100\n",
            "55000/55000 [==============================] - 2s 43us/sample - loss: 0.0028 - accuracy: 0.9993 - val_loss: 0.0839 - val_accuracy: 0.9838\n",
            "Epoch 13/100\n",
            "55000/55000 [==============================] - 2s 43us/sample - loss: 0.0018 - accuracy: 0.9997 - val_loss: 0.0747 - val_accuracy: 0.9858\n",
            "Epoch 14/100\n",
            "55000/55000 [==============================] - 2s 43us/sample - loss: 8.9780e-04 - accuracy: 0.9998 - val_loss: 0.0732 - val_accuracy: 0.9858\n",
            "Epoch 15/100\n",
            "55000/55000 [==============================] - 2s 42us/sample - loss: 3.7406e-04 - accuracy: 1.0000 - val_loss: 0.0771 - val_accuracy: 0.9862\n",
            "Epoch 16/100\n",
            "55000/55000 [==============================] - 2s 41us/sample - loss: 2.2128e-04 - accuracy: 1.0000 - val_loss: 0.0783 - val_accuracy: 0.9860\n",
            "Epoch 17/100\n",
            "55000/55000 [==============================] - 2s 43us/sample - loss: 1.8240e-04 - accuracy: 1.0000 - val_loss: 0.0789 - val_accuracy: 0.9864\n",
            "Epoch 18/100\n",
            "55000/55000 [==============================] - 2s 45us/sample - loss: 1.5978e-04 - accuracy: 1.0000 - val_loss: 0.0800 - val_accuracy: 0.9862\n",
            "Epoch 19/100\n",
            "55000/55000 [==============================] - 2s 43us/sample - loss: 1.4287e-04 - accuracy: 1.0000 - val_loss: 0.0808 - val_accuracy: 0.9862\n",
            "Epoch 20/100\n",
            "55000/55000 [==============================] - 2s 42us/sample - loss: 1.2992e-04 - accuracy: 1.0000 - val_loss: 0.0812 - val_accuracy: 0.9860\n",
            "Epoch 21/100\n",
            "55000/55000 [==============================] - 2s 43us/sample - loss: 1.2116e-04 - accuracy: 1.0000 - val_loss: 0.0816 - val_accuracy: 0.9860\n",
            "Epoch 22/100\n",
            "55000/55000 [==============================] - 2s 43us/sample - loss: 1.1251e-04 - accuracy: 1.0000 - val_loss: 0.0820 - val_accuracy: 0.9862\n",
            "Epoch 23/100\n",
            "55000/55000 [==============================] - 2s 44us/sample - loss: 1.0464e-04 - accuracy: 1.0000 - val_loss: 0.0826 - val_accuracy: 0.9866\n",
            "Epoch 24/100\n",
            "55000/55000 [==============================] - 2s 43us/sample - loss: 9.8997e-05 - accuracy: 1.0000 - val_loss: 0.0833 - val_accuracy: 0.9864\n",
            "Epoch 25/100\n",
            "55000/55000 [==============================] - 2s 43us/sample - loss: 9.3607e-05 - accuracy: 1.0000 - val_loss: 0.0837 - val_accuracy: 0.9864\n",
            "Epoch 26/100\n",
            "55000/55000 [==============================] - 2s 43us/sample - loss: 8.8776e-05 - accuracy: 1.0000 - val_loss: 0.0839 - val_accuracy: 0.9864\n"
          ],
          "name": "stdout"
        }
      ]
    },
    {
      "cell_type": "code",
      "metadata": {
        "id": "HZga39GTvDRL",
        "colab_type": "code",
        "colab": {},
        "outputId": "595d8a50-5830-411f-a5f0-200c9420b6b0"
      },
      "source": [
        "model = keras.models.load_model(\"moj_model_mnist.h5\") # wraca do najlepszego modelu\n",
        "model.evaluate(X_test, y_test)"
      ],
      "execution_count": 0,
      "outputs": [
        {
          "output_type": "stream",
          "text": [
            "10000/10000 [==============================] - 0s 26us/sample - loss: 0.0692 - accuracy: 0.9806\n"
          ],
          "name": "stdout"
        },
        {
          "output_type": "execute_result",
          "data": {
            "text/plain": [
              "[0.06917384602149541, 0.9806]"
            ]
          },
          "metadata": {
            "tags": []
          },
          "execution_count": 127
        }
      ]
    },
    {
      "cell_type": "markdown",
      "metadata": {
        "id": "ZAukpG0ovDRM",
        "colab_type": "text"
      },
      "source": [
        "Osiągnęliśmy dokładność ponad 98%. Nareszcie. Sprawdźmy krzywe uczenia za pomocą narzędzia TensorBoard:"
      ]
    },
    {
      "cell_type": "code",
      "metadata": {
        "id": "wGE4Mrs1vDRM",
        "colab_type": "code",
        "colab": {},
        "outputId": "a900274f-8c74-4187-ef2e-b25acaeb1b5f"
      },
      "source": [
        "%tensorboard --logdir=./moje_dzienniki_mnist --port=6006"
      ],
      "execution_count": 0,
      "outputs": [
        {
          "output_type": "display_data",
          "data": {
            "text/html": [
              "\n",
              "      <iframe id=\"tensorboard-frame-c70eacbf9e1fb8d3\" width=\"100%\" height=\"800\" frameborder=\"0\">\n",
              "      </iframe>\n",
              "      <script>\n",
              "        (function() {\n",
              "          const frame = document.getElementById(\"tensorboard-frame-c70eacbf9e1fb8d3\");\n",
              "          const url = new URL(\"/\", window.location);\n",
              "          url.port = 6006;\n",
              "          frame.src = url;\n",
              "        })();\n",
              "      </script>\n",
              "  "
            ],
            "text/plain": [
              "<IPython.core.display.HTML object>"
            ]
          },
          "metadata": {
            "tags": []
          }
        }
      ]
    },
    {
      "cell_type": "code",
      "metadata": {
        "id": "NBcO7GyOvDRP",
        "colab_type": "code",
        "colab": {}
      },
      "source": [
        ""
      ],
      "execution_count": 0,
      "outputs": []
    }
  ]
}