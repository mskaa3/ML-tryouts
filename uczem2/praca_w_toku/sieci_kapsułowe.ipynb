{
  "nbformat": 4,
  "nbformat_minor": 0,
  "metadata": {
    "kernelspec": {
      "name": "python3",
      "display_name": "Python 3"
    },
    "language_info": {
      "codemirror_mode": {
        "name": "ipython",
        "version": 3
      },
      "file_extension": ".py",
      "mimetype": "text/x-python",
      "name": "python",
      "nbconvert_exporter": "python",
      "pygments_lexer": "ipython3",
      "version": "3.7.5"
    },
    "colab": {
      "name": "sieci_kapsułowe.ipynb",
      "provenance": []
    },
    "accelerator": "GPU"
  },
  "cells": [
    {
      "cell_type": "markdown",
      "metadata": {
        "id": "BMn1jxGviG9J",
        "colab_type": "text"
      },
      "source": [
        "# Sieci kapsułowe (CapsNets)"
      ]
    },
    {
      "cell_type": "markdown",
      "metadata": {
        "id": "Td_LaaNJiG9L",
        "colab_type": "text"
      },
      "source": [
        "Na podstawie artykułu [Dynamic Routing Between Capsules](https://arxiv.org/abs/1710.09829) autorstwa Sary Sabour, Nicholasa Frossta i Geoffrey`a E. Hintona (NIPS 2017)."
      ]
    },
    {
      "cell_type": "markdown",
      "metadata": {
        "id": "RRuSPm35iG9M",
        "colab_type": "text"
      },
      "source": [
        "Częściową inspirację stanowi implementacja [CapsNet-TensorFlow](https://github.com/naturomics/CapsNet-Tensorflow), której twórcą jest Huadong Liao."
      ]
    },
    {
      "cell_type": "markdown",
      "metadata": {
        "id": "Qr3E9omgiG9N",
        "colab_type": "text"
      },
      "source": [
        "# Wprowadzenie"
      ]
    },
    {
      "cell_type": "markdown",
      "metadata": {
        "id": "dgFp7zsniG9O",
        "colab_type": "text"
      },
      "source": [
        "[Film ten](https://youtu.be/pPN8d0E3900) wyjaśnia kluczowe koncepcje związane z sieciami kapsułowymi:"
      ]
    },
    {
      "cell_type": "code",
      "metadata": {
        "id": "G9ie80XtiG9P",
        "colab_type": "code",
        "colab": {},
        "outputId": "c498ed1a-33e7-4082-f1a2-d277824f4227"
      },
      "source": [
        "from IPython.display import HTML\n",
        "HTML(\"\"\"<iframe width=\"560\" height=\"315\" src=\"https://www.youtube.com/embed/pPN8d0E3900\" frameborder=\"0\" allowfullscreen></iframe>\"\"\")"
      ],
      "execution_count": 0,
      "outputs": [
        {
          "output_type": "execute_result",
          "data": {
            "text/html": [
              "<iframe width=\"560\" height=\"315\" src=\"https://www.youtube.com/embed/pPN8d0E3900\" frameborder=\"0\" allowfullscreen></iframe>"
            ],
            "text/plain": [
              "<IPython.core.display.HTML object>"
            ]
          },
          "metadata": {
            "tags": []
          },
          "execution_count": 1
        }
      ]
    },
    {
      "cell_type": "markdown",
      "metadata": {
        "id": "MM309kMpiG9T",
        "colab_type": "text"
      },
      "source": [
        "Możesz chcieć także obejrzeć [ten film](https://youtu.be/2Kawrd5szHE), w którym zaprezentowano główne trudności związane z tą techniką:"
      ]
    },
    {
      "cell_type": "code",
      "metadata": {
        "id": "ZAbyMfFmiG9U",
        "colab_type": "code",
        "colab": {},
        "outputId": "6af1aec6-2d60-4f0d-fb37-56ea8344d7cc"
      },
      "source": [
        "HTML(\"\"\"<iframe width=\"560\" height=\"315\" src=\"https://www.youtube.com/embed/2Kawrd5szHE\" frameborder=\"0\" allowfullscreen></iframe>\"\"\")"
      ],
      "execution_count": 0,
      "outputs": [
        {
          "output_type": "execute_result",
          "data": {
            "text/html": [
              "<iframe width=\"560\" height=\"315\" src=\"https://www.youtube.com/embed/2Kawrd5szHE\" frameborder=\"0\" allowfullscreen></iframe>"
            ],
            "text/plain": [
              "<IPython.core.display.HTML object>"
            ]
          },
          "metadata": {
            "tags": []
          },
          "execution_count": 2
        }
      ]
    },
    {
      "cell_type": "markdown",
      "metadata": {
        "id": "DPZe1NYviG9W",
        "colab_type": "text"
      },
      "source": [
        "# Importowane moduły"
      ]
    },
    {
      "cell_type": "markdown",
      "metadata": {
        "id": "TP3O-Ce9iG9X",
        "colab_type": "text"
      },
      "source": [
        "Do tworzenia ładnych rysunków:"
      ]
    },
    {
      "cell_type": "code",
      "metadata": {
        "id": "yzgX0bs_iG9Y",
        "colab_type": "code",
        "colab": {}
      },
      "source": [
        "%matplotlib inline\n",
        "import matplotlib\n",
        "import matplotlib.pyplot as plt"
      ],
      "execution_count": 0,
      "outputs": []
    },
    {
      "cell_type": "markdown",
      "metadata": {
        "id": "oOIBVmrpiG9a",
        "colab_type": "text"
      },
      "source": [
        "Będziemy potrzebować modułów NumPy i TensorFlow:"
      ]
    },
    {
      "cell_type": "code",
      "metadata": {
        "id": "T48nIXdHiG9b",
        "colab_type": "code",
        "colab": {
          "base_uri": "https://localhost:8080/",
          "height": 63
        },
        "outputId": "c6e30ae5-d680-4543-b5b3-080cea4309cd"
      },
      "source": [
        "import numpy as np\n",
        "import tensorflow as tf"
      ],
      "execution_count": 2,
      "outputs": [
        {
          "output_type": "display_data",
          "data": {
            "text/html": [
              "<p style=\"color: red;\">\n",
              "The default version of TensorFlow in Colab will soon switch to TensorFlow 2.x.<br>\n",
              "We recommend you <a href=\"https://www.tensorflow.org/guide/migrate\" target=\"_blank\">upgrade</a> now \n",
              "or ensure your notebook will continue to use TensorFlow 1.x via the <code>%tensorflow_version 1.x</code> magic:\n",
              "<a href=\"https://colab.research.google.com/notebooks/tensorflow_version.ipynb\" target=\"_blank\">more info</a>.</p>\n"
            ],
            "text/plain": [
              "<IPython.core.display.HTML object>"
            ]
          },
          "metadata": {
            "tags": []
          }
        }
      ]
    },
    {
      "cell_type": "markdown",
      "metadata": {
        "id": "A-W1jc7OiG9e",
        "colab_type": "text"
      },
      "source": [
        "# Odtwarzalność"
      ]
    },
    {
      "cell_type": "markdown",
      "metadata": {
        "id": "WZbc2ktkiG9f",
        "colab_type": "text"
      },
      "source": [
        "Zresetujmy domyślny graf na wypadek, gdybyś ponownie uruchamiał ten notatnik bez ponownego uruchamiania jądra:"
      ]
    },
    {
      "cell_type": "code",
      "metadata": {
        "id": "poEF7d8miG9f",
        "colab_type": "code",
        "colab": {}
      },
      "source": [
        "tf.reset_default_graph()"
      ],
      "execution_count": 0,
      "outputs": []
    },
    {
      "cell_type": "markdown",
      "metadata": {
        "id": "FKwtl1wniG9i",
        "colab_type": "text"
      },
      "source": [
        "Wyznaczmy ziarna losowości, dzięki czemu będziemy zawsze uzyskiwać te same rezultaty:"
      ]
    },
    {
      "cell_type": "code",
      "metadata": {
        "id": "sAx0K1HLiG9i",
        "colab_type": "code",
        "colab": {}
      },
      "source": [
        "np.random.seed(42)\n",
        "tf.set_random_seed(42)"
      ],
      "execution_count": 0,
      "outputs": []
    },
    {
      "cell_type": "markdown",
      "metadata": {
        "id": "m9z5C7ysiG9m",
        "colab_type": "text"
      },
      "source": [
        "# Wczytywanie zestawu danych MNIST"
      ]
    },
    {
      "cell_type": "markdown",
      "metadata": {
        "id": "el8XnjABiG9n",
        "colab_type": "text"
      },
      "source": [
        "Tak, wiem, znowu zestaw MNIST. Najprawdopodobniej jednak ten potężny model będzie również przetwarzał większe zestawy dany. Czas pokaże."
      ]
    },
    {
      "cell_type": "code",
      "metadata": {
        "id": "xN2JaZ89iG9o",
        "colab_type": "code",
        "colab": {
          "base_uri": "https://localhost:8080/",
          "height": 479
        },
        "outputId": "2d194f54-97b5-490f-c127-440103f00208"
      },
      "source": [
        "from tensorflow.examples.tutorials.mnist import input_data\n",
        "\n",
        "mnist = input_data.read_data_sets(\"/tmp/data/\")"
      ],
      "execution_count": 5,
      "outputs": [
        {
          "output_type": "stream",
          "text": [
            "WARNING:tensorflow:From <ipython-input-5-4141630e56b4>:3: read_data_sets (from tensorflow.contrib.learn.python.learn.datasets.mnist) is deprecated and will be removed in a future version.\n",
            "Instructions for updating:\n",
            "Please use alternatives such as official/mnist/dataset.py from tensorflow/models.\n",
            "WARNING:tensorflow:From /usr/local/lib/python3.6/dist-packages/tensorflow_core/contrib/learn/python/learn/datasets/mnist.py:260: maybe_download (from tensorflow.contrib.learn.python.learn.datasets.base) is deprecated and will be removed in a future version.\n",
            "Instructions for updating:\n",
            "Please write your own downloading logic.\n",
            "WARNING:tensorflow:From /usr/local/lib/python3.6/dist-packages/tensorflow_core/contrib/learn/python/learn/datasets/base.py:252: _internal_retry.<locals>.wrap.<locals>.wrapped_fn (from tensorflow.contrib.learn.python.learn.datasets.base) is deprecated and will be removed in a future version.\n",
            "Instructions for updating:\n",
            "Please use urllib or similar directly.\n",
            "Successfully downloaded train-images-idx3-ubyte.gz 9912422 bytes.\n",
            "WARNING:tensorflow:From /usr/local/lib/python3.6/dist-packages/tensorflow_core/contrib/learn/python/learn/datasets/mnist.py:262: extract_images (from tensorflow.contrib.learn.python.learn.datasets.mnist) is deprecated and will be removed in a future version.\n",
            "Instructions for updating:\n",
            "Please use tf.data to implement this functionality.\n",
            "Extracting /tmp/data/train-images-idx3-ubyte.gz\n",
            "Successfully downloaded train-labels-idx1-ubyte.gz 28881 bytes.\n",
            "WARNING:tensorflow:From /usr/local/lib/python3.6/dist-packages/tensorflow_core/contrib/learn/python/learn/datasets/mnist.py:267: extract_labels (from tensorflow.contrib.learn.python.learn.datasets.mnist) is deprecated and will be removed in a future version.\n",
            "Instructions for updating:\n",
            "Please use tf.data to implement this functionality.\n",
            "Extracting /tmp/data/train-labels-idx1-ubyte.gz\n",
            "Successfully downloaded t10k-images-idx3-ubyte.gz 1648877 bytes.\n",
            "Extracting /tmp/data/t10k-images-idx3-ubyte.gz\n",
            "Successfully downloaded t10k-labels-idx1-ubyte.gz 4542 bytes.\n",
            "Extracting /tmp/data/t10k-labels-idx1-ubyte.gz\n",
            "WARNING:tensorflow:From /usr/local/lib/python3.6/dist-packages/tensorflow_core/contrib/learn/python/learn/datasets/mnist.py:290: DataSet.__init__ (from tensorflow.contrib.learn.python.learn.datasets.mnist) is deprecated and will be removed in a future version.\n",
            "Instructions for updating:\n",
            "Please use alternatives such as official/mnist/dataset.py from tensorflow/models.\n"
          ],
          "name": "stdout"
        }
      ]
    },
    {
      "cell_type": "markdown",
      "metadata": {
        "id": "h_nzDdLviG9q",
        "colab_type": "text"
      },
      "source": [
        "Spójrzmy, jak wyglądają te odręcznie pisane cyfry:"
      ]
    },
    {
      "cell_type": "code",
      "metadata": {
        "id": "ag2HcNORiG9r",
        "colab_type": "code",
        "colab": {
          "base_uri": "https://localhost:8080/",
          "height": 127
        },
        "outputId": "d7cab014-6009-4873-d9e1-ec1c0c334335"
      },
      "source": [
        "n_samples = 5\n",
        "\n",
        "plt.figure(figsize=(n_samples * 2, 3))\n",
        "for index in range(n_samples):\n",
        "    plt.subplot(1, n_samples, index + 1)\n",
        "    sample_image = mnist.train.images[index].reshape(28, 28)\n",
        "    plt.imshow(sample_image, cmap=\"binary\")\n",
        "    plt.axis(\"off\")\n",
        "\n",
        "plt.show()"
      ],
      "execution_count": 6,
      "outputs": [
        {
          "output_type": "display_data",
          "data": {
            "image/png": "[encoded data removed]",
            "text/plain": [
              "<Figure size 720x216 with 5 Axes>"
            ]
          },
          "metadata": {
            "tags": []
          }
        }
      ]
    },
    {
      "cell_type": "markdown",
      "metadata": {
        "id": "rE8b-x6OiG9t",
        "colab_type": "text"
      },
      "source": [
        "A to są ich etykiety:"
      ]
    },
    {
      "cell_type": "code",
      "metadata": {
        "id": "_ilKaGYZiG9u",
        "colab_type": "code",
        "colab": {
          "base_uri": "https://localhost:8080/",
          "height": 34
        },
        "outputId": "e63b8964-c549-4b97-c89f-5e85bd5b9063"
      },
      "source": [
        "mnist.train.labels[:n_samples]"
      ],
      "execution_count": 7,
      "outputs": [
        {
          "output_type": "execute_result",
          "data": {
            "text/plain": [
              "array([7, 3, 4, 6, 1], dtype=uint8)"
            ]
          },
          "metadata": {
            "tags": []
          },
          "execution_count": 7
        }
      ]
    },
    {
      "cell_type": "markdown",
      "metadata": {
        "id": "095YVBYYiG9w",
        "colab_type": "text"
      },
      "source": [
        "Stwórzmy teraz sieć kapsułową służącą do klasyfikowania tych obrazów. Poniżej prezentuję jej ogólną architekturę. Miłego podziwiania sztuki ASCII! ;-)\n",
        "Uwaga: dla zwiększenia czytelności pominąłem dwie strzałki: od etykiet do maski oraz od obrazów wejściowych do funkcji straty rekonstrukcji."
      ]
    },
    {
      "cell_type": "markdown",
      "metadata": {
        "id": "OnlLvOUJiG9x",
        "colab_type": "text"
      },
      "source": [
        "```\n",
        "                              F. straty\n",
        "                                  ↑\n",
        "                        ┌─────────┴────────────────┐\n",
        "      Etykiety → F. straty marginesu    F. straty rekonstrukcji\n",
        "                        ↑                          ↑\n",
        "                     Długość                    Dekoder\n",
        "                        ↑                          ↑ \n",
        "                  Kapsuły cyfr ───────Maska────────┘\n",
        "                   ↖↑↗ ↖↑↗ ↖↑↗\n",
        "                 Kapsuły główne\n",
        "                        ↑      \n",
        "                Obrazy wejściowe\n",
        "```"
      ]
    },
    {
      "cell_type": "markdown",
      "metadata": {
        "id": "xBzB5JDfiG9y",
        "colab_type": "text"
      },
      "source": [
        "Będziemy tworzyć graf począwszy od dołu i stopniowo będziemy \"szli\" do góry (najpierw lewej strony). Do dzieła!"
      ]
    },
    {
      "cell_type": "markdown",
      "metadata": {
        "id": "aiVAfmQTiG9y",
        "colab_type": "text"
      },
      "source": [
        "# Obrazy wejściowe"
      ]
    },
    {
      "cell_type": "markdown",
      "metadata": {
        "id": "POvg37A6iG9z",
        "colab_type": "text"
      },
      "source": [
        "Rozpocznijmy od umieszczenia węzła zastępczego dla obrazów wejściowych (28×28 pikseli, 1 kanał kolorów = czarno-biały)."
      ]
    },
    {
      "cell_type": "code",
      "metadata": {
        "id": "1Uu8O9gNiG90",
        "colab_type": "code",
        "colab": {}
      },
      "source": [
        "X = tf.placeholder(shape=[None, 28, 28, 1], dtype=tf.float32, name=\"X\")"
      ],
      "execution_count": 0,
      "outputs": []
    },
    {
      "cell_type": "markdown",
      "metadata": {
        "id": "Kzp5T8c1iG92",
        "colab_type": "text"
      },
      "source": [
        "# Kapsuły główne"
      ]
    },
    {
      "cell_type": "markdown",
      "metadata": {
        "id": "rKIgqwyViG93",
        "colab_type": "text"
      },
      "source": [
        "Pierwsza warstwa będzie składała się z 32 map zawierających po 6×6 kapsuł, natomiast każda kapsuła będzie generowała ośmiowymiarowy wektor aktywacji:"
      ]
    },
    {
      "cell_type": "code",
      "metadata": {
        "id": "35FviOwfiG93",
        "colab_type": "code",
        "colab": {}
      },
      "source": [
        "caps1_n_maps = 32\n",
        "caps1_n_caps = caps1_n_maps * 6 * 6  # 1152 kapsuł głównych\n",
        "caps1_n_dims = 8"
      ],
      "execution_count": 0,
      "outputs": []
    },
    {
      "cell_type": "markdown",
      "metadata": {
        "id": "7Q82xYQKiG95",
        "colab_type": "text"
      },
      "source": [
        "Do obliczenia ich wyników będziemy potrzebować dwóch standardowych warstw splotowych:"
      ]
    },
    {
      "cell_type": "code",
      "metadata": {
        "id": "tH_WwYcPiG96",
        "colab_type": "code",
        "colab": {}
      },
      "source": [
        "conv1_params = {\n",
        "    \"filters\": 256,\n",
        "    \"kernel_size\": 9,\n",
        "    \"strides\": 1,\n",
        "    \"padding\": \"valid\",\n",
        "    \"activation\": tf.nn.relu,\n",
        "}\n",
        "\n",
        "conv2_params = {\n",
        "    \"filters\": caps1_n_maps * caps1_n_dims, # 256 filtrów splotowych\n",
        "    \"kernel_size\": 9,\n",
        "    \"strides\": 2,\n",
        "    \"padding\": \"valid\",\n",
        "    \"activation\": tf.nn.relu\n",
        "}"
      ],
      "execution_count": 0,
      "outputs": []
    },
    {
      "cell_type": "code",
      "metadata": {
        "id": "ErmddMqAiG98",
        "colab_type": "code",
        "colab": {
          "base_uri": "https://localhost:8080/",
          "height": 119
        },
        "outputId": "87ecd962-b7e7-4233-f649-cd2e953aeec3"
      },
      "source": [
        "conv1 = tf.layers.conv2d(X, name=\"splot1\", **conv1_params)\n",
        "conv2 = tf.layers.conv2d(conv1, name=\"splot2\", **conv2_params)"
      ],
      "execution_count": 11,
      "outputs": [
        {
          "output_type": "stream",
          "text": [
            "WARNING:tensorflow:From <ipython-input-11-7daa56ac0dc9>:1: conv2d (from tensorflow.python.layers.convolutional) is deprecated and will be removed in a future version.\n",
            "Instructions for updating:\n",
            "Use `tf.keras.layers.Conv2D` instead.\n",
            "WARNING:tensorflow:From /usr/local/lib/python3.6/dist-packages/tensorflow_core/python/layers/convolutional.py:424: Layer.apply (from tensorflow.python.keras.engine.base_layer) is deprecated and will be removed in a future version.\n",
            "Instructions for updating:\n",
            "Please use `layer.__call__` method instead.\n"
          ],
          "name": "stdout"
        }
      ]
    },
    {
      "cell_type": "markdown",
      "metadata": {
        "id": "rEGuiPSmiG9_",
        "colab_type": "text"
      },
      "source": [
        "Uwaga: użyliśmy tu jądra o rozmiarze 9 i nie wprowadziliśmy uzupełniania zerami (z jakiegoś powodu to oznacza typ `\"valid\"` uzupełniania zerami), zatem obraz po każdej warstwie splotowej zostanie zmniejszony o 9-1=8 pikseli (z 28×28 do 20×20, a następnie z 20×20 do 12×12), a ponieważ użyliśmy kroku o wartości 2 w drugiej warstwie splotowej, rozmiar obrazu został zmniejszony o połowę. W ten właśnie sposób otrzymaliśmy mapy cech 6×6."
      ]
    },
    {
      "cell_type": "markdown",
      "metadata": {
        "id": "sQiP41l8iG9_",
        "colab_type": "text"
      },
      "source": [
        "Następnie tak przekształcimy wynik, aby uzyskać zbiór ośmiowymiarowych wektorów, reprezentujących rezultaty kapsuł głównych. Wynik warstwy `splot2` to tablica zawierająca 32×8=256 map cech dla każdego przykładu, gdzie rozmiar każdej mapy cech wynosi 6×6. Zatem wymiary sygnału wyjściowego to (_rozmiar grupy_, 6, 6, 256). Chcemy podzielić tę wartość 256 na 32 ośmiowymiarowe wektory. Moglibyśmy tego dokonać poprzez przekształcenie wymiarów w postać (_rozmiar grupy_, 6, 6, 32, 8). Jednak ta pierwsza warstwa kapsułowa będzie w pełni połączona z następną warstwą kapsułową, dlatego wystarczy spłaszczyć siatki 6×6. Oznacza to, że możemy przekształcić wymiary następująco: (_rozmiar grupy_, 6×6×32, 8)."
      ]
    },
    {
      "cell_type": "code",
      "metadata": {
        "id": "r4x4FXIhiG-A",
        "colab_type": "code",
        "colab": {}
      },
      "source": [
        "caps1_raw = tf.reshape(conv2, [-1, caps1_n_caps, caps1_n_dims],\n",
        "                       name=\"kaps1_nieprzetw\")"
      ],
      "execution_count": 0,
      "outputs": []
    },
    {
      "cell_type": "markdown",
      "metadata": {
        "id": "oGDeGCr0iG-C",
        "colab_type": "text"
      },
      "source": [
        "Musimy teraz \"zgnieść\" te wektory. Zdefiniujmy funkcję `squash()` na podstawie równania (1) z artykułu:\n",
        "\n",
        "$\\operatorname{squash}(\\mathbf{s}) = \\dfrac{\\|\\mathbf{s}\\|^2}{1 + \\|\\mathbf{s}\\|^2} \\dfrac{\\mathbf{s}}{\\|\\mathbf{s}\\|}$\n",
        "\n",
        "Funkcja `squash()` \"zgniecie\" wszystkie wektory w wyznaczonej tablicy wzdłuż określonej (domyślnie ostatniej) osi.\n",
        "\n",
        "**Ostrzeżenie**: czycha tu na Ciebie paskudna pułapka - pochodna z $\\|\\mathbf{s}\\|$ pozostaje niezdefiniowana, gdy $\\|\\mathbf{s}\\|=0$, zatem nie możemy tu użyć funkcji `tf.norm()`, gdyż w fazie uczenia czeka nas przykra niespodzianka: jeżeli wektor jest zerowy, gradienty będą miały wartość `nan`, zatem w czasie aktualizowania zmiennych przez optymalizator, zmienne te również staną się `nan` i z tego powodu utkniesz w krainie `nan`. Rozwiązaniem jest ręczna implementacja normy poprzez obliczenie pierwiastka kwadratowego z sumy kwadratów i dodatnie małej wartości epsilon: $\\|\\mathbf{s}\\| \\approx \\sqrt{\\sum\\limits_i{{s_i}^2}\\,\\,+ \\epsilon}$."
      ]
    },
    {
      "cell_type": "code",
      "metadata": {
        "id": "2OQ4j5MUiG-D",
        "colab_type": "code",
        "colab": {}
      },
      "source": [
        "def squash(s, axis=-1, epsilon=1e-7, name=None):\n",
        "    with tf.name_scope(name, default_name=\"squash\"):\n",
        "        squared_norm = tf.reduce_sum(tf.square(s), axis=axis,\n",
        "                                     keep_dims=True)\n",
        "        safe_norm = tf.sqrt(squared_norm + epsilon)\n",
        "        squash_factor = squared_norm / (1. + squared_norm)\n",
        "        unit_vector = s / safe_norm\n",
        "        return squash_factor * unit_vector"
      ],
      "execution_count": 0,
      "outputs": []
    },
    {
      "cell_type": "markdown",
      "metadata": {
        "id": "cfcwk06xiG-F",
        "colab_type": "text"
      },
      "source": [
        "Uzyskajmy teraz za pomocą tej funkcji wynik $\\mathbf{u}_i$ dla każdej kapsuły głównej $i$ :"
      ]
    },
    {
      "cell_type": "code",
      "metadata": {
        "id": "WOE4uin0iG-F",
        "colab_type": "code",
        "colab": {
          "base_uri": "https://localhost:8080/",
          "height": 68
        },
        "outputId": "3d5c4869-893a-4e4c-fa4a-2918a646a705"
      },
      "source": [
        "caps1_output = squash(caps1_raw, name=\"kaps1_wyjscie\")"
      ],
      "execution_count": 14,
      "outputs": [
        {
          "output_type": "stream",
          "text": [
            "WARNING:tensorflow:From <ipython-input-13-8037c6cbfef1>:4: calling reduce_sum_v1 (from tensorflow.python.ops.math_ops) with keep_dims is deprecated and will be removed in a future version.\n",
            "Instructions for updating:\n",
            "keep_dims is deprecated, use keepdims instead\n"
          ],
          "name": "stdout"
        }
      ]
    },
    {
      "cell_type": "markdown",
      "metadata": {
        "id": "KmPE4JluiG-H",
        "colab_type": "text"
      },
      "source": [
        "Świetnie! Uzyskaliśmy wynik pierwszej warstwy kapsułowej. Nie było zbyt trudno, prawda? Jednak dopiero teraz zaczyna się zabawa."
      ]
    },
    {
      "cell_type": "markdown",
      "metadata": {
        "id": "y4pg-MsZiG-I",
        "colab_type": "text"
      },
      "source": [
        "# Kapsuły cyfr"
      ]
    },
    {
      "cell_type": "markdown",
      "metadata": {
        "id": "-O2GLZ3ziG-I",
        "colab_type": "text"
      },
      "source": [
        "W celu obliczenia wyniku kapsuł cyfr, musimy najpierw obliczyć wektory przewidywanego wyniku (po jednym na każdą parę kapsuła główna/cyfr). Następnie będziemy mogli przeprowadzić trasowanie za pomocą algorytmu zgody."
      ]
    },
    {
      "cell_type": "markdown",
      "metadata": {
        "id": "X705Xs5piG-J",
        "colab_type": "text"
      },
      "source": [
        "## Obliczanie wektorów przewidywanego wyniku"
      ]
    },
    {
      "cell_type": "markdown",
      "metadata": {
        "id": "J8q7DJLziG-K",
        "colab_type": "text"
      },
      "source": [
        "Warstwa kapsuł cyfr zawiera 10 szesnastowymiarowych kapsuł (po jednej na każdą cyfrę):"
      ]
    },
    {
      "cell_type": "code",
      "metadata": {
        "id": "4jsLzkk8iG-K",
        "colab_type": "code",
        "colab": {}
      },
      "source": [
        "caps2_n_caps = 10\n",
        "caps2_n_dims = 16"
      ],
      "execution_count": 0,
      "outputs": []
    },
    {
      "cell_type": "markdown",
      "metadata": {
        "id": "CBPPtFPviG-O",
        "colab_type": "text"
      },
      "source": [
        "Chcemy dla każdej kapsuły $i$ w pierwszej warstwie przewidzieć wynik każdej kapsuły $j$ w drugiej warstwie. W tym celu potrzebna nam będzie macierz transformacji $\\mathbf{W}_{i,j}$ (po jednej na każdą parę kapsuł ($i$, $j$)), po czym będziemy mogli obliczyć prognozowany wynik $\\hat{\\mathbf{u}}_{j|i} = \\mathbf{W}_{i,j} \\, \\mathbf{u}_i$ (równanie (2) po prawej w artykule). Chcemy przekształcić wektor ośmiowymiary w wektor szesnastowymiarowy, dlatego każda macierz transformacji $\\mathbf{W}_{i,j}$ musi mieć wymiary (16, 8)."
      ]
    },
    {
      "cell_type": "markdown",
      "metadata": {
        "id": "RsIPdcIIiG-O",
        "colab_type": "text"
      },
      "source": [
        "Aby obliczyć $\\hat{\\mathbf{u}}_{j|i}$ dla każdej pary kapsuł ($i$, $j$), wykorzystamy przydatną własność funkcji `tf.matmul()`: prawdopodobnie wiesz, że pozwala ona mnożyć dwie macierze, ale być może nie masz pojęcia, że umożliwia ona również mnożenie tablic o większej liczbie wymiarów. Traktuje ona tablice jak tablice macierzy i przeprowadza iloczyn macierzowy po elementach. Załóżmy, na przykład, że dysponujemy dwiema czterowymiarowymi tablicami, z których każda zawiera siatkę 2x3 macierzy. Pierwsza tablica zawiera macierze $\\mathbf{A}, \\mathbf{B}, \\mathbf{C}, \\mathbf{D}, \\mathbf{E}, \\mathbf{F}$, a druga - $\\mathbf{G}, \\mathbf{H}, \\mathbf{I}, \\mathbf{J}, \\mathbf{K}, \\mathbf{L}$. Jeżeli pomnożysz obydwie tablice czterowymiarowe za pomocą funkcji `tf.matmul()`, otrzymasz następujący rezultat:\n",
        "\n",
        "$\n",
        "\\pmatrix{\n",
        "\\mathbf{A} & \\mathbf{B} & \\mathbf{C} \\\\\n",
        "\\mathbf{D} & \\mathbf{E} & \\mathbf{F}\n",
        "} \\times\n",
        "\\pmatrix{\n",
        "\\mathbf{G} & \\mathbf{H} & \\mathbf{I} \\\\\n",
        "\\mathbf{J} & \\mathbf{K} & \\mathbf{L}\n",
        "} = \\pmatrix{\n",
        "\\mathbf{AG} & \\mathbf{BH} & \\mathbf{CI} \\\\\n",
        "\\mathbf{DJ} & \\mathbf{EK} & \\mathbf{FL}\n",
        "}\n",
        "$"
      ]
    },
    {
      "cell_type": "markdown",
      "metadata": {
        "id": "IANgNBf2iG-P",
        "colab_type": "text"
      },
      "source": [
        "Możemy użyć tej funkcji do obliczenia $\\hat{\\mathbf{u}}_{j|i}$ dla każdej pary kapsuł ($i$, $j$) w poniższy sposób (jak pamiętamy, w pierwszej warstwie występują 6×6×32=1152 kapsuły, a w drugiej jest ich 10):\n",
        "\n",
        "$\n",
        "\\pmatrix{\n",
        "  \\mathbf{W}_{1,1} & \\mathbf{W}_{1,2} & \\cdots & \\mathbf{W}_{1,10} \\\\\n",
        "  \\mathbf{W}_{2,1} & \\mathbf{W}_{2,2} & \\cdots & \\mathbf{W}_{2,10} \\\\\n",
        "  \\vdots & \\vdots & \\ddots & \\vdots \\\\\n",
        "  \\mathbf{W}_{1152,1} & \\mathbf{W}_{1152,2} & \\cdots & \\mathbf{W}_{1152,10}\n",
        "} \\times\n",
        "\\pmatrix{\n",
        "  \\mathbf{u}_1 & \\mathbf{u}_1 & \\cdots & \\mathbf{u}_1 \\\\\n",
        "  \\mathbf{u}_2 & \\mathbf{u}_2 & \\cdots & \\mathbf{u}_2 \\\\\n",
        "  \\vdots & \\vdots & \\ddots & \\vdots \\\\\n",
        "  \\mathbf{u}_{1152} & \\mathbf{u}_{1152} & \\cdots & \\mathbf{u}_{1152}\n",
        "}\n",
        "=\n",
        "\\pmatrix{\n",
        "\\hat{\\mathbf{u}}_{1|1} & \\hat{\\mathbf{u}}_{2|1} & \\cdots & \\hat{\\mathbf{u}}_{10|1} \\\\\n",
        "\\hat{\\mathbf{u}}_{1|2} & \\hat{\\mathbf{u}}_{2|2} & \\cdots & \\hat{\\mathbf{u}}_{10|2} \\\\\n",
        "\\vdots & \\vdots & \\ddots & \\vdots \\\\\n",
        "\\hat{\\mathbf{u}}_{1|1152} & \\hat{\\mathbf{u}}_{2|1152} & \\cdots & \\hat{\\mathbf{u}}_{10|1152}\n",
        "}\n",
        "$\n"
      ]
    },
    {
      "cell_type": "markdown",
      "metadata": {
        "id": "vW7w1hdniG-Q",
        "colab_type": "text"
      },
      "source": [
        "Wymiary pierwszej tablicy to (1152, 10, 16, 8), a w drugiej tablicy mamy do czynienia z wymiarami (1152, 10, 8, 1). Zwróć uwagę, że druga tablica musi zawierać 10 identycznych kopii wektorów od $\\mathbf{u}_1$ do $\\mathbf{u}_{1152}$. Do stworzenia takiej tablicy użyjemy przydatnej funkcji `tf.tile()`, która pozwala stworzyć tablicę przechowującą wiele kopii tablicy bazowej, ułożonych w dowolny, wybrany przez nas sposób."
      ]
    },
    {
      "cell_type": "markdown",
      "metadata": {
        "id": "_54mAAyMiG-R",
        "colab_type": "text"
      },
      "source": [
        "Chwileczkę! Zapomnieliśmy o jednym wymiarze: _rozmiar grupy_. Powiedzmy, że dostarczyliśmy do sieci kapsułowej 50 obrazów i będzie ona uzyskiwała prognozy dla całej tej grupy równocześnie. Z tego wynika, że wymiary pierwsze tablicy muszą wynosić (50, 1152, 10, 16, 8), a drugiej - (50, 1152, 10, 8, 1). Kapsuły w pierwszej warstwie w rzeczywistości uzyskały już prognozy dla wszystkich 50 obrazów, zatem druga tablica sobie poradzi, ale w przypadku pierwszej z nich musimy wykorzystać funkcję `tf.tile()`, aby uzyskać 50 kopii macierzy transformacji."
      ]
    },
    {
      "cell_type": "markdown",
      "metadata": {
        "id": "f0XWoyT7iG-S",
        "colab_type": "text"
      },
      "source": [
        "W porządku, stwórzmy najpierw modyfikowalną zmienną o wymiarach (1, 1152, 10, 16, 8), w której będziemy przechowywać wszystkie macierze transformacji. Pierwszy wymiar o rozmiarze 1 znacznie ułatwi utworzenie siatki w tej tablicy. Inicjalizujemy tę zmienną losową za pomocą rozkładu normalnego o odchyleniu standardowym równym 0,1."
      ]
    },
    {
      "cell_type": "code",
      "metadata": {
        "id": "KV1UxnDXiG-S",
        "colab_type": "code",
        "colab": {}
      },
      "source": [
        "init_sigma = 0.1\n",
        "\n",
        "W_init = tf.random_normal(\n",
        "    shape=(1, caps1_n_caps, caps2_n_caps, caps2_n_dims, caps1_n_dims),\n",
        "    stddev=init_sigma, dtype=tf.float32, name=\"W_inic\")\n",
        "W = tf.Variable(W_init, name=\"W\")"
      ],
      "execution_count": 0,
      "outputs": []
    },
    {
      "cell_type": "markdown",
      "metadata": {
        "id": "g6jwODL-iG-U",
        "colab_type": "text"
      },
      "source": [
        "Możemy teraz utworzyć pierwszą tablicę poprzez powielanie `W` na każdy przykład:"
      ]
    },
    {
      "cell_type": "code",
      "metadata": {
        "id": "lNOPVKW1iG-V",
        "colab_type": "code",
        "colab": {}
      },
      "source": [
        "batch_size = tf.shape(X)[0]\n",
        "W_tiled = tf.tile(W, [batch_size, 1, 1, 1, 1], name=\"W_siatka\")"
      ],
      "execution_count": 0,
      "outputs": []
    },
    {
      "cell_type": "markdown",
      "metadata": {
        "id": "cFBEkivDiG-X",
        "colab_type": "text"
      },
      "source": [
        "I to wszystko! Przejdźmy do drugiej tablicy. Jak już wiemy, musimy stworzyć tablicę o wymiarach (_rozmiar grupy_, 1152, 10, 8, 1), zawierającą wynik kapsuł z pierwszej warstwy, powtórzony dziesięciokrotnie (po jednym razie na każdą cyfrę, wzdłuż trzeciego wymiaru, czyli axis=2). Tablica `kaps1_wyjscie` ma wymiary (_rozmiar grupy_, 1152, 8), musimy więc najpierw dwukrotnie ją poszerzyć, aby uzyskać tablicę o wymiarach (_rozmiar grupy_, 1152, 1, 8, 1), po czym możemy powtórzyć tę operację 10 razy w trzecim wymiarze:"
      ]
    },
    {
      "cell_type": "code",
      "metadata": {
        "id": "DnfgAwSziG-Y",
        "colab_type": "code",
        "colab": {}
      },
      "source": [
        "caps1_output_expanded = tf.expand_dims(caps1_output, -1,\n",
        "                                       name=\"kaps1_wyjscie_rozszerzone\")\n",
        "caps1_output_tile = tf.expand_dims(caps1_output_expanded, 2,\n",
        "                                   name=\"kaps1_wyjscie_siatka\")\n",
        "caps1_output_tiled = tf.tile(caps1_output_tile, [1, 1, caps2_n_caps, 1, 1],\n",
        "                             name=\"kaps1_wyjscie_podzielone\")"
      ],
      "execution_count": 0,
      "outputs": []
    },
    {
      "cell_type": "markdown",
      "metadata": {
        "id": "ORbnf0YtiG-a",
        "colab_type": "text"
      },
      "source": [
        "Sprawdźmy wymiary pierwszej tablicy:"
      ]
    },
    {
      "cell_type": "code",
      "metadata": {
        "id": "6Y0apszOiG-a",
        "colab_type": "code",
        "colab": {
          "base_uri": "https://localhost:8080/",
          "height": 34
        },
        "outputId": "e4371074-ea40-42a5-c269-7f52db7558e4"
      },
      "source": [
        "W_tiled"
      ],
      "execution_count": 19,
      "outputs": [
        {
          "output_type": "execute_result",
          "data": {
            "text/plain": [
              "<tf.Tensor 'W_siatka:0' shape=(?, 1152, 10, 16, 8) dtype=float32>"
            ]
          },
          "metadata": {
            "tags": []
          },
          "execution_count": 19
        }
      ]
    },
    {
      "cell_type": "markdown",
      "metadata": {
        "id": "SPs4AZy3iG-d",
        "colab_type": "text"
      },
      "source": [
        "Dobrze, sprawdźmy teraz drugą tablicę:"
      ]
    },
    {
      "cell_type": "code",
      "metadata": {
        "id": "2hN4tfaDiG-d",
        "colab_type": "code",
        "colab": {
          "base_uri": "https://localhost:8080/",
          "height": 34
        },
        "outputId": "ef9e71f4-96bb-4d53-d947-25c04d718c2c"
      },
      "source": [
        "caps1_output_tiled"
      ],
      "execution_count": 20,
      "outputs": [
        {
          "output_type": "execute_result",
          "data": {
            "text/plain": [
              "<tf.Tensor 'kaps1_wyjscie_podzielone:0' shape=(?, 1152, 10, 8, 1) dtype=float32>"
            ]
          },
          "metadata": {
            "tags": []
          },
          "execution_count": 20
        }
      ]
    },
    {
      "cell_type": "markdown",
      "metadata": {
        "id": "UKSxryQFiG-f",
        "colab_type": "text"
      },
      "source": [
        "Tak! Teraz aby uzyskać wszystkie wektory prognozowanego wyniku $\\hat{\\mathbf{u}}_{j|i}$, wystarczy pomnożyć obydwie tablice za pomocą funkcji `tf.matmul()`, zgodnie ze wcześniejszymi wyjaśnieniami: "
      ]
    },
    {
      "cell_type": "code",
      "metadata": {
        "id": "9BbiTLCfiG-g",
        "colab_type": "code",
        "colab": {}
      },
      "source": [
        "caps2_predicted = tf.matmul(W_tiled, caps1_output_tiled,\n",
        "                            name=\"kaps2_prognozowane\")"
      ],
      "execution_count": 0,
      "outputs": []
    },
    {
      "cell_type": "markdown",
      "metadata": {
        "id": "duPJmRDxiG-h",
        "colab_type": "text"
      },
      "source": [
        "Sprawdźmy wymiary:"
      ]
    },
    {
      "cell_type": "code",
      "metadata": {
        "id": "tk-4oXamiG-i",
        "colab_type": "code",
        "colab": {
          "base_uri": "https://localhost:8080/",
          "height": 34
        },
        "outputId": "16ccd6d0-acef-4b2c-827a-f43070298df3"
      },
      "source": [
        "caps2_predicted"
      ],
      "execution_count": 22,
      "outputs": [
        {
          "output_type": "execute_result",
          "data": {
            "text/plain": [
              "<tf.Tensor 'kaps2_prognozowane:0' shape=(?, 1152, 10, 16, 1) dtype=float32>"
            ]
          },
          "metadata": {
            "tags": []
          },
          "execution_count": 22
        }
      ]
    },
    {
      "cell_type": "markdown",
      "metadata": {
        "id": "O11yK312iG-k",
        "colab_type": "text"
      },
      "source": [
        "Doskonale, dla każdego przykładu w grupie (nie znamy jeszcze rozmiaru grupy, stąd \"?\") i dla każdej pary kapsuł z pierwszej i drugiej warstwy (1152×10) uzyskujemy szesnastowymiarowy wektor kolumnowy prognozowanego wyniku (16×1). Możemy teraz wprowadzić trasowanie za pomocą algorytmu zgody!"
      ]
    },
    {
      "cell_type": "markdown",
      "metadata": {
        "id": "yYB5p9PQiG-k",
        "colab_type": "text"
      },
      "source": [
        "## Trasowanie za pomocą algorytmu zgody"
      ]
    },
    {
      "cell_type": "markdown",
      "metadata": {
        "id": "hDXkrtWXiG-l",
        "colab_type": "text"
      },
      "source": [
        "Zainicjujmy najpierw \"surowe\" wagi trasowania $b_{i,j}$ z wartościami 0:"
      ]
    },
    {
      "cell_type": "code",
      "metadata": {
        "id": "uq0wn61BiG-l",
        "colab_type": "code",
        "colab": {}
      },
      "source": [
        "raw_weights = tf.zeros([batch_size, caps1_n_caps, caps2_n_caps, 1, 1],\n",
        "                       dtype=np.float32, name=\"wagi_surowe\")"
      ],
      "execution_count": 0,
      "outputs": []
    },
    {
      "cell_type": "markdown",
      "metadata": {
        "id": "bobEax91iG-n",
        "colab_type": "text"
      },
      "source": [
        "Za chwilę zrozumiemy, dlaczego potrzebujemy dwóch ostatnich wymiarów równych 1."
      ]
    },
    {
      "cell_type": "markdown",
      "metadata": {
        "id": "8GeS7rAoiG-o",
        "colab_type": "text"
      },
      "source": [
        "### Runda 1."
      ]
    },
    {
      "cell_type": "markdown",
      "metadata": {
        "id": "uKLh-jmfiG-o",
        "colab_type": "text"
      },
      "source": [
        "Najpierw użyjmy funkcji softmax do obliczenia wag trasowania, $\\mathbf{c}_{i} = \\operatorname{softmax}(\\mathbf{b}_i)$ (równanie (3) w artykule):"
      ]
    },
    {
      "cell_type": "code",
      "metadata": {
        "id": "bGFCSNSLiG-p",
        "colab_type": "code",
        "colab": {
          "base_uri": "https://localhost:8080/",
          "height": 68
        },
        "outputId": "9af61c7f-cf82-4525-9a33-e8569342af60"
      },
      "source": [
        "routing_weights = tf.nn.softmax(raw_weights, dim=2, name=\"wagi_trasowania\")"
      ],
      "execution_count": 24,
      "outputs": [
        {
          "output_type": "stream",
          "text": [
            "WARNING:tensorflow:From <ipython-input-24-4d64b183baf7>:1: calling softmax (from tensorflow.python.ops.nn_ops) with dim is deprecated and will be removed in a future version.\n",
            "Instructions for updating:\n",
            "dim is deprecated, use axis instead\n"
          ],
          "name": "stdout"
        }
      ]
    },
    {
      "cell_type": "markdown",
      "metadata": {
        "id": "bdufRKZPiG-s",
        "colab_type": "text"
      },
      "source": [
        "Obliczmy teraz sumę ważoną wszystkich wektorów prognozowanego wyniku dla każdej kapsuły z drugiej warstwy, $\\mathbf{s}_j = \\sum\\limits_{i}{c_{i,j}\\hat{\\mathbf{u}}_{j|i}}$ (równanie (2) po lewej w artykule):"
      ]
    },
    {
      "cell_type": "code",
      "metadata": {
        "id": "mlT041NXiG-t",
        "colab_type": "code",
        "colab": {}
      },
      "source": [
        "weighted_predictions = tf.multiply(routing_weights, caps2_predicted,\n",
        "                                   name=\"prognozy_wazone\")\n",
        "weighted_sum = tf.reduce_sum(weighted_predictions, axis=1, keep_dims=True,\n",
        "                             name=\"suma_wazona\")"
      ],
      "execution_count": 0,
      "outputs": []
    },
    {
      "cell_type": "markdown",
      "metadata": {
        "id": "5U9vtKHiiG-v",
        "colab_type": "text"
      },
      "source": [
        "Należy zwrócić tu uwagę na kilka istotnych szczegółów:\n",
        "* Aby przeprowadzić mnożenie macierzowe po elementach (iloczyn Hadamarda, oznaczany symbolem $\\circ$), wykorzystujemy funkcję `tf.multiply()`. Wymaga ona, aby `wagi_trasowania` i `kaps2_prognozowane` miały taki sam rząd, dlatego dodaliśmy wcześniej dwa wymiary o rozmiarze 1 do `wagi_trasowania`.\n",
        "* Wymiary `wagi_trasowania` to (_rozmiar grupy_, 1152, 10, 1, 1), natomiast w przypadku `kaps2_prognozowane` mamy do czynienia z (_rozmiar grupy_, 1152, 10, 16, 1). Nie są one zgodne w czwartym wymiarze (1 _a_ 16), więc funkcja `tf.multiply()` automatycznie _transmituje_ `wagi_trasowania` 16 razy w tym wymiarze. Jeżeli nie miałeś do czynienia z transmitowaniem, pomoże Ci prosty przykład:\n",
        "\n",
        "  $ \\pmatrix{1 & 2 & 3 \\\\ 4 & 5 & 6} \\circ \\pmatrix{10 & 100 & 1000} = \\pmatrix{1 & 2 & 3 \\\\ 4 & 5 & 6} \\circ \\pmatrix{10 & 100 & 1000 \\\\ 10 & 100 & 1000} = \\pmatrix{10 & 200 & 3000 \\\\ 40 & 500 & 6000} $"
      ]
    },
    {
      "cell_type": "markdown",
      "metadata": {
        "id": "WuCbh7qsiG-v",
        "colab_type": "text"
      },
      "source": [
        "W końcu użyjmy funkcji \"zgniatania\", aby otrzymać wyniki kapsuł z drugiej warstwy na koniec pierwszej iteracji trasowania za pomocą algorytmu zgody, $\\mathbf{v}_j = \\operatorname{squash}(\\mathbf{s}_j)$ :"
      ]
    },
    {
      "cell_type": "code",
      "metadata": {
        "id": "XtWXY_KviG-w",
        "colab_type": "code",
        "colab": {}
      },
      "source": [
        "caps2_output_round_1 = squash(weighted_sum, axis=-2,\n",
        "                              name=\"kaps2_wyjscie_runda_1\")"
      ],
      "execution_count": 0,
      "outputs": []
    },
    {
      "cell_type": "code",
      "metadata": {
        "id": "2x2-faoUiG-y",
        "colab_type": "code",
        "colab": {
          "base_uri": "https://localhost:8080/",
          "height": 34
        },
        "outputId": "edb7b357-d4e0-48eb-e57d-7424e6ff4edb"
      },
      "source": [
        "caps2_output_round_1"
      ],
      "execution_count": 27,
      "outputs": [
        {
          "output_type": "execute_result",
          "data": {
            "text/plain": [
              "<tf.Tensor 'kaps2_wyjscie_runda_1/mul:0' shape=(?, 1, 10, 16, 1) dtype=float32>"
            ]
          },
          "metadata": {
            "tags": []
          },
          "execution_count": 27
        }
      ]
    },
    {
      "cell_type": "markdown",
      "metadata": {
        "id": "uMW-E_1viG-z",
        "colab_type": "text"
      },
      "source": [
        "Dobrze! Zgodnie z oczekiwaniami otrzymujemy 10 szesnastowymiarowych wektorów wyjściowych dla każdego przykładu."
      ]
    },
    {
      "cell_type": "markdown",
      "metadata": {
        "id": "6VOjuuLbiG-0",
        "colab_type": "text"
      },
      "source": [
        "### Runda 2."
      ]
    },
    {
      "cell_type": "markdown",
      "metadata": {
        "id": "bzRXTxmGiG-0",
        "colab_type": "text"
      },
      "source": [
        "Sprawdźmy najpierw, jak blisko każdy wektor prognozowany $\\hat{\\mathbf{u}}_{j|i}$ znajduje się rzeczywistego wektora wynikowego $\\mathbf{v}_j$ poprzez obliczenie ich iloczynu skalarnego $\\hat{\\mathbf{u}}_{j|i} \\cdot \\mathbf{v}_j$."
      ]
    },
    {
      "cell_type": "markdown",
      "metadata": {
        "id": "j48tiwVJiG-1",
        "colab_type": "text"
      },
      "source": [
        "* Krótka powtórka z matematyki: jeżeli $\\vec{a}$ i $\\vec{b}$ są dwoma wektorami o takiej samej długości, a $\\mathbf{a}$ i $\\mathbf{b}$ stanowią odpowiadające im wektory kolumnowe (tj. jednokolumnowe macierze), to $\\mathbf{a}^T \\mathbf{b}$ (czyli iloczyn macierzowy macierzy transponowanej $\\mathbf{a}$ i $\\mathbf{b}$) tworzy macierz 1×1 zawierającą iloczyn skalarny obydwu wektorów $\\vec{a}\\cdot\\vec{b}$. W uczeniu maszynowym zazwyczaj reprezentujemy wektory jako wektory kolumnowe, zatem gdy mówimy o obliczeniu iloczynu skalarnego $\\hat{\\mathbf{u}}_{j|i} \\cdot \\mathbf{v}_j$ mamy na myśli obliczenie ${\\hat{\\mathbf{u}}_{j|i}}^T \\mathbf{v}_j$."
      ]
    },
    {
      "cell_type": "markdown",
      "metadata": {
        "id": "BuCcefO-iG-1",
        "colab_type": "text"
      },
      "source": [
        "Musimy obliczyć iloczyn skalarny $\\hat{\\mathbf{u}}_{j|i} \\cdot \\mathbf{v}_j$ dla każdego przykładu i dla każdej pary kapsuł $(i, j)$ z pierwszej i drugiej warstwy, dlatego ponownie wykorzystamy fakt, że funkcja `tf.matmul()` może mnożyć wiele macierzy jednocześnie. Z tego powodu będziemy musieli użyć funkcji `tf.tile()`, aby dopasować wszystkie wymiary (oprócz dwóch ostatnich) tak samo, jak robiliśmy to wcześniej. Sprawdźmy więc wymiary macierzy `kaps2_prognozowane`, która zawiera wszystkie wektory prognozowanego wyniku $\\hat{\\mathbf{u}}_{j|i}$ dla każdego przykładu i każdej pary kapsuł:"
      ]
    },
    {
      "cell_type": "code",
      "metadata": {
        "id": "DOTkQpgtiG-2",
        "colab_type": "code",
        "colab": {
          "base_uri": "https://localhost:8080/",
          "height": 34
        },
        "outputId": "53a90504-d087-4cc9-8af9-efa271ed60ab"
      },
      "source": [
        "caps2_predicted"
      ],
      "execution_count": 28,
      "outputs": [
        {
          "output_type": "execute_result",
          "data": {
            "text/plain": [
              "<tf.Tensor 'kaps2_prognozowane:0' shape=(?, 1152, 10, 16, 1) dtype=float32>"
            ]
          },
          "metadata": {
            "tags": []
          },
          "execution_count": 28
        }
      ]
    },
    {
      "cell_type": "markdown",
      "metadata": {
        "id": "UJagjRXfiG-3",
        "colab_type": "text"
      },
      "source": [
        "A teraz sprawdźmy wymiary `kaps2_wyjscie_runda_1`, gdzie znajdziemy 10 szesnastowymiarowych wektorów wyjściowych dla każdego przykładu:"
      ]
    },
    {
      "cell_type": "code",
      "metadata": {
        "id": "_QYoHvyHiG-4",
        "colab_type": "code",
        "colab": {
          "base_uri": "https://localhost:8080/",
          "height": 34
        },
        "outputId": "a38cd3f2-56f1-4c00-904f-0d5bdeefb3ff"
      },
      "source": [
        "caps2_output_round_1"
      ],
      "execution_count": 29,
      "outputs": [
        {
          "output_type": "execute_result",
          "data": {
            "text/plain": [
              "<tf.Tensor 'kaps2_wyjscie_runda_1/mul:0' shape=(?, 1, 10, 16, 1) dtype=float32>"
            ]
          },
          "metadata": {
            "tags": []
          },
          "execution_count": 29
        }
      ]
    },
    {
      "cell_type": "markdown",
      "metadata": {
        "id": "NyMFh-CiiG-6",
        "colab_type": "text"
      },
      "source": [
        "Aby wymiary te były dopasowane, musimy jedynie wzdłuż drugiego wymiaru umieścić tablicę `kaps2_wyjscie_runda_1` 1152 razy (po jednym razie na każdą kapsułę główną):"
      ]
    },
    {
      "cell_type": "code",
      "metadata": {
        "id": "eo3ObGi-iG-7",
        "colab_type": "code",
        "colab": {}
      },
      "source": [
        "caps2_output_round_1_tiled = tf.tile(\n",
        "    caps2_output_round_1, [1, caps1_n_caps, 1, 1, 1],\n",
        "    name=\"kaps2_wyjscie_runda_1_podzielone\")"
      ],
      "execution_count": 0,
      "outputs": []
    },
    {
      "cell_type": "markdown",
      "metadata": {
        "id": "PMUQOqnpiG-9",
        "colab_type": "text"
      },
      "source": [
        "Jesteśmy już gotowi do wywłania funkcji `tf.matmul()` (zwróć uwagę, że w pierwszej tablicy należy transponować macierze, aby otrzymać ${\\hat{\\mathbf{u}}_{j|i}}^T$ zamiast $\\hat{\\mathbf{u}}_{j|i}$):"
      ]
    },
    {
      "cell_type": "code",
      "metadata": {
        "id": "kToC3TW0iG--",
        "colab_type": "code",
        "colab": {}
      },
      "source": [
        "agreement = tf.matmul(caps2_predicted, caps2_output_round_1_tiled,\n",
        "                      transpose_a=True, name=\"zgoda\")"
      ],
      "execution_count": 0,
      "outputs": []
    },
    {
      "cell_type": "markdown",
      "metadata": {
        "id": "DsIdW3HViG-_",
        "colab_type": "text"
      },
      "source": [
        "Możemy teraz zaktualizować \"surowe\" wagi trasowania $b_{i,j}$ poprzez dodanie dopiero co obliczonego iloczynu skalarnego $\\hat{\\mathbf{u}}_{j|i} \\cdot \\mathbf{v}_j$, czyli: $b_{i,j} \\gets b_{i,j} + \\hat{\\mathbf{u}}_{j|i} \\cdot \\mathbf{v}_j$ (zob. procedura 1., etap 7. w artykule)."
      ]
    },
    {
      "cell_type": "code",
      "metadata": {
        "id": "ucU8Pnx4iG_A",
        "colab_type": "code",
        "colab": {}
      },
      "source": [
        "raw_weights_round_2 = tf.add(raw_weights, agreement,\n",
        "                             name=\"wagi_surowe_runda_2\")"
      ],
      "execution_count": 0,
      "outputs": []
    },
    {
      "cell_type": "markdown",
      "metadata": {
        "id": "RNiesob4iG_C",
        "colab_type": "text"
      },
      "source": [
        "Pozostała część rundy 2. wygląda tak samo, jak runda 1.:"
      ]
    },
    {
      "cell_type": "code",
      "metadata": {
        "id": "fT7zv39KiG_C",
        "colab_type": "code",
        "colab": {}
      },
      "source": [
        "routing_weights_round_2 = tf.nn.softmax(raw_weights_round_2,\n",
        "                                        dim=2,\n",
        "                                        name=\"wagi_trasowania_runda_2\")\n",
        "weighted_predictions_round_2 = tf.multiply(routing_weights_round_2,\n",
        "                                           caps2_predicted,\n",
        "                                           name=\"prognozy_wazone_runda_2\")\n",
        "weighted_sum_round_2 = tf.reduce_sum(weighted_predictions_round_2,\n",
        "                                     axis=1, keep_dims=True,\n",
        "                                     name=\"suma_wazona_runda_2\")\n",
        "caps2_output_round_2 = squash(weighted_sum_round_2,\n",
        "                              axis=-2,\n",
        "                              name=\"kaps2_wyjscie_runda_2\")"
      ],
      "execution_count": 0,
      "outputs": []
    },
    {
      "cell_type": "markdown",
      "metadata": {
        "id": "zvaJjvwriG_E",
        "colab_type": "text"
      },
      "source": [
        "Moglibyśmy zrealizować jeszcze kilka dodatkowych rund (wystarczy powatrzać dokładnie te same czynności, co w rundzie 2.), ale nie będziemy przedłużyć, dlatego ograniczymy się do dwóch rund: "
      ]
    },
    {
      "cell_type": "code",
      "metadata": {
        "id": "eKPm4iIEiG_E",
        "colab_type": "code",
        "colab": {}
      },
      "source": [
        "caps2_output = caps2_output_round_2"
      ],
      "execution_count": 0,
      "outputs": []
    },
    {
      "cell_type": "markdown",
      "metadata": {
        "id": "ZXLr6iP7iG_G",
        "colab_type": "text"
      },
      "source": [
        "### Pętla statyczna czy dynamiczna?"
      ]
    },
    {
      "cell_type": "markdown",
      "metadata": {
        "id": "uaeY2EIaiG_G",
        "colab_type": "text"
      },
      "source": [
        "W powyższym kodzie stworzyliśmy różne operacje w grafie TensorFlow dla każdej rundy trasowania za pomocą algorytmu zgody. Inaczej mówiąc, mamy tu do czynienia z pętlą statyczną.\n",
        "\n",
        "Jasne, moglibyśmy nie trudzić się z kilkukrotnym kopiowaniem i wklejaniem kodu, a zamiast tego stworzyć pętlę `for` w Pythonie, nie zmieniłoby to jednak faktu, że ostatecznie w grafie tak czy siak pojawiłyby się różne operacje dla poszczególnych iteracji trasowania. Zasadniczo nic nie szkodzi, ponieważ zazwyczaj nie używamy więcej, niż pięciu iteracji trasowania, dzięki czemu graf nie będzie bardzo rozbudowany.\n",
        "\n",
        "Możesz jednak chcieć zaimplementować pętlę trasowania wewnątrz samego grafu TensorFlow, zamiast korzystać z pętli `for` Pythona. W tym celu musisz skorzystać z funkcji `tf.while_loop()`, W ten sposób wszystkie iteracje trasowania będą wielokrotnie korzystać z tych samych operacji grafu i uzyskalibyśmy w ten sposób pętlę dynamiczną.\n",
        "\n",
        "Na przykład, poniżej prezentuję strukturę małej pętli, obliczające sumę kwadratów od 1 do 100: "
      ]
    },
    {
      "cell_type": "code",
      "metadata": {
        "id": "anI3aguYiG_G",
        "colab_type": "code",
        "colab": {
          "base_uri": "https://localhost:8080/",
          "height": 34
        },
        "outputId": "0330dbaf-a584-4bcd-9258-d3af1fb7ecb8"
      },
      "source": [
        "def condition(input, counter):\n",
        "    return tf.less(counter, 100)\n",
        "\n",
        "def loop_body(input, counter):\n",
        "    output = tf.add(input, tf.square(counter))\n",
        "    return output, tf.add(counter, 1)\n",
        "\n",
        "with tf.name_scope(\"oblicza_sume_kwadratow\"):\n",
        "    counter = tf.constant(1)\n",
        "    sum_of_squares = tf.constant(0)\n",
        "\n",
        "    result = tf.while_loop(condition, loop_body, [sum_of_squares, counter])\n",
        "    \n",
        "\n",
        "with tf.Session() as sess:\n",
        "    print(sess.run(result))"
      ],
      "execution_count": 35,
      "outputs": [
        {
          "output_type": "stream",
          "text": [
            "(328350, 100)\n"
          ],
          "name": "stdout"
        }
      ]
    },
    {
      "cell_type": "markdown",
      "metadata": {
        "id": "q4w5BdGYiG_I",
        "colab_type": "text"
      },
      "source": [
        "Jak widać, funkcja `tf.while_loop()` oczekuje, że warunek pętli i jej ciało zostaną dostarczone _za pomocą_ dwóch funkcji. Funkcje te zostaną wywołane tylko raz przez moduł TensorFlow, w trakcie konstruowania grafu, a _nie_ jego realizowania. Funkcja `tf.while_loop()` łączy fragmenty grafu utworzone przez funkcje `condition()` i `loop_body()` z dodatkowymi operacjami tworzenia pętli.\n",
        "\n",
        "Zwróć także uwagę, że podczas uczenia moduł TensorFlow będzie automagicznie zajmował się propagacją wsteczną w czasie wykonywania pętli, zatem nie musisz martwić się tą kwestią."
      ]
    },
    {
      "cell_type": "markdown",
      "metadata": {
        "id": "4M1SD5coiG_I",
        "colab_type": "text"
      },
      "source": [
        "Oczywiście, moglibyśmy uzyskać ten sam rezultat za pomocą jednego wiersza kodu! ;-)"
      ]
    },
    {
      "cell_type": "code",
      "metadata": {
        "id": "wYLQ2tzxiG_I",
        "colab_type": "code",
        "colab": {
          "base_uri": "https://localhost:8080/",
          "height": 34
        },
        "outputId": "c290f203-5fc5-42ca-aa5e-fc15600bde1c"
      },
      "source": [
        "sum([i**2 for i in range(1, 100 + 1)])"
      ],
      "execution_count": 36,
      "outputs": [
        {
          "output_type": "execute_result",
          "data": {
            "text/plain": [
              "338350"
            ]
          },
          "metadata": {
            "tags": []
          },
          "execution_count": 36
        }
      ]
    },
    {
      "cell_type": "markdown",
      "metadata": {
        "id": "1qhv0OnniG_K",
        "colab_type": "text"
      },
      "source": [
        "Żarty na bok. Dzięki pętli dynamicznej nie tylko możemy zmniejszyć rozmiar grafu, lecz także ograniczyć zużycie pamięci operacyjnej karty graficznej (jeżeli z niej korzystasz). Istotnie, jeśli wyznaczysz `swap_memory=True` podczas wywoływania funkcji `tf.while_loop()`, moduł TensorFlow automagicznie sprawdzi wykorzystanie pamięci RAM karty graficznej w każdej iteracji pętli i w razie potrzeby zajmuje się przenoszeniem danych pomięci pamięcią operacyjną karty graficznej a główną pamięcią RAM. Główna pamięć swobodnego dostępu jest znacznie tańsza i powszechniejsza od pamięci operacyjnej jednostki GPU, dlatego rozwiązanie to może naprawdę zrobić różnicę."
      ]
    },
    {
      "cell_type": "markdown",
      "metadata": {
        "id": "MXhyPGKViG_K",
        "colab_type": "text"
      },
      "source": [
        "# Szacowane prawdopodobieństwa przynależności do klas (Długość)"
      ]
    },
    {
      "cell_type": "markdown",
      "metadata": {
        "id": "qzCdx4JhiG_L",
        "colab_type": "text"
      },
      "source": [
        "Długości wektorów wyjściowych reprezentują prawdopodobieństwa przynależności do klas, dlatego moglibyśmy użyć funkcji `tf.norm()` do ich obliczenia, ale jak już wiemy z opisu funkcji \"zgniatania\", byłoby to ryzykowne rozwiązanie, dlatego stworzymy własną funkcję `safe_norm()`:"
      ]
    },
    {
      "cell_type": "code",
      "metadata": {
        "id": "id_Fp3cziG_L",
        "colab_type": "code",
        "colab": {}
      },
      "source": [
        "def safe_norm(s, axis=-1, epsilon=1e-7, keep_dims=False, name=None):\n",
        "    with tf.name_scope(name, default_name=\"safe_norm\"):\n",
        "        squared_norm = tf.reduce_sum(tf.square(s), axis=axis,\n",
        "                                     keep_dims=keep_dims)\n",
        "        return tf.sqrt(squared_norm + epsilon)"
      ],
      "execution_count": 0,
      "outputs": []
    },
    {
      "cell_type": "code",
      "metadata": {
        "id": "mq_ME5uCiG_O",
        "colab_type": "code",
        "colab": {}
      },
      "source": [
        "y_proba = safe_norm(caps2_output, axis=-2, name=\"y_prawd\")"
      ],
      "execution_count": 0,
      "outputs": []
    },
    {
      "cell_type": "markdown",
      "metadata": {
        "id": "R5L3WjE7iG_P",
        "colab_type": "text"
      },
      "source": [
        "Aby przewidzieć przynależność każdego przykładu do którejś klasy, wystarczy wybrać klasę o największym oszacowanym prawdopodobieństwie. W tym celu określmy jej indeks za pomocą funkcji `tf.argmax()`:"
      ]
    },
    {
      "cell_type": "code",
      "metadata": {
        "id": "MPkFdFmfiG_P",
        "colab_type": "code",
        "colab": {}
      },
      "source": [
        "y_proba_argmax = tf.argmax(y_proba, axis=2, name=\"y_prawd\")"
      ],
      "execution_count": 0,
      "outputs": []
    },
    {
      "cell_type": "markdown",
      "metadata": {
        "id": "3-Wdo4lKiG_Q",
        "colab_type": "text"
      },
      "source": [
        "Sprawdźmy wymiary `y_proba_argmax`:"
      ]
    },
    {
      "cell_type": "code",
      "metadata": {
        "id": "t-LGJ_wUiG_R",
        "colab_type": "code",
        "colab": {
          "base_uri": "https://localhost:8080/",
          "height": 34
        },
        "outputId": "f8c0abb4-4e8e-42f6-9378-8f76ff817ebb"
      },
      "source": [
        "y_proba_argmax"
      ],
      "execution_count": 40,
      "outputs": [
        {
          "output_type": "execute_result",
          "data": {
            "text/plain": [
              "<tf.Tensor 'y_prawd_1:0' shape=(?, 1, 1) dtype=int64>"
            ]
          },
          "metadata": {
            "tags": []
          },
          "execution_count": 40
        }
      ]
    },
    {
      "cell_type": "markdown",
      "metadata": {
        "id": "jgMn6WzfiG_T",
        "colab_type": "text"
      },
      "source": [
        "Właśnie o to nam chodziło: dla każdego przykładdu otrzymujemy indeks najdłuższego wektora wyjściowego. Usuńmy dwa ostatnie wymiary za pomocą funkcji `tf.squeeze()`, która usuwa wymiary o rozmiarze 1. Dzięki temu uzyskujemy prognozowaną klasę dla każdego przykładu:"
      ]
    },
    {
      "cell_type": "code",
      "metadata": {
        "id": "kdmilhlOiG_U",
        "colab_type": "code",
        "colab": {}
      },
      "source": [
        "y_pred = tf.squeeze(y_proba_argmax, axis=[1,2], name=\"y_pred\")"
      ],
      "execution_count": 0,
      "outputs": []
    },
    {
      "cell_type": "code",
      "metadata": {
        "id": "xoC57OsEiG_V",
        "colab_type": "code",
        "colab": {
          "base_uri": "https://localhost:8080/",
          "height": 34
        },
        "outputId": "5fe4fc11-ea38-47c0-b530-a4eb45ae79ee"
      },
      "source": [
        "y_pred"
      ],
      "execution_count": 42,
      "outputs": [
        {
          "output_type": "execute_result",
          "data": {
            "text/plain": [
              "<tf.Tensor 'y_pred:0' shape=(?,) dtype=int64>"
            ]
          },
          "metadata": {
            "tags": []
          },
          "execution_count": 42
        }
      ]
    },
    {
      "cell_type": "markdown",
      "metadata": {
        "id": "ZkQnyqhoiG_X",
        "colab_type": "text"
      },
      "source": [
        "W porządku, jesteśmy już gotowi do zdefiniowania operacji uczenia, począwszy od funkcji straty."
      ]
    },
    {
      "cell_type": "markdown",
      "metadata": {
        "id": "N-9KY2GFiG_X",
        "colab_type": "text"
      },
      "source": [
        "# Etykiety"
      ]
    },
    {
      "cell_type": "markdown",
      "metadata": {
        "id": "MYp7nE66iG_X",
        "colab_type": "text"
      },
      "source": [
        "Najpierw musimy zdefiniować węzeł zastępczy dla etykiet: "
      ]
    },
    {
      "cell_type": "code",
      "metadata": {
        "id": "DXTSbfDriG_Y",
        "colab_type": "code",
        "colab": {}
      },
      "source": [
        "y = tf.placeholder(shape=[None], dtype=tf.int64, name=\"y\")"
      ],
      "execution_count": 0,
      "outputs": []
    },
    {
      "cell_type": "markdown",
      "metadata": {
        "id": "Z52vJJeLiG_a",
        "colab_type": "text"
      },
      "source": [
        "# Funkcja straty marginesu"
      ]
    },
    {
      "cell_type": "markdown",
      "metadata": {
        "id": "gXYq4CiUiG_b",
        "colab_type": "text"
      },
      "source": [
        "W artykule zdefiniowano specjalną funkcję straty marginesu, dzięki któremu możliwe jest wykrywanie co najmniej dwóch różnych cyfr na każdym obrazie:\n",
        "\n",
        "$ L_k = T_k \\max(0, m^{+} - \\|\\mathbf{v}_k\\|)^2 + \\lambda (1 - T_k) \\max(0, \\|\\mathbf{v}_k\\| - m^{-})^2$\n",
        "\n",
        "* $T_k$ jest równe 1, jeżeli cyfra klasy $k$ jest obecna, w przeciwnym razie ma wartość 0.\n",
        "* W artykule, $m^{+} = 0,9$, $m^{-} = 0,1$ i $\\lambda = 0,5$.\n",
        "* Zwróć uwagę, że w zaprezentowanym filmie pojawił się błąd (w czasie 15:47): pierwiastkowane są operacje maksymalizacji, nie normy. Przepraszam."
      ]
    },
    {
      "cell_type": "code",
      "metadata": {
        "id": "LjhXOLO0iG_b",
        "colab_type": "code",
        "colab": {}
      },
      "source": [
        "m_plus = 0.9\n",
        "m_minus = 0.1\n",
        "lambda_ = 0.5"
      ],
      "execution_count": 0,
      "outputs": []
    },
    {
      "cell_type": "markdown",
      "metadata": {
        "id": "fkAmAT__iG_c",
        "colab_type": "text"
      },
      "source": [
        "Węzeł `y` będzie zawierał klasy poszczególnych cyfr, od 0 do 9, co pozwoli uzyskać $T_k$ dla każdego przykładu i każdej klasy, zatem wystarczy skorzystać z funkcji `tf.one_hot()`:"
      ]
    },
    {
      "cell_type": "code",
      "metadata": {
        "id": "OcEH4RXgiG_c",
        "colab_type": "code",
        "colab": {}
      },
      "source": [
        "T = tf.one_hot(y, depth=caps2_n_caps, name=\"T\")"
      ],
      "execution_count": 0,
      "outputs": []
    },
    {
      "cell_type": "markdown",
      "metadata": {
        "id": "nLdODgg7iG_e",
        "colab_type": "text"
      },
      "source": [
        "Zobaczmy na małym przykładzie, co w osiągamy w ten sposób:"
      ]
    },
    {
      "cell_type": "code",
      "metadata": {
        "id": "anxmssQiiG_e",
        "colab_type": "code",
        "colab": {
          "base_uri": "https://localhost:8080/",
          "height": 102
        },
        "outputId": "3b16fb6a-79f4-404c-cd5d-ba35d6899ca1"
      },
      "source": [
        "with tf.Session():\n",
        "    print(T.eval(feed_dict={y: np.array([0, 1, 2, 3, 9])}))"
      ],
      "execution_count": 46,
      "outputs": [
        {
          "output_type": "stream",
          "text": [
            "[[1. 0. 0. 0. 0. 0. 0. 0. 0. 0.]\n",
            " [0. 1. 0. 0. 0. 0. 0. 0. 0. 0.]\n",
            " [0. 0. 1. 0. 0. 0. 0. 0. 0. 0.]\n",
            " [0. 0. 0. 1. 0. 0. 0. 0. 0. 0.]\n",
            " [0. 0. 0. 0. 0. 0. 0. 0. 0. 1.]]\n"
          ],
          "name": "stdout"
        }
      ]
    },
    {
      "cell_type": "markdown",
      "metadata": {
        "id": "cyg2iEA1iG_g",
        "colab_type": "text"
      },
      "source": [
        "Obliczmy teraz normę wektora wyjściowego dla każdej kapsuły wynikowej i dla każdego przykładu. Najpierw zweryfikujmy wymiary `kaps2_wyjscie`:"
      ]
    },
    {
      "cell_type": "code",
      "metadata": {
        "id": "ftYlfkDTiG_h",
        "colab_type": "code",
        "colab": {
          "base_uri": "https://localhost:8080/",
          "height": 34
        },
        "outputId": "df2af993-ab84-409b-949d-dbdf0776e49b"
      },
      "source": [
        "caps2_output"
      ],
      "execution_count": 47,
      "outputs": [
        {
          "output_type": "execute_result",
          "data": {
            "text/plain": [
              "<tf.Tensor 'kaps2_wyjscie_runda_2/mul:0' shape=(?, 1, 10, 16, 1) dtype=float32>"
            ]
          },
          "metadata": {
            "tags": []
          },
          "execution_count": 47
        }
      ]
    },
    {
      "cell_type": "markdown",
      "metadata": {
        "id": "NONeBiTTiG_i",
        "colab_type": "text"
      },
      "source": [
        "Szesnastowymairowe wektory wyjściowe mieszczą się w wymiarach od drugiego do ostatniego, dlatego możemy użyć funkcji `safe_norm()` z atrybutem `axis=-2`:"
      ]
    },
    {
      "cell_type": "code",
      "metadata": {
        "id": "2Xr7CqoPiG_j",
        "colab_type": "code",
        "colab": {}
      },
      "source": [
        "caps2_output_norm = safe_norm(caps2_output, axis=-2, keep_dims=True,\n",
        "                              name=\"kaps2_wyjscie_norm\")"
      ],
      "execution_count": 0,
      "outputs": []
    },
    {
      "cell_type": "markdown",
      "metadata": {
        "id": "2PuuJ1uuiG_k",
        "colab_type": "text"
      },
      "source": [
        "Obliczmy teraz $\\max(0, m^{+} - \\|\\mathbf{v}_k\\|)^2$ i przekształćmy wynik tak, aby otrzymać prostą macierz o wymiarach (_rozmiar grupy_, 10):"
      ]
    },
    {
      "cell_type": "code",
      "metadata": {
        "id": "EDLlo1UniG_n",
        "colab_type": "code",
        "colab": {}
      },
      "source": [
        "present_error_raw = tf.square(tf.maximum(0., m_plus - caps2_output_norm),\n",
        "                              name=\"obecny_blad_surowy\")\n",
        "present_error = tf.reshape(present_error_raw, shape=(-1, 10),\n",
        "                           name=\"obecny_blad\")"
      ],
      "execution_count": 0,
      "outputs": []
    },
    {
      "cell_type": "markdown",
      "metadata": {
        "id": "_etWkRz2iG_p",
        "colab_type": "text"
      },
      "source": [
        "Następnie obliczmy $\\max(0, \\|\\mathbf{v}_k\\| - m^{-})^2$ i również przekształćmy wynik:"
      ]
    },
    {
      "cell_type": "code",
      "metadata": {
        "id": "AtG-zzBQiG_p",
        "colab_type": "code",
        "colab": {}
      },
      "source": [
        "absent_error_raw = tf.square(tf.maximum(0., caps2_output_norm - m_minus),\n",
        "                             name=\"nieobecny_blad_surowy\")\n",
        "absent_error = tf.reshape(absent_error_raw, shape=(-1, 10),\n",
        "                          name=\"nieobecny_blad\")"
      ],
      "execution_count": 0,
      "outputs": []
    },
    {
      "cell_type": "markdown",
      "metadata": {
        "id": "a6DOWAggiG_r",
        "colab_type": "text"
      },
      "source": [
        "Możemy teraz obliczyć funkcję straty dla każdego przykładu i dla każdej cyfry:"
      ]
    },
    {
      "cell_type": "code",
      "metadata": {
        "id": "x_rL0-qriG_r",
        "colab_type": "code",
        "colab": {}
      },
      "source": [
        "L = tf.add(T * present_error, lambda_ * (1.0 - T) * absent_error,\n",
        "           name=\"L\")"
      ],
      "execution_count": 0,
      "outputs": []
    },
    {
      "cell_type": "markdown",
      "metadata": {
        "id": "XWdYp8_diG_t",
        "colab_type": "text"
      },
      "source": [
        "Teraz jesteśmy w stanie obliczyć funkcje straty cyfr dla każdego przykładu ($L_0 + L_1 + \\cdots + L_9$) i obliczyć średnią dla wszystkich przykładów. Uzyskamy w ten sposób końcową funkcję straty marginesu:"
      ]
    },
    {
      "cell_type": "code",
      "metadata": {
        "id": "pgQkujimiG_t",
        "colab_type": "code",
        "colab": {}
      },
      "source": [
        "margin_loss = tf.reduce_mean(tf.reduce_sum(L, axis=1), name=\"f_straty_marginesu\")"
      ],
      "execution_count": 0,
      "outputs": []
    },
    {
      "cell_type": "markdown",
      "metadata": {
        "id": "tp1L1jMCiG_u",
        "colab_type": "text"
      },
      "source": [
        "# Rekonstrukcja"
      ]
    },
    {
      "cell_type": "markdown",
      "metadata": {
        "id": "3YM7qLmpiG_v",
        "colab_type": "text"
      },
      "source": [
        "Dodajmy teraz sieć dekodera ponad siecią kapsułową. Jest to standardowa, trójwarstwowa w pełni połączona sieć neuronowa, która nauczy się rekonstruować obrazy wejściowe na podstawie wyniku sieci kapsułowej. W ten sposób sieć kapsułowa będzie musiała zachowywać w całej sieci wszystkie informacje niezbędne do rekonstruowania cyfr. Ograniczenie to stanowi regularyzator modelu: zmniejsza ryzyko przetrenowania za pomocą zbioru uczącego i pomaga w uogólnianiu prognozowania nowych cyfr."
      ]
    },
    {
      "cell_type": "markdown",
      "metadata": {
        "id": "oJwVB_zviG_v",
        "colab_type": "text"
      },
      "source": [
        "## Maska"
      ]
    },
    {
      "cell_type": "markdown",
      "metadata": {
        "id": "rf_w261viG_v",
        "colab_type": "text"
      },
      "source": [
        "Autorzy wspominają w artykule, że podczas uczenia nie należy przesyłać wszystkich wyników sieci kapsułowej do sieci dekodera, lecz wysyłać jedynie wektor wyników odpowiadający cyfrze docelowej. Wszystkie pozostałe wektory wyjściowe należy zamaskować. W fazie wnioskowania musimy maskować wszystkie wektory wyjściowe oprócz najdłuższego, czyli odpowiadającego prognozowanej cyfrze. Widać to w artykule na rysunku 2. (czas 18.15 na filmie): niemal wszystkie wektory wyjściowe są zamaskowane, jedynym wyjątkiem jest wektor wyjściowy celu rekonstrukcji."
      ]
    },
    {
      "cell_type": "markdown",
      "metadata": {
        "id": "QM5KXn7WiG_w",
        "colab_type": "text"
      },
      "source": [
        "Potrzebny jest nam węzeł zastępczy, dzięki któemu moduł TensorFlow będzie maskował wektory wyjściowe na podstawie etykiet (`True`) lub prognoz (`False`, domyślna wartość):"
      ]
    },
    {
      "cell_type": "code",
      "metadata": {
        "id": "gfUiI8BKiG_w",
        "colab_type": "code",
        "colab": {}
      },
      "source": [
        "mask_with_labels = tf.placeholder_with_default(False, shape=(),\n",
        "                                               name=\"maski_z_etykietami\")"
      ],
      "execution_count": 0,
      "outputs": []
    },
    {
      "cell_type": "markdown",
      "metadata": {
        "id": "PuqdesQGiG_x",
        "colab_type": "text"
      },
      "source": [
        "Zdefiniujmy teraz za pomocą funkcji `tf.cond()` cele rekonstrukcji jako etykiety `y` jeżeli `maska_z_etykietami` ma wartość `True`, lub w przeciwnym wypadku etykiety `y_pred`."
      ]
    },
    {
      "cell_type": "code",
      "metadata": {
        "id": "TxlOLGwkiG_z",
        "colab_type": "code",
        "colab": {}
      },
      "source": [
        "reconstruction_targets = tf.cond(mask_with_labels, # warunek\n",
        "                                 lambda: y,        # jeśli True\n",
        "                                 lambda: y_pred,   # jeśli False\n",
        "                                 name=\"cele_rekonstrukcji\")"
      ],
      "execution_count": 0,
      "outputs": []
    },
    {
      "cell_type": "markdown",
      "metadata": {
        "id": "CwjGCPuciG_0",
        "colab_type": "text"
      },
      "source": [
        "Zwróć uwagę, że funkcja `tf.cond()` oczekuje, że tensory if-True i if-False zostaną przekazane _przez_ funkcje: zostaną one wywołane tylko raz w fazie konstruowania grafu (nie w fazie jego realizowania), podobnie jak miało to miejsce w przypadku funkcji `tf.while_loop()`. Dzięki temu moduł TensorFlow może dodać niezbędne operacje realizujące instrukcje warunkowe, w których wykorzystywane są tensory if-True oraz if-False. W naszym przypadku jednak tensory `y` i `y_pred` już istnieją w momencie wywołania funkcji `tf.cond()`, więc, niestety, moduł TensorFlow będzie traktował zarówno `y`, jak i `y_pred` jako elementy zależne tensora `cele_rekonstrukcji`. Tensor ten będzie miał właściwą wartość, ale:\n",
        "1. Za każdym razem, gdy obliczamy tensor zależny od tensora `cele_rekonstrukcji`, zostanie obliczony tensor `y_pred` (nawet jeśli wartość `maska_z_warstwami` to `True`). Nie jest to duży problem, ponieważ obliczanie `y_pred` nie wprowadza dodatkowego obciążenia obliczeniowego w czasie uczenia, gdyż tak czy inaczej potrzebujemy go do obliczenia funkcji straty marginesu. Natomiast w czasie testowania, jeżeli przeprowadzamy klasyfikację, nie będziemy potrzebowali rekonstrukcji, więc tensor `cele_rekonstrukcji` wcale nie będzie potrzebny.\n",
        "2. Będziemy musieli zawsze dostarczać wartość do węzła zastępczego `y` (nawet jeśli `maska_z_warstwami` ma wartość `False`). Jest to nieco irytujące, ale możemy przekazać pustą tablicę, ponieważ moduł TensorFlow i tak nie będzie z niej korzystał (po prostu jeszcze o tym nie wie podczas sprawdzania zależności)."
      ]
    },
    {
      "cell_type": "markdown",
      "metadata": {
        "id": "CP3FvRNLiG_0",
        "colab_type": "text"
      },
      "source": [
        "Gdy już mamy cele rekonstrukcji, możemy stworzyć maskę rekonstrukcji dla każdego przykładu. Powinna być równa 1,0 dla klasy docelowej i 0,0 dla pozostałych klas. W tym celu wystarczy użyć funkcji `tf.one_hot()`:"
      ]
    },
    {
      "cell_type": "code",
      "metadata": {
        "id": "yC-5GJ7siG_0",
        "colab_type": "code",
        "colab": {}
      },
      "source": [
        "reconstruction_mask = tf.one_hot(reconstruction_targets,\n",
        "                                 depth=caps2_n_caps,\n",
        "                                 name=\"maska_rekonstrukcji\")"
      ],
      "execution_count": 0,
      "outputs": []
    },
    {
      "cell_type": "markdown",
      "metadata": {
        "id": "y2_73TwiiG_2",
        "colab_type": "text"
      },
      "source": [
        "Sprawdźmy wymiary maski rekonstrukcji:"
      ]
    },
    {
      "cell_type": "code",
      "metadata": {
        "id": "1w5B12SmiG_2",
        "colab_type": "code",
        "colab": {
          "base_uri": "https://localhost:8080/",
          "height": 34
        },
        "outputId": "9e20e2b0-c173-4260-b81e-79d047bc3bd1"
      },
      "source": [
        "reconstruction_mask"
      ],
      "execution_count": 56,
      "outputs": [
        {
          "output_type": "execute_result",
          "data": {
            "text/plain": [
              "<tf.Tensor 'maska_rekonstrukcji:0' shape=(?, 10) dtype=float32>"
            ]
          },
          "metadata": {
            "tags": []
          },
          "execution_count": 56
        }
      ]
    },
    {
      "cell_type": "markdown",
      "metadata": {
        "id": "40cAMlC1iG_3",
        "colab_type": "text"
      },
      "source": [
        "Porównajmy ją z wymiarami `kaps2_wyjscie`:"
      ]
    },
    {
      "cell_type": "code",
      "metadata": {
        "id": "5cVwhGULiG_4",
        "colab_type": "code",
        "colab": {
          "base_uri": "https://localhost:8080/",
          "height": 34
        },
        "outputId": "cda0bbb1-6fa0-4f83-d7d5-fdfd66f8ed59"
      },
      "source": [
        "caps2_output"
      ],
      "execution_count": 57,
      "outputs": [
        {
          "output_type": "execute_result",
          "data": {
            "text/plain": [
              "<tf.Tensor 'kaps2_wyjscie_runda_2/mul:0' shape=(?, 1, 10, 16, 1) dtype=float32>"
            ]
          },
          "metadata": {
            "tags": []
          },
          "execution_count": 57
        }
      ]
    },
    {
      "cell_type": "markdown",
      "metadata": {
        "id": "lXVdjXWViG_6",
        "colab_type": "text"
      },
      "source": [
        "Jej wymiary to (_rozmiar grupy_, 1, 10, 16, 1). Chcemy pomnożyć ją przez `maska_rekonstrukcji`, której wymiary to (_rozmiar grupy_, 10). Musimy więc przekształcić te wymiary do postaci (_rozmiar grupy_, 1, 10, 1, 1), aby można było przeprowadzić operację mnożenia:"
      ]
    },
    {
      "cell_type": "code",
      "metadata": {
        "id": "bQFucsbciG_6",
        "colab_type": "code",
        "colab": {}
      },
      "source": [
        "reconstruction_mask_reshaped = tf.reshape(\n",
        "    reconstruction_mask, [-1, 1, caps2_n_caps, 1, 1],\n",
        "    name=\"maska_rekonstrukcji_przeksztalcona\")"
      ],
      "execution_count": 0,
      "outputs": []
    },
    {
      "cell_type": "markdown",
      "metadata": {
        "id": "gz_6EPvniG_7",
        "colab_type": "text"
      },
      "source": [
        "Nareszcie! Możemy zastosować maskę:"
      ]
    },
    {
      "cell_type": "code",
      "metadata": {
        "id": "bdX2FGVciG_8",
        "colab_type": "code",
        "colab": {}
      },
      "source": [
        "caps2_output_masked = tf.multiply(\n",
        "    caps2_output, reconstruction_mask_reshaped,\n",
        "    name=\"kaps2_wyjscie_maskowane\")"
      ],
      "execution_count": 0,
      "outputs": []
    },
    {
      "cell_type": "code",
      "metadata": {
        "id": "V8RmUb-FiG_9",
        "colab_type": "code",
        "colab": {
          "base_uri": "https://localhost:8080/",
          "height": 34
        },
        "outputId": "058b4f31-de44-4483-8574-3458abacfa50"
      },
      "source": [
        "caps2_output_masked"
      ],
      "execution_count": 60,
      "outputs": [
        {
          "output_type": "execute_result",
          "data": {
            "text/plain": [
              "<tf.Tensor 'kaps2_wyjscie_maskowane:0' shape=(?, 1, 10, 16, 1) dtype=float32>"
            ]
          },
          "metadata": {
            "tags": []
          },
          "execution_count": 60
        }
      ]
    },
    {
      "cell_type": "markdown",
      "metadata": {
        "id": "6aKEu_UViG_-",
        "colab_type": "text"
      },
      "source": [
        "Przeprowadźmy jeszcze jedną operację przekształcenia, w ktorej spłaszczamy dane wejściowe dekodera:"
      ]
    },
    {
      "cell_type": "code",
      "metadata": {
        "id": "doa23hF0iG__",
        "colab_type": "code",
        "colab": {}
      },
      "source": [
        "decoder_input = tf.reshape(caps2_output_masked,\n",
        "                           [-1, caps2_n_caps * caps2_n_dims],\n",
        "                           name=\"dekoder_wejscie\")"
      ],
      "execution_count": 0,
      "outputs": []
    },
    {
      "cell_type": "markdown",
      "metadata": {
        "id": "-Vfym6m6iHAA",
        "colab_type": "text"
      },
      "source": [
        "Otrzymujemy tablicę o wymiarach (_rozmiar grupy_, 160):"
      ]
    },
    {
      "cell_type": "code",
      "metadata": {
        "id": "HDKKNmi_iHAB",
        "colab_type": "code",
        "colab": {
          "base_uri": "https://localhost:8080/",
          "height": 34
        },
        "outputId": "4c4c48db-82f2-46a3-af1b-1ca2deec5639"
      },
      "source": [
        "decoder_input"
      ],
      "execution_count": 62,
      "outputs": [
        {
          "output_type": "execute_result",
          "data": {
            "text/plain": [
              "<tf.Tensor 'dekoder_wejscie:0' shape=(?, 160) dtype=float32>"
            ]
          },
          "metadata": {
            "tags": []
          },
          "execution_count": 62
        }
      ]
    },
    {
      "cell_type": "markdown",
      "metadata": {
        "id": "4g2pg_TfiHAC",
        "colab_type": "text"
      },
      "source": [
        "## Dekoder"
      ]
    },
    {
      "cell_type": "markdown",
      "metadata": {
        "id": "wghIecjfiHAC",
        "colab_type": "text"
      },
      "source": [
        "Zbudujmy teraz dekoder. Jest on całkiem prosty: dwie gęste (w pełni połączone) warstwy ReLU, po których występuje gęsta, wyjściowa warstwa sigmoidalna:"
      ]
    },
    {
      "cell_type": "code",
      "metadata": {
        "id": "XPK9RBX7iHAC",
        "colab_type": "code",
        "colab": {}
      },
      "source": [
        "n_hidden1 = 512\n",
        "n_hidden2 = 1024\n",
        "n_output = 28 * 28"
      ],
      "execution_count": 0,
      "outputs": []
    },
    {
      "cell_type": "code",
      "metadata": {
        "id": "hUKDzZPSiHAD",
        "colab_type": "code",
        "colab": {
          "base_uri": "https://localhost:8080/",
          "height": 68
        },
        "outputId": "3a34d596-33c7-44c6-a513-dc6534b3d337"
      },
      "source": [
        "with tf.name_scope(\"dekoder\"):\n",
        "    hidden1 = tf.layers.dense(decoder_input, n_hidden1,\n",
        "                              activation=tf.nn.relu,\n",
        "                              name=\"ukryta1\")\n",
        "    hidden2 = tf.layers.dense(hidden1, n_hidden2,\n",
        "                              activation=tf.nn.relu,\n",
        "                              name=\"ukryta2\")\n",
        "    decoder_output = tf.layers.dense(hidden2, n_output,\n",
        "                                     activation=tf.nn.sigmoid,\n",
        "                                     name=\"dekoder_wyjscie\")"
      ],
      "execution_count": 64,
      "outputs": [
        {
          "output_type": "stream",
          "text": [
            "WARNING:tensorflow:From <ipython-input-64-b75705fa48de>:4: dense (from tensorflow.python.layers.core) is deprecated and will be removed in a future version.\n",
            "Instructions for updating:\n",
            "Use keras.layers.Dense instead.\n"
          ],
          "name": "stdout"
        }
      ]
    },
    {
      "cell_type": "markdown",
      "metadata": {
        "id": "cCNpcm52iHAF",
        "colab_type": "text"
      },
      "source": [
        "## Funkcja straty rekonstrukcji"
      ]
    },
    {
      "cell_type": "markdown",
      "metadata": {
        "id": "ve_oL4XdiHAF",
        "colab_type": "text"
      },
      "source": [
        "Obliczmy teraz funkcję straty rekosntrukcji. Jest to kwadrat różnicy pomiędzy obrazem wejściowym a jego rekonstrukcją:"
      ]
    },
    {
      "cell_type": "code",
      "metadata": {
        "id": "ZbyJYKy5iHAG",
        "colab_type": "code",
        "colab": {}
      },
      "source": [
        "X_flat = tf.reshape(X, [-1, n_output], name=\"X_plaskie\")\n",
        "squared_difference = tf.square(X_flat - decoder_output,\n",
        "                               name=\"kwadrat_roznicy\")\n",
        "reconstruction_loss = tf.reduce_mean(squared_difference,\n",
        "                                    name=\"funkcja_straty_rekonstrukcji\")"
      ],
      "execution_count": 0,
      "outputs": []
    },
    {
      "cell_type": "markdown",
      "metadata": {
        "id": "qQ1_WBvPiHAG",
        "colab_type": "text"
      },
      "source": [
        "## Końcowa funkcja straty"
      ]
    },
    {
      "cell_type": "markdown",
      "metadata": {
        "id": "RYuU6ZL-iHAH",
        "colab_type": "text"
      },
      "source": [
        "Końcową funkcją straty jest suma funkcji straty marginesu i funkcji straty rekonstrukcji (podzielonej przez współczynnik 0,0005 po to, aby zapewnić przewagę funkcji straty marginesu w czasie uczenia):"
      ]
    },
    {
      "cell_type": "code",
      "metadata": {
        "id": "F-njYV4ViHAH",
        "colab_type": "code",
        "colab": {}
      },
      "source": [
        "alpha = 0.0005\n",
        "\n",
        "loss = tf.add(margin_loss, alpha * reconstruction_loss, name=\"funkcja_straty\")"
      ],
      "execution_count": 0,
      "outputs": []
    },
    {
      "cell_type": "markdown",
      "metadata": {
        "id": "G4L9he_miHAK",
        "colab_type": "text"
      },
      "source": [
        "# Ostatnie szlify"
      ]
    },
    {
      "cell_type": "markdown",
      "metadata": {
        "id": "BuFkMX4biHAK",
        "colab_type": "text"
      },
      "source": [
        "## Dokładność"
      ]
    },
    {
      "cell_type": "markdown",
      "metadata": {
        "id": "Kg42qR8GiHAK",
        "colab_type": "text"
      },
      "source": [
        "Aby zmierzyć dokładność naszego modelu, musimy zliczyć liczbę właściwie sklasyfikowanych przykładów. W tym celu możemy porównać `y` z `y_pred`, przekształcić wartość logiczną w w tym float32 (0,0 za False, 1,0 za True) i obliczyć średnią dla wszystkich przykładów:"
      ]
    },
    {
      "cell_type": "code",
      "metadata": {
        "id": "7ZkuSAmpiHAL",
        "colab_type": "code",
        "colab": {}
      },
      "source": [
        "correct = tf.equal(y, y_pred, name=\"wlasciwe\")\n",
        "accuracy = tf.reduce_mean(tf.cast(correct, tf.float32), name=\"dokladnosc\")"
      ],
      "execution_count": 0,
      "outputs": []
    },
    {
      "cell_type": "markdown",
      "metadata": {
        "id": "k9lhlpOgiHAL",
        "colab_type": "text"
      },
      "source": [
        "## Operacje uczenia"
      ]
    },
    {
      "cell_type": "markdown",
      "metadata": {
        "id": "1YCV5V-6iHAM",
        "colab_type": "text"
      },
      "source": [
        "Autorzy wspominają w artykule, że skorzystali z optymalizatora Adam z domyślnymi parametrami modułu TensorFlow:"
      ]
    },
    {
      "cell_type": "code",
      "metadata": {
        "id": "jKs_agHEiHAM",
        "colab_type": "code",
        "colab": {
          "base_uri": "https://localhost:8080/",
          "height": 68
        },
        "outputId": "ccb95cc1-97dc-4991-af86-06a8a5600816"
      },
      "source": [
        "optimizer = tf.train.AdamOptimizer()\n",
        "training_op = optimizer.minimize(loss, name=\"op_uczenia\")"
      ],
      "execution_count": 68,
      "outputs": [
        {
          "output_type": "stream",
          "text": [
            "WARNING:tensorflow:From /usr/local/lib/python3.6/dist-packages/tensorflow_core/python/ops/math_grad.py:1424: where (from tensorflow.python.ops.array_ops) is deprecated and will be removed in a future version.\n",
            "Instructions for updating:\n",
            "Use tf.where in 2.0, which has the same broadcast rule as np.where\n"
          ],
          "name": "stdout"
        }
      ]
    },
    {
      "cell_type": "markdown",
      "metadata": {
        "id": "5o5AAdvyiHAN",
        "colab_type": "text"
      },
      "source": [
        "## Inicjalizator i obiekt zapisujący"
      ]
    },
    {
      "cell_type": "markdown",
      "metadata": {
        "id": "jj6KVm-tiHAO",
        "colab_type": "text"
      },
      "source": [
        "Dodajmy jeszcze standardowy inicjalizator zmiennych, jak również obiekt `Saver`:"
      ]
    },
    {
      "cell_type": "code",
      "metadata": {
        "id": "u73JplN6iHAO",
        "colab_type": "code",
        "colab": {}
      },
      "source": [
        "init = tf.global_variables_initializer()\n",
        "saver = tf.train.Saver()"
      ],
      "execution_count": 0,
      "outputs": []
    },
    {
      "cell_type": "markdown",
      "metadata": {
        "id": "52nqvZrtiHAP",
        "colab_type": "text"
      },
      "source": [
        "I... to tyle w kwestii fazy konstruowania! Masz teraz chwilę na świętowanie. :)"
      ]
    },
    {
      "cell_type": "markdown",
      "metadata": {
        "id": "8VVxUJzfiHAP",
        "colab_type": "text"
      },
      "source": [
        "# Uczenie"
      ]
    },
    {
      "cell_type": "markdown",
      "metadata": {
        "id": "6xPedpLSiHAP",
        "colab_type": "text"
      },
      "source": [
        "Uczenie sieci kapsułowej przebiega dość standardowo. Dla uproszczenia nie będziemy będziemy bawić się w wymyślne strojenie hiperparametrów, nie wstawimy porzucania itd., lecz będzie systematycznie ponawiać raz za razem operację uczenia, wyświetlać funkcję straty, a na koniec każdej epoki mierzyć dokładność na zbiorze walidacyjnym, wyświetlać ją i zapisywać model, jeżeli dotychczas uzyskana wartość funkcji straty walidacji będzie najmniejsza (jest to podstawowy sposób implementacji wczesnego zatrzymywania bez potrzeby zatrzymywania modelu) Mam nadzieję, że poniższy listing będzie całkiem zrozumiały, ale wspomniałem o kilku szczegółach wartych odnotowania:\n",
        "* Jeżeli istnieje plik punktu kontrolnego, zostanie wczytany (w ten sposób można przerwać proces uczenia, a później go ponowić od ostatniego punktu kontrolnego).\n",
        "* nie możemy zapomnieć o wprowadzeniu `mask_with_labels=True` podczas uczenia.\n",
        "* W czasie uczenia wyznaczamy w `maska_z_etykietami` domyślną wartość `False` (ale mimo wszystko musimy ciągle dostarczać etykiety, ponieważ są one niezbędne do obliczenia dokładności).\n",
        "* Obrazy wczytane za pomocą funkcji `mnist.train.next_batch()` są reprezentowane jako tablice `float32` o wymiarach \\[784\\], ale wejściowy węzeł zastępczy `X` spodziewa się tablicy `float32` o wymiarach \\[28, 28, 1\\], dlatego musimy przekształcić obrazy przed wprowadzeniem ich do modelu.\n",
        "* Obliczamy funkcję straty modelu i dokładność na pełnym zbiorze walidacyjnym (5000 przykładów). Aby zobaczyć postępy i wspierać systemy niezawierające dużej ilości pamięci operacyjnej algorytm oblicza funkcję straty i dokładność po jednej grupie na raz, a na koniec oblicza średnią funkcję straty i średnią dokładność.\n",
        "\n",
        "*Ostrzeżenie*: jeżeli nie masz karty graficznej, proces uczenia może trwać bardzo długo (przynajmniej kilka godzin). Procesor graficzny powinien poświęcić na każdą epokę co najwyżej kilka minut (np. 6 minut na karcie NVidia GeForce GTX 1080Ti)."
      ]
    },
    {
      "cell_type": "code",
      "metadata": {
        "id": "Zxnbre-1iHAQ",
        "colab_type": "code",
        "colab": {
          "base_uri": "https://localhost:8080/",
          "height": 238
        },
        "outputId": "af4432cc-fa79-4078-ec46-a61c888617e9"
      },
      "source": [
        "n_epochs = 10\n",
        "batch_size = 50\n",
        "restore_checkpoint = True\n",
        "\n",
        "n_iterations_per_epoch = mnist.train.num_examples // batch_size\n",
        "n_iterations_validation = mnist.validation.num_examples // batch_size\n",
        "best_loss_val = np.infty\n",
        "checkpoint_path = \"./moja_siec_kapsulowa\"\n",
        "\n",
        "with tf.Session() as sess:\n",
        "    if restore_checkpoint and tf.train.checkpoint_exists(checkpoint_path):\n",
        "        saver.restore(sess, checkpoint_path)\n",
        "    else:\n",
        "        init.run()\n",
        "\n",
        "    for epoch in range(n_epochs):\n",
        "        for iteration in range(1, n_iterations_per_epoch + 1):\n",
        "            X_batch, y_batch = mnist.train.next_batch(batch_size)\n",
        "            # Realizuje operację uczenia i mierzy funkcję straty:\n",
        "            _, loss_train = sess.run(\n",
        "                [training_op, loss],\n",
        "                feed_dict={X: X_batch.reshape([-1, 28, 28, 1]),\n",
        "                           y: y_batch,\n",
        "                           mask_with_labels: True})\n",
        "            print(\"\\rIteracja: {}/{} ({:.1f}%)  Funkcja straty: {:.5f}\".format(\n",
        "                      iteration, n_iterations_per_epoch,\n",
        "                      iteration * 100 / n_iterations_per_epoch,\n",
        "                      loss_train),\n",
        "                  end=\"\")\n",
        "\n",
        "        # Na koniec każdej epoki mierzy\n",
        "        # funkcję straty walidacji i dokładność:\n",
        "        loss_vals = []\n",
        "        acc_vals = []\n",
        "        for iteration in range(1, n_iterations_validation + 1):\n",
        "            X_batch, y_batch = mnist.validation.next_batch(batch_size)\n",
        "            loss_val, acc_val = sess.run(\n",
        "                    [loss, accuracy],\n",
        "                    feed_dict={X: X_batch.reshape([-1, 28, 28, 1]),\n",
        "                               y: y_batch})\n",
        "            loss_vals.append(loss_val)\n",
        "            acc_vals.append(acc_val)\n",
        "            print(\"\\rOcenianie modelu: {}/{} ({:.1f}%)\".format(\n",
        "                      iteration, n_iterations_validation,\n",
        "                      iteration * 100 / n_iterations_validation),\n",
        "                  end=\" \" * 10)\n",
        "        loss_val = np.mean(loss_vals)\n",
        "        acc_val = np.mean(acc_vals)\n",
        "        print(\"\\rEpoka: {}  Dokładność walidacji: {:.4f}%  Funkcja straty: {:.6f}{}\".format(\n",
        "            epoch + 1, acc_val * 100, loss_val,\n",
        "            \" (poprawa)\" if loss_val < best_loss_val else \"\"))\n",
        "\n",
        "        # Zapisuje model, jeżeli został usprawniony:\n",
        "        if loss_val < best_loss_val:\n",
        "            save_path = saver.save(sess, checkpoint_path)\n",
        "            best_loss_val = loss_val"
      ],
      "execution_count": 70,
      "outputs": [
        {
          "output_type": "stream",
          "text": [
            "WARNING:tensorflow:From <ipython-input-70-35456d7c729d>:11: checkpoint_exists (from tensorflow.python.training.checkpoint_management) is deprecated and will be removed in a future version.\n",
            "Instructions for updating:\n",
            "Use standard file APIs to check for files with this prefix.\n",
            "Epoka: 1  Dokładność walidacji: 98.9200%  Funkcja straty: 0.015508 (poprawa)\n",
            "Epoka: 2  Dokładność walidacji: 99.1400%  Funkcja straty: 0.009672 (poprawa)\n",
            "Epoka: 3  Dokładność walidacji: 99.3000%  Funkcja straty: 0.008821 (poprawa)\n",
            "Epoka: 4  Dokładność walidacji: 99.4400%  Funkcja straty: 0.007531 (poprawa)\n",
            "Epoka: 5  Dokładność walidacji: 99.1600%  Funkcja straty: 0.007853\n",
            "Epoka: 6  Dokładność walidacji: 99.4000%  Funkcja straty: 0.008168\n",
            "Epoka: 7  Dokładność walidacji: 99.2200%  Funkcja straty: 0.007435 (poprawa)\n",
            "Epoka: 8  Dokładność walidacji: 99.4200%  Funkcja straty: 0.006544 (poprawa)\n",
            "Epoka: 9  Dokładność walidacji: 99.2600%  Funkcja straty: 0.007344\n",
            "Epoka: 10  Dokładność walidacji: 99.2000%  Funkcja straty: 0.007654\n"
          ],
          "name": "stdout"
        }
      ]
    },
    {
      "cell_type": "markdown",
      "metadata": {
        "id": "zpz2NuThiHAR",
        "colab_type": "text"
      },
      "source": [
        "Proces uczenia został zakończony, osiągnęliśmy dokładność rzędu 99,4% po zaledwie pięciu epokach. Wygląda to całkiem nieźle. Sprawdźmy teraz model na zbiorze testowym."
      ]
    },
    {
      "cell_type": "markdown",
      "metadata": {
        "id": "bbxBNZyPiHAR",
        "colab_type": "text"
      },
      "source": [
        "# Ewaluacja"
      ]
    },
    {
      "cell_type": "code",
      "metadata": {
        "id": "k6vxUZ2IiHAR",
        "colab_type": "code",
        "colab": {
          "base_uri": "https://localhost:8080/",
          "height": 51
        },
        "outputId": "af3a1814-7685-4822-f6bb-252955ae9672"
      },
      "source": [
        "n_iterations_test = mnist.test.num_examples // batch_size\n",
        "\n",
        "with tf.Session() as sess:\n",
        "    saver.restore(sess, checkpoint_path)\n",
        "\n",
        "    loss_tests = []\n",
        "    acc_tests = []\n",
        "    for iteration in range(1, n_iterations_test + 1):\n",
        "        X_batch, y_batch = mnist.test.next_batch(batch_size)\n",
        "        loss_test, acc_test = sess.run(\n",
        "                [loss, accuracy],\n",
        "                feed_dict={X: X_batch.reshape([-1, 28, 28, 1]),\n",
        "                           y: y_batch})\n",
        "        loss_tests.append(loss_test)\n",
        "        acc_tests.append(acc_test)\n",
        "        print(\"\\rOcenianie modelu: {}/{} ({:.1f}%)\".format(\n",
        "                  iteration, n_iterations_test,\n",
        "                  iteration * 100 / n_iterations_test),\n",
        "              end=\" \" * 10)\n",
        "    loss_test = np.mean(loss_tests)\n",
        "    acc_test = np.mean(acc_tests)\n",
        "    print(\"\\rKońcowa dokładność testowa: {:.4f}%  Funkcja straty: {:.6f}\".format(\n",
        "        acc_test * 100, loss_test))"
      ],
      "execution_count": 71,
      "outputs": [
        {
          "output_type": "stream",
          "text": [
            "INFO:tensorflow:Restoring parameters from ./moja_siec_kapsulowa\n",
            "Końcowa dokładność testowa: 99.2800%  Funkcja straty: 0.007612\n"
          ],
          "name": "stdout"
        }
      ]
    },
    {
      "cell_type": "markdown",
      "metadata": {
        "id": "VOGjW1SKiHAS",
        "colab_type": "text"
      },
      "source": [
        "Uzyskujemy dokładność rzędu 99.28% na zbiorze testowym. Całkiem sympatycznie. :)"
      ]
    },
    {
      "cell_type": "markdown",
      "metadata": {
        "id": "gZ-wSqNCiHAT",
        "colab_type": "text"
      },
      "source": [
        "# Prognozy"
      ]
    },
    {
      "cell_type": "markdown",
      "metadata": {
        "id": "GOmkiCWAiHAT",
        "colab_type": "text"
      },
      "source": [
        "Uzyskajmy w końcu jakieś prognozy! Najpierw zmodyfikujemy kilka obrazów ze zbioru testowego, następnie rozpoczniemy sesję, odtworzymy wytrenowany model, obliczymy `kaps2_wyjscie`, aby uzyskać wektory wyjściowe sieci kapsułowej, `dekoder_wyjscie`, aby otrzymać rekonstrukcje i `y_pred`, co pozwoli uzyskać prognozy przynależności do klasy:"
      ]
    },
    {
      "cell_type": "code",
      "metadata": {
        "id": "_-J_3qvpiHAT",
        "colab_type": "code",
        "colab": {
          "base_uri": "https://localhost:8080/",
          "height": 34
        },
        "outputId": "66b3c6eb-74b2-4529-b8d8-bdfcd5508a73"
      },
      "source": [
        "n_samples = 5\n",
        "\n",
        "sample_images = mnist.test.images[:n_samples].reshape([-1, 28, 28, 1])\n",
        "\n",
        "with tf.Session() as sess:\n",
        "    saver.restore(sess, checkpoint_path)\n",
        "    caps2_output_value, decoder_output_value, y_pred_value = sess.run(\n",
        "            [caps2_output, decoder_output, y_pred],\n",
        "            feed_dict={X: sample_images,\n",
        "                       y: np.array([], dtype=np.int64)})"
      ],
      "execution_count": 72,
      "outputs": [
        {
          "output_type": "stream",
          "text": [
            "INFO:tensorflow:Restoring parameters from ./moja_siec_kapsulowa\n"
          ],
          "name": "stdout"
        }
      ]
    },
    {
      "cell_type": "markdown",
      "metadata": {
        "id": "uYsPaLPziHAU",
        "colab_type": "text"
      },
      "source": [
        "Uwaga: wprowadzamy `y` z pustą tablicą, ale jak już wiemy, TensorFlow nie będzie z niej korzystał. "
      ]
    },
    {
      "cell_type": "markdown",
      "metadata": {
        "id": "MFIlP5EqiHAU",
        "colab_type": "text"
      },
      "source": [
        "Teraz stwórzmy wykresy obrazów i ich etykiet, po których będą występować odpowiednie rekonstrukcje i prognozy:"
      ]
    },
    {
      "cell_type": "code",
      "metadata": {
        "id": "DKiQGqhtiHAV",
        "colab_type": "code",
        "colab": {
          "base_uri": "https://localhost:8080/",
          "height": 269
        },
        "outputId": "05963bfc-141a-4683-f6b8-a16a7867ba38"
      },
      "source": [
        "sample_images = sample_images.reshape(-1, 28, 28)\n",
        "reconstructions = decoder_output_value.reshape([-1, 28, 28])\n",
        "\n",
        "plt.figure(figsize=(n_samples * 2, 3))\n",
        "for index in range(n_samples):\n",
        "    plt.subplot(1, n_samples, index + 1)\n",
        "    plt.imshow(sample_images[index], cmap=\"binary\")\n",
        "    plt.title(\"Etykieta:\" + str(mnist.test.labels[index]))\n",
        "    plt.axis(\"off\")\n",
        "\n",
        "plt.show()\n",
        "\n",
        "plt.figure(figsize=(n_samples * 2, 3))\n",
        "for index in range(n_samples):\n",
        "    plt.subplot(1, n_samples, index + 1)\n",
        "    plt.title(\"Prognozowane:\" + str(y_pred_value[index]))\n",
        "    plt.imshow(reconstructions[index], cmap=\"binary\")\n",
        "    plt.axis(\"off\")\n",
        "    \n",
        "plt.show()\n"
      ],
      "execution_count": 73,
      "outputs": [
        {
          "output_type": "display_data",
          "data": {
            "image/png": "[encoded data removed]",
            "text/plain": [
              "<Figure size 720x216 with 5 Axes>"
            ]
          },
          "metadata": {
            "tags": []
          }
        },
        {
          "output_type": "display_data",
          "data": {
            "image/png": "[encoded data removed]",
            "text/plain": [
              "<Figure size 720x216 with 5 Axes>"
            ]
          },
          "metadata": {
            "tags": []
          }
        }
      ]
    },
    {
      "cell_type": "markdown",
      "metadata": {
        "id": "DilzUOcoiHAW",
        "colab_type": "text"
      },
      "source": [
        "Wszystkie prognozy są właściwe, a rekonstrukcje wyglądają rewelacyjnie. Hurra!"
      ]
    },
    {
      "cell_type": "markdown",
      "metadata": {
        "id": "hTbYlTGdiHAW",
        "colab_type": "text"
      },
      "source": [
        "# Interpretacja wektorów wyjściowych"
      ]
    },
    {
      "cell_type": "markdown",
      "metadata": {
        "id": "FJ0aV1-KiHAX",
        "colab_type": "text"
      },
      "source": [
        "Zmodyfikujmy wektore wyjściowe tak, aby sprawdzić, co oznaczają ich parametry. "
      ]
    },
    {
      "cell_type": "markdown",
      "metadata": {
        "id": "nllzZb30iHAX",
        "colab_type": "text"
      },
      "source": [
        "Najpierw sprawdźmy wymiary tablicy NumPy `cap2_output_value`:"
      ]
    },
    {
      "cell_type": "code",
      "metadata": {
        "id": "dPhH9bPCiHAX",
        "colab_type": "code",
        "colab": {
          "base_uri": "https://localhost:8080/",
          "height": 34
        },
        "outputId": "bf752cee-484a-4af5-93fb-c1c3036f0fe5"
      },
      "source": [
        "caps2_output_value.shape"
      ],
      "execution_count": 74,
      "outputs": [
        {
          "output_type": "execute_result",
          "data": {
            "text/plain": [
              "(5, 1, 10, 16, 1)"
            ]
          },
          "metadata": {
            "tags": []
          },
          "execution_count": 74
        }
      ]
    },
    {
      "cell_type": "markdown",
      "metadata": {
        "id": "NLV-GjZLiHAY",
        "colab_type": "text"
      },
      "source": [
        "Stwórzmy funkcję, która będzie modyfikowała wszystkie 16 parametrów (wymiarów) we wszystkich wektorach wyjściowych. Każdy zmodyfikowany wektor będzie różnił się od jego pierwotnej wersji tym, że jeden z jego parametrów zostanie zmodyfikowany o jakąś wartość w przedziale od -0,5 do 0,5. Domyślnie będzie 11 etapów (-0,5, -0,4, ..., +0,4, +0,5). Funkcja ta zwróci tablicę o wymiarach (_zmodyfikowane parametry_=16, _kroki_=11, _rozmiar grupy_=5, 1, 10, 16, 1):"
      ]
    },
    {
      "cell_type": "code",
      "metadata": {
        "id": "0_Db5H8ciHAZ",
        "colab_type": "code",
        "colab": {}
      },
      "source": [
        "def tweak_pose_parameters(output_vectors, min=-0.5, max=0.5, n_steps=11):\n",
        "    steps = np.linspace(min, max, n_steps) # -0,25, -0,15, ..., +0,25\n",
        "    pose_parameters = np.arange(caps2_n_dims) # 0, 1, ..., 15\n",
        "    tweaks = np.zeros([caps2_n_dims, n_steps, 1, 1, 1, caps2_n_dims, 1])\n",
        "    tweaks[pose_parameters, :, 0, 0, 0, pose_parameters, 0] = steps\n",
        "    output_vectors_expanded = output_vectors[np.newaxis, np.newaxis]\n",
        "    return tweaks + output_vectors_expanded"
      ],
      "execution_count": 0,
      "outputs": []
    },
    {
      "cell_type": "markdown",
      "metadata": {
        "id": "8CJXOcNEiHAa",
        "colab_type": "text"
      },
      "source": [
        "Obliczmy wszystkie zmodyfikowane wektory wyjściowe i przekształćmy wynik do postaci (_parametry_×_kroki_×_przykłady_, 1, 10, 16, 1), dzięki czemu będziemy mogli przekazać tablicę do dekodera:"
      ]
    },
    {
      "cell_type": "code",
      "metadata": {
        "id": "owfiSe42iHAb",
        "colab_type": "code",
        "colab": {}
      },
      "source": [
        "n_steps = 11\n",
        "\n",
        "tweaked_vectors = tweak_pose_parameters(caps2_output_value, n_steps=n_steps)\n",
        "tweaked_vectors_reshaped = tweaked_vectors.reshape(\n",
        "    [-1, 1, caps2_n_caps, caps2_n_dims, 1])"
      ],
      "execution_count": 0,
      "outputs": []
    },
    {
      "cell_type": "markdown",
      "metadata": {
        "id": "lKtAiLIniHAc",
        "colab_type": "text"
      },
      "source": [
        "Wprowadźmy tak zmodyfikowane wektory wyjściowe do dekodera i uzyskajmy rekonstrukcje: "
      ]
    },
    {
      "cell_type": "code",
      "metadata": {
        "id": "sIXe7JkLiHAc",
        "colab_type": "code",
        "colab": {
          "base_uri": "https://localhost:8080/",
          "height": 34
        },
        "outputId": "4638f93e-4865-43e2-8a8e-9be7a2420335"
      },
      "source": [
        "tweak_labels = np.tile(mnist.test.labels[:n_samples], caps2_n_dims * n_steps)\n",
        "\n",
        "with tf.Session() as sess:\n",
        "    saver.restore(sess, checkpoint_path)\n",
        "    decoder_output_value = sess.run(\n",
        "            decoder_output,\n",
        "            feed_dict={caps2_output: tweaked_vectors_reshaped,\n",
        "                       mask_with_labels: True,\n",
        "                       y: tweak_labels})"
      ],
      "execution_count": 77,
      "outputs": [
        {
          "output_type": "stream",
          "text": [
            "INFO:tensorflow:Restoring parameters from ./moja_siec_kapsulowa\n"
          ],
          "name": "stdout"
        }
      ]
    },
    {
      "cell_type": "markdown",
      "metadata": {
        "id": "BGGF_yViiHAd",
        "colab_type": "text"
      },
      "source": [
        "Przekształćmy wynik dekodera tak, abyśmy mogli z łatwością iterować po wymiarze wyjściowym, etapach modyfikacji i przykładach:"
      ]
    },
    {
      "cell_type": "code",
      "metadata": {
        "id": "bijWaCXDiHAd",
        "colab_type": "code",
        "colab": {}
      },
      "source": [
        "tweak_reconstructions = decoder_output_value.reshape(\n",
        "        [caps2_n_dims, n_steps, n_samples, 28, 28])"
      ],
      "execution_count": 0,
      "outputs": []
    },
    {
      "cell_type": "markdown",
      "metadata": {
        "id": "OC_MD7lliHAe",
        "colab_type": "text"
      },
      "source": [
        "Na koniec stwórzmy wykres wszystkich rekonstrukcji dla trzech pierwszych wymiarów wyjściowych, dla każdego etapu modyfikacji (kolumny) i dla każdej cyfry (rzędy):"
      ]
    },
    {
      "cell_type": "code",
      "metadata": {
        "id": "0ijUHnXwiHAf",
        "colab_type": "code",
        "colab": {
          "base_uri": "https://localhost:8080/",
          "height": 653
        },
        "outputId": "8ae50c68-cd30-4bb2-c4a5-547398f1f2b9"
      },
      "source": [
        "for dim in range(3):\n",
        "    print(\"Modyfikowanie wymiaru wyjściowego numer {}\".format(dim))\n",
        "    plt.figure(figsize=(n_steps / 1.2, n_samples / 1.5))\n",
        "    for row in range(n_samples):\n",
        "        for col in range(n_steps):\n",
        "            plt.subplot(n_samples, n_steps, row * n_steps + col + 1)\n",
        "            plt.imshow(tweak_reconstructions[dim, col, row], cmap=\"binary\")\n",
        "            plt.axis(\"off\")\n",
        "    plt.show()"
      ],
      "execution_count": 79,
      "outputs": [
        {
          "output_type": "stream",
          "text": [
            "Modyfikowanie wymiaru wyjściowego numer 0\n"
          ],
          "name": "stdout"
        },
        {
          "output_type": "display_data",
          "data": {
            "image/png": "[encoded data removed]",
            "text/plain": [
              "<Figure size 660x240 with 55 Axes>"
            ]
          },
          "metadata": {
            "tags": []
          }
        },
        {
          "output_type": "stream",
          "text": [
            "Modyfikowanie wymiaru wyjściowego numer 1\n"
          ],
          "name": "stdout"
        },
        {
          "output_type": "display_data",
          "data": {
            "image/png": "[encoded data removed]",
            "text/plain": [
              "<Figure size 660x240 with 55 Axes>"
            ]
          },
          "metadata": {
            "tags": []
          }
        },
        {
          "output_type": "stream",
          "text": [
            "Modyfikowanie wymiaru wyjściowego numer 2\n"
          ],
          "name": "stdout"
        },
        {
          "output_type": "display_data",
          "data": {
            "image/png": "[encoded data removed]",
            "text/plain": [
              "<Figure size 660x240 with 55 Axes>"
            ]
          },
          "metadata": {
            "tags": []
          }
        }
      ]
    },
    {
      "cell_type": "markdown",
      "metadata": {
        "id": "Oh4CDN_HiHAf",
        "colab_type": "text"
      },
      "source": [
        "# Podsumowanie"
      ]
    },
    {
      "cell_type": "markdown",
      "metadata": {
        "id": "-9o9vL1MiHAg",
        "colab_type": "text"
      },
      "source": [
        "Starałem się, aby zawarty w tym notatniku kod był możliwie prosty i zwięzły, dzięki czemu łatwiej byłoby analizować, ale, oczywiście, w praktyce chcesz umieścić go w przydatnych funkcjach i klasach wielokrotnego użytku. Mógłbyś, na przykład, spróbować zaimplementować własne klasy `PrimaryCapsuleLayer` czy `DenseRoutingCapsuleLayer`, zawierające parametry definiujące liczbę kapsuł, liczbę iteracji trasowania, mechanizm pętli statycznych lub dynamicznych itd. Jeżeli interesuje Cię implementacja modułowa sieci kapsułowych bazująca na module TensorFlow, sprawdź projekt [CapsNet-TensorFlow](https://github.com/naturomics/CapsNet-Tensorflow).\n",
        "\n",
        "To wszystko na dzisiaj, mam nadzieję, że podobał Ci się ten notatnik!"
      ]
    },
    {
      "cell_type": "code",
      "metadata": {
        "id": "cY1hLK4oiHAg",
        "colab_type": "code",
        "colab": {}
      },
      "source": [
        ""
      ],
      "execution_count": 0,
      "outputs": []
    }
  ]
}